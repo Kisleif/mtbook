{
 "cells": [
  {
   "cell_type": "markdown",
   "id": "98704f0c-5c4d-4771-8ff8-7456cd655a47",
   "metadata": {},
   "source": [
    "# Dehnungsmessstreifen (DMS)\n",
    "\n",
    "Ein Dehnungsmessstreifen (DMS) ist lediglich eine elektrische Leiterbahn, die auf einer kleinen Trägerfolie z.B. mäanderförmig aufgebracht ist. Meistens besteht diese Folie aus einem chemisch sehr robusten Material, wie z.B. Kapton (Polyimid), welches auch bei hohen Temperaturen verwendet werden kann. Hierauf wird die Leiterbahn mit einem speziellen Kleber aufgebracht, sodass diese den Oberflächendehnungen eines Körpers folgen kann. Dadurch können Dehnungen, Stauchungen, Kräfte oder Drücke auf der Oberfläche gemessen werden. Die Dehnung wird dann in Richtung des Leiterbahnabschnittes gemessen, dessen ohm'scher Widerstand sich ändert:\n",
    "\n",
    "$$R = \\frac{\\rho \\cdot l}{r^2 \\pi}$$\n",
    "\n",
    "$\\rho$ ist der spezifische Widerstand, der vom Material der Leiterbahn abhängt und $l$ und $r$ sind Länge und Radius der Leiterbahn. \n",
    "Als Material für die Leiterbahn wird beispielsweise Konstanten, eine Legierung aus 55% Cu, 44% Ni, 1 % Mn, verwendet, deren spezifischer Widerstand kaum von der Temperatur abhängt. \n",
    "Schon bei kleinen Dehnungen, minimalen Kräften oder anderen kleinen Belastungen ändert sich der Widerstandswert.  \n",
    "Zur Bestimmung der genauen, mitunter kleinen Widerstandswerten werden häufig Widerstands-Messbrücken verwendet, in denen DMSs in verschiedenen Anordnungsformen angebracht werden können. Dadurch können auch Querkräfte, Scherkräfte und andere Belastungen gemessen werden. "
   ]
  }
 ],
 "metadata": {
  "kernelspec": {
   "display_name": "Python 3",
   "language": "python",
   "name": "python3"
  },
  "language_info": {
   "codemirror_mode": {
    "name": "ipython",
    "version": 3
   },
   "file_extension": ".py",
   "mimetype": "text/x-python",
   "name": "python",
   "nbconvert_exporter": "python",
   "pygments_lexer": "ipython3",
   "version": "3.9.12"
  }
 },
 "nbformat": 4,
 "nbformat_minor": 5
}
