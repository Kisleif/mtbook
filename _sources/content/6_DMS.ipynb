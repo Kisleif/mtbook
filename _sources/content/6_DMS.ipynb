{
 "cells": [
  {
   "cell_type": "markdown",
   "id": "98704f0c-5c4d-4771-8ff8-7456cd655a47",
   "metadata": {},
   "source": [
    "# Dehnungsmessstreifen (DMS)\n",
    "\n",
    "Ein Dehnungsmessstreifen (DMS) ist lediglich eine elektrische Leiterbahn, die auf einer kleinen Trägerfolie z.B. mäanderförmig aufgebracht ist, wie in {numref}`dms` dargestellt. Meistens besteht diese Folie aus einem chemisch sehr robusten Material, wie z.B. Kapton (Polyimid), welches auch bei hohen Temperaturen verwendet werden kann. Hierauf wird die Leiterbahn mit einem speziellen Kleber aufgebracht, sodass diese den Oberflächendehnungen eines Körpers folgen kann. Dadurch können Dehnungen, Stauchungen, Kräfte oder Drücke auf der Oberfläche gemessen werden. Die Dehnung wird dann in Richtung des Leiterbahnabschnittes gemessen, dessen ohm'scher Widerstand sich ändert:\n",
    "\n",
    "$$R = \\frac{\\rho \\cdot l}{r^2 \\pi}$$\n",
    "\n",
    "$\\rho$ ist der spezifische Widerstand, der vom Material der Leiterbahn abhängt und $l$ und $r$ sind Länge und Radius der Leiterbahn. In der Formel wird durch die Querschnittsfläche geteilt, die näherungsweise dem kreisförmigen Querschnitt $A = \\pi r^2$ entspricht.  \n",
    "\n",
    ":::{figure-md} dms\n",
    "<img src=\"draw/dms.jpg\" alt=\"dms\" width=\"400px\" label = dms>\n",
    "\n",
    "Dehnungsmessstreifen(DMS). \n",
    ":::\n",
    "\n",
    "Für\n",
    "* **Leiter** ist $\\rho < 100\\,\\mathrm{\\frac{\\Omega mm^2}{m}}$, \n",
    "* **Halbleiter** liegt $\\rho$ zwischen $100\\,\\mathrm{\\frac{\\Omega mm^2}{m}}$ bis $10^{12}\\,\\mathrm{\\frac{\\Omega mm^2}{m}}$, \n",
    "* **Isolatoren oder Nichtleiter** ist $\\rho > 10^{^12}\\,\\mathrm{\\frac{\\Omega mm^2}{m}}$\n",
    "\n",
    "Als Material für die Leiterbahn wird beispielsweise Konstanten, eine Legierung aus 55% Cu, 44% Ni, 1 % Mn, verwendet, deren spezifischer Widerstand kaum von der Temperatur abhängt und $\\rho = 0,5\\,\\mathrm{\\frac{\\Omega mm^2}{m}}$ beträgt.\n",
    "\n",
    "Nehmen wir nun, dass es sich um sehr kleine Änderungen handelt, können wir die obige Gleichungs wieder mittels Taylor-Entwicklung abschätzen, wie wir es auch bei der Fehlerfortpflanzung gemacht haben:\n",
    "\n",
    "$$\\frac{\\Delta R}{R} \\approx \\frac{\\Delta \\rho}{\\rho} + \\frac{\\Delta L}{L} - 2\\cdot \\frac{\\Delta r}{r} = \\left( \\frac{\\frac{\\Delta \\rho}{\\rho}}{\\epsilon} + 1 + 2\\cdot \\mu\\right) \\cdot \\epsilon = K\\cdot \\epsilon$$\n",
    "\n",
    "wobei \n",
    "\n",
    "$$\\epsilon = \\frac{\\Delta l}{l}$$\n",
    "\n",
    "die **Dehnung $\\epsilon$** des zu untersuchenden Stücks ist und \n",
    "\n",
    "$$\\mu = - \\frac{\\frac{\\Delta r}{r}}{\\frac{\\Delta l}{l}}$$\n",
    "\n",
    "die **Poisson-Zahl $\\mu$**.\n",
    "$K$ ist der *K-Faktor* und ist für Konstantan 2,05. Die Änderung des spezifischen Widerstands ist für die Bestimmung der K-Faktors vernachlässigbar.\n",
    "Schon bei kleinen Dehnungen, minimalen Kräften oder anderen kleinen Belastungen ändert sich der Widerstandswert, wenn auch nur wenig, und wird mit dem K-Faktor skaliert. Typische Widerstandswerte im Grundzustand sind $100-1000\\,\\Omega$, welcher sich je nach K-Faktor für Dehnungsänderungen im Promill-Bereich ebenfalls um nur diesen kleinen Betrag ändert. \n",
    "Aus diesem Grund werden DMSs häufig Widerstands-Messbrücken verwendet. Mittels verschiedenen Anordnungen können damit auch Querkräfte, Scherkräfte und andere Belastungen gemessen werden und Kompensation in Bezug auf Temperaturempfindlichkeiten können dadurch eliminiert werden. \n",
    "\n",
    "* Kraft (und somit auch Beschleunigung)\n",
    "* Waagen (Haushaltswaagen bis hin zu Kranwaagen) \n",
    "* Druck\n",
    "* Drehmoment\n",
    "* Verformungsmessungen (experimentelle Beanspruchungsanalyse, Spannungsanalyse) auf vielen Werkstoffen\n",
    "    * Biegung\n",
    "    * Druck und Zug\n",
    "    * Scherkräfte\n",
    "\n",
    ":::{admonition} Beispiel\n",
    ":class: tip\n",
    "Ein unbekannter Metalldraht hat die Länge $l = 2\\,\\mathrm m$ und einen Querschnitt von $A = 0,01\\,\\mathrm{mm^2}$. Die Testspannung beträgt $U=2\\,\\mathrm V$ und wir messen einen Strom von $I = 0,75\\,\\mathrm A$. Wie hoch ist der spezifische Widerstand des Metalldrahtes?\n",
    ":::\n",
    "\n",
    ":::{admonition} Lösung\n",
    ":class: tip, dropdown\n",
    "$$\\rho = \\frac{R\\cdot A}{l} = \\frac{U \\cdot A}{I \\cdot l} = \\frac{3,5\\,\\Omega \\cdot 0,01\\,\\mathrm{mm^2}}{2\\,\\mathrm m} = 0,0175\\,\\mathrm{\\frac{\\Omega \\cdot mm^2}{m}}$$\n",
    "\n",
    "Es könnte sich um Kupfer handeln!\n",
    ":::\n",
    "\n",
    "\n",
    "Es gibt auch Halbleiter-DMS. Bei diesen Materialien ist die Änderung des spezifischen Widerstands nicht mehr zu vernachlässigen, da er sich aufgrund des **piezoresistiven Effekts** sehr stark ändert. P-dotiertes Silizium weist beispielsweise ein K von bis zu 190 auf, n-dotiertes Silizium sinkt den K-Faktor auf - 100 ab. Das heißt, dass der Widerstandswert mit zunehmender Dehnung kleiner wird!\n",
    "Eine eleganten Zusammensatzung wäre ein n- und p-dotierter Silizium-DMS mit jeweils dem gleichen, aber entgegengesetzten K-Faktor, welche in einer Messbrücke zusammengeschaltet werden. \n",
    "\n"
   ]
  },
  {
   "cell_type": "code",
   "execution_count": null,
   "id": "ab61b684-511a-4fb2-9921-adefb81d37f7",
   "metadata": {},
   "outputs": [],
   "source": []
  },
  {
   "cell_type": "markdown",
   "id": "31fe3e10-268c-4bfb-8f2d-a557939c3a70",
   "metadata": {},
   "source": []
  }
 ],
 "metadata": {
  "kernelspec": {
   "display_name": "Python 3",
   "language": "python",
   "name": "python3"
  },
  "language_info": {
   "codemirror_mode": {
    "name": "ipython",
    "version": 3
   },
   "file_extension": ".py",
   "mimetype": "text/x-python",
   "name": "python",
   "nbconvert_exporter": "python",
   "pygments_lexer": "ipython3",
   "version": "3.9.12"
  }
 },
 "nbformat": 4,
 "nbformat_minor": 5
}
