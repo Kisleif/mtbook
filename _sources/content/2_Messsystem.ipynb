{
 "cells": [
  {
   "cell_type": "markdown",
   "id": "4c23e1d6-db30-449d-9cd7-a9e129bd32d6",
   "metadata": {},
   "source": [
    "# Grundstruktur eines Messsystems\n",
    "\n",
    "{numref}`grundstruktur` zeigt die generelle Struktur eines Messsystems.\n",
    "\n",
    ":::{figure-md} grundstruktur\n",
    "<img src=\"draw/grundstruktur.jpg\" alt=\"grundstruktur\" class=\"bg-primary mb-1\" width=\"800px\" label = grundstruktur>\n",
    "\n",
    "Generelle Grundstruktur eines Messsystems, bzw Messkette.\n",
    ":::\n",
    "\n",
    "Dies ist einer der ersten Messketten, die wir kennenlernen. Allgemein findet man immer wieder die gleichen Komponenten in solchen Ketten, die im folgenden aufgelistet werden:\n",
    "\n",
    "* **Aufnehmer/Sensor** (auch Messgrößenaufnehmer genannt): Die Erfassung der physikalischen Messgröße, $u$, wird mit einem entsprechend geeigneten *Sensor* realisiert. Mit konkreten Sensoren werden wir uns noch am Ende der Vorlesung genauer beschäftigen. Einige Beispiele werden uns aber während der kompletten Veranstaltung immer mal wieder begneten. Ein Sensor nimmt eine Messgröße auf, z.B. die Umbegungstemperatur, wandelt diese beispielsweise in eine Widerstandänderung um, welche wiederum in ein weiterverarbeitungsfähigen Signals (hier elektrisch) mit einer geeigneten Schaltung umgewandelt wird. \n",
    "* **Verstärkung**: An dieser Stelle startet die Messsignalverarbeitung. Da das elektrische Primärsignal mitunter sehr  klein sein kann, muss es deshalb vielleicht noch verstärkt werden, bevor es einer Digitalisierung zugeführt werden kann.\n",
    "* **Anpassung** (optional): Die meist elektrische Größe wird in einen darstellbaren Messwert umgewandelt. Hierfür werden Messschaltungen mit Messverstärken oder Computern verwendet.\n",
    "* **Messwertausgabe** (diverse): Anzeige, Registrierung, Speicherung, Dokumentation in analoger oder digitaler Form können an dieser Stelle in die Messkette implementiert werden.\n",
    "* **Digitalisierung**: Dies ist die häufigste Art der *Messwertausgabe*. Das analog vorliegende elektrische Signal wird in ein Digitalwort umgewandelt. \n",
    "* **Digitale Signalverarbeitung**: Durch Algorithmik wird der Messwert digital weiterverarbeitet. Häufig können an dieser Stelle auch Korrekturen vorgenommen werden, um beispielsweise Kennenlinienfehler zu minimieren und zu korrigieren. Dies werden wir gleich noch genauer betrachten. Ausgegeben wird schließlich ein Messwert $y$.\n",
    "\n",
    "Jede einzelne der Komponenten führt das jeweilige Eingangssignal in ein Ausgangssignal über. Im Folgenden werden wir die wichtigste statische Kenngröße, nämlich den **Übertragungsfaktor** $k$ kennenlernen. Dieser gilt auch für dynamische Systeme, sobald diese sich in einem eingeschwungenen Zustand befinden und als stationär angenommen werden können. \n",
    "Der Übertragungsfaktor $k$ wird auch *Verstärkungsfaktor* genannt. \n",
    "Über den gesamten Eingangsbereich der Messeinrichtung wird der Übertragungsfaktor durch die statische **Kennlinie** beschrieben. Danach ergibt sich mit einem bestimmten Eingangsbereich der Messeinrichtung ein korrespondierender Ausgangssbereich. "
   ]
  }
 ],
 "metadata": {
  "kernelspec": {
   "display_name": "Python 3",
   "language": "python",
   "name": "python3"
  },
  "language_info": {
   "codemirror_mode": {
    "name": "ipython",
    "version": 3
   },
   "file_extension": ".py",
   "mimetype": "text/x-python",
   "name": "python",
   "nbconvert_exporter": "python",
   "pygments_lexer": "ipython3",
   "version": "3.9.12"
  }
 },
 "nbformat": 4,
 "nbformat_minor": 5
}
