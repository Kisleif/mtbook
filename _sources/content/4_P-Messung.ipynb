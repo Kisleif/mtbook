{
 "cells": [
  {
   "cell_type": "markdown",
   "id": "ef584adf-8286-4bfa-9482-ed1a2dbda382",
   "metadata": {},
   "source": [
    "# Leistungsmessung\n",
    "\n",
    "Wir kennen nun bereits die Prinzipien zur Spannungs- und Strommessung. Der elektrische Stromnfluss dient dazu, Systeme anzutreiben, die **elektrische Leistung (in der Einheit Watt, W)** benötigen, wie z.B. einen Elektromotor. \n",
    "Um die Leistung in einem Schaltkreis zu bestimmen, müssen wir gleichzeitig die Spannung $U$ und Stromstärke $I$ messen. Das Grundprinzip der Leistungsmessung ist in {numref}`leistungsmessung_motor_stromrichtig` dargestellt. Diese beiden Messgrößen werden anschließend miteinander multipliziert. \n",
    "\n",
    ":::{figure-md} leistungsmessung_motor_stromrichtig\n",
    "<img src=\"draw/leistungsmessung_motor_stromrichtig.jpg\" alt=\"leistungsmessung_motor_stromrichtig\" class=\"bg-primary mb-1\" width=\"300px\" label = leistungsmessung_motor_stromrichtig>\n",
    "\n",
    "Schaltung zur Messung elektrischer Leistungen.\n",
    ":::\n",
    "\n",
    "## Leistungsmessung bei Gleichstrom\n",
    "\n",
    "Bei Gleichstrom gilt folgendes: \n",
    "\n",
    "$$P = U \\cdot I$$\n",
    "\n",
    "Eine weitere häufig benutzt Messgröße ist die **elektrische Energie E (in der Einheit Ws)**. Diese gibt an, wie hoch der Verbraucht über eine bestimmte Zeitspanne ist und ist somit ein Maß für die aufgewandte elektrische Arbeit:\n",
    "\n",
    "$$E = U \\cdot I \\cdot t$$\n",
    "\n",
    "Besteht eine Zeitabhängigkeit bei $U$ und $I$, so muss man zusätzlich über die Zeit integrieren:\n",
    "\n",
    "$$E = \\int P(t) dt = \\int U(t)\\cdot I(t) dt$$\n",
    "\n",
    "$U(t)$ und $I(t)$, hier großgeschrieben, sind immer noch Gleichgrößen, die sich zwar mit der Zeit ändern, jedoch keine Wechselgrößen sind. D.h. Kenngrößen wie Gleichrichtwert oder Effektivwert existieren nicht.\n",
    "\n",
    "Es gibt verschiedene Messgeräte, die bereits intern eine Spannungs- und Stromstärkemessung integriert haben. Manche Geräte haben nur einen Ein- und Ausgang und man muss sich über die Beschaltung keine Gedanken machen, da es nur eine Möglichkeit gibt. Andere Messgeräte bieten die Flexibilität selber entscheiden zu können, wo Volt- und Amperemeter in der Schaltung angeschlossen werden können. Hierbei gibt es zwei Möglichkeiten:\n",
    "\n",
    "* **Stromrichtige** Leistungsmessung: Die Spannungsmessung erfolt an der Quelle und die Strommessung direkt am Verbraucher. \n",
    "* **Spannungsrichtige** Leistungsmessung: Die Spannungsmessung wird an dem Verbraucher angelegt und somit *richtig* gemessen. \n",
    "\n",
    "Bei der Messung zwischen diesen beiden Varianten wird es zu relevanten Unterschieden kommen, die das Messergebnis und die Abweichung beeinflussen.\n",
    "\n",
    "### Stromrichtige Leistungsmessung\n",
    "\n",
    "In {numref}`stromrichtig_innen` ist die *stromrichtige* Beschaltung der Leistungsmessung gezeigt, wobei die Innenwiderstände der einzelnen Messgeräte, $R_V$ und $R_A$ angegeben sind. Der Verbraucher hat den Widerstand $R_L$ (Last-Widerstand). Rechts daneben ist ein Ersatzschaltbild der stromrichtigen Leistungsmessung skizziert.  Die Stromstärke wird direkt (*richtig*) am Motor, an der Last, gemessen. \n",
    "\n",
    ":::{figure-md} stromrichtig_innen\n",
    "<img src=\"draw/stromrichtig_innen.jpg\" alt=\"stromrichtig_innen\" class=\"bg-primary mb-1\" width=\"500px\" label = stromrichtig_innen>\n",
    "\n",
    "Stromrichtige Schaltung zur Messung elektrischer Leistungen.\n",
    ":::\n",
    "\n",
    "Die Messeingänge liefern die Messgräßen $U$ und $I$, woraus wir die Leistung ermitteln:\n",
    "\n",
    "$$P = U \\cdot I = (U_{R_A} + U_{R_L}) \\cdot I = R_A \\cdot I^2 + U_{R_L} = P_{R_A} + P_{R_L}$$\n",
    "\n",
    "In dieser Anschaltung wird nicht nur der Spannungsabfall an der Last, sondern fälschlicherweise auch am Strommessgerät. Dadurch wird ebenfalls der Leistungsverbrauch am Innenwiderstand $R_A$ des Strommessgeräts gemessen. \n",
    "Hierbei handelt es sich allerdings um eine systematisch Abweichung, die korrigiert werden kann. Im Datenblatt des Strommesseingangs wird der Innenwiderstand abgelesen oder extern ermittelt. Die systematisch Messabweichung ergibt sich zu\n",
    "\n",
    "$$A = R_A \\cdot I^2$$\n",
    "\n",
    "und muss daher nur noch mit dem Quadrat der gemessenen Stromstärke multipliziert werden. \n",
    "Anhand dieser Gleichung für die Messabweichung erkennt man, dass **je kleiner der Innenwiderstand $R_A$, desto kleiner die Messabweichung**. \n",
    "\n",
    "\n",
    "### Spannungsrichtige Leistungsmessung\n",
    "\n",
    "In {numref}`spannungsrichtig_innen` ist die *spannungsrichtige* Beschaltung der Leistungsmessung gezeigt, wobei die Innenwiderstände der einzelnen Messgeräte, $R_V$ und $R_A$ angegeben sind. Der Verbraucher hat den Widerstand $R_L$ (Last-Widerstand). Rechts daneben ist ein Ersatzschaltbild der spannungsrichtigen Leistungsmessung skizziert. Die Spannung wird nun direkt (*richtig*) am Motor, an der Last, gemessen. \n",
    "\n",
    ":::{figure-md} spannungsrichtig_innen\n",
    "<img src=\"draw/spannungsrichtig_innen.jpg\" alt=\"spannungsrichtig_innen\" class=\"bg-primary mb-1\" width=\"500px\" label = spannungsrichtig_innen>\n",
    "\n",
    "Spannungsrichtige Schaltung zur Messung elektrischer Leistungen.\n",
    ":::\n",
    "\n",
    "In dieser Anschaltung wird nun ein zu hoher Strom gemessen, nämlich der, der durch den Motor fließt und der Stromverlust aufgrund des Innenwiderstands des Spannungsmessgeräts:\n",
    "\n",
    "$$P = U \\cdot I = U \\cdot \\left( \\frac{U}{R_V} + \\frac{U}{R_L} \\right) = \\frac{U^2}{R_V} + \\frac{U^2}{R_L} = P_{R_V} + P_{R_L}$$\n",
    "\n",
    "Die Leistungsmessung gibt einen zu hohen Wert aus, der aufgrund des Leistungsverbrauchs des Spannungsmessgeräts anfällt. Auch hierbei handelt es sich um eine systematische Messabweichung, die mit der Kenntnis des Innenwiderstand $R_V$ korrigiert werden kann:\n",
    "\n",
    "$$A = \\frac{U^2}{R_V}$$\n",
    "\n",
    "Sollte die Korrektur nicht vorgenommen werden, so **steigt die Messabweichung indirekt proportional mit $R_V$**, bei gleichbleibender Spannung. \n",
    "\n",
    ":::{admonition} Aufgabe\n",
    ":class: tip\n",
    "Wie groß ist die Messabweichung für eine stromrichtige, bzw. spannungsrichtige Anschaltung einer Leistungsmessung an einem Lastwiderstand von $R_L = 10\\,\\Omega$, der mit einer Gleichspannung von $U = 22\\,\\mathrm{V}$ und einem Nennstrom von $I = 5\\,\\mathrm{A}$ betrieben wird? Die Innenwiderstände für Spannungs- bzw. Strommesseingang betragen $R_V = 2\\,\\mathrm{M\\Omega}$ und $R_A = 1\\,\\Omega$. Was ändert sich, wenn wir einen schlechteren Strommesseingang mit $R_A = 10\\,\\Omega$ verwenden?\n",
    ":::"
   ]
  },
  {
   "cell_type": "code",
   "execution_count": 15,
   "id": "d934bda7-e9f3-497a-8040-22397986acf2",
   "metadata": {
    "tags": [
     "hide-input"
    ]
   },
   "outputs": [
    {
     "name": "stdout",
     "output_type": "stream",
     "text": [
      "Ein Gleichstrommotor mit Innenwiderstand R_L = 10 Ohm wird mit 22 V Gleichspannung und 5 A Nennenstrom betrieben.\n",
      "Die Leistungsaufnahme am Gleichstrommotor beträgt demnach P = 110 W.\n",
      "Zur Leistungsbestimmung benutzen wir einen Spannungsmesseingang mit einem Innenwiderstand von R_V= 2.0 MOhm und einen Strommesseingang mit einem Innenwiderstand von R_A= 1 Ohm.\n",
      "\n",
      "-------- Messabweichung bei gutem Strommesseingang (R_A = 1 Ohm): ------------\n",
      "Stromrichtige Anschaltung: \t P_A= 25 W\n",
      "Spannungsrichtige Anschaltung: \t P_A= 0.000242 W\n",
      "\n",
      "-------- Messabweichung bei schlechterem Strommesseingang (R_A = 10 Ohm): ------------\n",
      "Stromrichtige Anschaltung: \t P_A= 250 W\n",
      "Spannungsrichtige Anschaltung: \t P_A= 0.000242 W\n"
     ]
    }
   ],
   "source": [
    "U = 22 #V Gleichspannung\n",
    "I = 5 #A Nennstrom\n",
    "R_L = 10 #Ohm, Innenwiderstand Gleichstrommotor\n",
    "print('Ein Gleichstrommotor mit Innenwiderstand R_L =',R_L,'Ohm wird mit', U, 'V Gleichspannung und', I, 'A Nennenstrom betrieben.')\n",
    "print('Die Leistungsaufnahme am Gleichstrommotor beträgt demnach P =', U*I, 'W.')\n",
    "R_V = 2e6 #Ohm, Innenwiderstand Spannungsmesseingang\n",
    "R_A = 1 #Ohm, Innenwiderstand Strommesseingang\n",
    "print('Zur Leistungsbestimmung benutzen wir einen Spannungsmesseingang mit einem Innenwiderstand von R_V=',R_V/1e6,'MOhm und einen Strommesseingang mit einem Innenwiderstand von R_A=',R_A,'Ohm.')\n",
    "\n",
    "\n",
    "print('\\n-------- Messabweichung bei gutem Strommesseingang (R_A =',R_A,'Ohm): ------------')\n",
    "\n",
    "# Stromrichtige Anschaltung:\n",
    "A_stromrichtig = R_A * I**2\n",
    "\n",
    "# Spannungsrichtige Anschaltung:\n",
    "A_spannungsrichtig = U**2 / R_V\n",
    "\n",
    "print('Stromrichtige Anschaltung: \\t P_A=', A_stromrichtig, 'W')\n",
    "print('Spannungsrichtige Anschaltung: \\t P_A=', A_spannungsrichtig, 'W')\n",
    "\n",
    "\n",
    "R_A = 10 #Ohm, Innenwiderstand Strommesseingang\n",
    "print('\\n-------- Messabweichung bei schlechterem Strommesseingang (R_A =',R_A,'Ohm): ------------')\n",
    "\n",
    "# Stromrichtige Anschaltung:\n",
    "A_stromrichtig = R_A * I**2\n",
    "\n",
    "# Spannungsrichtige Anschaltung:\n",
    "A_spannungsrichtig = U**2 / R_V\n",
    "\n",
    "print('Stromrichtige Anschaltung: \\t P_A=', A_stromrichtig, 'W')\n",
    "print('Spannungsrichtige Anschaltung: \\t P_A=', A_spannungsrichtig, 'W')"
   ]
  },
  {
   "cell_type": "markdown",
   "id": "c23d9f89-df61-4e2f-b90f-4c0ab2b68904",
   "metadata": {},
   "source": [
    "Nach dem Lösen der Aufgabe sollte euch aufgefallen sein, dass bei einem schlechteren Strommmesseingang sogar mehr Leistung bei der Strommessung verbraucht wird als an dem Motor selber. Die spannungsrichtige Anschaltung liefert hierbei einen deutlichen Vorteil und ist standardmäßig in den beiden Messgeräten genau so eingebaut. Werden die Messströme $I$ jedoch recht klein, so kann die stromrichtige Anschaltung ggf. genauere Messungen und weniger Leistungsverbrauch führen."
   ]
  },
  {
   "cell_type": "markdown",
   "id": "53dd297e-8298-4328-b48e-3321e9b0f1e5",
   "metadata": {},
   "source": [
    "## Leistungsmessung bei Wechselstrom"
   ]
  }
 ],
 "metadata": {
  "kernelspec": {
   "display_name": "Python 3",
   "language": "python",
   "name": "python3"
  },
  "language_info": {
   "codemirror_mode": {
    "name": "ipython",
    "version": 3
   },
   "file_extension": ".py",
   "mimetype": "text/x-python",
   "name": "python",
   "nbconvert_exporter": "python",
   "pygments_lexer": "ipython3",
   "version": "3.9.12"
  }
 },
 "nbformat": 4,
 "nbformat_minor": 5
}
