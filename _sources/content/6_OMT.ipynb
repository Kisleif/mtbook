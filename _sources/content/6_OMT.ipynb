{
 "cells": [
  {
   "cell_type": "markdown",
   "id": "ab3fc415-2f4f-428a-9c8d-d85ddfb6085f",
   "metadata": {},
   "source": [
    "# Optische Sensoren und Laserinterferometrie\n",
    "\n"
   ]
  }
 ],
 "metadata": {
  "kernelspec": {
   "display_name": "Python 3",
   "language": "python",
   "name": "python3"
  },
  "language_info": {
   "codemirror_mode": {
    "name": "ipython",
    "version": 3
   },
   "file_extension": ".py",
   "mimetype": "text/x-python",
   "name": "python",
   "nbconvert_exporter": "python",
   "pygments_lexer": "ipython3",
   "version": "3.9.12"
  }
 },
 "nbformat": 4,
 "nbformat_minor": 5
}
