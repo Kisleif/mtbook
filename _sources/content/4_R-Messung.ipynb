{
 "cells": [
  {
   "cell_type": "markdown",
   "id": "73c96e7a-4f02-4eec-a88e-0b64a93eb6b7",
   "metadata": {},
   "source": [
    "# Widerstandsmessung\n",
    "\n",
    "Vielen Sensoren, die wir auch noch im Kapitel [Sensoren](6_Einführung.ipynb) kennenlernen werden, sind **resistive Sensoren**. Das heißt deren Widerstandverhalten ändert sich aufgrund der zu messenden Größe, wie z.B. Temperatur, Luftfeuchtigkeit oder Einstrahlung. \n",
    "Für die Messung eines ohmschen Widerstands nutzen wir folgende Formal \n",
    "\n",
    "$$R = \\frac{U}{I}$$\n",
    "\n",
    "Das heißt genau wie bei der Leistungsmessung, müssen wir auch hier Strom und Spannung gleichzeitig messen. Wie auch bei der Leistungsmessung gibt es hier strom- bzw. spannungsrichtige Anschaltungen der beiden Messeingänge. \n",
    "\n",
    "## Stromrichtige Widerstandsmessung\n",
    "In {numref}`messung_stromrichtig` ist die stromrichtige Anschaltung zur Messung eines Widerstandswert gezeigt.\n",
    "\n",
    ":::{figure-md} R-messung_stromrichtig\n",
    "<img src=\"draw/R-messung_stromrichtig.jpg\" alt=\"R-messung_stromrichtig\" class=\"bg-primary mb-1\" width=\"200px\" label = R-messung_stromrichtig>\n",
    "\n",
    "Stromrichtige Schaltung zur Messung elektrischer Widerstände.\n",
    ":::\n",
    "\n",
    "Angenommen der Strommesseingang hat einen Innenwiderstand $R_A$ und der Spannungsmesseingang $R_V$, dann gilt für die Messung:\n",
    "\n",
    "$$R = \\frac{U}{I} = \\frac{U_{R_A} + U_{R_x}}{I} = R_A + R_x$$\n",
    "\n",
    "wobei $R_x$ der gesuchte Messwert ist. \n",
    "Bei der stromrichtigen Anschaltung wird also der Innenwiderstand des Strommesseingangs $R_A$ mitgemessen. Wie schon vorher bei der Leistungsmessung erläutert, handelt es sich auch hierbei um einen systematischen Fehler, der korrigiert werden sollte. Mittels Testmessung oder Herstellerangaben sollte $R_A$ bekannt sein und vom Messergebnis subtrahiert werden. \n",
    "\n",
    "## Spannungsrichtige Widerstandsmessung\n",
    "\n",
    "In {numref}`R-messung_spannungsrichtig` ist die stromrichtige Anschaltung zur Messung eines Widerstandswert gezeigt.\n",
    "\n",
    ":::{figure-md} R-messung_spannungsrichtig\n",
    "<img src=\"draw/R-messung_spannungsrichtig.jpg\" alt=\"R-messung_spannungsrichtig\" class=\"bg-primary mb-1\" width=\"200px\" label = R-messung_spannungsrichtig>\n",
    "\n",
    "Spannungsrichtige Schaltung zur Messung elektrischer Widerstände.\n",
    ":::\n",
    "\n",
    "Angenommen der Strommesseingang hat einen Innenwiderstand $R_A$ und der Spannungsmesseingang $R_V$, dann gilt für die Messung:\n",
    "\n",
    "$$R = \\frac{U}{I} = \\frac{U_{R_x}}{I_{R_V} + I_{R_x}} = \\frac{R_x}{\\frac{I_{R_V}}{I_{R_x}} + 1} = \\frac{R_x}{\\frac{R_x}{R_V} + 1}$$\n",
    "\n",
    "Jetzt wird ein **zu kleiner** Widerstandwert gemessen, der wieder korrigiert werden muss. \n",
    "Ist der gesuchte Widerstandswert $R_x$ sehr viel kleiner als $R_V$, so liefert die spannungsrichtige Anschaltung kleinere Messabweichungen. Dies ist bei den meisten resistiven Sensoren der Fall, aber nicht immer. "
   ]
  },
  {
   "cell_type": "markdown",
   "id": "e2d43ed9-30ad-4c69-80e8-b92c93cd60c8",
   "metadata": {},
   "source": [
    "## Widerstandsmessung mittels 2 Spannungsmessungen\n",
    "\n",
    "Für diese Methode benötigt man einen Referenzwiderstand $R$, der in Reihe zu dem gesuchten Widerstand geschaltet wird, wie in {numref}`R-messung_2` dargestellt, und zwei Spannungsmesseingänge.\n",
    "\n",
    ":::{figure-md} R-messung_2\n",
    "<img src=\"draw/R-messung_2.jpg\" alt=\"R-messung_2\" class=\"bg-primary mb-1\" width=\"200px\" label = R-messung_2>\n",
    "\n",
    "Spannungsrichtige Schaltung zur Messung elektrischer Widerstände.\n",
    ":::\n",
    "\n",
    "Dies hat den Vorteil, dass auf eine Strommessung verzichtet werden kann, die meistens ungenauer ist als eine Spannungsmessung, da der Strom durch Umformung erstmal in eine Spannung gewandelt werden muss. Zudem ist es schwierig kleine Innenwiderstände in Strommesseingängen zu realisieren. \n",
    "\n",
    "Angenommen, beide Spannungsmesseingänge habe einen Innenwiderstand von $R_V$, so kann das Verhältnis der beiden Spannungsmessungen wiefolgt berechnet werden:\n",
    "\n",
    "$$\\frac{U_R}{U_x} = \\frac{ \\frac{R R_V}{R + R_V} }{\\frac{R_x R_V}{R_x + R_V}} = \\frac{R}{R_x} \\cdot \\frac{\\frac{R_x}{R_V}+1}{\\frac{R}{R_V}+1} \\approx \\frac{R}{R_x}$$\n",
    "\n",
    "wodurch man für den gesuchten Wert folgenden zusammenhang erhält:\n",
    "\n",
    "$$R_x \\approx R \\cdot \\frac{U_x}{U_R}$$\n",
    "\n",
    "Die beiden Widerstände $R$ und $R_x$ sollten hierbei ähnliche Werte haben. Je größe der Innenwiderstand $R_V$ ist, desto besser gilt diese Näherungsformel. \n",
    "Ist $R_V$ unbekannt, so liefert diese Methode deutlich kleine Messabweichungen im Vergleich zu den Methoden mit Strommessungen. Ist $R_V$ bekannt, so können auch hier systematische Abweichungen korrigiert werden. \n",
    "\n",
    "## Messabweichungen aufgrund von Kabeln\n",
    "\n"
   ]
  }
 ],
 "metadata": {
  "kernelspec": {
   "display_name": "Python 3",
   "language": "python",
   "name": "python3"
  },
  "language_info": {
   "codemirror_mode": {
    "name": "ipython",
    "version": 3
   },
   "file_extension": ".py",
   "mimetype": "text/x-python",
   "name": "python",
   "nbconvert_exporter": "python",
   "pygments_lexer": "ipython3",
   "version": "3.9.12"
  }
 },
 "nbformat": 4,
 "nbformat_minor": 5
}
