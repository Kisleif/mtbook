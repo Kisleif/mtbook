{
 "cells": [
  {
   "cell_type": "markdown",
   "id": "73c96e7a-4f02-4eec-a88e-0b64a93eb6b7",
   "metadata": {},
   "source": [
    "# Widerstandsmessung"
   ]
  }
 ],
 "metadata": {
  "kernelspec": {
   "display_name": "Python 3",
   "language": "python",
   "name": "python3"
  },
  "language_info": {
   "codemirror_mode": {
    "name": "ipython",
    "version": 3
   },
   "file_extension": ".py",
   "mimetype": "text/x-python",
   "name": "python",
   "nbconvert_exporter": "python",
   "pygments_lexer": "ipython3",
   "version": "3.9.12"
  }
 },
 "nbformat": 4,
 "nbformat_minor": 5
}
