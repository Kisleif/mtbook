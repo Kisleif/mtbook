{
 "cells": [
  {
   "cell_type": "markdown",
   "metadata": {},
   "source": [
    "---\n",
    "# Lösung: Systematische Messabweichung\n",
    "Prof. Dr. rer. nat. Katharina-Sophie Isleif\n",
    "\n",
    "Helmut-Schmidt-Universität\n",
    "\n",
    "---\n",
    "\n",
    "> Dies ist eine interaktive Lösung in Form eines Jupyter Notebooks. Lade das Jupyter Notebook herunter und öffne es mit JupyterLab. \n",
    "Grundkenntnisse in _python_ sind hilfreich, werden aber nicht zwingend benötigt. \n",
    "Kompiliere jede Zelle, die Code enthält, mit _Shift+Enter_ und alle Berechnungen sollten funktionieren.\n",
    "Es gibt andere Tutorials, um _python_-Kenntnisse oder den Umgang mit den Paketen \n",
    "_numpy_ und _matplotlib_ zur Visualisierung und Auswertung von Daten zu vertiefen."
   ]
  },
  {
   "cell_type": "code",
   "execution_count": 5,
   "metadata": {},
   "outputs": [
    {
     "name": "stdout",
     "output_type": "stream",
     "text": [
      "Populating the interactive namespace from numpy and matplotlib\n"
     ]
    }
   ],
   "source": [
    "# In diesem Code-Block werden ein paar wichtige Libraries geladen.\n",
    "# Code-Blocks erkennst du an der Hintergrundfarbe dieser Zelle.\n",
    "# Einfach mal hier rein klicken und per \"Shift+Enter\" ausführen. \n",
    "import numpy as np\n",
    "import matplotlib.pyplot as plt\n",
    "from matplotlib.pyplot import figure\n",
    "from IPython.display import Image\n",
    "params = {'legend.fontsize': 'x-large',\n",
    "          'figure.figsize': (15, 10),\n",
    "          'axes.labelsize': 'x-large',\n",
    "          'axes.titlesize':'x-large',\n",
    "          'xtick.labelsize':'x-large',\n",
    "          'ytick.labelsize':'x-large'}\n",
    "plt.rcParams.update(params)\n",
    "%matplotlib inline\n",
    "%pylab inline\n",
    "#plt.xkcd() # plots in xkcd-style"
   ]
  },
  {
   "cell_type": "markdown",
   "metadata": {},
   "source": [
    "Messgeräte können die genaue Messung von elektrischen Größen beeinflussen. Je nachdem, ob die Stromstärke I oder die Spannung U besonders genau gemessen werden soll, müssen die Messgeräte entsprechend geschaltet sein. "
   ]
  },
  {
   "cell_type": "markdown",
   "metadata": {},
   "source": [
    "## Lösung zu 1\n",
    "\n",
    "### Schaltung 1: Spannungsrichtige Schaltung  <a id=\"Ü22.a\"> </a>\n",
    "\n",
    "Möchte man einen systematischen Fehler bei der Spannungsmessung vermeiden, so wählt man die spannungsrichtige Schaltung. Bei der spannungsrichtigen Messung wird nur die über dem Bauteil (Widerstand R) abfallende Spannung UR gemessen. Da kein weiteres Bauteil die Messung beeinflusst, wird hier die Spannung korrekt gemessen."
   ]
  },
  {
   "cell_type": "code",
   "execution_count": 23,
   "metadata": {},
   "outputs": [
    {
     "data": {
      "image/png": "[encoded data removed]",
      "text/plain": [
       "<IPython.core.display.Image object>"
      ]
     },
     "execution_count": 23,
     "metadata": {},
     "output_type": "execute_result"
    }
   ],
   "source": [
    "Image(\"schaltung1.png\")"
   ]
  },
  {
   "cell_type": "markdown",
   "metadata": {},
   "source": [
    "Der unkorrigierte Widerstandswert berechnet sich aus \n",
    "\n",
    "$$ R = \\frac{U}{I}$$"
   ]
  },
  {
   "cell_type": "code",
   "execution_count": 24,
   "metadata": {},
   "outputs": [
    {
     "name": "stdout",
     "output_type": "stream",
     "text": [
      "Der unkorrigierte Widerstandswert ist R = 4166.666666666667 Ohm\n"
     ]
    }
   ],
   "source": [
    "U = 10\n",
    "I = 2.4e-3\n",
    "RiA = 4\n",
    "RiV = 10e3\n",
    "R = U/I # unkorrigierter Widerstandswert\n",
    "print('Der unkorrigierte Widerstandswert ist R =', R, 'Ohm')"
   ]
  },
  {
   "cell_type": "markdown",
   "metadata": {},
   "source": [
    "Allerdings registriert das Strommessgerät in dieser Schaltung nicht nur den Strom IR, der durch den Widerstand fließt, sondern auch den durch das Messgerät fließenden Strom IV: \n",
    "\n",
    "$$I_V = \\frac{U}{R_{iV}}$$"
   ]
  },
  {
   "cell_type": "code",
   "execution_count": 25,
   "metadata": {},
   "outputs": [
    {
     "name": "stdout",
     "output_type": "stream",
     "text": [
      "Der Strom der durch das Spannungsmessgerät fließt ist IV = 0.001 A\n"
     ]
    }
   ],
   "source": [
    "IV = U/RiV # Strom, welcher über den Spannungsmesser abfließt\n",
    "print('Der Strom der durch das Spannungsmessgerät fließt ist IV =', IV, 'A')"
   ]
  },
  {
   "cell_type": "markdown",
   "metadata": {},
   "source": [
    "Die Strommessung ist in dieser Schaltung mit einem systematischen Fehler behaftet. Die Strommessung muss entsprechend korrigiert werden: \n",
    "\n",
    "$$I_R = I - I_V$$"
   ]
  },
  {
   "cell_type": "code",
   "execution_count": 26,
   "metadata": {},
   "outputs": [
    {
     "name": "stdout",
     "output_type": "stream",
     "text": [
      "Korrektur der Strommessung liefert IR = 0.0013999999999999998 A\n"
     ]
    }
   ],
   "source": [
    "IR = I - IV # korrigierter Stromwert, welcher über R abfließt\n",
    "print('Korrektur der Strommessung liefert IR =', IR, 'A')"
   ]
  },
  {
   "cell_type": "markdown",
   "metadata": {},
   "source": [
    "Dadurch lann der korrigierte Widerstandswert bestimmt werden:\n",
    "\n",
    "$$ R_k = U / I_R $$"
   ]
  },
  {
   "cell_type": "code",
   "execution_count": 27,
   "metadata": {},
   "outputs": [
    {
     "name": "stdout",
     "output_type": "stream",
     "text": [
      "Der korrigierte Widerstandswert lautet R = 7142.857142857144 Ohm\n"
     ]
    }
   ],
   "source": [
    "Rk = U/IR # korrigierter Widerstandswert\n",
    "print('Der korrigierte Widerstandswert lautet R =', Rk, 'Ohm')"
   ]
  },
  {
   "cell_type": "markdown",
   "metadata": {},
   "source": [
    "Der absolute Fehler der Widerstandsmessung beträgt somit\n",
    "\n",
    "$$A = R - R_k = \\Delta R$$\n",
    "\n",
    "undfür den relativen Fehler bezogen auf den Messwert folgt:\n",
    "\n",
    "$$A_\\mathrm{rel} = A/R_k.$$"
   ]
  },
  {
   "cell_type": "code",
   "execution_count": 33,
   "metadata": {},
   "outputs": [
    {
     "name": "stdout",
     "output_type": "stream",
     "text": [
      "Der absolute Fehler beträgt:  -2976.190476190477 Ohm\n",
      "Der relative Fehler beträgt:  -41.66666666666667 %\n"
     ]
    }
   ],
   "source": [
    "A = R - Rk # absoluter systematischer Fehler\n",
    "Arel = A/Rk * 100 # relativer systematischer Fehler\n",
    "print('Der absolute Fehler beträgt: ', A, 'Ohm')\n",
    "print('Der relative Fehler beträgt: ', Arel, '%')"
   ]
  },
  {
   "cell_type": "markdown",
   "metadata": {},
   "source": [
    "Der Fehler kann durch einen hohen Eingangswiderstand des Messgerätes von einigen MΩ gering gehalten werden. Dadurch wird auch der durch den Spannungsmesser fließende Strom klein."
   ]
  },
  {
   "cell_type": "markdown",
   "metadata": {},
   "source": [
    "### Schaltung 2: Stromrichtige Schaltung <a id=\"Ü22.b\"> </a>\n",
    "\n",
    "Bei der stromrichtigen Messung wird nur der durch ein Bauteil (Widerstand R) fließende Strom gemessen. Dazu wird der Strom ohne Verzweigung unmittelbar vor oder hinter dem Bauteil gemessen. In dieser Schaltung wird die Stromstärke IR korrekt gemessen."
   ]
  },
  {
   "cell_type": "code",
   "execution_count": 34,
   "metadata": {},
   "outputs": [
    {
     "data": {
      "image/png": "[encoded data removed]",
      "text/plain": [
       "<IPython.core.display.Image object>"
      ]
     },
     "execution_count": 34,
     "metadata": {},
     "output_type": "execute_result"
    }
   ],
   "source": [
    "Image(\"schaltung2.png\")"
   ]
  },
  {
   "cell_type": "markdown",
   "metadata": {},
   "source": [
    "Der unkorrigierte Widerstandswert berechnet sich aus \n",
    "\n",
    "$$ R = \\frac{U}{I}$$"
   ]
  },
  {
   "cell_type": "code",
   "execution_count": 35,
   "metadata": {},
   "outputs": [
    {
     "name": "stdout",
     "output_type": "stream",
     "text": [
      "Der unkorrigierte Widerstandswert ist R = 7142.857142857143 Ohm\n"
     ]
    }
   ],
   "source": [
    "U = 10\n",
    "I = 1.4e-3\n",
    "RiA = 4\n",
    "RiV = 10e3\n",
    "R = U/I # unkorrigierter Widerstandswert\n",
    "print('Der unkorrigierte Widerstandswert ist R =', R, 'Ohm')"
   ]
  },
  {
   "cell_type": "markdown",
   "metadata": {},
   "source": [
    "Das Spannungsmessgerät registriert in dieser Schaltung nicht nur die an R abfallende Spannung UR, sondern auch die über dem Strommessgerät abfallende Spannung UA:\n",
    "\n",
    "$$U_A = R_{iA} \\cdot I$$"
   ]
  },
  {
   "cell_type": "code",
   "execution_count": 36,
   "metadata": {},
   "outputs": [
    {
     "name": "stdout",
     "output_type": "stream",
     "text": [
      "Die Spannung, die über dem Strommessgerät abfällt ist UA = 0.0056 V\n"
     ]
    }
   ],
   "source": [
    "UA = RiA*I # Spannungsabfall am Strommessgerät\n",
    "print('Die Spannung, die über dem Strommessgerät abfällt ist UA =', UA, 'V')"
   ]
  },
  {
   "cell_type": "markdown",
   "metadata": {},
   "source": [
    "Die Spannungsmessung ist also in dieser Schaltung mit einem systematischen Fehler behaftet, welcher vom eigentlichen Spannungswert abgezogen werden muss:\n",
    "\n",
    "$$U_R = U - U_A.$$"
   ]
  },
  {
   "cell_type": "code",
   "execution_count": 37,
   "metadata": {},
   "outputs": [
    {
     "name": "stdout",
     "output_type": "stream",
     "text": [
      "Korrektur der Spannungsmessung liefert UR = 9.9944 V\n"
     ]
    }
   ],
   "source": [
    "UR = U - UA # korrigierter Spannungswert über R\n",
    "print('Korrektur der Spannungsmessung liefert UR =', UR, 'V')"
   ]
  },
  {
   "cell_type": "markdown",
   "metadata": {},
   "source": [
    "Dadurch kann der korrigierte Widerstandswert bestimmt werden:\n",
    "\n",
    "$$R_k = U_R/I$$"
   ]
  },
  {
   "cell_type": "code",
   "execution_count": 38,
   "metadata": {},
   "outputs": [
    {
     "name": "stdout",
     "output_type": "stream",
     "text": [
      "Der korrigierte Widerstandswert lautet R = 7138.857142857143 Ohm\n"
     ]
    }
   ],
   "source": [
    "Rk = UR/I # korrigierter Widerstandswert\n",
    "print('Der korrigierte Widerstandswert lautet R =', Rk, 'Ohm')"
   ]
  },
  {
   "cell_type": "markdown",
   "metadata": {},
   "source": [
    "Die absolute Abweichung der Widerstandsmessung berechnet sich über:\n",
    "\n",
    "$$ A = R - R_k = \\Delta R$$\n",
    "\n",
    "und die relative Abweichung bezogen auf den Messwert zu\n",
    "\n",
    "$$A_\\mathrm{rel} = \\frac{A}{R_k}$$"
   ]
  },
  {
   "cell_type": "code",
   "execution_count": 39,
   "metadata": {},
   "outputs": [
    {
     "name": "stdout",
     "output_type": "stream",
     "text": [
      "Der absolute Fehler beträgt:  4.0 Ohm\n",
      "Der relative Fehler beträgt:  0.05603137757144001 %\n"
     ]
    }
   ],
   "source": [
    "A = R - Rk # absoluter systematischer Fehler\n",
    "Arel = A/Rk * 100 # relativer systematischer Fehler\n",
    "print('Der absolute Fehler beträgt: ', A, 'Ohm')\n",
    "print('Der relative Fehler beträgt: ', Arel, '%')"
   ]
  },
  {
   "cell_type": "markdown",
   "metadata": {},
   "source": [
    "Um die Abweichung möglichst gering zu halten, muss der Innenwiderstand des Strommessers möglichst gering sein. Dadurch wird auch die über dem Strommesser abfallende Spannung UA klein."
   ]
  },
  {
   "cell_type": "markdown",
   "metadata": {},
   "source": [
    "## Lösung zu 2\n",
    "\n",
    "### Leistungsmessung <a id=\"Ü22.c\"> </a>\n",
    "\n",
    "Im Gleichstromkreis werden gleichzeitig Strom- und Spannungsmessung mit einer stromrichtigen Messschaltung an einem Widerstand R durchgeführt. Die Strommessung liefert I = 140mA, die Spannungsmessung U = 10V. \n",
    "Über die Gleichung für die Leistung kann das unberichtigte Ergebnis für die Leistungsmessung bestimmt werden:"
   ]
  },
  {
   "cell_type": "code",
   "execution_count": 40,
   "metadata": {},
   "outputs": [
    {
     "name": "stdout",
     "output_type": "stream",
     "text": [
      "Die Leistung beträgt P =  2.0 W\n"
     ]
    }
   ],
   "source": [
    "U = 10\n",
    "I = 200e-3\n",
    "RiA = 4\n",
    "P = U*I\n",
    "print('Die Leistung beträgt P = ', P, 'W')"
   ]
  },
  {
   "cell_type": "markdown",
   "metadata": {},
   "source": [
    "Allgemein gilt für die die Abweichung der indirekten Messung, also der Fortpflanzung der bekannten systematischen Abweichung:\n",
    "\n",
    "$$ \\Delta y = \\sum_{i=1}^n\\frac{\\partial y}{\\partial x_i}\\cdot \\Delta x_i $$\n",
    "\n",
    "bezogen auf die Bestimmungsgleichung der Leistung:\n",
    "\n",
    "$$ \\Delta P = \\frac{\\partial P}{\\partial U} \\Delta U + \\frac{\\partial P}{\\partial I} \\Delta I $$\n",
    "\n",
    "nach Ausführung der partiellen Differentiation ergibt sich:\n",
    "\n",
    "$$ \\Delta P = I \\cdot \\Delta U + U \\cdot \\Delta I $$\n",
    "\n",
    "weil eine stromrichtige Messung verwendet wird, tritt keine systematische Abweichung bezüglich des Stromes auf, d. h. $\\Delta I = 0$, somit vereinfacht sich die Gleichung zu:\n",
    "\n",
    "$$ \\Delta P = I \\cdot \\Delta U $$\n",
    "\n",
    "Das Voltmeter zeigt eine Spannung an, die der Summe der Spannung über RiV und der Spannung über dem Strommesser entspricht. Die Spannung über dem Strommesser darf für die Berechnung der Leistung über R nicht mit herangezogen werden, sie ist in unserem Fall identisch mit der systematischen Abweichung:\n",
    "\n",
    "$$ \\Delta P = I \\cdot \\Delta U  = I \\cdot U_\\mathrm{iA} = I \\cdot I \\cdot R_\\mathrm{iA}$$"
   ]
  },
  {
   "cell_type": "code",
   "execution_count": 41,
   "metadata": {},
   "outputs": [
    {
     "name": "stdout",
     "output_type": "stream",
     "text": [
      "Die systematische Abweichung der Leistung beträgt dP =  0.16000000000000003 W\n",
      "Die korrigierte Leistung ist: Pk =  1.8399999999999999 W\n"
     ]
    }
   ],
   "source": [
    "dP = I**2 * RiA\n",
    "print('Die systematische Abweichung der Leistung beträgt dP = ', dP, 'W')\n",
    "print('Die korrigierte Leistung ist: Pk = ',P-dP, 'W')"
   ]
  }
 ],
 "metadata": {
  "kernelspec": {
   "display_name": "Python 3",
   "language": "python",
   "name": "python3"
  },
  "language_info": {
   "codemirror_mode": {
    "name": "ipython",
    "version": 3
   },
   "file_extension": ".py",
   "mimetype": "text/x-python",
   "name": "python",
   "nbconvert_exporter": "python",
   "pygments_lexer": "ipython3",
   "version": "3.9.12"
  }
 },
 "nbformat": 4,
 "nbformat_minor": 4
}
