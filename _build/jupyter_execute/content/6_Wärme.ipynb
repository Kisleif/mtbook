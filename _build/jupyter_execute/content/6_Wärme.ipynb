{
 "cells": [
  {
   "cell_type": "markdown",
   "id": "01e720b4-84c2-4546-a421-e4f0f391e5e0",
   "metadata": {},
   "source": [
    "# Messung von Wärmestrahlung"
   ]
  },
  {
   "cell_type": "code",
   "execution_count": null,
   "id": "1c3a87d2-0fc7-45c5-8a0e-756e0f87e24f",
   "metadata": {},
   "outputs": [],
   "source": []
  }
 ],
 "metadata": {
  "kernelspec": {
   "display_name": "Python 3",
   "language": "python",
   "name": "python3"
  },
  "language_info": {
   "codemirror_mode": {
    "name": "ipython",
    "version": 3
   },
   "file_extension": ".py",
   "mimetype": "text/x-python",
   "name": "python",
   "nbconvert_exporter": "python",
   "pygments_lexer": "ipython3",
   "version": "3.9.12"
  }
 },
 "nbformat": 4,
 "nbformat_minor": 5
}