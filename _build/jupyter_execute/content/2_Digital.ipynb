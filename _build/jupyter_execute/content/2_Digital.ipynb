{
 "cells": [
  {
   "cell_type": "markdown",
   "id": "cd4214fd-61b8-4458-a497-67bc6abddc2c",
   "metadata": {},
   "source": [
    "# Digitalisierung\n",
    "\n",
    "Viele Messungen, wie z.B. Spannungs- und Strommessungen werden am Ende mittels Analog-Digital-Umsetzer (ADU) digitalsiert, weshalb wir hier das Grundprinzip einmal erläutern möchten.\n",
    "\n",
    "## Kennlinie\n",
    "\n",
    "In Folge der Digitalisierung wird der unendliche Wertebereich einer analogen Größen, z.B. eine elektrischen Spannung, auf einen endlichen, diskreten **Wertebereich** abgebildet: \n",
    "\n",
    "$$W_B = (2^n-1) \\cdot 1\\,\\mathrm{LSB}$$\n",
    "\n",
    ":::{figure-md} digi_3bit\n",
    "<img src=\"draw/digi_3bit.jpg\" alt=\"digi_3bit\" class=\"bg-primary mb-1\" width=\"400px\" label = digi_3bit>\n",
    "\n",
    "Kennlinie bei der Digitalisierung unter Benutzung eines 3bit-ADU. Die Eingangssignale liegen zwischen 0-7V. \n",
    ":::\n",
    "\n",
    "Ein kontinuierlicher analoger Spannungsmessbereich wird in viele kleine Stufen unterteilt. \n",
    "Diese gestufte **(Treppen-)Kurve** ist in {numref}`digi_3bit` dargestellt. Sie ist die reale Übertragungskurve eines 3-Bit-Analog-Digital-Umsetzers (ADU). \n",
    "Das digitale Ausgangssignal ist so lange konstant bei einem festen Wert, wie sich das analoge Eingangssignal innerhalb eines Inkrements, also 1 **LSB (least significant bit)**, verändert. An diesem Beispiel hier stellen wir Eingangssignale zwischen 0V und 7V mit einem 3-Bit-Wandler dar. Variiert die Eingangsspannung nur minimal, also beispielsweise zwischen 1,1V und 1,9V, so würde sich der digitale Ausgangswert tatsächlich nicht ändern und konstant *001* ausgeben.\n",
    "\n",
    "## Auflösung\n",
    "\n",
    "Es ist offentsichtlich, dass bei der Digitalisierung Informationen verloren gehen. Die analogen Spannungswerte sind beliebig genau, mit unendlich vielen Nachkommastellen, werden jedoch nur auf einen sehr begrenzten, diskreten Wertebereich mit einer limitierten Anzahl von Stufen projiziert.\n",
    "Je feiner die Stufen (also je mehr Bits), desto besser wird die **Auflösung**. \n",
    "Erst wenn ein Grenzwert überschritten wird, wird die nächste *Stufe* erreicht und der Computer zeigt einen neuen Spannungswert an. Nicht aber die inkrementalen Zwischenschritte. \n",
    "Beliebig viele Bits sind jedoch nicht möglich. Außerdem wird man in der Praxis die minimal nötige Anzahl von Bits wählen, da sonst der technische Aufwand enorm ansteigt. Es ist also wichtig sich vor der Messaufgabe zu überlegen, welche Auflösung benötigt wird. Insbesondere wenn die Auflösung z.B. durch andere Parameter limitiert wird, wie z.B. die Genauigkeit der Referenzmessung und Kalibrierung. "
   ]
  },
  {
   "cell_type": "markdown",
   "id": "7bf444e1-67c0-465b-a7d9-97e8f13889e7",
   "metadata": {},
   "source": [
    "## Quantisierungsabweichung\n",
    "\n",
    "Dadurch dass der Wertebereich begrenzt ist, ergeben sich absolute Messabweichungen beim Digitalisierungsprozess. Dies wird auch **absoluter Digitalisierungsfehler** genannt. \n",
    "Aus der Kennlinie kann man diesen Fehler ablesen, er ergibt sich aus dem Digitalwert und dem idealisierten Kennlinienwert. Im *worst case* beträgt die maximale Abweichung:\n",
    "\n",
    "$$A = 1\\,\\mathrm{LSB}$$\n",
    "\n",
    "Die relative Messabweichung bezogen auf den Wertebereich ist dadurch:\n",
    "\n",
    "$$A_\\mathrm{rel} = \\frac{A}{W_B} = \\frac{1\\,\\mathrm{LSB}}{(2^n-1)\\cdot 1\\,\\mathrm{LSB}} \\approx \\frac{1}{2^n}$$\n",
    "\n",
    "Für einen A-D-Wandler mit einer Auflösung von 10 Bit ist die relative Abweichung infolge der Quantisierung anzugeben: \n",
    "\n",
    "$$A_\\mathrm{rel} = \\frac{1}{2^{10}} = 0,00097 = 0,001 = 0,1\\% $$"
   ]
  },
  {
   "cell_type": "code",
   "execution_count": 1,
   "id": "7d1b3a41-e076-4ae9-9d47-76685e3b019c",
   "metadata": {
    "tags": [
     "hide-input"
    ]
   },
   "outputs": [
    {
     "name": "stdout",
     "output_type": "stream",
     "text": [
      "rel. Abweichung: \t\t\t 0.09775171065493646 %\n",
      "rel. Abweichung (Näherungsformel): \t 0.09765625 %\n"
     ]
    }
   ],
   "source": [
    "n_bits = 10\n",
    "print('rel. Abweichung: \\t\\t\\t', 1/(2**n_bits-1)*100, '%')\n",
    "print('rel. Abweichung (Näherungsformel): \\t', 1/2**n_bits*100, '%')"
   ]
  },
  {
   "cell_type": "markdown",
   "id": "adac0d92-cebf-43a0-894d-b75cf786590d",
   "metadata": {},
   "source": [
    "```{warning} \n",
    "Für kleine Spannungen, die den Wertebereich des ADUs nicht ausnutzen, sollte zuerst eine Verstärkerstufe so vorgeschaltet werden, dass der komplette diskrete Wertebereich ausgenutzt wird. Befindet sich die analoge Messgröße nur innerhalb eines LSB's, wäre dies sehr ungünstig.\n",
    "```"
   ]
  },
  {
   "cell_type": "markdown",
   "id": "0f61a45a-f23d-4937-8006-4a7a3331e42d",
   "metadata": {},
   "source": [
    "## Nyquist-Shannon-Abtasttheorem\n",
    "\n",
    "Nicht nur im Wertebereich, sondern auch bei der zeitlichen Diskretisierung können Abweichungen und Fehler auftreten. \n",
    "\n",
    ":::{figure-md} abtastung2\n",
    "<img src=\"draw/abtastung.jpg\" alt=\"abtastung\" class=\"bg-primary mb-1\" width=\"500px\" label = abtastung2>\n",
    "\n",
    "Aliasing Effekt in einem sinusförmigen Messsignal aufgrund der Wahl einer zu kleinen Abtastfrequenz.\n",
    ":::\n",
    "\n",
    "Wie in {numref}`abtastung2` werden nur zu bestimmten, diskreten Zeitpunkten $T_A$ die Messdaten $u_k$ abgespeichert, wodurch nur eine endliche Zahl von *Proben* genommen wird.\n",
    "Ein ADU kann nicht beliebig schnell werden wodurch der Zeitpunkt zwischen zwei Messwertaufnahmen nicht beliebig klein werden kann und wir entnehmen lediglich eine *Stichprobe* zu ganz bestimmten Zeitpunkten. Dazwischen wird kein Messsignal aufgezeichnet. Diese Art die Diskretisierung muss jedoch nicht immer zu Informationsverlusten führen, wenn man das **Nyquist-Shannon Abtasttheorem**\n",
    "\n",
    "$$f_\\mathrm{ab} > 2f$$\n",
    "\n",
    "einhält. Dies besagt, dass eine Schwingung innerhalb einer Periode mindestens 2-mal abgetastet werden soll. Dann kann man das Signal wieder vollständig rekonstruieren. Wenn dies eingehalten wird, entstehen keine Messabweichungen bei der besagten Signalfrequenz!\n",
    "\n",
    "Sollte ein Signal aus mehreren Frequenzen bestimmen, so ist immer die höchste zu erwartende Frequenz im Signal als Anhaltspunkt für das Abtasttheorem zu nehmen. Die **Nyquist-(Abtast-) Frequenz** $f_\\mathrm{ab}$ wird entsprechend dieser höchsten Frequenz gewählt. \n",
    "\n",
    "In Kapitel [Fourier-Analyse](3_FourierAnalyse.ipynb) ist gezeigt, dass bestimmte Signale wie z.B. Rechteckpulse, aber auch Einzelpulse, in der Theorie beliebig steile Flanken haben. Das heißt eine Rechteckspannung hat unendliche hohe Frequenzen, welches mit Zeitintervallen von 0 Skeunden Länge abgetastet werden müsste um die benötigte Abtastfrequenz $2\\cdot \\infty$ zu erreichen. Dies ist durch die Digitalisierung nicht möglich und in diesem Fall ist zwangsläufig mit einem Informationsverlust zu rechnen.\n",
    "\n",
    "Andersherum gibt der vorliegende ADU vor, welche Signale und Signalfrequenzen mit diesem Gerät noch verlustfrei analysiert werden können. Hat das vorliegende Messsystem eine Abtastfrequenz (auch Sampling-Frequenz oder Bandbreite genannt) von $f_\\mathrm{ab} = 100\\,\\mathrm{MHz}$, so können nur Signale mit Frequenzanteilen bis zu $f = 50\\,\\mathrm{MHz}$ verlustfrei analysiert werden. \n",
    "\n",
    "## Aliasing\n",
    "\n",
    "Sollte ein zu digitalisierendes Messsignale bekannterweise aus höheren Frequenzen bestehen, sollten diese vor derm Digitalisierungsprozess heraus gefiltert werden, da ansonsten **Aliasing** auftreten wird. \n",
    "\n",
    "Nehmen wir im Folgenden an, dass wir ein Signal in einen ADU einspeisen, was höhere Frequenzanteile besitzt als der ADU theoretisch abtasten kann. Das bedeutet, dass bei diesen Schwingungen nicht mehr 2 Punkte pro Periode abgetastet werden können und das Nyquist-Shannon-Theorem wird verletzt. \n",
    "Der eigentliche Signalverlauf kann also nicht eindeutig rekonstruiert werden und man erhält *irgendeinen* anderen Verlauf. \n",
    "In {numref}`alisaing` sieht man das Beispiel für 2,6 Abtastungen pro Periode (oben links), 1,4 Abtastungen (oben rechts), 2 Abtastungen (unten links) und 0,8 Abtastungen (unten rechts). Abtastungenspunkte, die 2 pro Periode unterschreiten, zeigen eine falsch-rekonstruierte Wellenform auf, was durch die rote Linie verdeutlicht werden soll. \n",
    "\n",
    ":::{figure-md} alisaing\n",
    "<img src=\"draw/alisaing.jpg\" alt=\"alisaing\" class=\"bg-primary mb-1\" width=\"600px\" label = alisaing>\n",
    "\n",
    "Aliasing Effekt in einem sinusförmigen Messsignal aufgrund der Wahl einer zu kleinen Abtastfrequenz.\n",
    ":::\n",
    "\n",
    "\n",
    "### Anti-Aliasing-Filter\n",
    "\n",
    "Zur Vermeidung von Alisaing werden Filter verwendet, um hohe Frequenzen im Signal vor der Digitalisierung rauszufiltern. Hierbei handelt es um steile Tiefpass-Filter höherer Ordnung um eine möglichst große Uterdrückung bei hohen Frequenzen zu erreichen. Das eigentliche, zu digitalisierende Signal sollte in seinem Frequenzverlauf jedoch möglichst nicht verändert werden durch den Filter. Daher muss man bei dem Filterdesign sehr vorsichtig sein. "
   ]
  },
  {
   "cell_type": "markdown",
   "id": "40a1d347-2dac-4ba5-b37a-4a162ddc1aa2",
   "metadata": {},
   "source": [
    "## Vorteile\n",
    "\n",
    "Digitalisierte Messsignale haben den Vorteil, dass die Genauigkeit auch über große Distanzen erhalten bleiben und sie somit gut übertragen werden können. Außerdem ist die Weiterverarbeitung und Datenanalyse einfacher. \n",
    "Bei analogen Messsignalen hat man das Problem, dass äußere Störungen das Messsignal stark verändern können, wie z.B. Drift- oder Rauscheigenschaften von elektronischen Komponenten. \n",
    "Viele empfinden analoge Messwerte jedoch angenehmer und übersichtlicher, als Reihen von Zahlen auf dem Computer. \n",
    "Der wichtigste Vorteil von analogen Messwerten ist jedoch die große Bandbreite und großer Wertebereich und die simultane Verarbeitung. Gerade bei dynamischen Systen kann dies ein großer Vorteil sein, wenn man sich schnell verändernde zeitliche Messgrößen hat. "
   ]
  }
 ],
 "metadata": {
  "kernelspec": {
   "display_name": "Python 3",
   "language": "python",
   "name": "python3"
  },
  "language_info": {
   "codemirror_mode": {
    "name": "ipython",
    "version": 3
   },
   "file_extension": ".py",
   "mimetype": "text/x-python",
   "name": "python",
   "nbconvert_exporter": "python",
   "pygments_lexer": "ipython3",
   "version": "3.9.12"
  }
 },
 "nbformat": 4,
 "nbformat_minor": 5
}