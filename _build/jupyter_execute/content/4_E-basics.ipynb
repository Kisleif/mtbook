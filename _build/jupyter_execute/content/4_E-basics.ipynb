{
 "cells": [
  {
   "cell_type": "markdown",
   "id": "1ede8630-6eeb-44c4-9ccf-cd2b49ffbf3a",
   "metadata": {},
   "source": [
    "# Grundlagen der Elektrotechnik\n",
    "\n",
    "<video width=\" 220\" height=\" \" \n",
    "       src=\"movies/Hazel.mp4\"  \n",
    "       controls>\n",
    "</video>\n",
    "\n",
    "::::::{margin}\n",
    ":::::{grid}\n",
    "::::{grid-item-card}\n",
    ":class-header: bg-light\n",
    "Elektrotechnik Grundlagen, Ohm'sches Gesetzt, Knotensatz, Maschensatz, Zweipole | Prof. Griesbauer\n",
    "\n",
    "<iframe width=\"220\" height=\"113\" src=\"https://www.youtube.com/embed/7NvQURKQNrs?si=idcjKfXcP1OJXZ4A\" title=\"YouTube video player\" frameborder=\"0\" allow=\"accelerometer; autoplay; clipboard-write; encrypted-media; gyroscope; picture-in-picture; web-share\" allowfullscreen></iframe>\n",
    "::::\n",
    ":::::\n",
    "::::::\n",
    "\n",
    "\n",
    "<video controls width=\"600\">\n",
    " <source src=\"movies/Hazel.mp4\" type=\"video/mp4\">\n",
    " Your browser does not support the video tag.\n",
    "</video>"
   ]
  },
  {
   "cell_type": "code",
   "execution_count": 1,
   "id": "d08db75d-5fb6-4e02-a7e6-5db9ba1663a2",
   "metadata": {},
   "outputs": [
    {
     "data": {
      "text/html": [
       "\n",
       "<video alt=\"test\" controls>\n",
       "    <source src=\"movies/Hazel.mp4\" type=\"video/mp4\">\n",
       "</video>\n"
      ],
      "text/plain": [
       "<IPython.core.display.HTML object>"
      ]
     },
     "execution_count": 1,
     "metadata": {},
     "output_type": "execute_result"
    }
   ],
   "source": [
    "from IPython.display import HTML\n",
    "\n",
    "HTML(\"\"\"\n",
    "    <video alt=\"test\" controls>\n",
    "        <source src=\"movies/Hazel.mp4\" type=\"video/mp4\">\n",
    "    </video>\n",
    "\"\"\")\n",
    "\n"
   ]
  },
  {
   "cell_type": "code",
   "execution_count": null,
   "id": "ad9226a1-ca6a-49f6-824e-c6ab0002362e",
   "metadata": {},
   "outputs": [],
   "source": []
  }
 ],
 "metadata": {
  "kernelspec": {
   "display_name": "Python 3",
   "language": "python",
   "name": "python3"
  },
  "language_info": {
   "codemirror_mode": {
    "name": "ipython",
    "version": 3
   },
   "file_extension": ".py",
   "mimetype": "text/x-python",
   "name": "python",
   "nbconvert_exporter": "python",
   "pygments_lexer": "ipython3",
   "version": "3.9.12"
  }
 },
 "nbformat": 4,
 "nbformat_minor": 5
}