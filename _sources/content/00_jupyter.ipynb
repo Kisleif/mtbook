{
 "cells": [
  {
   "cell_type": "markdown",
   "id": "007a4ffc-b6bd-4473-9afe-68a9d3f42fdd",
   "metadata": {},
   "source": [
    "# Python im Lecture Book\n",
    "\n",
    "Das *Metrology Lecture Book* ist eine Mischung aus Vorlesungsskript, Prakikumshinweisen und Beispielen in Python. Es handelt sich hierbei um ein Jupyter-Book was es ermöglicht `Python`-Code direkt einzubinden.\n",
    "\n",
    "## Vorlesungsinhalte \n",
    "Um dem **Vorlesungsskript** zu folgen sind **keine Python-Kenntnisse erforderlich**. \n",
    "\n",
    "* Den **Code** zu den Berechnungen und Plots sind meist versteckt und können über einen Klick auf dein *Pfeil* angezeigt werden. Bei diesen Seiten handelt es sich dann um Jupyter-Notebooks, die ihr über den `Colab`-Button am oberen Seitenrand (versteckt unter der *Rakete*) auch interaktiv im Browser öffnen und ausführen könnt, ohne Python oder Jupyter-Notebooks installieren zu müssen.\n",
    "* **Anmerkungen, Highlights und Vorlesungsnotizen** könnt ihr direkt auf der Seite machen (oben ganz rechter Seitenrand). Hierfür müsst ihr euch unter https://hypothes.is/ registrieren und dann einloggen. Möchtet ihr die Notizen mit mir oder der Jahrgangs-Gruppe teilen, dann müsst ihr der entsprechenden Hypothe-Gruppe beitreten. Den Link findet ihr im ILIAS. \n",
    "\n",
    "## Praktikum\n",
    "Für das **Praktikum** müsst ihr [Daten aufnehmen, auswerten und grafisch darstellen](1_Datenanalyse). Hierfür könnt ihr ein Programm eurer Wahl nehmen, wie z.B. \n",
    "\n",
    "* [Matlab](https://de.mathworks.com/products/matlab.html) (Lizenzen sind über die HSU erhältlich) \n",
    "* [Python](https://www.python.org), frei-erhältlich und die [Tutorials](T_Tutorials) im *Lecture Book* nutzen Python ([Jupyter-Notebooks](https://docs.jupyter.org/en/latest/)). \n",
    "* [QtiPlot](https://qtiplot.com), freil erhältlich\n",
    "* Von einer Datenanalyse in Excel rate ich ab."
   ]
  },
  {
   "cell_type": "markdown",
   "id": "c4f2bf3f-835a-4fc2-9465-143f1520e1b6",
   "metadata": {
    "tags": []
   },
   "source": [
    "## Programmieren mit Python\n",
    "\n",
    "Es gibt zahlreiche Tutorials und Lernseiten über Python im Internet, womit ihr Python-Programmierung schnell und einfach lernen könnt. Für die Tutorials benötigt ihr folgende Grundkenntnisse, bzw. lernt sie innerhalb der Tutorials:\n",
    "\n",
    "* **Basics:** Schleifen, Funktionen, Listen, Tuples, Sets, Dictionaries\n",
    "* **Algebra:** [numpy](https://numpy.org), [scipy](https://scipy.org)\n",
    "  * **Fit/Modellanpassungen:** [lmfit](https://pypi.org/project/lmfit/), [scipy](https://scipy.org) (z.B. curve_fit), [numpy](https://numpy.org) (z.B. polyfit)\n",
    "* **Datenverarbeitung:** [pandas](https://pandas.pydata.org) (z.B. DataFrames)\n",
    "* **Datenvisualisierung:** [matplotlib](https://matplotlib.org)\n",
    "\n",
    "Die einfachste Möglichkeit mit der Python Programmierung zu starten ist das ausführen von Jupyter-Notebooks."
   ]
  },
  {
   "cell_type": "markdown",
   "id": "59a1c803-3d64-4855-bd4f-bc48b421e7d5",
   "metadata": {},
   "source": [
    "## Quick introduction to Jupyter Notebook\n",
    "\n",
    "Es gibt verschiedene Möglichkeiten Jupyter-Notebooks auszuführen.\n",
    "\n",
    "* **Ohne Installation: Code direkt im Browser ausprobieren:**\n",
    "    * **Jupyter-Lab** sofort ausprobieren: https://jupyter.org/try-jupyter/lab/. Um einzelne *Zellen* auszuführen macht einen *Doppelklick* in den Abschnitt und führt diesen mit `Shift+Enter` aus.\n",
    "    * **Jupyter-Notebooks** sofort ausprobieren: https://jupyter.org/try-jupyter/retro/notebooks/?path=notebooks/Intro.ipynb. Um einzelne *Zellen* auszuführen macht einen *Doppelklick* in den Abschnitt und führt diesen mit `Shift+Enter` aus.\n",
    "    * **Tutorials** im *Lecture Book* sofort ausprobieren: klickt oben auf die *Rakete* und dann auf `Colab`. Diese ist eine weitere interaktive Umgebung, in der das Jupyter-Notebook gestartet wird. Die *Rakete* erscheint nur auf den Seiten, die als Jupyter-Notebook hinterlegt sind.\n",
    "\n",
    "* **Installation auf dem Rechner:**\n",
    "    * ich empfehle die Installation von Python über [Anaconda](https://www.anaconda.com/products/distribution)\n",
    "    * außerdem gibt es neuerdings eine Desktop-Version von [Jupyter-Lab](https://pypi.org/project/jupyterlab/), die es erlaubt `.ipynb` Dateien ganz einfach per Doppelklick aus dem Datei-System zu öffnen."
   ]
  },
  {
   "cell_type": "markdown",
   "id": "3490d417-cf35-4bbe-9c8a-4236636cf5c9",
   "metadata": {},
   "source": [
    "<iframe width=\"560\" height=\"315\" src=\"https://www.youtube.com/embed/jZ952vChhuI\" title=\"YouTube video player\" frameborder=\"0\" allow=\"accelerometer; autoplay; clipboard-write; encrypted-media; gyroscope; picture-in-picture\" allowfullscreen></iframe>"
   ]
  }
 ],
 "metadata": {
  "kernelspec": {
   "display_name": "Python 3",
   "language": "python",
   "name": "python3"
  },
  "language_info": {
   "codemirror_mode": {
    "name": "ipython",
    "version": 3
   },
   "file_extension": ".py",
   "mimetype": "text/x-python",
   "name": "python",
   "nbconvert_exporter": "python",
   "pygments_lexer": "ipython3",
   "version": "3.9.12"
  }
 },
 "nbformat": 4,
 "nbformat_minor": 5
}
