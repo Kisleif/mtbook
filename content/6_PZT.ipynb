{
 "cells": [
  {
   "cell_type": "markdown",
   "id": "12fd1fd3-680d-4558-b58e-0cc0822faa7c",
   "metadata": {},
   "source": [
    "# Piezoelektrische Sensoren"
   ]
  }
 ],
 "metadata": {
  "kernelspec": {
   "display_name": "Python 3",
   "language": "python",
   "name": "python3"
  },
  "language_info": {
   "codemirror_mode": {
    "name": "ipython",
    "version": 3
   },
   "file_extension": ".py",
   "mimetype": "text/x-python",
   "name": "python",
   "nbconvert_exporter": "python",
   "pygments_lexer": "ipython3",
   "version": "3.9.12"
  }
 },
 "nbformat": 4,
 "nbformat_minor": 5
}
