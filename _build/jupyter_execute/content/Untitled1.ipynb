{
 "cells": [
  {
   "cell_type": "code",
   "execution_count": 1,
   "id": "2775ccf7-ba49-40a4-96ba-2ac960df9088",
   "metadata": {},
   "outputs": [
    {
     "name": "stdout",
     "output_type": "stream",
     "text": [
      "1.25e-07\n",
      "-39.03089986991944\n"
     ]
    }
   ],
   "source": [
    "import numpy as np\n",
    "V = 1\n",
    "R = 1e6\n",
    "P_ref = 1e-3\n",
    "P = V**2/(8*R)\n",
    "print(P)\n",
    "print(10*np.log10(P/P_ref))"
   ]
  },
  {
   "cell_type": "code",
   "execution_count": null,
   "id": "92d452ff-14e4-4ffb-959b-d3f0f0a5992d",
   "metadata": {},
   "outputs": [],
   "source": []
  }
 ],
 "metadata": {
  "kernelspec": {
   "display_name": "Python 3",
   "language": "python",
   "name": "python3"
  },
  "language_info": {
   "codemirror_mode": {
    "name": "ipython",
    "version": 3
   },
   "file_extension": ".py",
   "mimetype": "text/x-python",
   "name": "python",
   "nbconvert_exporter": "python",
   "pygments_lexer": "ipython3",
   "version": "3.9.12"
  }
 },
 "nbformat": 4,
 "nbformat_minor": 5
}