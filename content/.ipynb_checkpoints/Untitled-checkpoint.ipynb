{
 "cells": [
  {
   "cell_type": "markdown",
   "id": "8d493e55-00fb-4fbb-acc3-bc61f02665e9",
   "metadata": {},
   "source": [
    "# Messtechnik in Gravitationswellendetektoren\n",
    "\n",
    "::::::{margin}\n",
    ":::::{grid}\n",
    "::::{grid-item-card}\n",
    ":class-header: bg-light\n",
    "How does LIGO work?? Working Principles of LIGO l LIGO technology l LIGO in science (englisch, TIP Knowledge)\n",
    "\n",
    "<iframe width=\"200\" height=\"113\" src=\"https://www.youtube.com/embed/trQNpZHL8KM?si=G0PqgFzXdbCuLMxR\" title=\"YouTube video player\" frameborder=\"0\" allow=\"accelerometer; autoplay; clipboard-write; encrypted-media; gyroscope; picture-in-picture; web-share\" allowfullscreen></iframe>\n",
    "::::\n",
    ":::::\n",
    "::::::\n",
    "\n",
    "Gravitationswellen sind besonders faszinierend, da wir durch ihre Detektion kosmolgische Objekte aufspüren können, die wir mit anderen Teleskopen nicht wahrnehmen können, da sie kein Licht aussenden. Hauptmotivation ist hierbei die Detektion von Schwarzen Löchern, die sich umeinander rum bewegen. Aufgrund ihrer gegenseitigen Gravitationskraft vollziehen sie diesen Tanz und verändern dabei die Raumzeit. Um euch ein Bild davon zu machen: Die stärkste bisher gemessene Gravitationswelle hat die 4 km langen Arme von LIGO um nur etwa $\\Delta L = 10^{-19}\\,\\mathrm m$ verändert. Daraus können wir direkt auf die *Stärke* dieses astronomischen Ereignisses schließen. Die Gravitationswelle hat die uns umgebende Raumzeit um\n",
    "\n",
    "$$h = \\frac{dL}{L} \\approx 5\\cdot 10^{-22}$$\n",
    "\n",
    "verändert.\n",
    "Nimmt man den Abstand von Erde und Sonne (150 000 000 km), würde sich dieser beim Einfall einer Gravitationswellen um weniger als einen Atomdurchmesser ändern:"
   ]
  },
  {
   "cell_type": "code",
   "execution_count": null,
   "id": "23bdcf2e-1a7d-456b-93ea-ab24a3d21da9",
   "metadata": {},
   "outputs": [],
   "source": [
    "h = 1e-22\n",
    "d_Erde_Sonne = 150e9 # Abstand Erde Sonne in m\n",
    "dL_Erde_Sonne = d_Erde_Sonne * h\n",
    "print('Abstandsänderung Erde-Sonne verursacht durch Gravitationswelle: ')\n",
    "print(dL_Erde_Sonne, ' = ',dL_Erde_Sonne*1e12, 'pm')"
   ]
  },
  {
   "cell_type": "markdown",
   "id": "95a53722-8e03-453d-98c1-e74039505cac",
   "metadata": {},
   "source": [
    "Die Größe eines Atoms beträgt um die 100 pm = 1 A (Angstrom = 10 $^{-10}$). \n",
    "\n",
    "Die Technologie hinter LIGO und anderen Gravitationswellendetektoren wie VIRGO und KAGRA ist ein faszinierendes Beispiel dafür, wie fortschrittliche Messtechnik und hohe Präzision es uns ermöglichen, die fundamentalen Aspekte unseres Universums zu erforschen und besser zu verstehen."
   ]
  }
 ],
 "metadata": {
  "kernelspec": {
   "display_name": "Python 3",
   "language": "python",
   "name": "python3"
  },
  "language_info": {
   "codemirror_mode": {
    "name": "ipython",
    "version": 3
   },
   "file_extension": ".py",
   "mimetype": "text/x-python",
   "name": "python",
   "nbconvert_exporter": "python",
   "pygments_lexer": "ipython3",
   "version": "3.9.18"
  }
 },
 "nbformat": 4,
 "nbformat_minor": 5
}
