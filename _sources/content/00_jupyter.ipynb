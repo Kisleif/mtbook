{
 "cells": [
  {
   "cell_type": "markdown",
   "id": "007a4ffc-b6bd-4473-9afe-68a9d3f42fdd",
   "metadata": {},
   "source": [
    "# Python im Lecture Book\n",
    "\n",
    "```{warning} \n",
    "Dieses *Metrology Lecture Book* befindet sich aktuell im Aufbau und ihr könnt euch noch nicht auf Vollständigkeit verlassen. \n",
    "```\n",
    "\n",
    "Das *Metrology Lecture Book* ist eine Mischung aus Vorlesungsskript, Prakikumshinweisen und Beispielen in Python. Es handelt sich hierbei um ein Jupyter-Book was es ermöglicht `Python`-Code direkt einzubinden.\n",
    "\n",
    "## Vorlesungsinhalte \n",
    "Um dem **Vorlesungsskript** zu folgen sind **keine Python-Kenntnisse erforderlich**. Ihr könnt euch aber den `Code` zu den Berechnungen und Plots anzeigen lassen. Bei diesen Seiten handelt es sich dann um Jupyter-Notebooks, die ihr über den `Colab`-Button am oberen Seitenrand (versteckt unter der *Rakete*) interaktiv im Browser öffnen und ausführen könnt, ohne Python oder Jupyter-Notebooks installieren zu müssen.\n",
    "\n",
    "## Praktikum\n",
    "Für das **Praktikum** müsst ihr [Daten aufnehmen, auswerten und grafisch darstellen](content/1_Datenanalyse). Hierfür könnt ihr ein Programm eurer Wahl nehmen, wie z.B. [Matlab](https://de.mathworks.com/products/matlab.html) (Lizenzen sind über die HSU erhältlich) oder [Python](https://www.python.org), was frei-erhältlich ist und wozu es bereits einige [Tutorials](content/T_Tutorials) im *Lecture Book* in Form von [Jupyter-Notebooks](https://docs.jupyter.org/en/latest/) gibt. "
   ]
  },
  {
   "cell_type": "markdown",
   "id": "c4f2bf3f-835a-4fc2-9465-143f1520e1b6",
   "metadata": {
    "tags": []
   },
   "source": [
    "## Programmieren mit Python\n",
    "\n",
    "Es sind zahlreiche Tutorials und Lernseiten über Python im Internet zu finden, womit ihr Python-Programmierung schnell und einfach lernen könnt. Die wichtigsten Grundbegriffe sind:\n",
    "* **Basics:** Schleifen, Funktionen, Listen, Tuples, Sets, Dictionaries\n",
    "* **Algebra:** [numpy](https://numpy.org), [scipy](https://scipy.org)\n",
    "  * **Fit/Modellanpassungen:** [lmfit](https://pypi.org/project/lmfit/), [scipy](https://scipy.org) (z.B. curve_fit), [numpy](https://numpy.org) (z.B. polyfit)\n",
    "* **Datenverarbeitung:** [pandas](https://pandas.pydata.org) (z.B. DataFrames)\n",
    "* **Datenvisualisierung:** [matplotlib](https://matplotlib.org)\n",
    "\n",
    "In den jeweiligen Tutorials findet ihr aber auch relevante Erklärungen zu den einzelnen Funktionen. \n",
    "\n",
    "Die einfachste Möglichkeit mit der Python Programmierung zu starten ist das ausführen von Jupyter-Notebooks."
   ]
  },
  {
   "cell_type": "markdown",
   "id": "59a1c803-3d64-4855-bd4f-bc48b421e7d5",
   "metadata": {},
   "source": [
    "### Quick introduction to Jupyter Notebook\n",
    "\n",
    "Es gibt verschiedene Möglichkeiten Jupyter-Notebooks auszuführen.\n",
    "\n",
    "* **Ohne Installation im Browser:**\n",
    "    * direkt ausprobieren könnte ihr Jupyter-Lab hier: https://jupyter.org/try-jupyter/lab/. Um einzelne *Zellen* auszuführen macht einen *Doppelklick* in den Abschnitt und führt diesen mit `Shift+Enter` aus.\n",
    "    * direkt ausprobieren könnte ihr Jupyter-Notebooks hier: https://jupyter.org/try-jupyter/retro/notebooks/?path=notebooks/Intro.ipynb. Um einzelne *Zellen* auszuführen macht einen *Doppelklick* in den Abschnitt und führt diesen mit `Shift+Enter` aus.\n",
    "    * die Jupyter-Notebooks auf diesen Seiten könnt ihr in eurem Browser ausführen indem ihr oben auf die Rakete `Colab` anklickt. Diese ist eine weitere interaktive Umgebung, in der das Jupyter-Notebook gestartet wird. \n",
    "\n",
    "* **Installation auf dem Rechner:**\n",
    "    * ich empfehle die Installation von Python über [Anaconda](https://www.anaconda.com/products/distribution)\n",
    "    * außerdem gibt es neuerdings eine Desktop-Version von [Jupyter-Lab](https://pypi.org/project/jupyterlab/), die es erlaubt `.ipynb` Dateien ganz einfach per Doppelklick aus dem Datei-System zu öffnen."
   ]
  },
  {
   "cell_type": "markdown",
   "id": "3490d417-cf35-4bbe-9c8a-4236636cf5c9",
   "metadata": {},
   "source": [
    "<iframe width=\"560\" height=\"315\" src=\"https://www.youtube.com/embed/jZ952vChhuI\" title=\"YouTube video player\" frameborder=\"0\" allow=\"accelerometer; autoplay; clipboard-write; encrypted-media; gyroscope; picture-in-picture\" allowfullscreen></iframe>"
   ]
  }
 ],
 "metadata": {
  "kernelspec": {
   "display_name": "Python 3",
   "language": "python",
   "name": "python3"
  },
  "language_info": {
   "codemirror_mode": {
    "name": "ipython",
    "version": 3
   },
   "file_extension": ".py",
   "mimetype": "text/x-python",
   "name": "python",
   "nbconvert_exporter": "python",
   "pygments_lexer": "ipython3",
   "version": "3.9.12"
  }
 },
 "nbformat": 4,
 "nbformat_minor": 5
}
