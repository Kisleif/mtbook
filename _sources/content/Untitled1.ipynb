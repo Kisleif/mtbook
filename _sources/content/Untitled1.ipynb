{
 "cells": [
  {
   "cell_type": "code",
   "execution_count": 26,
   "id": "f54793ce-88be-4f0d-bf76-9157de59b141",
   "metadata": {},
   "outputs": [
    {
     "name": "stdout",
     "output_type": "stream",
     "text": [
      "1.024390243902439\n",
      "0.03278688524590164\n",
      "-9.756097560975611\n",
      "0.6557377049180327\n"
     ]
    }
   ],
   "source": [
    "R0 = 1e3\n",
    "dR = 100\n",
    "U0 = 10\n",
    "\n",
    "dRT = 0\n",
    "perfekt = (dR+dRT)/(2*R0+dR+dRT)*U0/5 \n",
    "dRT = 2000\n",
    "ohne = (dR+dRT)/(2*R0+dR+dRT)*U0/5\n",
    "mit = (dR)/(2*R0+dR+2*dRT)*U0/5\n",
    "\n",
    "print(ohne)\n",
    "print(mit)\n",
    "\n",
    "print((perfekt-ohne)/perfekt)\n",
    "print((perfekt-mit)/perfekt)"
   ]
  },
  {
   "cell_type": "code",
   "execution_count": 27,
   "id": "2fee3b40-d074-46c6-8b20-63cb6bee03e0",
   "metadata": {},
   "outputs": [
    {
     "name": "stdout",
     "output_type": "stream",
     "text": [
      "0.000594883997620464\n",
      "-2.6874496103198067e-05\n",
      "-22.135633551457467\n",
      "-10.0\n"
     ]
    }
   ],
   "source": [
    "e_ohne = U0/2 * 2 * R0 / (2*R0 + dR + dRT)**2\n",
    "e_mit = - U0/2 * 2 * dR / (2*R0 + dR + 2*dRT)**2\n",
    "print(e_ohne)\n",
    "print(e_mit)\n",
    "print(e_ohne/e_mit)\n",
    "print(-R0/dR)"
   ]
  },
  {
   "cell_type": "code",
   "execution_count": 30,
   "id": "a6bd05e7-cfe3-4fa0-8505-0282528e34f1",
   "metadata": {},
   "outputs": [
    {
     "data": {
      "text/plain": [
       "229.00560024921833"
      ]
     },
     "execution_count": 30,
     "metadata": {},
     "output_type": "execute_result"
    }
   ],
   "source": [
    "import numpy as np\n",
    "20.5e10 * np.pi * (3.1e-2)**3 * 2 * 880e-6 / (16 * 1.31 * 2.01 * 3.5)"
   ]
  },
  {
   "cell_type": "code",
   "execution_count": null,
   "id": "b4b3501e-a715-46fb-b298-7fa42c28e064",
   "metadata": {},
   "outputs": [],
   "source": []
  }
 ],
 "metadata": {
  "kernelspec": {
   "display_name": "Python 3",
   "language": "python",
   "name": "python3"
  },
  "language_info": {
   "codemirror_mode": {
    "name": "ipython",
    "version": 3
   },
   "file_extension": ".py",
   "mimetype": "text/x-python",
   "name": "python",
   "nbconvert_exporter": "python",
   "pygments_lexer": "ipython3",
   "version": "3.9.18"
  }
 },
 "nbformat": 4,
 "nbformat_minor": 5
}
