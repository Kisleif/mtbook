{
 "cells": [
  {
   "cell_type": "markdown",
   "id": "42f64cd6-f10a-4ced-973b-9654433d625c",
   "metadata": {},
   "source": [
    "# Spannungsmesseingang\n",
    "\n",
    "Im Bild ist dargestellt, wie elektrische Spannungen gemessen werden. \n",
    "\n",
    "\n",
    ":::{figure-md} markdown-fig\n",
    "<img src=\"draw/spannungsmesseingang_last.jpg\" alt=\"Spannungsmesseingang\" class=\"bg-primary mb-1\" width=\"400px\">\n",
    "\n",
    "This is a caption in **Markdown**!\n",
    ":::\n",
    "\n",
    "Unsere Betrachtungen gelten zunächst unabhängig davon, ob wir mit Gleichspannung oder Wechselspannung arbeiten. \n",
    "Die vom Motorsteuergerät generierte und an den Motor angelegte Spannung wird parallel an einen Spannungsmesseingang angeschlossen.\n",
    "\n",
    "von außen betrachtet: Spannungsmesseingang elektrisch gesehen als Parallelschaltung eines ohmschen Widerstandes Ri und einer Kapazität Ci gesehen werden. Man spricht hier auch vom elektrischen Ersatzschaltbild eines Spannungsmesseingangs. \n",
    "Ri wird auch als „Innenwiderstand“ bezeichnet. Ri und Ci sind nicht wirklich in dieser Anordnung so aufgebaut, sie resultieren vielmehr aus den elektrischen Eigenschaften der verbauten Bauelemente und werden durch den Hersteller des zugehörigen Messsystems spezifiziert.\n",
    "\n",
    "Ziel: durch den Spannungsmesseingang so gut wie kein Strom fließt, d.h. der Hersteller wird Ri möglichst hoch ausführen. \n",
    "Ri liegt bei qualitativ besseren Spannungsmesseingängen typischerweise bei z.B. 1 MΩ oder 10 MΩ. \n",
    "Für viele Anwendungen ist dies so hoch, dass die daraus resultierenden Messabweichungen vernachlässigbar sind.\n",
    "\n",
    "Ci spielt keine Rolle, sofern Gleichspannungen gemessen werden. \n",
    "recht kleine Kapazität lädt sich sofort nach Anlegen der zu messenden Spannung auf diese auf und hat ab dann keinerlei Einfluss mehr auf die Messung. \n",
    "Erst bei der Messung von Wechselspannungen wird sie relevant. Geht man von einer periodischen Sinusspannung aus, so besitzt sie einen von der Frequenz f abhängigen sog. Wechselstromwiderstand (auch „Blindwiderstand“, „Impedanz“) (hier ausschließlich den Betrag betrachten und deshalb auf das in der Formel zur Darstellung der korrekten Phase mitunter noch aufgeführte Minuszeichen verzichten. \n",
    "Ci wird nur für Wechselspannungsmesseingänge bzw. -bereiche spezifiziert. \n",
    "Etwas höherwertige Messsysteme geben hierbei z.B. 100 pF an, um eine typische Größenordnung zu nennen. \n",
    "Bei einer Frequenz f von 1 kHz ergibt dies einen Wechselstromwiderstand X von ca. 1,59 MΩ, also etwa in der Größenordnung auch von Ri. \n",
    "für Ri gemachte Aussage: hieraus resultieren keine nennenswerten Messabweichungen. \n",
    "wenn wir f erhöhen, z.B. auf 100 kHz:\n",
    "Sofern diese Frequenz überhaupt noch vom Messeingang laut Herstellerangaben unterstützt wird, beträgt X jetzt nur mehr etwa 15,9 kΩ. \n",
    "Deutlicher Stromfluss durch den Messeingang, verbunden mit einem signifikanten Abfall der zu messenden Spannung. E\n",
    "in konkretes Beispiel werden wir gleich betrachten.\n",
    "\n",
    "\n",
    "\n"
   ]
  },
  {
   "cell_type": "code",
   "execution_count": null,
   "id": "84405bf6-7b58-4207-b511-8e888b19b230",
   "metadata": {},
   "outputs": [],
   "source": []
  }
 ],
 "metadata": {
  "kernelspec": {
   "display_name": "Python 3",
   "language": "python",
   "name": "python3"
  },
  "language_info": {
   "codemirror_mode": {
    "name": "ipython",
    "version": 3
   },
   "file_extension": ".py",
   "mimetype": "text/x-python",
   "name": "python",
   "nbconvert_exporter": "python",
   "pygments_lexer": "ipython3",
   "version": "3.9.12"
  }
 },
 "nbformat": 4,
 "nbformat_minor": 5
}
