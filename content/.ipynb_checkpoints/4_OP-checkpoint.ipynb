{
 "cells": [
  {
   "cell_type": "markdown",
   "id": "d0b548a4-10dd-4c71-86f1-d5249a4ab9a2",
   "metadata": {},
   "source": [
    "# Operationsverstärker"
   ]
  },
  {
   "cell_type": "markdown",
   "id": "ff46c660-00b3-4bff-bc2f-b2436d6e2502",
   "metadata": {},
   "source": [
    "# Beispiel Operationsverstärkerschaltungen:"
   ]
  },
  {
   "cell_type": "markdown",
   "id": "9ae0f8bf-ccd9-48a3-b590-2c53c25e7e26",
   "metadata": {},
   "source": [
    "<iframe width=\"560\" height=\"315\" src=\"https://www.youtube.com/embed/wiq93KjXwao\" title=\"YouTube video player\" frameborder=\"0\" allow=\"accelerometer; autoplay; clipboard-write; encrypted-media; gyroscope; picture-in-picture\" allowfullscreen></iframe>"
   ]
  },
  {
   "cell_type": "code",
   "execution_count": null,
   "id": "b9910b33-b50e-40a1-8dd7-d79a400823b7",
   "metadata": {},
   "outputs": [],
   "source": []
  }
 ],
 "metadata": {
  "kernelspec": {
   "display_name": "Python 3",
   "language": "python",
   "name": "python3"
  },
  "language_info": {
   "codemirror_mode": {
    "name": "ipython",
    "version": 3
   },
   "file_extension": ".py",
   "mimetype": "text/x-python",
   "name": "python",
   "nbconvert_exporter": "python",
   "pygments_lexer": "ipython3",
   "version": "3.9.12"
  }
 },
 "nbformat": 4,
 "nbformat_minor": 5
}
