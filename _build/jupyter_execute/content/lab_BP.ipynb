{
 "cells": [
  {
   "cell_type": "markdown",
   "id": "fb76522d-27d6-41f6-bc56-14620c5aa604",
   "metadata": {},
   "source": [
    "# Ballistisches Pendel\n",
    "\n",
    "```{admonition} Download Versuchsanleitung\n",
    ":class:\n",
    "[Hier](https://hsuhhde.sharepoint.com/:b:/r/sites/MesstechnikHT23_mst/Freigegebene%20Dokumente/General/Praktikum/BP.pdf?csf=1&web=1&e=KLhgzP) könnt ihr das PDF zur Versuchsanleitung *Ballistisches Pendel* herunterladen. \n",
    "```\n",
    "\n",
    "![](movies/BP.MOV)"
   ]
  }
 ],
 "metadata": {
  "kernelspec": {
   "display_name": "Python 3",
   "language": "python",
   "name": "python3"
  },
  "language_info": {
   "codemirror_mode": {
    "name": "ipython",
    "version": 3
   },
   "file_extension": ".py",
   "mimetype": "text/x-python",
   "name": "python",
   "nbconvert_exporter": "python",
   "pygments_lexer": "ipython3",
   "version": "3.9.12"
  }
 },
 "nbformat": 4,
 "nbformat_minor": 5
}