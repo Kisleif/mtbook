{
 "cells": [
  {
   "cell_type": "markdown",
   "id": "ab3fc415-2f4f-428a-9c8d-d85ddfb6085f",
   "metadata": {},
   "source": [
    "# Radar\n",
    "\n",
    "Zur Messung von Abständen und relativen Abstandsänderungen eignen sich optische Sensoren, da diese lange Strecken berührungslos vermessen. Hierbei muss es sich nicht zwangsläufig um *optische* Sensoren handeln. Es sind auch andere elektromagnetische Wellen zur Vermessung möglich, deren Wellenlänge nicht im optischen Bereich liegt. Je nach der Frequenz bzw. Wellenlänge der verwendeten elektromagnetischen Welle varriert auch die Umgebung, in der der Sensor benutzt werden kann und seine Empfindlichkeit. \n",
    "\n",
    "Bei der Abstandssmessung mittels Radar können sehr große Messbereiche, also lange Strecken, gemessen werden, die im Bereich zwischen wenigen cm bis hin zu mehreren 100m liegen können.\n",
    "\n",
    ":::{figure-md} radar\n",
    "<img src=\"draw/radar.jpg\" alt=\"radar\"  width=\"600px\" label = radar>\n",
    "\n",
    "Radarsystem, welches mittels Pulslaufzeitanalyse oder Dauerstrichverfahren, auch bekannt unter FMCW (frequency modulation continous wave), die Entfernung und sogar Geschwindigkeit eines Objektes misst. \n",
    ":::\n",
    "\n",
    "## Ultraschallsensoren\n",
    "\n",
    "**Ultraschallsensoren** senden kurze Pulse aus, die an einer Oberfläche reflektiert werden und zum Sensor zurück geworfen werden, wo dann deren Laufzeit gemessen wird. \n",
    "\n",
    "$$t = \\frac{2}{v}\\cdot x$$\n",
    "\n",
    "Das heißt heutige Ultraschallwandler sind gleichzeitig Sender und Empfänger. Bei einem Ultraschallsensor ist $v$ die Schallgeschwindigkeit, welche in Luft in etwa 331,5 m/s beträgt. Benutzt man eine andere Welle, so muss die Geschwindigkeit angepasst werden, genauso wie die Umgebung berücksichtigt werden muss. Je nach Gegebenheit, Luft, Vakuum, Gas, variiert die Geschwindigkeit der Wellen. \n",
    "\n",
    "## Lasersensoren\n",
    "\n",
    "**Lasersensoren** funktionieren nach dem gleichen Prinzip wie Ultraschallsensoren, nur dass hier statt eines Ultraschalls Laserlicht von einer Laserdiode verwenedet wird. Dies wird vorher mit einer Linse gebündelt, damit ein kollimierter Strahl entsteht, der nicht zu sehr auseinander läuft. Die Geschwindigkeit ist nun die der Lichtgeschwindigkeit $c = 299792458\\,\\mathrm{m/s}$ in Vakuum:\n",
    "\n",
    "$$t = \\frac{2}{c}\\cdot x$$\n",
    "\n",
    "Die erhöhte Geschwindigkeit hat Vor- und Nachteile. Einerseits können die Pulse schneller nacheinander ausgesendet werden, da sie auch eher am Empfänger wieder eintreffen. Andererseits werden schnellere Datenverarbeitungssysteme für die Zeitmessung benötigt, die auch nach kurzen Laufzeiten (wenn das zu vermessende Objekt sehr nah am Empfänger ist) die Entfernung noch auflösen können. Andererseits erlauben Lasersensoren eine extrem genaue Abstandsmessung von weit unter 1 Mikrometer. \n",
    "\n",
    "Statt einer Pulslaufzeitmessung werden tatsächlich häufig nicht Pulse, sondern frequenzmodulierte Lasersignale ausgesandt. Hierbei wird die Frequenz des Lichts periodisch verändert. Das empfangene Licht weist eine Phasenverschiebung dieser Frequenzmodulation auf, die nun gemessen wird und Auskunft über die zurück gelegte Strecke gibt. Tatächlich ist diese Phasenverschiebungsmessung technisch einfacher als eine Laufzeitmessung.\n",
    "\n",
    "## Radarsensoren \n",
    "\n",
    "**Radarsensoren** gibt es auch mit den beiden oben erwähnten Laufzeitmessung: Die Pulslaufzeitmessung und die frequenzmodulierte Variante, die man auch **FMCW-Radar** nennt (frequency modulated continous wave). Wie der Name der letzten Variante vermuten lässt, wird hierbei ein kontinuierliches Radarsignal (**Dauerstrichradar**) ausgesendet. Die Frequenz wird sägezahnförmig moduliert. Der Empfänger mischt das einkommende Signal mit dem Signal, was er kurz vorher versendet hatte. Nach einem Tiefpasstfilter wird dann nur noch die entstehende Differenzfrequenz ausgewertet, die proportional von der Laufzeit $t$ abhängt. \n",
    "\n",
    "Ähnlich wie Lasersensoren sind Radarsensoren teurer und aufwendiger, bieten jedoch wieder eine erhöhte Messauflösung. Radarsensoren haben gegenüber Lasersensoren den Vorteil, dass das Licht nicht kollimiert bzw. fokussiert werden muss. Sie senden vielmehr einen Kegel aus, der sich dreidimensional ausbreitet und damit jede Art von Oberfläche zur Reflektion geeignet ist. Bei dem Lasersensor wäre dies nur ein Punkt an dem Messobjekt. Dies führt jedoch auch dazu, dass im Falle von Mehrfachreflektionen aufgrund vieler Objekte innerhalb des Kegels sehr viele Signal zurück zum Sender gelangen was wie Signalverarbeitung komplexer gemacht.\n",
    "\n",
    "### Geschwindigkeitsmessungen\n",
    "\n",
    "Desweiteren können **Geschwindigkeitsmessungen** vorgenommen werden, indem die Dopplerverschiebung des ausgesandten FMCW-Radarsignals analysiert wird. Hierfür mit der einfache Mischer durch einen Überlagerungsempfänger ausgetauscht. Dieser besteht zunächst wieder aus einem Mischer, der das empfangene Signal in ein niedriges Zwischen-Frequenzband runtermischt, $f_\\mathrm{ZF}$ (z.B. 10-100 MHz). Die Sendefrequenz, $f_\\mathrm S$, wir mit einem weiteren Oszillator gemischt, um die Oszillatorfrequenz zu generieren, die zum Abwärtsmischen benötigt wird. Die resultierende Frequenz, $f_\\mathrm S + f_\\mathrm{ZF}$, liegt oberhalb der Signalfrequenz, wobei der Offset genau der Zwischen-Frequenz entspricht. Das Herabsetzen der Empfänger-Frequenz auf MHz-Frequenzen ist notwendig, damit jetzt Bandpassfilter höherer Ordnung einfacher realisiert werden können um den Einfluss von Rauschen zu verringern. Auch die nachfolgenden Verstärkerstufen sind durch das Herabsetzen der Frequenz stabiler, da die Entstehung von Resonanzfrequenzen reduziert wird. \n",
    "Ein dritter Mischer mischt das Doppler-verschobene Echosignal zu einer niedrigeren Frequenz, die innerhalb des Basis-Frequenzbands liegt. \n",
    "\n",
    "Bei der Geschwindigkeitsmessung ist weiterhin zu beachten, dass der Dopplereffekt zwei mal auftritt: auf dem Hin- und Rückweg. Einmal befindet sich der Sender in Ruhe und das Objekt bewegt sich. Wobei auf dem Rückweg das Objekt quasi in Ruhe ist und sich der Empfänger (Signalquelle) bewegt. Die Dopplerfrequenz kann wie folgt berechnet werden:\n",
    "\n",
    "$$f_D \\approx \\frac{2v_r}{\\lambda}$$\n",
    "\n",
    "wobei $v_r$ die Radialgeschwindigkeit des bewegten Objektes ist und $\\lambda$ die Wellenlänge des Sendesignals. Ein mit 5 m/s bewegtes Objekt erzeugt also eine Doppler-Frequenz von 800 Hz (bei einer Wellenlänge von $\\lambda = c/\\nu = 3\\cdot 10^8 \\,\\mathrm{m/s} / 24\\,\\mathrm{GHz} = 0,125\\,\\mathrm m$). Es handelt sich also um eine Frequenz im akustischen Bereich, die einfach auszuwerten ist. \n",
    "\n",
    "### Fehlerquellen und Messabweichungen \n",
    "\n",
    "Fehlerquellen hierbei (deshalb das *ungefähr*-Zeichen in der Gleichung) können dadurch entstehen, wenn sich das Objekt sehr schnell bewegt (in der Regel reicht aber eine Geschwindigkeit deutlich unterhalb der Lichtgeschwindigkeit aus damit diese Messabweichung vernachlässigbar ist) oder wenn sich die Ausbreitungsgeschwindigkeit der ausgesandten elektromagnetischen Welle wänhrend der Messung ändern sollte. Dies passiert z.B. wenn verschiedene Medien mit unterschiedlichen Dichten der Luft oder Atmosphäre passiert werden. Eine weitere Messabweichung bei der Gescdwindigkeitsmessung tritt auf, wenn die Messung der Geschwindigkeit nicht in Bewegungsrichtung des Objektes erfolgt, da sich dann die gemessene *Radial*geschwindigkeit von der *echten* Geschwindigkeit des Objektes unterscheidet. Daher werden bei der Geschwindigkeitsüberwachung im Straßenverkehr die Geräte in einem bestimmten winkel (20°-22°) schräg zur Fahrbahn eingestellt und die entsprechende Fahrgeschwindigkeit der Autos berechnet:\n",
    "\n",
    "$$v = \\frac{v_r}{\\cos(\\Theta)} = \\frac{v_r}{\\cos(20^\\circ)} \\approx 1,06\\cdot v_r$$\n",
    "\n",
    "Hieran erkennt man auch schon die Messabweichung, die 6% betragen würde, würde der Winkel nicht miteinbezogen werden. \n",
    "\n",
    "## Triangulation \n",
    "\n",
    "Die Triangulation wird häufig zur Abstandsmessung in der Geodäsie (Erdvermessung) verwendet. Dies ist ein geometrisches Verfahren, was mithilfe einem Laser Abstände über einen Reflektionswinkel bestimmt. Ein Laserstrahl wird zunächst wieder mittels Linse kollimiert und auf die zu messende Fläche ausgerichtet. Diese Fläche reflektiert den Laserstrahl, welcher vom Sensor über eine zweite Linse wieder eingesammelt wird. Sollte die Fläche von Natur her nicht reflektieren, muss sie mittels Klebefolien oder Oberflächenbearbeitung entsprechend vorbereitet werden. Je nachdem wie groß der Abstand zum Messobjekt ist, ändert sich die Position des einkommenden Signal auf dem Detektor. Durch geometrische Beziehungen und ggf. der Hinzunahme des Reflektionswinkels kann der Abstand bestimmt werden. Sender und Empfänger müssen hierbei nicht immer räumlich getrennt sein. "
   ]
  },
  {
   "cell_type": "code",
   "execution_count": null,
   "id": "e7cf8857-d40f-4739-9e18-b8ca27d28db2",
   "metadata": {},
   "outputs": [],
   "source": []
  }
 ],
 "metadata": {
  "kernelspec": {
   "display_name": "Python 3",
   "language": "python",
   "name": "python3"
  },
  "language_info": {
   "codemirror_mode": {
    "name": "ipython",
    "version": 3
   },
   "file_extension": ".py",
   "mimetype": "text/x-python",
   "name": "python",
   "nbconvert_exporter": "python",
   "pygments_lexer": "ipython3",
   "version": "3.9.12"
  }
 },
 "nbformat": 4,
 "nbformat_minor": 5
}