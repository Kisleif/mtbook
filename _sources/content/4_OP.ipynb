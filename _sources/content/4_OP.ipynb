{
 "cells": [
  {
   "cell_type": "markdown",
   "id": "d0b548a4-10dd-4c71-86f1-d5249a4ab9a2",
   "metadata": {},
   "source": [
    "# Operationsverstärker"
   ]
  }
 ],
 "metadata": {
  "kernelspec": {
   "display_name": "Python 3",
   "language": "python",
   "name": "python3"
  },
  "language_info": {
   "codemirror_mode": {
    "name": "ipython",
    "version": 3
   },
   "file_extension": ".py",
   "mimetype": "text/x-python",
   "name": "python",
   "nbconvert_exporter": "python",
   "pygments_lexer": "ipython3",
   "version": "3.9.12"
  }
 },
 "nbformat": 4,
 "nbformat_minor": 5
}
