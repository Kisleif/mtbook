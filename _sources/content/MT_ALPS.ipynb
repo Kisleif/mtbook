{
 "cells": [
  {
   "cell_type": "markdown",
   "id": "55b6f81a-6e34-46f5-bc1f-b06411be5ef9",
   "metadata": {},
   "source": [
    "# Messtechnik für die Dunkle Materie Suche\n",
    "\n",
    "## Einleitung\n",
    "Das Geheimnis der Dunklen Materie ist eine der größten Herausforderungen in der Astrophysik. Ihre Existenz wird postuliert, um Phänomene wie die unerwartet hohen Rotationsgeschwindigkeiten von Galaxien zu erklären, die nicht allein durch sichtbare Materie erklärbar sind. Ein weiteres Indiz für Dunkle Materie ist die auffällige Transparenz des Universums für Strahlung. Eine Theorie besagt, dass Strahlung sich auf ihrem Weg durch das Universum in Dunkle Materie umwandeln könnte, die nur mit Gravitation interagiert. Axionen oder Axion-ähnliche Teilchen, die schwach mit Magnetfeldern wechselwirken, könnten solche Prozesse ermöglichen.\n",
    "\n",
    "## [ALPS II Experiment](https://alps.desy.de)\n",
    "\n",
    "\n",
    "::::::{margin}\n",
    ":::::{grid}\n",
    "::::{grid-item-card}\n",
    ":class-header: bg-light\n",
    "Das ALPS-Experiment und die Dunkle Materie | DESY\n",
    "\n",
    "<iframe width=\"200\" height=\"113\" src=\"https://www.youtube.com/embed/ZoIvMfwraY4?si=LkaUoVcWO7ZF6nf6\" title=\"YouTube video player\" frameborder=\"0\" allow=\"accelerometer; autoplay; clipboard-write; encrypted-media; gyroscope; picture-in-picture; web-share\" allowfullscreen></iframe>\n",
    "::::\n",
    ":::::\n",
    "::::::\n",
    "\n",
    "Das [ALPS II Experiment am DESY](https://alps.desy.de) verfolgt das Ziel, diese Teilchen zu erzeugen und nachzuweisen. ALPS II, kurz für \"Any Light Particle Search II\", nutzt den oben beschriebenen Effekt im Labor:\n",
    "\n",
    ":::{figure-md} ALPS\n",
    "<img src=\"draw/sketchnotes-105.jpg\" alt=\"ALPS\" class=\"bg-primary mb-1\" width=\"700px\" label = ALPS>\n",
    "\n",
    "Skizze des ALPS II Experiments am DESY.\n",
    ":::\n",
    "\n",
    "1. Wir beginnen mit einem Hochleistungslaser, um eine große Menge an Photonen zu erzeugen.\n",
    "2. Diese Photonen werden in einem Magnetfeld gehalten, um die Umwandlungswahrscheinlichkeit in Axionen zu steigern.\n",
    "3. Der Strahl aus Photonen und Axionen wird auf eine Wand gerichtet, die nur von Axionen durchdrungen werden kann – ein Konzept, bekannt als **Light-Shining-Through-A-Wall**.\n",
    "4. Da Axionen nicht direkt beobachtbar sind, werden sie in einem zweiten Magnetfeld zurück in Photonen umgewandelt.\n",
    "5. Wenn Axion-ähnliche Teilchen existieren, erwarten wir die Detektion einzelner Photonen mit der Wellenlänge des ursprünglichen Lasers im zweiten Magnetfeld.\n",
    "\n",
    "Falls keine Photonen detektiert werden, könnte dies bedeuten, dass keine Axionen erzeugt wurden oder die Umwandlungswahrscheinlichkeit geringer ist als vermutet. ALPS II strebt eine Empfindlichkeitssteigerung um den Faktor 10.000 im Vergleich zu ALPS I an.\n",
    "\n",
    "Andere Experimente wie BabyIAXO oder Madmax suchen nach Axionen aus dem Weltall, die nur einmal in Photonen umgewandelt werden müssen. Im Gegensatz dazu erzeugt ALPS II Axionen im Labor, unabhängig von kosmologischen Annahmen über ihre Entstehung.\n",
    "\n",
    "## Signalstärke\n",
    "\n",
    "Die Signalstärke hängt von mehreren Faktoren ab. Bei ALPS II generieren wir Axionen aus einer großen Anzahl von Photonen. Ein Laserstrahl mit einer Wellenlänge von $ \\lambda = 1064\\,\\mathrm{nm} $ und einer Leistung von $ P = 30\\,\\mathrm{W} $ erzeugt nahezu $10^{20} $ Photonen pro Sekunde:\n",
    "\n",
    "$$N_i = \\frac{P}{E}  = \\frac{30\\,\\mathrm W}{1{,}87\\,\\mathrm J} =  10^{20}\\frac{1}{\\mathrm s}$$"
   ]
  },
  {
   "cell_type": "code",
   "execution_count": 21,
   "id": "fa1b0d66-da15-475c-9219-df2eae2b2442",
   "metadata": {
    "tags": [
     "hide-input"
    ]
   },
   "outputs": [
    {
     "name": "stdout",
     "output_type": "stream",
     "text": [
      "Anzahl der Photonen: 1.6069070206346232e+20\n"
     ]
    }
   ],
   "source": [
    "import numpy as np\n",
    "\n",
    "# Konstanten\n",
    "λ = 1064e-9 # Wellenlänge des Lichts\n",
    "c = 299792458 # Lichtgeschwindigkeit\n",
    "h = 6.626e-34 # Planck\n",
    "E = h * c / λ # Energie eines Photons\n",
    "P_PC = 30     # Optische Leistung in der Production Cavity\n",
    "N_γ = P_PC/E # Anzahl der Photonen in der Production Cavity \n",
    "print(f\"Anzahl der Photonen vom Laser: {N_γ}\")"
   ]
  },
  {
   "cell_type": "markdown",
   "id": "b365c264-fa8c-4038-bba4-f82baa75081a",
   "metadata": {},
   "source": [
    "Ganz schön viel? Leider nein, denn die Kopplung zwischen Licht und Magnetfeldern ist äußerst schwach und beträgt lediglich $g_{a\\gamma\\gamma} = 2\\cdot 10^{-11}/\\mathrm{GeV}$. Dies ist der Wert, den wir derzeit annehmen. Der Faktor $g_{a\\gamma\\gamma}$ hat die Einheit pro GeV, was bedeutet, dass die Kopplung auch von der Energie (in GeV) der Teilchen abhängt. Diesen Faktor können wir jedoch mit der Stärke des Magnetfeldes $B$ und der Länge $L$ des Feldes skalieren. Je stärker und länger das Feld, desto höher ist die Wahrscheinlichkeit einer Teilchenumwandlung. Am Ende des Experiments erwarten wir folgende Anzahl von Lichtteilchen, die zwischenzeitlich Axionen waren:\n",
    "\n",
    "$$N_{\\gamma}  = \\frac{1}{16}(g_\\mathrm{a\\gamma\\gamma}BL)^4\\cdot P\\cdot \\tau = \\frac{1}{16}(2 \\cdot 10^{-11}/\\mathrm{GeV} \\cdot 5\\,\\mathrm T \\cdot 106\\,\\mathrm m)^4\\cdot 30\\,\\mathrm W \\cdot \\tau =  1\\,\\textrm{Photon alle 700000 Jahre}$$\n",
    "\n",
    "Unglücklicherweise geht der Faktor quadratisch in die Rechnung ein und aufgrund der zweimaligen Umwandlung steigt er am Ende mit $^4$ an. Der Parameter $\\tau$ entspricht der Zeit. Das heißt, je länger man wartet, desto mehr Teilchen sollten sich umgewandelt haben. Ohne zusätzliche Tricks und bei einer Leistung von $P = 30\\,\\mathrm W$ und einem Magnetfeld von $B = 5\\,\\mathrm T$ mit einer Länge von $L = 106\\,\\mathrm m$ erwarten wir 1 Lichtteilchen alle 700000 Jahre...\n",
    "\n",
    "Die Signalstärke kann erhöht werden, indem wir die Lichtteilchen des Hochleistungslasers dazu zwingen, möglichst lange im Magnetfeld zu bleiben. Hochreflektierende Spiegel, sogenannte *optische Resonatoren*, sorgen für eine Verstärkung innerhalb der Magnetfeldlänge. Diese kommen auch in Gravitationswellendetektoren zum Einsatz, um die Empfindlichkeit von Laserinterferometern zu erhöhen. Mit Resonatoren auf beiden Seiten der *Wand* können durchschnittlich Verbesserungen von 5000-10000 pro Resonator erreicht werden:\n",
    "\n",
    "$$N_{\\gamma }  = \\frac{1}{16}(g_\\mathrm{a\\gamma\\gamma}BL)^4\\cdot P \\beta_\\mathrm{1}\\cdot \\beta_\\mathrm{2} \\cdot \\tau = \\frac{1}{16}(2 \\cdot 10^{-11}/\\mathrm{GeV} \\cdot 5\\,\\mathrm T \\cdot 106\\,\\mathrm m)^4\\cdot 30\\,\\mathrm W \\cdot 10000 \\cdot 10000 = 1\\,\\textrm{Photon pro Tag}$$\n",
    "\n",
    "Dadurch können wir das Signal auf 1 Photon pro Tag, was immernoch extrem schwach ist. "
   ]
  },
  {
   "cell_type": "code",
   "execution_count": 25,
   "id": "2793117e-3ced-4dd1-9e2d-aa511dea1341",
   "metadata": {
    "tags": [
     "hide-input"
    ]
   },
   "outputs": [
    {
     "name": "stdout",
     "output_type": "stream",
     "text": [
      "Anzahl der Photonen pro Tag: 1.0954888688232658\n"
     ]
    }
   ],
   "source": [
    "import numpy as np\n",
    "\n",
    "# Konstanten\n",
    "λ = 1064e-9 # Wellenlänge des Lichts\n",
    "c = 299792458 # Lichtgeschwindigkeit\n",
    "h = 6.626e-34 # Planck\n",
    "E = h * c / λ # Energie eines Photons\n",
    "g_aγγ = 2e-11  # Kopplungskonstante\n",
    "B = 5        # Magnetfeldstärke in Tesla\n",
    "L = 106        # Magnetfeldlänge in Metern\n",
    "eta = 1      # Modenüberlapp\n",
    "beta_1 = 10000  # Power build-up in der Regeneration Cavity\n",
    "P_PC = 30     # Optische Leistung \n",
    "beta_2 = 10000  # Power build-up in der Regeneration Cavity\n",
    "N_i = P_PC/E # Anzahl der Photonen in der Production Cavity \n",
    "tau = 3600*24      # Beobachtungszeit in Sekunden\n",
    "\n",
    "# Berechnung der Photonenanzahl\n",
    "N_γ = (1/16) * (g_aγγ * B * L)**4 * eta * beta_1 *beta_2 * N_i * tau\n",
    "print(f\"Anzahl der Photonen pro Tag im ALPS II Experiment: {N_γ}\")\n"
   ]
  },
  {
   "cell_type": "markdown",
   "id": "b5cd47d9-d8a1-4824-85f3-572a910f6094",
   "metadata": {},
   "source": [
    "## Detektion von einzelnen Photonen\n",
    "\n",
    "Selbst ein Photon pro Tag erfordert hochspezialisierte Detektoren, da wir es hier mit einzelnen Quanten zu tun haben. Am DESY werden aktuell zwei Detektorsysteme untersucht, die beide in der Lage sind, einzelne Photonen täglich zu detektieren.\n",
    "\n",
    "### Laserinterferometer\n",
    "Aktuell wird ein sogenanntes kohärentes Detektionsschema verwendet, was auf einem *heterodynen* Laserinterferometer basiert. Hier wird nach Lichtteilchen einer ganz bestimmten Wellenlänge (Frequenz) gesucht, die genau die richtige *Schwebungsfrequenz* im Laserinterferometer erzeugen. Diese Art von Laserinterferometer soll auch in Gravitationswellendetektoren im Weltraum verwendet werden. \n",
    "Die genaue Kenntnis der Laserfrequenz ist hierfür notwendig und wird mittels aufwendigen Regelschleifen kontrolliert. Diese Regelschleifen sorgen dafür, dass ein Laser immer die exakte Frequenz an alle Sub-Systeme liefert, d.h. er ist die *Referenz* für alle Messungen. Sollte nun ein Lichtteilchen aus einem Axion-Teilchen entstehen, so kennen wir Eingangsfrequenz enorm präzise und suchen nach genau dieser Frequenz auch am Ausgang des Experimentes. Alle anderen Frequenzen interessieren uns nicht, bzw. wir wissen, dass diese nicht das Signal beinhalten. Dadurch können wir beispielsweise weitere Laserfrequenzen benutzen um die *optischen Resonatoren* zu stabilisieren (der Abstand von zwei Spiegeln, die einen Resonator bilden, muss immer genau einem Vielfachen der Wellenlänge des Lichts entsprechen). Indem wir die Frequenz am Detektor identifizieren, können wir dieses Licht von dem Signallicht (Axion-Licht) sehr gut unterscheiden. \n",
    "\n",
    ":::{figure-md} het\n",
    "<img src=\"draw/het.png\" alt=\"het\" class=\"bg-primary mb-1\" width=\"800px\" label = het>\n",
    "\n",
    "Arbeitsprinzip eines heterodynen Laserinterferometers zur Messung schwacher Lichtsignale.\n",
    ":::\n",
    "\n",
    "Fehlt Axion-Licht am Detektor, wird keine Schwebungsfrequenz generiert und man misst lediglich die konstante Leistung des Referenzlasers. Diese fluktuiert leicht, was als Schrotrauschen bekannt ist. Schrotrauschen ist *zufälliges* Rauschen, was sich über lange Messzeiten wegmittelt. Das Rauschlevel geht also mit der Zeit runter! Tritt jedoch ein Axion-Lichtteilchen auf, erscheint plötzlich ein Signal bei einer bestimmten Frequenz. Dieses Signal ist kohärent und oszilliert bei der exakt richtigen Frequenz. Kohärente Signale mitteln sich über die Zeit nicht weg, sondern bleiben konstant. Während also ohne Signal das Rauschen abnimmt, zeigt sich bei einem Signal ein konstantes Plateau. Die Höhe dieses Plateaus verrät die Anzahl der erzeugten Photonen. Bei sehr wenigen Photonen ist eine lange Messdauer erforderlich, um das Plateau zu erkennen."
   ]
  },
  {
   "cell_type": "markdown",
   "id": "93f414b1-8a1e-4e74-a006-d8266094ea45",
   "metadata": {},
   "source": [
    "### Phasenübergangsthermometer\n",
    "Als zweiten Detektor erforschen wir den *Transition Edge Sensor* (Phasenübergangsthermometer). Im Prinzip handelt es sich hierbei um ein extrem empfindliches Thermometer, was seinen Widerstand ($R + \\Delta R$) bei Temperaturänderungen ($\\Delta T$) ändert. Um hohe Empfindlichkeiten für kleinste Temperaturänderungen zu erreichen, nutzen wir den Effekt der Supraleitung. Im supraleitenden Zustand verschwindet der Widerstand eines Materials (wir benutzen Wolfram) fast vollständig ($R = 0\\,\\Omega$). Betrieben wird das Material an seiner *kritischen Temperatur*, dem Übergang zwischen normalleitendem und supraleitendem Zustand. Die Kennlinie eines solchen Thermometers zeigt, dass die kritische Temperatur sehr niedrig sein kann, hier $100\\,\\mathrm{mK}$. Das Thermometer muss daher mittels Helium-Kryostaten nahezu auf den absoluten Nullpunkt ($100\\,\\mathrm{mK}$) gekühlt werden, um den supraleitenden Zustand zu erreichen."
   ]
  },
  {
   "cell_type": "code",
   "execution_count": 153,
   "id": "f533ee4c-e464-4d47-82e3-8432b2e49277",
   "metadata": {
    "tags": [
     "hide-input"
    ]
   },
   "outputs": [
    {
     "data": {
      "image/png": "[encoded data removed]",
      "text/plain": [
       "<Figure size 550x400 with 1 Axes>"
      ]
     },
     "metadata": {},
     "output_type": "display_data"
    }
   ],
   "source": [
    "import numpy as np\n",
    "import matplotlib.pyplot as plt\n",
    "import matplotlib.patches as patches\n",
    "\n",
    "# MatplotLib Settings:\n",
    "plt.style.use('default')  # Matplotlib Style wählen\n",
    "plt.rcParams['font.size'] = 10  # Schriftgröße\n",
    "fig, ax = plt.subplots(figsize=(5.5, 4))\n",
    "\n",
    "#--------- Transition Edge Sensor -------------\n",
    "T = np.linspace(94, 106, num=50)\n",
    "def R(T):\n",
    "    k = 1.86  # in 1/mK\n",
    "    a = 0.01  # in Ohm\n",
    "    Tk = 100  # in mK\n",
    "    return a / (1 + np.exp(-k * (T - Tk)))\n",
    "\n",
    "# Plot\n",
    "plt.plot(T, R(T) * 1000, color='tab:blue')\n",
    "plt.xlabel('Temperatur T/mK')\n",
    "plt.ylabel(r'Widerstand R/m$\\Omega$')\n",
    "plt.ylim([-1,11])\n",
    "plt.xlim([94,106])\n",
    "plt.title('Kennlinie eines \"Transition Edge Sensors\"')\n",
    "\n",
    "# Scatter points\n",
    "point1 = (100, R(100) * 1000)\n",
    "point2 = (101, R(101) * 1000)\n",
    "plt.scatter(*point1, color='tab:red', lw=5)\n",
    "#plt.scatter(*point2, color='tab:red', lw=5, alpha=0.5)\n",
    "\n",
    "# Draw arrow along the curve\n",
    "t_values = np.linspace(100, 101, num=10)\n",
    "r_values = R(t_values) * 1000\n",
    "mid_point = len(t_values) // 4\n",
    "plt.annotate('', xy=(t_values[mid_point], r_values[mid_point]), xytext=point1,\n",
    "             arrowprops=dict(arrowstyle='->', color='tab:red', lw=2))\n",
    "\n",
    "# Highlight supraleitender Bereich\n",
    "#plt.fill_between(T, 0, -1, color='gray', alpha=0.2)\n",
    "plt.axvspan(98.5, 101.5, color='gray', alpha=0.2)\n",
    "plt.axvspan(100, 100.2, ymin = 0.0, ymax = 0.58, color='tab:red', alpha=0.2)\n",
    "plt.axhspan(R(100) * 1000, R(100.2) * 1000, xmin=0.0, xmax=0.52, color='tab:red', alpha=0.2)\n",
    "\n",
    "plt.annotate('Phasenübergang', xy=(98.5,10))\n",
    "plt.annotate(r'Temperaturänderung $\\Delta T$', xy=(100.3,2), color = 'tab:red')\n",
    "plt.annotate(r'Widerstandsänderung $\\Delta R$', xy=(94.5,5.25), color = 'tab:red')\n",
    "\n",
    "plt.tight_layout()\n",
    "plt.show()\n"
   ]
  },
  {
   "cell_type": "markdown",
   "id": "d9d5d120-093d-4b3d-b119-28b6703bc790",
   "metadata": {},
   "source": [
    "Das Thermometer wird präzise auf den Übergangspunkt zwischen normalleitendem und supraleitendem Zustand eingestellt. Wenn nun kleinste Energiemengen $E$, beispielsweise in Form eines einzelnen Photons, absorbiert werden und dadurch eine geringfügige Temperaturerhöhung ($\\Delta T$) verursacht wird, ändert sich der Widerstandswert ($\\Delta R$) abrupt. Dies ermöglicht die Messung von Temperaturen im Mikrokelvin-Bereich.\n",
    "Die Widerstandsänderung verursacht einen Strompuls im System, der mittels supraleitender Elektronik (SQUID: superconducting interference device) in einen Spannungspuls umgewandelt wird. Hierbei wird eine Spule benutzt, die aufgrund der Stromstärkeänderung ein Magnetfeld generiert. Dieses Magnetfeld wird an eine weitere Spule gekoppelt, in der eine Spannung induziert wird. Dies ist im Prinzip ein superempfindliches Magnetometer, ein Messgerät um Magnetfelder zu messen. \n",
    "\n",
    ":::{figure-md} TES\n",
    "<img src=\"draw/TES.png\" alt=\"TES\" class=\"bg-primary mb-1\" width=\"400px\" label = TES>\n",
    "\n",
    "Arbeitsprinzip eines supraleitenden Thermometers zur Detektion einzelner Photonen.\n",
    ":::\n",
    "\n",
    "Im ALPS II Experiment müssen wir Photonen mit einer Wellenlänge von $ \\lambda = 1064\\,\\mathrm{nm} $ messen, was einer Energie von lediglich\n",
    "\n",
    "$$E = \\frac{hc}{\\lambda} = \\frac{6{,}626\\cdot 10^{-34}\\,\\mathrm{Js} \\cdot 299792458\\,\\mathrm{m/s}}{1064\\cdot 10^{-9}\\,\\mathrm m} = 1{,}9\\,\\mathrm{eV}$$\n",
    "\n",
    "entspricht."
   ]
  },
  {
   "cell_type": "markdown",
   "id": "349ec10e-6df4-4501-8ff3-16a58b6f6958",
   "metadata": {},
   "source": [
    "Diese Energie ist ausreichend, um in einem Wolfram-Absorber eine Temperaturdifferenz von einigen $100\\,\\mu\\mathrm{K}$ zu erzeugen. Ein Photon mit kürzerer Wellenlänge, etwa $\\lambda = 532\\,\\mathrm{nm} $ (grünes Licht), hätte eine deutlich höhere Energie, was zu einem stärkeren Anstieg von Temperatur und Widerstand im Thermometer führen würde. Somit ermöglicht dieser Detektor die Unterscheidung von Photonen unterschiedlicher Energie, Frequenz oder Wellenlänge.\n",
    "Die Pulse im Messsystem, verursacht durch einzelne Photonen sind in der folgenden Abbildung dargestellt:"
   ]
  },
  {
   "cell_type": "code",
   "execution_count": 176,
   "id": "d2e4b053-7bd9-483f-bf4c-15491ddade99",
   "metadata": {
    "tags": [
     "hide-input"
    ]
   },
   "outputs": [
    {
     "ename": "AttributeError",
     "evalue": "module 'matplotlib.pyplot' has no attribute 'adjust'",
     "output_type": "error",
     "traceback": [
      "\u001b[0;31m---------------------------------------------------------------------------\u001b[0m",
      "\u001b[0;31mAttributeError\u001b[0m                            Traceback (most recent call last)",
      "Cell \u001b[0;32mIn[176], line 41\u001b[0m\n\u001b[1;32m     39\u001b[0m \u001b[38;5;66;03m# Display the animation\u001b[39;00m\n\u001b[1;32m     40\u001b[0m plt\u001b[38;5;241m.\u001b[39mtight_layout()\n\u001b[0;32m---> 41\u001b[0m \u001b[43mplt\u001b[49m\u001b[38;5;241;43m.\u001b[39;49m\u001b[43madjust\u001b[49m(wspace\u001b[38;5;241m=\u001b[39m\u001b[38;5;241m0.3\u001b[39m)\n\u001b[1;32m     42\u001b[0m \u001b[38;5;66;03m#plt.subplots_adjust(top=0.85)\u001b[39;00m\n\u001b[1;32m     43\u001b[0m plt\u001b[38;5;241m.\u001b[39mclose()\n",
      "\u001b[0;31mAttributeError\u001b[0m: module 'matplotlib.pyplot' has no attribute 'adjust'"
     ]
    },
    {
     "data": {
      "image/png": "[encoded data removed]",
      "text/plain": [
       "<Figure size 500x300 with 1 Axes>"
      ]
     },
     "metadata": {},
     "output_type": "display_data"
    }
   ],
   "source": [
    "import numpy as np\n",
    "import matplotlib.pyplot as plt\n",
    "from matplotlib.animation import FuncAnimation\n",
    "from IPython.display import HTML\n",
    "plt.rcParams['font.size'] = 13; # Schriftgröße\n",
    "\n",
    "\n",
    "fig, ax = plt.subplots(figsize=(5, 3))\n",
    "\n",
    "t = np.linspace(0, 1e-4, num=10000)\n",
    "\n",
    "k = 1e-5\n",
    "def animate(a_in):\n",
    "    ax.clear()\n",
    "    a = a_in * 1e-3\n",
    "    t_0 = 0.2e-4\n",
    "    tau_minus = 4.92e-6\n",
    "    tau_plus = 0.34e-6\n",
    "    pulse = k - ((2*a) / (np.exp((t-t_0)/tau_minus) + np.exp(-(t-t_0)/tau_plus)))\n",
    "    #t_0 = 0.4e-4\n",
    "    #pulse2 = k - ((4*a) / (np.exp((t-t_0)/tau_minus) + np.exp(-(t-t_0)/tau_plus)))\n",
    "\n",
    "    ax.plot(t*1000,pulse*1000, color = 'tab:red')\n",
    "    #plt.plot(t*1000,pulse2*1000, label ='Photon, 532nm', color  = 'tab:green')\n",
    "    # Füllen der Fläche unter den Kurven\n",
    "    ax.fill_between(t*1000, pulse*1000, color='tab:red', alpha=0.3)\n",
    "    #plt.fill_between(t*1000, pulse2*1000, color='tab:green', alpha=0.3)\n",
    "\n",
    "    ax.set_xlabel('Zeit (ms)')\n",
    "    ax.set_ylabel('Spannung (mV)')\n",
    "#    plt.legend()\n",
    "    ax.set_xlim([0,0.1])\n",
    "    ax.set_ylim([-15,0.1])\n",
    "\n",
    "\n",
    "# Create an animation by varying fs from 1 to 10 with a step of 1\n",
    "ani = FuncAnimation(fig, animate, frames=range(1, 10), repeat=False)\n",
    "\n",
    "# Display the animation\n",
    "plt.tight_layout()\n",
    "plt.adjust(wspace=0.3)\n",
    "#plt.subplots_adjust(top=0.85)\n",
    "plt.close()\n",
    "HTML(ani.to_jshtml())"
   ]
  },
  {
   "cell_type": "markdown",
   "id": "34ab1e25-1ed8-4735-82e7-be9fada57b34",
   "metadata": {},
   "source": [
    "Das Photon mit einer längeren Wellenlänge und daher kleineren Energie zeigt einen kleineren Ausschlag. Ein grünes Photon mit höherer Energie kommt kurze Zeit später in dem Detektor an und erzeugt einen deutlich stärken Puls. Die Fläche unter der Kurve entspricht der Energie, die vom Sensor absorbiert wurde. Man erkennt außerdem, dass das System sehr schnell die Energie absorbiert. Um bereit für den nächsten Puls zu sein, wird das System über eine Rückkopplung an ein thermisches Kältebad gekoppelt. Man sieht, dass diese Rückkopplung einige Zeit benötigt, da der Puls nur langsam abfällt. In diesen simulierten Pulsen habe wir eine Anstiegszeit von $0{,}34\\,\\mathrm{\\mu s}$ und eine Abfallszeit von $5\\,\\mathrm{\\mu s}$ angenommen. "
   ]
  },
  {
   "cell_type": "markdown",
   "id": "9d739f84-68b6-46a2-a3bb-a6aca7ae2140",
   "metadata": {},
   "source": [
    "### Vergleich der beiden Detektoren\n",
    "\n",
    "Das Phasenübergangsthermometer bietet eine geringere Auflösung als das heterodyne Detektionssystem. Mit dem Thermometer können wir Photonen unterscheiden, die eine Energiedifferenz von 5-10% aufweisen. Das heterodyne System hingegen erreicht eine deutlich höhere Energieauflösung durch seine *schmalbandige* Eigenschaft. Schon geringfügige Abweichungen von der Ziel-*Schwebungsfrequenz* führen dazu, dass der Detektor das Photon nicht erkennt. Beispielsweise würde ein Signal bei 2,4 Hz erkannt, aber bereits bei 2,4003 Hz nicht mehr, was einer Auflösung von besser als 0,01% entspricht. Dies macht den Detektor auch weniger anfällig für Rauschen, da Hintergrundrauschen und Streulicht, etwa durch Schwarzkörperstrahlung, ignoriert werden. Allerdings kann das heterodyne System nur Photonen-Raten messen (also Photonen pro Zeit) und nicht einzelne Photonen auflösen. Das ist nur mit dem Transition Edge Sensor möglich."
   ]
  },
  {
   "cell_type": "markdown",
   "id": "dbdb3e59-14b1-4519-ad5e-b39cb7dca595",
   "metadata": {},
   "source": [
    "## "
   ]
  }
 ],
 "metadata": {
  "kernelspec": {
   "display_name": "Python 3",
   "language": "python",
   "name": "python3"
  },
  "language_info": {
   "codemirror_mode": {
    "name": "ipython",
    "version": 3
   },
   "file_extension": ".py",
   "mimetype": "text/x-python",
   "name": "python",
   "nbconvert_exporter": "python",
   "pygments_lexer": "ipython3",
   "version": "3.9.18"
  }
 },
 "nbformat": 4,
 "nbformat_minor": 5
}
