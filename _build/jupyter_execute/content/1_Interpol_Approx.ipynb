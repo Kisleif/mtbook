{
 "cells": [
  {
   "cell_type": "markdown",
   "id": "6b7075ee-22a1-4638-851a-6053ff0753fe",
   "metadata": {},
   "source": [
    "# Interpolation vs. Anpassung\n",
    "\n",
    "Man unterscheidet allgemein zwischen Interpolation und Anpassung/Approximation/Regression:\n",
    "\n",
    "* **Regression**: Untersuchung der *Korrelation* von Datenpunkten ohne Messfehler mit angenommenem Zusammenhang\n",
    "* **Fit/Anpassung**: wie die Regression, allerdings unter Berücksichtigung von Messfehlern. \n",
    "* **Interpolation**: Hierbei handelt es sich nicht um eine Regression bzw. Approximation. Anstelle eines funktionalen Zusammenhangs, der an die Messwerte angenähert wird, verwendet man Polynome hohen Grades, um eine analytische Kennlinie zu beschreiben, die *exakt* durch alle Messpunkte geht. Für eine große Anzahl von Messwerten wird die Interpolationsfunktion sehr schnell unhandlich. "
   ]
  },
  {
   "cell_type": "code",
   "execution_count": 1,
   "id": "2bde9221-ac4c-4cb1-83ac-0040975a2a23",
   "metadata": {
    "tags": [
     "hide-input"
    ]
   },
   "outputs": [
    {
     "data": {
      "image/png": "[encoded data removed]",
      "text/plain": [
       "<Figure size 600x300 with 2 Axes>"
      ]
     },
     "metadata": {
      "filenames": {
       "image/png": "/Users/KSIsleif/DESY_cloud/github/mtbook/_build/jupyter_execute/content/1_Interpol_Approx_1_0.png"
      }
     },
     "output_type": "display_data"
    }
   ],
   "source": [
    "import numpy as np\n",
    "import matplotlib.pyplot as plt\n",
    "from scipy.optimize import curve_fit\n",
    "from scipy import interpolate\n",
    "\n",
    "# MatplotLib Settings:\n",
    "plt.style.use('default') # Matplotlib Style wählen\n",
    "plt.figure(figsize=(6,3)) # Plot-Größe\n",
    "#plt.xkcd()\n",
    "plt.rcParams['font.size'] = 10; # Schriftgröße\n",
    "\n",
    "# INTERPOLATION:\n",
    "plt.subplot(1,2,1)\n",
    "x = np.arange(10, 200, 40)\n",
    "y = np.sqrt(x)\n",
    "plt.plot(x,y,'o', color='tab:gray')\n",
    "\n",
    "tck = interpolate.splrep(x, y, s=0)\n",
    "yfit = interpolate.splev(x, tck, der=0)\n",
    "\n",
    "plt.plot(x,yfit, zorder=0, color = 'tab:blue')\n",
    "\n",
    "plt.xlabel('x')\n",
    "plt.ylabel('y')\n",
    "plt.title('Interpolation')\n",
    "plt.xticks([])\n",
    "plt.yticks([])\n",
    "\n",
    "# ANPASSUNG:\n",
    "plt.subplot(1,2,2)\n",
    "x = np.arange(10, 200, 10)\n",
    "stoerung = np.random.normal(scale=0.6, size=x.shape)\n",
    "y = np.sqrt(x)+stoerung\n",
    "plt.plot(x,y,'o', color='tab:gray')\n",
    "\n",
    "# Anpassung / Fit:\n",
    "def anpassung(x, a):\n",
    "    return a*np.sqrt(x)\n",
    "popt, pcov = curve_fit(anpassung, x, y)\n",
    "plt.plot(x,anpassung(x,*popt), zorder=0, color = 'tab:blue')\n",
    "\n",
    "plt.xlabel('x')\n",
    "plt.ylabel('y')\n",
    "plt.title('Approximation/Fit')\n",
    "plt.xticks([])\n",
    "plt.yticks([])\n",
    "\n",
    "plt.tight_layout()"
   ]
  },
  {
   "cell_type": "markdown",
   "id": "c08520f9-8dcf-4f80-b764-4e0df01f338e",
   "metadata": {},
   "source": [
    "## Was benutzt man wann und warum?\n",
    "\n",
    "::::::{margin}\n",
    ":::::{grid}\n",
    "::::{grid-item-card}\n",
    ":class-header: bg-light\n",
    "Approximation vs. interpolation (englisch, Melvin Leok)\n",
    "\n",
    "<iframe width=\"200\" height=\"113\" src=\"https://www.youtube.com/embed/YCBP_PEU8Go?si=wSMKRHgMwS1t2y_U\" title=\"YouTube video player\" frameborder=\"0\" allow=\"accelerometer; autoplay; clipboard-write; encrypted-media; gyroscope; picture-in-picture; web-share\" allowfullscreen></iframe>\n",
    "::::\n",
    ":::::\n",
    "::::::\n",
    "\n",
    "* **Interpolation**...\n",
    "    * benutzt man bei wenigen Messwerten\n",
    "    * benutzt man wenn keine Störung die Messung überlagert\n",
    "    * ist eine analytische Kennlinie, die exakt durch die Messpunkte verläuft (siehe [Kennlinie](2_idealeKennlinie.ipynb))\n",
    "    * berechnet man unter der Verwendung von z.B. Polynomen (z.B. spline-Methode)\n",
    "    * ist bei großen Datenmengen sehr unhandlich\n",
    "* **Approximation/Anpassung/Regression:**...\n",
    "    * benutzt man bei vielen Messwerten\n",
    "    * benutzt man bei überlagerten Störungen\n",
    "    * benutzt man wenn die Interpolation unpraktisch ist\n",
    "    * ist eine Linearkombination geeigneter analytischer Basisfunktionen\n",
    "    * ist eine Anpassung eines physikalischen Modells an die Daten"
   ]
  },
  {
   "cell_type": "code",
   "execution_count": null,
   "id": "cb17279c-f29a-4469-b1af-c1f181c9494b",
   "metadata": {},
   "outputs": [],
   "source": []
  }
 ],
 "metadata": {
  "kernelspec": {
   "display_name": "Python 3",
   "language": "python",
   "name": "python3"
  },
  "language_info": {
   "codemirror_mode": {
    "name": "ipython",
    "version": 3
   },
   "file_extension": ".py",
   "mimetype": "text/x-python",
   "name": "python",
   "nbconvert_exporter": "python",
   "pygments_lexer": "ipython3",
   "version": "3.9.12"
  }
 },
 "nbformat": 4,
 "nbformat_minor": 5
}