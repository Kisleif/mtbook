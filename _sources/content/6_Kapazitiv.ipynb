{
 "cells": [
  {
   "cell_type": "markdown",
   "id": "7504f100-e7c5-4d7c-a99b-06958bab38ec",
   "metadata": {},
   "source": [
    "# Kapazitive Sensoren"
   ]
  }
 ],
 "metadata": {
  "kernelspec": {
   "display_name": "Python 3",
   "language": "python",
   "name": "python3"
  },
  "language_info": {
   "codemirror_mode": {
    "name": "ipython",
    "version": 3
   },
   "file_extension": ".py",
   "mimetype": "text/x-python",
   "name": "python",
   "nbconvert_exporter": "python",
   "pygments_lexer": "ipython3",
   "version": "3.9.12"
  }
 },
 "nbformat": 4,
 "nbformat_minor": 5
}
