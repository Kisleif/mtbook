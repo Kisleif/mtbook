{
 "cells": [
  {
   "cell_type": "markdown",
   "id": "33ae8134-574c-4d8f-bec9-f8ba28dea4d0",
   "metadata": {},
   "source": [
    "# Dioden-Kennlinie\n",
    "\n",
    "## Download Praktikumsanleitung\n",
    "\n",
    "{Download}`Hier<lab/Kennlinie.pdf>` kannst du die Praktikumsanleitung herunterladen."
   ]
  }
 ],
 "metadata": {
  "kernelspec": {
   "display_name": "Python 3",
   "language": "python",
   "name": "python3"
  },
  "language_info": {
   "codemirror_mode": {
    "name": "ipython",
    "version": 3
   },
   "file_extension": ".py",
   "mimetype": "text/x-python",
   "name": "python",
   "nbconvert_exporter": "python",
   "pygments_lexer": "ipython3",
   "version": "3.9.12"
  }
 },
 "nbformat": 4,
 "nbformat_minor": 5
}
