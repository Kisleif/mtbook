{
 "cells": [
  {
   "cell_type": "markdown",
   "id": "f6136ac4-38b4-4abb-90bc-57bf7d84192d",
   "metadata": {},
   "source": [
    "# Frequenzmessung\n",
    "\n",
    "Häufig liegen uns frequenzmodulierte Spannungssignale vor. Die Frequenz ist hierbei der Informationsträger und muss ausgelesen werden, um die Messgröße $x$ zu bestimmen. \n",
    "Das Grundprinzip der Frequenzmessung ist in {numref}`F_messung` dargestellt.\n",
    "\n",
    ":::{figure-md} F_messung\n",
    "<img src=\"draw/F_messung.jpg\" alt=\"F_messung\" class=\"bg-primary mb-1\" width=\"600px\" label = F_messung>\n",
    "\n",
    "Grundprinzip der Frequenzmessung.\n",
    ":::\n",
    "\n",
    "* In der ersten Stufe wird das periodische Eingangssignal in eine binäres Signal mit der gleichen Frequenz umgewandelt. Hierfür werden üblicherweise Operationsverstärker benutzt\n",
    "* Dann zählt über eine bestimmte Zeit, die **Torzeit $T$** die **Anzahl $z$** der Perioden.\n",
    "* Der Messwert ergibt sich aus dem Verhältnis von gezählten Perioden und der Torzeit:\n",
    "\n",
    "$$f_a = \\frac{z}{T}$$\n",
    "\n",
    "Hierbei können **Zählfehler** passieren, da die Torzeit $T$ unabhängig von der Periodendauer und dem Messsignal ist. D.h. im schlimmsten Fall kann man sich um eine ganze Periode verzählen, weshalb die Messabweichung der Zählung $\\Delta z = 1$ ist. Dieses Phänomen ist in {numref}`F_zählung` dargestellt.\n",
    "\n",
    ":::{figure-md} F_zählung\n",
    "<img src=\"draw/F_zählung.jpg\" alt=\"F_zählung\" class=\"bg-primary mb-1\" width=\"300px\" label = F_zählung>\n",
    "\n",
    "Zählfehler\n",
    ":::\n",
    "\n",
    "Die maximal zu erwartende Quantisierungsabweichung bezogen auf der Frequenzmessung beträgt also \n",
    "\n",
    "$$A = f_a - f_w = \\frac{1}{T}$$\n",
    "\n",
    "Wenn wir also die Frequenz eines $100\\,\\mathrm{Hz}$-Signals über eine Torzeit von $1\\,\\mathrm{s}$ bestimmen (was schon eine verdammt lange Messzeit ist) erhalten wir eine Maximalabweichung von $1\\,\\mathrm{Hz}$, also 1% bezogen auf den Messwert. Je niederiger die Frequenz, desto länger müssen wir messen, um ein genaues Ergebnise zu erhalten. "
   ]
  },
  {
   "cell_type": "code",
   "execution_count": 3,
   "id": "42d44969-8bbf-4879-af6e-c345a2a2fe05",
   "metadata": {
    "tags": [
     "hide-input"
    ]
   },
   "outputs": [
    {
     "name": "stdout",
     "output_type": "stream",
     "text": [
      "Die maximale Messabweichung beträgt: 1.0 Hz\n"
     ]
    }
   ],
   "source": [
    "T = 1000e-3\n",
    "print('Die maximale Messabweichung beträgt:' ,1/T, 'Hz')"
   ]
  },
  {
   "cell_type": "markdown",
   "id": "9c791db5-e252-4035-844d-7b4ab6ac156f",
   "metadata": {},
   "source": [
    "Bei ganz niedrigen Frequenzen wird deshalb die Periodendauer gemessen, also z.B. von einem Nulldurchgang zum nächsten.\n",
    "\n",
    ":::{note} \n",
    "Macht euch vorher Gedanken darüber, welche signifikanten Messabweichungen auftreten können, wenn ihr in bestimmten Frequenzbereichen Messungen vornehmt. Wählt eine sinnvolle Messzeit!\n",
    ":::\n",
    "\n"
   ]
  },
  {
   "cell_type": "code",
   "execution_count": null,
   "id": "073ec3d8-9f39-4654-acf9-7b566b8250b1",
   "metadata": {},
   "outputs": [],
   "source": []
  }
 ],
 "metadata": {
  "kernelspec": {
   "display_name": "Python 3",
   "language": "python",
   "name": "python3"
  },
  "language_info": {
   "codemirror_mode": {
    "name": "ipython",
    "version": 3
   },
   "file_extension": ".py",
   "mimetype": "text/x-python",
   "name": "python",
   "nbconvert_exporter": "python",
   "pygments_lexer": "ipython3",
   "version": "3.9.12"
  }
 },
 "nbformat": 4,
 "nbformat_minor": 5
}
