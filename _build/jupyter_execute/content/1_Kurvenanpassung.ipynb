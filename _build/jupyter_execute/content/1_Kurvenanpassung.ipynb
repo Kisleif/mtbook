{
 "cells": [
  {
   "cell_type": "markdown",
   "metadata": {},
   "source": [
    "# Anpassung und lineare Regression"
   ]
  },
  {
   "cell_type": "markdown",
   "metadata": {},
   "source": [
    "Bei der Kurvenanpassung handelt es sich um ein statistisches Analyseverfahren zur Feststellung funktionaler Beziehungen zwischen einer abhängigen und einer oder mehreren unabhängigen Variablen. Der Begriff **lineare Regression** ist weit verbreitet, doch dies ist nur der einfachste Fall eines Modells, nämlich der einer Geraden: $y = a \\cdot x +b$. Grundsätzlich sollte man den Typ der Fit-Funktion $y = f(x)$ immer vorher festlegen und auch begründen können. Es ist keine wissenschaftlicher oder messtechnische Vorgehensweise alle möglichen Funktionen nur auf Verdacht *auszuprobieren* und sich für die besten entscheiden. Hierbei wäre es möglich, dass unbrauchbare Näherungen pder sogar falsche (unsinnige) und nicht-wissenschaftlicher Ergebnisinterpretationen auftreten könnten, was es zu vermeiden gilt. \n",
    "\n",
    "Zusammengefasst suchen wir nun also ein bestimmtes Modell für ein bestimmtes Set an Daten und wollen die Modellparameter bestimmen. Dabei soll das Modell möglichst gut die Messdaten vorhersagen. Die Modellanpassung wird häufig über die Methode der kleinsten Quadrate verwendet, mit welcher sich fast alle Messdaten modellieren lassen (auch kompliziertere Situationen wie beispielsweise korrelierte Unsicherheiten). "
   ]
  },
  {
   "cell_type": "markdown",
   "metadata": {},
   "source": [
    ":::{admonition} Tutorial\n",
    ":class: tip\n",
    "Python-Beispiele für Kurvenanpassungen findet ihr hier:\n",
    "* [Vergleich verschiedener Fit-Routinen in Python](T_LinReg)\n",
    "* [Fitten mit Fehlerbalken in Python](T_FitmitFehlerbalken)\n",
    "* [Fitten von *echten* Klimadaten](T_Plotten)\n",
    ":::"
   ]
  },
  {
   "cell_type": "markdown",
   "metadata": {},
   "source": [
    "## Modellanpassung <a id=\"Sec-Modellanpassung\"></a>\n",
    "\n",
    "Um ein Regressionsmodell zu berechnen, benötigen wir ein objektives Maß um die Zuverlässigkeit und Güte unsere Modellfunktion zu bestimmen. Dies nennt man auch das **Bestimmtsheitsmaß**, bzwl. auf englisch **coefficient of determination** oder **goodness of fit**. Dieses Maß \n",
    "* bestimmt die Verkleinerung des Vorhersagefehlers der Ausgangsgröße $y$\n",
    "* definiert die Größe der Streuung von $y$\n",
    "* zeigt die Qualität der linearen Regression, aber nicht ob das Modell richtig ist\n",
    "* sagt nichts über die statistische Signifikanz des ermittelten Zusammenhangs der einzelnen Regressoren aus (Signifikanztest notwendig)\n",
    "\n",
    "Als erstes soll überprüft werden, inwiefern die Funktion oder das Modell mit den Messdaten übereinstimmt. Ausgangspunkt ist also unsere Messreihe mit $N$ Messpunkten $(x_i, y_i)$ und wir haben eine Funktion $f(x_i)$ definiert, die die Messwerte $y_i$ möglichst gut vorhersagen soll. In der unteren Grafik (geborgt von [Wikipedia](https://de.wikipedia.org/wiki/Methode_der_kleinsten_Quadrate)), sind Messpunkte in blau und eine Modellfunktion in rot aufgezeichnet. Die Parameter der gesuchten Modellfunktion werden nun so bestimmt, dass die Modellfunktion möglichst wenig von den Messwerten abweicht, d.h. das Residuum \n",
    "\n",
    "$$\\epsilon = \\left( f(x_i) - y_i\\right)$$\n",
    "\n",
    "soll möglichst klein werden. "
   ]
  },
  {
   "cell_type": "code",
   "execution_count": 1,
   "metadata": {
    "tags": [
     "hide-input"
    ]
   },
   "outputs": [
    {
     "data": {
      "text/plain": [
       "<Figure size 600x300 with 0 Axes>"
      ]
     },
     "metadata": {},
     "output_type": "display_data"
    },
    {
     "data": {
      "image/png": "[encoded data removed]",
      "text/plain": [
       "<Figure size 500x400 with 1 Axes>"
      ]
     },
     "metadata": {
      "filenames": {
       "image/png": "/Users/KSIsleif/DESY_cloud/github/mtbook/_build/jupyter_execute/content/1_Kurvenanpassung_4_1.png"
      }
     },
     "output_type": "display_data"
    }
   ],
   "source": [
    "import numpy as np\n",
    "import matplotlib.pyplot as plt\n",
    "from scipy.optimize import curve_fit\n",
    "from scipy import interpolate\n",
    "\n",
    "# MatplotLib Settings:\n",
    "plt.style.use('default') # Matplotlib Style wählen\n",
    "plt.figure(figsize=(6,3)) # Plot-Größe\n",
    "#plt.xkcd()\n",
    "plt.rcParams['font.size'] = 10; # Schriftgröße\n",
    "\n",
    "plt.figure(figsize=(5,4)) # Plot-Größe\n",
    "\n",
    "# ANPASSUNG:\n",
    "x = np.arange(10, 200, 10)\n",
    "stoerung = np.random.normal(scale=1.4, size=x.shape)\n",
    "y = np.sqrt(x)+stoerung\n",
    "plt.plot(x,y,'o', color='tab:gray', zorder=3)\n",
    "\n",
    "# Anpassung / Fit:\n",
    "def anpassung(x, a):\n",
    "    return a*np.sqrt(x)\n",
    "popt, pcov = curve_fit(anpassung, x, y)\n",
    "plt.plot(x,anpassung(x,*popt), zorder=0, color = 'tab:blue')\n",
    "plt.plot((x,x),([i for i in y], [j for (j) in anpassung(x,*popt)]),c='tab:red', zorder=1)\n",
    "plt.xlabel('x')\n",
    "plt.ylabel('y')\n",
    "plt.xticks([])\n",
    "plt.yticks([])\n",
    "plt.title('Residuum')\n",
    "plt.legend(['Messwerte', 'Modellfunktion', 'Residuum'])\n",
    "plt.show()"
   ]
  },
  {
   "cell_type": "markdown",
   "metadata": {},
   "source": [
    "### Least-Squares: Methode der kleinsten Quadrate <a id=\"SubSec-least_squares\"></a>\n",
    "\n",
    "Laut Carl Friedrich Gauß kann also der Abstand der Funktionswerte zu den Messwerten wievolgt definiert werden:\n",
    "\n",
    "> Methode der Gauß'schen Fehlerquadrate (Gütefunktion): \n",
    "\n",
    "$$Q := \\sum_{i=1}^N \\left( f(x_i) - y_i\\right)^2 :=  \\sum_{i=1}^N \\epsilon_i^2 = \\mathrm{min!}$$\n",
    "\n",
    "Die Gütefunktion, die gleichbedeutend mit den SQT ist, ist wieder so gewählt, dass sich Abweichungen aufgrund unterschiedliche Vorzeichen nicht aufheben können und dass größere Abweichungen stärker gewichtet werden (durch die Quadrierung). Die Modellfunktion $f(x)$ wird bestimmt, indem das Minimierungsproblem gelöst wird. Dies kann entwedet analytisch geschehen (siehe [Lineare Modellanpassung](#SubSec-Lineare_Modellanpassung)) oder man lässt sich die Regression mittels Software berechnen. \n",
    "\n",
    "Es handelt sich um ein *Minimierungsproblem* welches je nach Art der Modellfunktion unterschiedlich gelöst wird. Man sollte stets die Regressionsgerade zusammen mit den Datenpunkten in ein Diagramm zeichnen, um zu sehen, wie \"gut\" die Messdaten durch die Kurvenanpassung beschrieben werden. \n",
    "Je enger die Datenpunkte um die Regressionsgerade herum konzentriert sind, d. h. je kleiner also die Residuenquadrate sind, desto „besser“. Die Residuenquadrate sind meistens relativ klein, insbesondere dann, wenn die abhängige Variable sehr konstant ist. Das heißt man möchte eigentlich auch die Streuung der abhängigen Variablen mit ins Spiel bringen.\n",
    "Sowohl die Streuung der Messwerte zum Mittelwert, als auch die der geschätzten Werte, sollte in Relation zueinander gebracht werden. Das heißt wir definieren im Folgenden zwei Summen der Abweichungsquadrate. Die **Summe der Abweichungsquadrate (Sum of Squares) SQT oder SST** gibt die Streuung der Messwerte um ihren Mittelwert an. Das *mittlere* Abweichungsquadrat bestimmt deren Varianz. \n",
    "\n",
    "* Die **Summe der Quadrate der Erklärten Abweichungen (Sum of Squares Explained) SQE oder SSE** gibt die Streuung der Schätzwerte $f(x_i)$ des Fits um den Mittelwert $\\bar f = \\bar y$ der gemessenen Messwerte an:\n",
    "\n",
    "$$\\mathrm{SQE} = \\mathrm{SSE} = \\sum_{i=1}^N (f(x_i) - \\bar y)^2$$\n",
    "\n",
    "* Die **totale Quadratsumme (Summe der Quadrate der Totalen Abweichungen bzw. Sum of Squares Total) SQT oder SST** gibt die Streuung der Messwerte $y_i$ um deren Mittelwert $\\bar y$ an:\n",
    "\n",
    "$$\\mathrm{SQT} = \\mathrm{SST} = \\sum_{i=1}^N (y_i - \\bar y)^2$$\n",
    "\n",
    "* Die **Restabweichungen** (nicht erklärte Abweichungen), welche nach der Regression übrig bleiben sind ein Maß für die Abweichung der Datenpunkte von der Regressionskurve und werden durch die Residuenquadratsumme (**Summe der Quadrate der Restabweichungen** (oder: „Residuen“) bzw. englisch Sum of Squares Residual) SQR oder SSR) erfasst:\n",
    "\n",
    "$$\\mathrm{SQR} = \\mathrm{SSR} = \\sum_{i=1}^N(y_i-f(x_i))^2$$\n",
    "\n",
    "* Man kann beweisen, dass folgendes gilt:\n",
    "\n",
    "$$\\mathrm{SQT} = \\mathrm{SQR} + \\mathrm{SQE}$$"
   ]
  },
  {
   "cell_type": "markdown",
   "metadata": {},
   "source": [
    "### Bestimmtheitsmaß <a id=\"SubSec-Bestimmtheitsmaß\"></a>\n",
    "\n",
    "Für das **Bestimmtheitsmaß** gelten folgenden Punkte:\n",
    "* Es beschreibt den Anteil der Varianz einer abhängigen Variablen $y$ durch ein statistisches Modell\n",
    "* Es ist nur für lineare Regressionen eindeutig definiert:\n",
    "\n",
    "$$\\mathit{R}^2 = r^2 (=\\textrm{Korrelation}^2)$$\n",
    "\n",
    "* Es kann bedingt zur Beschreibung der Güte einer Regression verwendet werden. \n",
    "\n",
    "* Das Verhältnis der beiden Größen SQE und SQT wird das **Bestimmtheitsmaß** der Regression genannt und gibt an, wie gut die gefundene geschätzte Modellfunktion zu den Messdaten passt, oder wie gut sich die Regression an die Daten annähert. \n",
    "\n",
    "$$\\mathit{R}^2 \\equiv \\frac{SQE}{SQT}=\n",
    "\\frac{\\displaystyle\\sum_{i=1}^N \\left(f(x_i)- \\overline{y}\\right)^2}{\\displaystyle\\sum_{i=1}^N \\left(y_i - \\overline{y}\\right)^2} = 1 - \\frac{SQR}{SQT}=1-\\frac{\\displaystyle\\sum_{i=1}^N \\left(y_i - f(x_i)\\right)^2}{\\displaystyle\\sum_{i=1}^N \\left(y_i - \\overline{y}\\right)^2}$$\n",
    "\n",
    "wobei:\n",
    "* $f(x_i)$ der Funktionswert der Regression ist\n",
    "* $x_i$ der Datenwert ist\n",
    "* und $\\bar y$ der Mittelwert $y_i$ der Messwerte ist\n",
    "\n",
    "Das Bestimmtheitsmaß lässt sich mit 100 multiplizieren, um es in Prozent anzugeben, dies entspricht dann dem prozentualen Anteil der Streuung in $y$, der durch das lineare Modell beschrieben wird und liegt somit zwischen 0% und 100%:\n",
    "* 0%: es existiert kein linearer Zusammenhang\n",
    "* 100%: perfekter linearer Zusammenhang\n",
    "\n",
    "Allgemein gilt für das Bestimmheitsmaß:\n",
    "* je näher $\\mathit{R}^2$ an 1 liegt, desto höher ist die Güte der Kurvenanpassung\n",
    "* für $\\mathit{R}^2=0$ ist der Schätzer im Modell völlig unbrauchbar für irgendeine Vorhersage eines Zusammenhangs zwischen $x_i$ und $y_i$. \n",
    "* für $\\mathit{R}^2=1$ lässt sich $y$ vollständig durch ein lineares Modell beschreiben und alle Messpunkte liegen auf einer nicht-horizontalen Geraden. In diesem Falle würde man davon sprechen, dass ein deterministischer Zusammenhang besteht, kein stochastischer. \n",
    "\n",
    "**Nachteile des Bestimmheitsmaß:**\n",
    "Für immer mehr Messwerte steigt $\\mathit{R}^2$ an, ohne dass die Korrelation oder die Regression besser wird.\n",
    "Dies könnte durch ein korrigiertes $\\mathit{R}^2$ behoben werden:\n",
    "    \n",
    "$$\\mathit{\\overline R}^2 = 1-(1-\\mathit{R}^2)\\cdot \\frac{n-1}{n-p-1}$$\n",
    "\n",
    "mit \n",
    "* $n$ Anzahl der Messwerte und\n",
    "* $p$ Anzahl der Variablen im Regressionsmodell\n",
    "\n",
    "Ein weiterer Nachteil ist, dass keine Aussage darüber geliefert werden kann, ob ein *korrektes* Regressionsmodell verwendet wurde."
   ]
  },
  {
   "cell_type": "markdown",
   "metadata": {},
   "source": [
    "### Berücksichtigung von Unsicherheiten <a id=\"SubSec-Modellanpassung_unsicherheiten\"></a>\n",
    "\n",
    "Im allgemeinen Fall, d.h. wenn die Messwerte $y_i$ mit Unsicherheiten $s_i$ behaftet sind, lässt sich die Residuensumme wiefolgt definieren:\n",
    "\n",
    "$$\\chi^2 = \\sum_{i=1}^N \\left(\\frac{f(x_i)-y_i}{s_i}\\right)^2$$\n",
    "\n",
    "Für die obigen Berechnungen, und auch im Falle von konstanten Unsicherheiten, d.h. wenn für alle Werte von $y_i$ die gleiche absolute Unsicherheit existiert, ändert sich nichts. Denn es gilt $s_i = s = \\mathrm{const}$ und beim \"Nullsetzen\" werden diese einfach eliminiert.\n",
    "Gelten für die $N$ Messwerte allerdings unterschiedliche Unsicherheiten, so müssen diese miteinbezogen werden. "
   ]
  },
  {
   "cell_type": "markdown",
   "metadata": {},
   "source": [
    "## Lineare Modellanpassung <a id=\"SubSec-Lineare_Modellanpassung\"></a>\n",
    "\n",
    "Da wir als Messtechniker immer danach streben möglichst lineare Kennlinien zu erreichen, ist die Gerade eine häufig auftretende Kurve, die angepasst werden soll. Daher wollen wir uns in diesem Abschnitt mit der Herleitung der linearen Regression befassen. Die Herleitung für andere Modellfunktionen, welche quadratische Terme, noch höhere Terme oder ganz andere Zusammenhänge beinhalten, ist auch deutlich schwieriger."
   ]
  },
  {
   "cell_type": "code",
   "execution_count": 2,
   "metadata": {
    "tags": [
     "hide-input"
    ]
   },
   "outputs": [
    {
     "data": {
      "image/png": "[encoded data removed]",
      "text/plain": [
       "<Figure size 400x400 with 1 Axes>"
      ]
     },
     "metadata": {
      "filenames": {
       "image/png": "/Users/KSIsleif/DESY_cloud/github/mtbook/_build/jupyter_execute/content/1_Kurvenanpassung_9_0.png"
      }
     },
     "output_type": "display_data"
    }
   ],
   "source": [
    "import numpy as np\n",
    "import matplotlib.pyplot as plt\n",
    "# MatplotLib Settings:\n",
    "plt.style.use('default') # Matplotlib Style wählen\n",
    "plt.figure(figsize=(4,4)) # Plot-Größe\n",
    "#plt.xkcd()\n",
    "plt.rcParams['font.size'] = 10; # Schriftgröße\n",
    "\n",
    "x = [12, 24, 36, 42, 60, 72, 84, 96, 108, 120] # Messwerte der Strecke x in m\n",
    "y = [12.2, 17, 22.1, 33.2, 34.4, 59.1, 60.2, 65.7, 69.9, 70.1] # Messwerte der Zeit t in sek.\n",
    "x = np.array(x) #konvertiere die Messwerte in ein Numpy-Array\n",
    "y = np.array(y) #konvertiere die Messwerte in ein Numpy-Array\n",
    "\n",
    "plt.plot(x,y, 'o', label = 'Messwerte', ms=6, color=\"tab:gray\")\n",
    "plt.xlabel('x')\n",
    "plt.ylabel('y')\n",
    "plt.legend()\n",
    "plt.show()"
   ]
  },
  {
   "cell_type": "markdown",
   "metadata": {},
   "source": [
    "Unser Ausgangspunkt ist also eine Gerade der Form \n",
    "\n",
    "$$f(x) = mx + b$$\n",
    "\n",
    "Die Parameter $m$ und $b$ werden nun durch das Minimierungsproblem bestimmt mithilfe der Gütefunktion, die nun wiefolgt geschrieben werden kann:\n",
    "\n",
    "$$Q = \\sum_{i = 1}^{N} (y_i - f(x_i))^2 = \\sum_{i = 1}^{N} (y_i - mx_i - b)^2 = \\mathrm{min!}$$\n",
    "\n",
    "wobei $y_i$ und $x_i$ die Messwerte (Datenpunkte) sind. \n",
    "\n",
    "Durch Differentation nach den Parametern und gleichsetzen auf Null können die Parameter bestimmt werden:\n",
    "\n",
    "$$\\frac{dQ}{dm} = -2 \\sum_{i = 1}^{N} x_i (y_i - mx_i - b) = 0$$\n",
    "\n",
    "$$\\frac{dQ}{db} = -2 \\sum_{i = 1}^{N} (y_i - mx_i - b) = 0$$\n",
    "\n",
    "Nach Umstellen der beiden Ableitungen gelangt man zu folgenden Gleichungssystem:\n",
    "\n",
    "$$m\\sum_{i = 1}^{N} x_i^2 + b\\sum_{i = 1}^{N}x_i  = \\sum_{i = 1}^{N}x_i y_i$$\n",
    "\n",
    "$$m\\sum_{i = 1}^{N} x_i + N b  = \\sum_{i = 1}^{N} y_i$$\n",
    "\n",
    "Auflösen nach den gesuchten Parameter erhält man folgende Gleichungen für die gesuchten besten Schätzparamete der Regressionsgeraden, auch **Regressionskoeffizienten** genannt:\n",
    "\n",
    "$$ m = \\frac{\\sum_{i=1}^N (x_i y_i) - b\\sum_{i=1}^N x_i }{\\sum_{i=1}^N x_i^2 } = \\frac{S_{xy}}{S_{x}^2} = \\frac{\\overline{x\\cdot y} - \\overline x \\cdot \\overline y}{\\overline{x^2} - (\\overline x)^2}$$\n",
    "\n",
    "$$b = \\frac{\\sum_{i=1}^N y_i - m \\sum_{i=1}^N x_i}{N} = \\bar y - m \\cdot \\bar x$$\n",
    "\n",
    "mit folgenden Definitionen:\n",
    "\n",
    "> $\\bar x = \\sum_{i = 1}^N x_i$\n",
    "\n",
    "> $\\bar y = \\sum_{i = 1}^N y_i$\n",
    "\n",
    "> $S_{xy} = \\frac{1}{N-1}\\sum_{i = 1}^N (x_i-\\bar x)(y_i - \\bar y)$\n",
    "\n",
    "> $S_{x}^2 = \\frac{1}{N-1}\\sum_{i = 1}^N (x_i-\\bar x)^2$\n",
    "\n",
    "Wir sind hier in der verrückten Situation, dass tatsächlich  Mittelwerte für $x$ und $y$ bestimmt werden müssen, obwohl die $x$-Werte absichtlich während der Versuchsreihe verändert werden, sich also die Grössen $x$ und $y$ laufend ändern."
   ]
  },
  {
   "cell_type": "code",
   "execution_count": 3,
   "metadata": {
    "tags": [
     "hide-input"
    ]
   },
   "outputs": [
    {
     "name": "stdout",
     "output_type": "stream",
     "text": [
      "Die Steigung ist \t\t m = 0.6067 s/m\n",
      "Der Ordinatenabschnitt ist \t b = 4.7148 s\n"
     ]
    },
    {
     "data": {
      "image/png": "[encoded data removed]",
      "text/plain": [
       "<Figure size 400x400 with 1 Axes>"
      ]
     },
     "metadata": {
      "filenames": {
       "image/png": "/Users/KSIsleif/DESY_cloud/github/mtbook/_build/jupyter_execute/content/1_Kurvenanpassung_11_1.png"
      }
     },
     "output_type": "display_data"
    }
   ],
   "source": [
    "# MatplotLib Settings:\n",
    "plt.style.use('default') # Matplotlib Style wählen\n",
    "plt.figure(figsize=(4,4)) # Plot-Größe\n",
    "#plt.xkcd()\n",
    "plt.rcParams['font.size'] = 10; # Schriftgröße\n",
    "\n",
    "m = (np.mean(x*y) - np.mean(x)*np.mean(y))/(np.mean(x**2) - np.mean(x)**2)\n",
    "b = np.mean(y) - m * np.mean(x)\n",
    "print('Die Steigung ist \\t\\t m = %5.4f s/m' %(m))\n",
    "print('Der Ordinatenabschnitt ist \\t b = %5.4f s' %(b))\n",
    "\n",
    "plt.plot(x,y, 'o', label = 'Messwerte', ms=6, color=\"tab:gray\")\n",
    "plt.plot(x,m*x+b,lw=3, color=\"tab:blue\", label = 'analytische lineare Regression: y = %5.3f*x+%5.3f' %(m,b))  # plot Ausgleichsgerade mit m und b\n",
    "plt.xlabel('x')\n",
    "plt.ylabel('y')\n",
    "plt.legend(bbox_to_anchor=(1,1), loc=\"upper left\")\n",
    "plt.show()"
   ]
  },
  {
   "cell_type": "markdown",
   "metadata": {},
   "source": [
    "Nun sind die Schätzwerte allerdings zusätzlich fehlerbehaftet (wie sollte es auch anders sein). Mithilfe der Gleichung der Größtfehlers/Maximalfehlers kann man zeigen (den Beweis überspringen wir hier), dass für den Fehler von $y$ folgendes gilt:\n",
    "\n",
    "$$s_y = \\sqrt{\\frac{1}{N-2}\\sum(y_i - mx_i - b)^2 }$$"
   ]
  },
  {
   "cell_type": "code",
   "execution_count": 4,
   "metadata": {
    "tags": [
     "hide-input"
    ]
   },
   "outputs": [
    {
     "name": "stdout",
     "output_type": "stream",
     "text": [
      "Die Unsicherheit von y ist \t s_y = 5.8831 s\n"
     ]
    }
   ],
   "source": [
    "N = len(y)\n",
    "diff_y = 0\n",
    "for i in range(N):\n",
    "    diff_y += ( y[i] - m * x[i] - b )**2\n",
    "\n",
    "streuung_y = 1/(N-2)*diff_y\n",
    "s_y = np.sqrt(streuung_y)\n",
    "print('Die Unsicherheit von y ist \\t s_y = %5.4f s' %(s_y))"
   ]
  },
  {
   "cell_type": "markdown",
   "metadata": {},
   "source": [
    "Die ist auch die Standardabweichung der Einzelmessung aber *nicht* der Fehlerbalken, der im Diagramm als Fehlerbalken eingezeichnet wird. Die Abweichung der Einzelmessung wurde bisher mit $N-1$ definiert, damals hat es sich aber um die Abweichung vom *Mittelwert* gehandelt. Nun betrachten wir die Abweichung zu einem linearen Modell, welches 2 offene Parameter, $m$ und $b$, hat, und somit einen Freiheitsgrad mehr bestitzt. Erst ab 3 Messwertepaaren können also Fehler für Steigung und Achsenabschnitt berechnet werden.\n",
    "Die besten Schätzwerte für die Abweichungen von $m$ und $b$ können nun wiefolgt berechnet werden. Der Fehler der Geradensteigung beträgt:\n",
    "\n",
    "$$s_m = s_y \\cdot \\sqrt{\\frac{N}{N\\cdot \\sum x_i^2 - \\left(\\sum x_i\\right)^2}} = s_y \\cdot \\sqrt{\\frac{1}{\\sum x_i^2 - N\\cdot \\bar x^2}} = s_y \\cdot \\sqrt{\\frac{1}{\\sum \\left(x_i - \\bar x \\right)^2}} = s_y \\cdot \\sqrt{\\frac{1}{N\\cdot (\\overline{x^2} - (\\overline x)^2)}}$$"
   ]
  },
  {
   "cell_type": "code",
   "execution_count": 5,
   "metadata": {
    "tags": [
     "hide-input"
    ]
   },
   "outputs": [
    {
     "name": "stdout",
     "output_type": "stream",
     "text": [
      "Die Unsicherheit von m ist \t s_m = 0.0534 s/m\n"
     ]
    }
   ],
   "source": [
    "s_m = s_y * np.sqrt(1 / (N*(np.mean(x**2) - np.mean(x)**2)))\n",
    "print('Die Unsicherheit von m ist \\t s_m = %5.4f s/m' %(s_m))"
   ]
  },
  {
   "cell_type": "markdown",
   "metadata": {},
   "source": [
    "Der Fehler des Ordinatenabschnitts beträgt:\n",
    "\n",
    "$$s_b = s_y \\cdot \\sqrt{\\frac{\\sum x_i^2}{N\\cdot \\sum x_i^2 - \\left(\\sum x_i\\right)^2}} = s_y \\cdot \\sqrt{\\frac{1}{N}\\frac{\\sum x_i^2}{\\sum x_i^2 - N\\cdot \\bar x^2}} = s_y \\cdot \\sqrt{\\frac{1}{N}\\frac{\\sum x_i^2}{\\sum \\left(x_i - \\bar x \\right)^2}} = s_m \\cdot \\sqrt{\\overline{x^2}}$$"
   ]
  },
  {
   "cell_type": "code",
   "execution_count": 6,
   "metadata": {
    "tags": [
     "hide-input"
    ]
   },
   "outputs": [
    {
     "name": "stdout",
     "output_type": "stream",
     "text": [
      "Die Unsicherheit von b ist \t s_b = 3.9581 s\n"
     ]
    }
   ],
   "source": [
    "s_b = s_m * np.sqrt(np.mean(x**2))\n",
    "print('Die Unsicherheit von b ist \\t s_b = %5.4f s' %(s_b))"
   ]
  },
  {
   "cell_type": "markdown",
   "metadata": {},
   "source": [
    "### Korrelationskoeffizient <a id=\"SubSec-Korrelationskoeffizient\"></a>\n",
    "\n",
    "Für lineare Zusammenhänge ist es häufig sinnvoll den Korrelationskoeffizient zu berechnen:\n",
    "    \n",
    "$$r = \\frac{\\overline{x\\cdot t} - \\overline x \\cdot \\overline t}{\\sqrt{\\overline{x^2} - (\\overline x)^2} \\cdot {\\sqrt{\\overline{t^2} - (\\overline t)^2}}} $$    "
   ]
  },
  {
   "cell_type": "code",
   "execution_count": 7,
   "metadata": {
    "tags": [
     "hide-input"
    ]
   },
   "outputs": [
    {
     "name": "stdout",
     "output_type": "stream",
     "text": [
      "Der Korrelationskoeffizient zwischen x und t beträgt: 0.97035603\n",
      "\n",
      "Die Korrelationsmatrix zwischen x und t mittels numpy-Paket lautet:\n",
      "[[1.         0.97035603]\n",
      " [0.97035603 1.        ]]\n"
     ]
    }
   ],
   "source": [
    "# Analytische Methode:\n",
    "r = (np.mean(x*y)-np.mean(x)*np.mean(y))/(np.sqrt(np.mean(x**2) - np.mean(x)**2) * np.sqrt(np.mean(y**2) - np.mean(y)**2))\n",
    "print('Der Korrelationskoeffizient zwischen x und t beträgt: %5.8f\\n'%(r))\n",
    "\n",
    "# Python:\n",
    "r = np.corrcoef(x, y)\n",
    "print('Die Korrelationsmatrix zwischen x und t mittels numpy-Paket lautet:')\n",
    "print(r)"
   ]
  },
  {
   "cell_type": "markdown",
   "metadata": {},
   "source": [
    "Der Korrelationskoeffizient von $+ 0,97035$ zeigt mit positivem Vorzeichen eine direkte Proportionalität zwischen $x$ und $t$. Die geringfügige Abweichung zu +1 zeigt, dass die Messwerte leicht von dem erwarteten linearen Zusammenhang dennoch abweichen."
   ]
  }
 ],
 "metadata": {
  "kernelspec": {
   "display_name": "Python 3",
   "language": "python",
   "name": "python3"
  },
  "language_info": {
   "codemirror_mode": {
    "name": "ipython",
    "version": 3
   },
   "file_extension": ".py",
   "mimetype": "text/x-python",
   "name": "python",
   "nbconvert_exporter": "python",
   "pygments_lexer": "ipython3",
   "version": "3.9.12"
  }
 },
 "nbformat": 4,
 "nbformat_minor": 4
}