{
 "cells": [
  {
   "cell_type": "markdown",
   "id": "5749a36a-5868-4c27-ac27-b4fda04368ab",
   "metadata": {},
   "source": [
    "# Messunsicherheiten - Quellen, Ursachen und Korrektur\n",
    "\n",
    "Jede Messung einer physikalischen Größe $x$ ist abhängig von den verwendeten Messgeräten, dem Messverfahren, dem Messobjekt, von Umwelteinflüssen (Temperatur, Feuchtigkeit, elektromagnetische Felder) und schließlich auch vom Beobachter (Müdigkeit, Sehschärfe, Übung), wie in {numref}`fehlerklassen` dargestellt.\n",
    "\n",
    ":::{figure-md} fehlerklassen\n",
    "<img src=\"draw/fehlerklassen.jpg\" alt=\"fehlerklassen\" width=\"600px\" label = fehlerklassen>\n",
    "\n",
    "Vereinfachtes Modell eines Messsystems mit Störeinflüssen.\n",
    ":::\n",
    "\n",
    "Folgende Störungen können während der Messung auftreten:\n",
    "* **Innere Störgrößen:** Hierbei handelt es sich um Störgrößen im Messgerät selbst. Beispiele dafür sind Alterungseffekte an für die Messung wichtigen Bauteilen. Bei Drehspulinstrumenten oder Waagen ist eine Feder eingebaut, deren Eigenschaften sich im Laufe der Lebensdauer verändert, was sich in einer fehlerhaften Anzeige bemerkbar macht.\n",
    "* **Äußere Störgrößen:** Messungen werden meist durch mehrere unerwünschte Einflüsse gestört. Eine Widerstandsbrückenschaltung ist beispielsweise temperaturabhängig. Hierbei gibt es sowohl systematische Abweichungen, d.h. man kann den Einfluss isolieren und deterministisch beschreiben und die Messung korrigieren. Eine andere Art von äußeren Störgrößen sind zufällige Einstreuungen, die man nicht kompensieren kann. Zu ihrer Unterdrückung kommen u. a. einfache Mittelwertfilter zum Einsatz.\n",
    "* **Beobachtungsfehler:** Wenn du eine Messung durchführst, kannst auch du, der Beobachter, zu einer Fehlerquelle werden, wenn z.B. die Anzeige falsch abgelesen wird. \n",
    "* **Dynamische Fehler:** Jedes Messsystem braucht eine bestimmte Zeit um sich einzupendeln. Daher sollte man immer einen Moment warten, bis man das Messsignal abliest. Die Abweichung entspricht hierbei der Größe des Toleranzbereichs. Optimalerweise wird das gemessene Signal der eigentlichen Messgröße verzögerungsfrei folgen. Sollte dies nicht der Fall sein, wird dies als dynamischer Fehler bezeichnet.\n",
    "* **Rückwirkung** Jedes Messgerät braucht für den Messprozess Energie oder Leistung, die dem Prozess entzogen wird. Der Wert der Messgröße mit angeschlossener Messeinrichtung unterscheidet sich vom Wert, der ohne Messeinrichtung erreicht worden wäre. Auch bei externen Spannungsversorgungen entsteht eine Rückwirkung und Kopplung aufgrund von Wärme, die äußere Störgrößen antreibt. \n",
    "* **Quantisierungsfehler**: Diese Fehler entstehen bei der Digitalisierung. Es existiert nur eine endliche Anzahl von Möglichkeiten einen analogen Messwerte mittels Bits darzustellen.\n",
    "\n",
    "Um die Messunsicherheiten und Störungen zu reduzieren, sollten immer die vom Hersteller spezifizierten Normalbedingungen (Messbereich, Messgenauigkeit, Betriebsbedingung, Einbauvorschrift, Energieversorgung, Abmessungen) eingehalten werden."
   ]
  },
  {
   "cell_type": "markdown",
   "id": "d474ee96-ab43-41b6-bca9-44e2a38e88c3",
   "metadata": {},
   "source": [
    "## Anzeigefehler von Messgeräten (systematisch)\n",
    "\n",
    "Messgeräte werden anhand ihrer Genauigkeit in Klassen eingruppiert. Die Klasse entspricht der relativen Messabweichung. Präzisionsmessgeräte besitzen somit Abweichungen die zwischen 0,001% und 0,05% liegen. Die Genauigkeitsklasse K 2,5 (Angabe auf der Messskala nach DIN EN 60051 Abb. 1) bedeutet: Ist der Endwert des eingestellten Messbereichs $U_\\mathrm{end}$, dann beträgt die Typ B-Unsicherheit über den gesamten Messbereich $u(U) = 0,0025\\cdot U_\\mathrm{end}$. Für $U_\\mathrm{end} = 15\\,\\mathrm V$ erhält man also:"
   ]
  },
  {
   "cell_type": "code",
   "execution_count": 1,
   "id": "955cdb6e-d2e0-4c18-b008-eb9c1410d2de",
   "metadata": {},
   "outputs": [
    {
     "name": "stdout",
     "output_type": "stream",
     "text": [
      "eine absolute Unsicherheit von  0.0375 V\n"
     ]
    }
   ],
   "source": [
    "U_end = 15\n",
    "u = 0.0025\n",
    "print('eine absolute Unsicherheit von ', u*U_end, 'V')"
   ]
  },
  {
   "cell_type": "markdown",
   "id": "01bf49d0-f8ab-4b23-9f8c-27d964394411",
   "metadata": {},
   "source": [
    "Dieser Wert von 0,375V gilt unabhängig davon, wie groß der Zeigerausschlag beim Messgerät ist. Um die relative Unsicherheit gering zu halten, sollte der Messbereich möglichst so gewählt werden, dass der Messwert am Skalen*ende* abgelesen wird."
   ]
  },
  {
   "cell_type": "markdown",
   "id": "a373975b-f00f-4a48-947f-b8bb3a85db31",
   "metadata": {},
   "source": [
    "## Digitalstellenfehler\n",
    "\n",
    ":::::{grid} 2\n",
    "\n",
    "::::{grid-item}\n",
    "| Messgeräte-Kategorie | Genauigkeits-Klasse (%) |\n",
    "|:--------|:-----------|\n",
    "|Präzisions-Messgeräte | 0.001 |\n",
    "| | 0.002|\n",
    "| | 0.005|\n",
    "| | 0.01|\n",
    "| | 0.05|\n",
    "| Fein-Messgeräte | 0.1|\n",
    "| | 0.2|\n",
    "| | 0.5|\n",
    "| Betriebs-Messgeräte | 1.0|\n",
    "| | 1.5|\n",
    "| | 2.5|\n",
    "| | 5.0|\n",
    "::::     \n",
    "        \n",
    "::::{grid-item}\n",
    ":::{figure-md} voltmeter\n",
    "<img src=\"draw/voltmeter.jpg\" alt=\"voltmeter\" width=\"175px\" label = voltmeter>\n",
    "\n",
    "Voltmeter mit Digitalanzeige.\n",
    ":::\n",
    "::::\n",
    ":::::\n",
    "\n",
    "\n",
    "Das Gerät im Bild zeigt den Messwert 5.847V an. Laut Hersteller ist die Maximalabweichung (unter Referenzbedingungen) $a = \\pm$ (0,5% vom *Messwert* + 9 Digit). Die Anzahl der Nachkommastellen (also der Digits) ist in diesem Falle 3, also 0,001V. Genauer kann das Messgerät keine Spannung angeben. Die Messabweichung setzt sich also wiefolgt zusammen (zwei signifikante Stellen reichen hierbei, da der Messwert selber nicht genauer angezeigt wird):\n",
    "\n",
    "$$a = \\pm (0,5\\% \\cdot 5,847\\,\\mathrm{V} + 9 \\cdot 0,001\\,\\mathrm V) \\approx \\pm 0,038\\,\\mathrm V = \\pm 38,235\\,\\mathrm{mV}$$\n",
    "\n",
    "Innerhalb dieses $\\pm$ Bereiches der Breite $2a$ unterstellt man eine Gleichverteilung der Messwerte und bekommt damit die Standardunsicherheit:\n",
    "\n",
    "$$u(U) = \\frac{a}{\\sqrt{3}} = \\frac{38,235\\,\\mathrm{mV}}{\\sqrt{3}} \\approx 22\\,\\mathrm{mV}$$\n",
    "\n",
    "Ist nichts weiter bekannt, schätzt man die Unsicherheit über einen Mindestfehler von a = 1 Digit ab."
   ]
  },
  {
   "cell_type": "code",
   "execution_count": 2,
   "id": "620355a4-8e93-4b1b-9954-8d4fe74d1bbc",
   "metadata": {},
   "outputs": [
    {
     "name": "stdout",
     "output_type": "stream",
     "text": [
      "Die Messtoleranz beträgt: +- 0.03824 V = +- 38.235 mV\n",
      "Die Unsicherheit beträgt: +- 0.02207 V = +- 22.07499 mV\n"
     ]
    }
   ],
   "source": [
    "import numpy as np\n",
    "Messwert = 5.847 # in V\n",
    "Nachkommastellen = 5\n",
    "A_rel = 0.005 # = 0.5%\n",
    "Digit = 0.001 # in V \n",
    "A_total = A_rel * Messwert + 9 * Digit\n",
    "print('Die Messtoleranz beträgt: +-',round(A_total,Nachkommastellen), 'V = +-', round(A_total*1000,Nachkommastellen), 'mV')\n",
    "print('Die Unsicherheit beträgt: +-',round(A_total/np.sqrt(3),Nachkommastellen), 'V = +-', round(A_total*1000/np.sqrt(3),Nachkommastellen), 'mV')"
   ]
  },
  {
   "cell_type": "markdown",
   "id": "c1af3198-b9c0-4c9c-962a-bcfb3f64e851",
   "metadata": {},
   "source": [
    "## Abweichung aufgrund von Verbindungskabel (systematisch)\n",
    "\n",
    "::::::{margin}\n",
    ":::::{grid}\n",
    "::::{grid-item-card}\n",
    ":class-header: bg-light\n",
    "Leitungswiderstand und Spannungsabfall einer Leitung berechnen (Kfz-Technik einfach erklärt)\n",
    "\n",
    "<iframe width=\"200\" height=\"113\" src=\"https://www.youtube.com/embed/kzjpePkDTjQ\" title=\"YouTube video player\" frameborder=\"0\" allow=\"accelerometer; autoplay; clipboard-write; encrypted-media; gyroscope; picture-in-picture; web-share\" allowfullscreen></iframe>\n",
    "::::\n",
    ":::::\n",
    "::::::\n",
    "\n",
    "Verbindungskabel besitzen Innenwiderstände, wo ebenfalls Spannungen abfallen:\n",
    "\n",
    "$$R_L = \\frac{\\zeta \\cdot l}{A}$$\n",
    "\n",
    "Hierbei ist $\\zeta$ der spezifische Widerstand, der für Kupfer $0,0175\\,\\mathrm{\\Omega mm^2/m}$ beträgt. $l$ ist die Länge der Zuleitung und $A$ der Querschnittfläche des Kabels.\n",
    "\n",
    "Eine gemessene Spannung ist also zu hoch und muss korrigiert werden.\n",
    "\n",
    ":::{admonition} Aufgabe\n",
    ":class: tip\n",
    "Angenommen man habe ein $2\\,\\mathrm m$ langes Kabel, das einen Querschnitt von $0,5\\,\\mathrm{mm^2}$ aufweist und aus Kupfer (mit einem spezifischen Widerstand von $0,0175\\,\\mathrm{\\Omega mm^2/m}$) ist. Wie groß ist die systematische Messabweichung für eine Stromstärke von $I = 100\\,\\mathrm{mA}$, wenn jeweils ein solches Kabel zum Anschluss der Spannungsmessung genommen wird?\n",
    ":::"
   ]
  },
  {
   "cell_type": "code",
   "execution_count": null,
   "id": "d7359bdf-05c6-454a-9677-2be7c6f861df",
   "metadata": {
    "tags": [
     "hide-cell"
    ]
   },
   "outputs": [],
   "source": [
    "zeta = 0.0175 #in Ohm mm^2 / m\n",
    "l = 2 #in m\n",
    "A = 0.5 #in mm^2\n",
    "I = 100e-3 #in A\n",
    "\n",
    "# Strom durch ein Zuleitungskabel\n",
    "U = zeta * l / A * I\n",
    "print('Die Spannung wird um ', 2*U*1000, 'mV zu hoch gemessen')"
   ]
  },
  {
   "cell_type": "markdown",
   "id": "120b21ad-f5ae-49ad-8365-de32b3c1941f",
   "metadata": {},
   "source": [
    ":::{admonition} Lösung\n",
    ":class: tip, dropdown\n",
    "Angenommen man habe keine Zuleitungskabeln, wo wäre die Spannung an einem Widerstand $R_x$ durch $U_x = R_x \\cdot I$ gegeben. \n",
    "Bei Zuleitungskabeln werden die unvermeidbaren Zusatz-Widerstände in Reihe zu dem eigentlichen Widerstand $R_x$ geschaltet. Das heißt die gemessene Spannung setzt sich nun aus der Spannung an $R_x$ und an den jeweils 2 Kabeln, $U_L$ zusammen: $U = U_x + 2\\cdot U_L$. \n",
    "Der Wert für $U_L$ beträgt:\n",
    "\n",
    "$$U_L = \\frac{\\zeta \\cdot l}{A} \\cdot I = 7\\,\\mathrm{mV}$$\n",
    "\n",
    "Damit wird die Spannung mit 2m-Kupferkabeln um $14\\,\\mathrm{mV}$ zu hoch gemessen!\n",
    ":::"
   ]
  },
  {
   "cell_type": "markdown",
   "id": "47f32447-1c4f-463e-b0d4-e247692964f0",
   "metadata": {},
   "source": [
    "## Korrektur von systematischen Messabweichungen\n",
    "\n",
    "Man merkt, dass systematische Fehler sehr unangenehm sein können, da Gegenmaßnahmen fallabhängig entwickelt werden müssen. In einigen Fällen gelangt man zu einer brauchbaren Abschätzung der Unsicherheit, wenn man den „worst case“ annimmt. \n",
    "\n",
    "Abschätzungen von systematischen Messabweichungen, wie es z.B. im vergangenen Beispiel des Verbindungskabels geschehen ist, müssen unbedingt benutzt werden, um den Messwert am Ende zu korrigieren! Ansonsten misst man einen *ungenauen* Wert, der entweder zu groß oder zu klein ist. Dies wird auch häufig als \"Offset\" bezeichnet. Die Messung kann dann noch so *präzise* wie möglich sein, der Wert ist dennoch *falsch*.\n",
    "\n",
    "Bei zufälligen Messabweichungen ist eine Korrektur nicht möglich. In diesem Fall muss die Messabweichung mit Methoden der Statistik bestimmt und mit dem Messwert zusammen angegeben werden. \n",
    "\n",
    ":::{figure-md} messabw\n",
    "<img src=\"draw/zusammenfassung_abw.jpg\" alt=\"messabw\" width=\"600px\" label = messabw>\n",
    "\n",
    "Korrektur und Angabe des Messergebnisses\n",
    ":::"
   ]
  }
 ],
 "metadata": {
  "kernelspec": {
   "display_name": "Python 3",
   "language": "python",
   "name": "python3"
  },
  "language_info": {
   "codemirror_mode": {
    "name": "ipython",
    "version": 3
   },
   "file_extension": ".py",
   "mimetype": "text/x-python",
   "name": "python",
   "nbconvert_exporter": "python",
   "pygments_lexer": "ipython3",
   "version": "3.9.12"
  }
 },
 "nbformat": 4,
 "nbformat_minor": 5
}
