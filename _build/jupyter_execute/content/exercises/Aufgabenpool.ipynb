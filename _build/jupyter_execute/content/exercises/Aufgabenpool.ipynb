{
 "cells": [
  {
   "cell_type": "markdown",
   "id": "be287f8c-7883-4429-8a34-c6e4c555bdff",
   "metadata": {},
   "source": [
    "# Aufgabenpool\n",
    "\n",
    "```{tableofcontents}\n",
    "```"
   ]
  }
 ],
 "metadata": {
  "kernelspec": {
   "display_name": "Python 3",
   "language": "python",
   "name": "python3"
  },
  "language_info": {
   "codemirror_mode": {
    "name": "ipython",
    "version": 3
   },
   "file_extension": ".py",
   "mimetype": "text/x-python",
   "name": "python",
   "nbconvert_exporter": "python",
   "pygments_lexer": "ipython3",
   "version": "3.9.12"
  }
 },
 "nbformat": 4,
 "nbformat_minor": 5
}