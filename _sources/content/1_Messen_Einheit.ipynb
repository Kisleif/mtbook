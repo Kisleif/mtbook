{
 "cells": [
  {
   "cell_type": "markdown",
   "id": "b8a4e7ce-d406-442e-b6b5-977466c64b14",
   "metadata": {},
   "source": [
    "# Messen\n",
    "\n",
    "Ein Messobjekt hat eine bestimmte Messgröße (physikalische Größe, Temperatur, Stromstärke, …) von welcher der Messwert bestimmt werden soll. Hierfür wird ein Verfahren benötigt, um die Größe zu extrahieren, was durch ein passendes Messgerät geschieht. \n",
    "\n",
    "## Messgröße, -wert und -kette\n",
    "\n",
    "In {numref}`messgroesse` wird ist das Beispiel einer Messkette für eine Temperaturmessung gezeigt. An einem bestimmten Ort herrschende **Messgröße**, hier 24,1286941…°C, wird mittels eines geeigneten Aufbaus in einen **Messwert** von 25,01°C überführt. \n",
    "Der Messwert kann uns direkt angezeigt werden oder er kann in nachfolgenden elektronischen Systemen zur Weiterverarbeitung in geeigneter Form zugeführt werden. \n",
    "\n",
    ":::{figure-md} messgroesse\n",
    "<img src=\"draw/messgroesse.jpg\" alt=\"messgroesse\" width=\"600px\" label = messgroesse>\n",
    "\n",
    "Darstellung der **Messkette**.\n",
    ":::\n",
    "\n",
    "## Messsignal\n",
    "\n",
    "Von einem **Messsignal**, $x_1$ (im Gegensatz zur Begrifflichkeit *Messgröße*) spricht man, wenn direkt mit der Messgröße zusammenhängende elektrische Signale zwischen den beiden Stellen, an denen Messgröße und Messwert anfallen, gemessen werden (zum Beispiel das Kabel in der Skizze). Messsignale tragen die Information über die Messgröße, welche auf unterschiedlichste Weise realisiert werden z.B. als analoger Spannungs- oder Stromwert, als frequenzmoduliertes Signal, als Digitalwort oder ähnliches. Häufig bezeichnet man mit einem Signal einen zeitabhängigen Messwert, d.h. $x_1(t)$. \n",
    "\n",
    "## Einheit \n",
    "\n",
    "Wird ein Messwert, $y$, bestimmt, so entspricht dieser im Rahmen der Messtechnik einem Vielfachen, $n$, von einer Einheit, $E$:\n",
    "\n",
    "$$ y = n \\cdot E$$\n",
    "\n",
    "Ein Messgerät bestimmt ein Vielfaches einer Einheit. Damit dies überall auf der Welt gleich gut funktioniert muss ein Messgerät entsprechend *geeicht* oder *kalibriert* werden. \n",
    "Außerdem gibt es auch noch den Begriff des *Justierens*. Dieser beschreibt die Anpassung eines Messgerät an verschiedene Umgebungen. Evtl. müssen Messgeräte bei unterschiedlichen Temperaturen anders behandelt werden und entsprechend *einjustiert* werden.\n",
    "\n",
    "\n",
    "## Blockdiagramme\n",
    "\n",
    "Häufig werden Prozesse in der Messtechnik mittels **Blockdiagrammen** dargestellt. Für die Messkette in {numref}`messgroesse` würde das Blockdiagramm wie in {numref}`messsystem_block`  dargestellt aussehen:\n",
    "\n",
    ":::{figure-md} messsystem_block\n",
    "<img src=\"draw/messsystem.jpg\" alt=\"messsystem\" width=\"600px\" label = messsystem_block>\n",
    "\n",
    "Blockdiagramm der Messkette.\n",
    ":::\n",
    "\n",
    "\n",
    "## Messabweichung\n",
    "\n",
    "Wie man an der oben dargestellten Temperaturmessung sieht, sind die Werte, die gemessen werden, nicht *exakt*, sondern weichen von dem *wahren* Wert ab. Dies ist die sogenannte [Messabweichungen](1_Messunsicherheiten.ipynb) deren Ursache unterschiedliche Gründe haben kann. Sie ist ein Maß für die Qualität der Messung: Desto kleiner die Messabweichung, die *genauer* oder *präziser* ist die Messung. Daher ist es wichtig, dass jeder Messwert, $x$, stets mit einer Messabweichung, $\\Delta x$, versehen wird. Man schreibt dann:\n",
    "\n",
    "$$x \\pm \\Delta x$$\n",
    "\n",
    "wobei $\\Delta x$ die *absolute Messabweichung* ist und dieselbe Einheit wie der eigentliche Messwert besitzt. \n",
    "\n",
    "Die *relative Messabweichung* wird auf einen Referenzwert bezogen, der häufig der Messwert $x$ ist:\n",
    "\n",
    "$$\\Delta x_\\mathrm{relativ} = \\frac{\\Delta x}{x}$$\n",
    "\n",
    "Die Einheit der relativen Messabweichung ist somit *einheitenlos* und wird häufig in Prozent (%) angeben."
   ]
  },
  {
   "cell_type": "markdown",
   "id": "b7af1720-becf-4b17-b5d0-229bf7c5d2da",
   "metadata": {},
   "source": [
    ":::{admonition} Aufgabe\n",
    ":class: tip\n",
    "Wie groß ist die in {numref}`messgroesse` dargestellte absolute und relative Messabweichung?\n",
    ":::\n",
    "\n",
    ":::{admonition} Lösung\n",
    ":class: tip, dropdown\n",
    "Die Differenz zwischen *wahren* und *gemessenen* Wert beträgt 0,88°C, was der absoluten Messabweichung entspricht. Bezogen auf den Messwert beträgt die relative Messabweichung 3,52%.\n",
    ":::"
   ]
  },
  {
   "cell_type": "code",
   "execution_count": 2,
   "id": "1a74164d-a803-485b-aea5-2fc71e774614",
   "metadata": {
    "tags": [
     "hide-input"
    ]
   },
   "outputs": [
    {
     "name": "stdout",
     "output_type": "stream",
     "text": [
      "Die absolute Messabweichung beträgt:  0.881305900000001 °C\n",
      "Die relative Messabweichung beträgt:  0.03523814074370256  =  3.523814074370256 %\n"
     ]
    }
   ],
   "source": [
    "import numpy as np\n",
    "x_wahr = 24.1286941\n",
    "x_gemessen = 25.01\n",
    "dx_absolut = np.abs(x_gemessen - x_wahr)\n",
    "\n",
    "print('Die absolute Messabweichung beträgt: ', dx_absolut, '°C')\n",
    "print('Die relative Messabweichung beträgt: ', dx_absolut/x_gemessen, ' = ', dx_absolut/x_gemessen*100, '%')"
   ]
  },
  {
   "cell_type": "code",
   "execution_count": null,
   "id": "666105c6-df84-4674-a6eb-607c55e93ed7",
   "metadata": {},
   "outputs": [],
   "source": []
  }
 ],
 "metadata": {
  "kernelspec": {
   "display_name": "Python 3",
   "language": "python",
   "name": "python3"
  },
  "language_info": {
   "codemirror_mode": {
    "name": "ipython",
    "version": 3
   },
   "file_extension": ".py",
   "mimetype": "text/x-python",
   "name": "python",
   "nbconvert_exporter": "python",
   "pygments_lexer": "ipython3",
   "version": "3.9.12"
  }
 },
 "nbformat": 4,
 "nbformat_minor": 5
}
