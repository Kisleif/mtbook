{
 "cells": [
  {
   "cell_type": "markdown",
   "id": "1ede8630-6eeb-44c4-9ccf-cd2b49ffbf3a",
   "metadata": {},
   "source": [
    "# Grundlagen der Elektrotechnik\n",
    "\n",
    "<video width=\" 220\" height=\" \" \n",
    "       src=\"movie/Hazel.mov\"  \n",
    "       controls>\n",
    "</video>\n",
    "\n",
    "::::::{margin}\n",
    ":::::{grid}\n",
    "::::{grid-item-card}\n",
    ":class-header: bg-light\n",
    "Elektrotechnik Grundlagen, Ohm'sches Gesetzt, Knotensatz, Maschensatz, Zweipole | Prof. Griesbauer\n",
    "\n",
    "<iframe width=\"220\" height=\"113\" src=\"https://www.youtube.com/embed/7NvQURKQNrs?si=idcjKfXcP1OJXZ4A\" title=\"YouTube video player\" frameborder=\"0\" allow=\"accelerometer; autoplay; clipboard-write; encrypted-media; gyroscope; picture-in-picture; web-share\" allowfullscreen></iframe>\n",
    "::::\n",
    ":::::\n",
    "::::::\n",
    "\n"
   ]
  },
  {
   "cell_type": "code",
   "execution_count": null,
   "id": "d08db75d-5fb6-4e02-a7e6-5db9ba1663a2",
   "metadata": {},
   "outputs": [],
   "source": []
  }
 ],
 "metadata": {
  "kernelspec": {
   "display_name": "Python 3",
   "language": "python",
   "name": "python3"
  },
  "language_info": {
   "codemirror_mode": {
    "name": "ipython",
    "version": 3
   },
   "file_extension": ".py",
   "mimetype": "text/x-python",
   "name": "python",
   "nbconvert_exporter": "python",
   "pygments_lexer": "ipython3",
   "version": "3.9.12"
  }
 },
 "nbformat": 4,
 "nbformat_minor": 5
}