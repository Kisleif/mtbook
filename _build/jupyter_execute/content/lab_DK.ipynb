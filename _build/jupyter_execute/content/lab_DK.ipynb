{
 "cells": [
  {
   "cell_type": "markdown",
   "id": "773f85fd-5bbe-453b-aa92-ae823647145e",
   "metadata": {},
   "source": [
    "# Dioden-Kennlinie\n",
    "\n",
    "```{admonition} Download Versuchsanleitung\n",
    ":class:\n",
    "[Hier](https://hsuhhde.sharepoint.com/:b:/s/MesstechnikHT23_mst/EYq2NLIzBS5BlWrjIOjYc5QBwdPb399020_rXax5gc46WA?e=LIrYRF) könnt ihr das PDF zur Versuchsanleitung *Dioden-Kennlinie* herunterladen. \n",
    "```"
   ]
  },
  {
   "cell_type": "code",
   "execution_count": null,
   "id": "c5a0cf9e-4d8b-4190-8ced-142913c6d7c2",
   "metadata": {},
   "outputs": [],
   "source": []
  }
 ],
 "metadata": {
  "kernelspec": {
   "display_name": "Python 3",
   "language": "python",
   "name": "python3"
  },
  "language_info": {
   "codemirror_mode": {
    "name": "ipython",
    "version": 3
   },
   "file_extension": ".py",
   "mimetype": "text/x-python",
   "name": "python",
   "nbconvert_exporter": "python",
   "pygments_lexer": "ipython3",
   "version": "3.9.12"
  }
 },
 "nbformat": 4,
 "nbformat_minor": 5
}