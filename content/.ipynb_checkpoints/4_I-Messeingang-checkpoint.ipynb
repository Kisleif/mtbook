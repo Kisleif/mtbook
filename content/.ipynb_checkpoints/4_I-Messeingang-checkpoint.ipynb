{
 "cells": [
  {
   "cell_type": "markdown",
   "id": "787728f0-5d66-46f1-bdf4-b630b44224d5",
   "metadata": {},
   "source": [
    "# Strommesseingang\n",
    "\n",
    "Im Bild {numref}`strommesseingang` ist dargestellt, wie elektrische Ströme gemessen werden. $R_L$ stellt hierbei einen Lastwiderstand, z.B. den einen Motors oder eines anderen Verbrauchers, dar. \n",
    "\n",
    ":::{figure-md} markdown-fig\n",
    "<img src=\"draw/strommesseingang.jpg\" alt=\"strommesseingang\" class=\"bg-primary mb-1\" width=\"400px\" name = strommesseingang>\n",
    "\n",
    "Schaltung zur Messung elektrischer Ströme.\n",
    ":::"
   ]
  }
 ],
 "metadata": {
  "kernelspec": {
   "display_name": "Python 3",
   "language": "python",
   "name": "python3"
  },
  "language_info": {
   "codemirror_mode": {
    "name": "ipython",
    "version": 3
   },
   "file_extension": ".py",
   "mimetype": "text/x-python",
   "name": "python",
   "nbconvert_exporter": "python",
   "pygments_lexer": "ipython3",
   "version": "3.9.12"
  }
 },
 "nbformat": 4,
 "nbformat_minor": 5
}
