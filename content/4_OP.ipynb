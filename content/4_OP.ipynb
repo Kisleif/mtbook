{
 "cells": [
  {
   "cell_type": "markdown",
   "id": "d0b548a4-10dd-4c71-86f1-d5249a4ab9a2",
   "metadata": {},
   "source": [
    "# Operationsverstärker (OP)"
   ]
  },
  {
   "cell_type": "markdown",
   "id": "85aa4e8c-5097-43a8-8e3f-251d1766bc2b",
   "metadata": {},
   "source": [
    "Liegen kleine Signale vor, wie z.B. kleine Stromstärken $I$,  Spannungswerte $U$ oder Widerstandswerte $R$, so werden die Signale häufig als erstes verstärkt, was mittels einem Operationsverstärker (OP) realisiert wird. In {numref}`op` ist eine schematische Zeichnung eines OPs dargestellt. \n",
    "\n",
    ":::{figure-md} op\n",
    "<img src=\"draw/op.jpg\" alt=\"op\" width=\"600px\" label = op>\n",
    "\n",
    "Schematische Darstellung eines Operationsverstärkers (OPs) mit Eingangs-Innenwiderstand $R_e$, Ausgangs-Innenwiderstand $R_i$ und Spannungsversorgung $U_V$. $U_d$ ist die angelegte Eingangsspannung an dem differentiellen Eingang des OPs. $U_a$ ist die Ausgangsspannung.\n",
    ":::"
   ]
  },
  {
   "cell_type": "markdown",
   "id": "ff46c660-00b3-4bff-bc2f-b2436d6e2502",
   "metadata": {},
   "source": [
    "## Eigenschaften"
   ]
  },
  {
   "cell_type": "markdown",
   "id": "daca9b8b-058e-4b4a-a159-45bbf62158be",
   "metadata": {},
   "source": [
    "::::::{margin}\n",
    ":::::{grid}\n",
    "::::{grid-item-card}\n",
    ":class-header: bg-light\n",
    "Operationsverstärker\n",
    "\n",
    "<iframe width=\"220\" src=\"https://www.youtube.com/embed/nl3JZbj9kHs\" title=\"YouTube video player\" frameborder=\"0\" allow=\"accelerometer; autoplay; clipboard-write; encrypted-media; gyroscope; picture-in-picture\" allowfullscreen></iframe>\n",
    "::::\n",
    ":::::\n",
    "::::::"
   ]
  },
  {
   "cell_type": "markdown",
   "id": "9ae0f8bf-ccd9-48a3-b590-2c53c25e7e26",
   "metadata": {},
   "source": [
    "Dies sollte möglichst **rückwirkungsfrei** geschehen, das heißt dass die Verstärkerschaltung möglichst wenig Einfluss auf die Messgröße und die weiterführende Signalverarbeitung hat. \n",
    "Für eine Spannung, die man anlegt, sollte der **Eingangs-Innenwiderstand $R_e$** also **möglichst groß** sein, um den kompletten Spannungsabfall zu messen. \n",
    "Typische *reale* Werte liegen zwischen $R_e' \\approx 10^6 - 10^{12}\\,\\mathrm{\\Omega}$. Der Innenwiderstandswert eines *idealen* OPs wäre $R_e = \\infty$. \n",
    "\n",
    "Desweiteren möchte man eine **hohe Empfindlichkeit** und eine **große Verstärkung** erreichen, weshalb eine zusätzliche Strom- bzw. **Spannungsversorgung $U_V$** von Nöten ist, da die zusätzlich Energie von Außen dem System zugeführt werden muss. Dies ist der allgemein Sinn von Operationsverstärkern. Die Verstärkung ist allgemein definiert als \n",
    "\n",
    "$$ k' = \\frac{U_\\mathrm a}{U_\\mathrm d} $$\n",
    "\n",
    "wobei $k'$ die reale Verstärkung des OPs ist, $k$ wäre die des *idealen* OPs ($k = \\infty$) und $U_\\mathrm a$ ist die Ausgangsspannung und $U_\\mathrm d$ die differentielle Eingangsspannung. Reale Verstärkungsfaktoren liegen in der Größenordnung von $k' \\approx 10^6$. \n",
    "\n",
    "Das Ausgangssignal sollte weiterdessen direkt mit dem Eingangssignal korreliert sein, d.h. wir wünschen uns ein **definiertes Übertragungsverhalten**. Dem Eingangssignal sollte zudem möglichst gut und schnell gefolgt werden, d.h. es sollten keine allzu großen Verzögerungen auftreten. Dies wird über das **dynamische Verhalten** des verwendeten OPs bestimmt. Reale OPs haben eine begrenzte Bandbreite die berücksichtigt werden muss. \n",
    "Am Ausgang sollte ein möglichst kleiner Innenwiderstand vorzufinden sein, sodass wir ein **eingeprägtes Ausgangssignal** annehmen können, d.h. das Ausgangssignal ist gut weiterverwendbar und beeinflusst nicht die folgende Schaltung. \n"
   ]
  },
  {
   "cell_type": "markdown",
   "id": "d781955e-9c41-47aa-966a-430d59f45ead",
   "metadata": {},
   "source": [
    "::::::{margin}\n",
    ":::::{grid}\n",
    "::::{grid-item-card}\n",
    ":class-header: bg-light\n",
    "Elektrometer und weitere Beispiele\n",
    "\n",
    "<iframe width=\"220\" src=\"https://www.youtube.com/embed/wiq93KjXwao\" title=\"YouTube video player\" frameborder=\"0\" allow=\"accelerometer; autoplay; clipboard-write; encrypted-media; gyroscope; picture-in-picture\" allowfullscreen></iframe>\n",
    "::::\n",
    ":::::\n",
    "::::::\n"
   ]
  }
 ],
 "metadata": {
  "kernelspec": {
   "display_name": "Python 3",
   "language": "python",
   "name": "python3"
  },
  "language_info": {
   "codemirror_mode": {
    "name": "ipython",
    "version": 3
   },
   "file_extension": ".py",
   "mimetype": "text/x-python",
   "name": "python",
   "nbconvert_exporter": "python",
   "pygments_lexer": "ipython3",
   "version": "3.9.12"
  }
 },
 "nbformat": 4,
 "nbformat_minor": 5
}
