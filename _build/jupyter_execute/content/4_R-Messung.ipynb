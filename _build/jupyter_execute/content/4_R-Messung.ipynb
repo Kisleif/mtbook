{
 "cells": [
  {
   "cell_type": "markdown",
   "id": "73c96e7a-4f02-4eec-a88e-0b64a93eb6b7",
   "metadata": {},
   "source": [
    "# Widerstandsmessung\n",
    "\n",
    "Vielen Sensoren, die wir auch noch im Kapitel [Sensoren](6_Einführung.ipynb) kennenlernen werden, sind **resistive Sensoren**. Das heißt deren Widerstandverhalten ändert sich aufgrund der zu messenden Größe, wie z.B. Temperatur, Luftfeuchtigkeit oder Einstrahlung. \n",
    "Für die Messung eines ohmschen Widerstands nutzen wir folgende Formal \n",
    "\n",
    "$$R = \\frac{U}{I}$$\n",
    "\n",
    "Genau wie bei der Leistungsmessung, müssen wir Strom und Spannung gleichzeitig messen. Hierbei entstehen Messfehler, da Messgeräte für Spannung und Strom Innenwiderstände besitzen, die die Widerstands- bzw. Leistungsmessung beeinflussen.  \n",
    "\n",
    "## Stromrichtige Widerstandsmessung\n",
    "In {numref}`R-messung_stromrichtig` ist die stromrichtige Anschaltung zur Messung eines Widerstandswert gezeigt.\n",
    "\n",
    ":::{figure-md} R-messung_stromrichtig\n",
    "<img src=\"draw/R-messung_stromrichtig.jpg\" alt=\"R-messung_stromrichtig\" class=\"bg-primary mb-1\" width=\"200px\" label = R-messung_stromrichtig>\n",
    "\n",
    "Stromrichtige Schaltung zur Messung elektrischer Widerstände.\n",
    ":::\n",
    "\n",
    "Angenommen der Strommesseingang hat einen Innenwiderstand $R_A$ und der Spannungsmesseingang $R_V$, dann gilt für die Messung:\n",
    "\n",
    "$$R = \\frac{U}{I} = \\frac{U_{R_A} + U_{R_x}}{I} = R_A + R_x$$\n",
    "\n",
    "wobei $R_x$ der gesuchte Messwert ist. \n",
    "Bei der stromrichtigen Anschaltung wird also der Innenwiderstand des Strommesseingangs $R_A$ mitgemessen. Wie schon vorher bei der Leistungsmessung erläutert, handelt es sich auch hierbei um einen systematischen Fehler, der korrigiert werden sollte. Mittels Testmessung oder Herstellerangaben sollte $R_A$ bekannt sein und vom Messergebnis subtrahiert werden. \n",
    "\n",
    "## Spannungsrichtige Widerstandsmessung\n",
    "\n",
    "In {numref}`R-messung_spannungsrichtig` ist die stromrichtige Anschaltung zur Messung eines Widerstandswert gezeigt.\n",
    "\n",
    ":::{figure-md} R-messung_spannungsrichtig\n",
    "<img src=\"draw/R-messung_spannungsrichtig.jpg\" alt=\"R-messung_spannungsrichtig\" class=\"bg-primary mb-1\" width=\"200px\" label = R-messung_spannungsrichtig>\n",
    "\n",
    "Spannungsrichtige Schaltung zur Messung elektrischer Widerstände.\n",
    ":::\n",
    "\n",
    "Angenommen der Strommesseingang hat einen Innenwiderstand $R_A$ und der Spannungsmesseingang $R_V$, dann gilt für die Messung:\n",
    "\n",
    "$$R = \\frac{U}{I} = \\frac{U_{R_x}}{I_{R_V} + I_{R_x}} = \\frac{R_x}{\\frac{I_{R_V}}{I_{R_x}} + 1} = \\frac{R_x}{\\frac{R_x}{R_V} + 1}$$\n",
    "\n",
    "Jetzt wird ein **zu kleiner** Widerstandwert gemessen, der wieder korrigiert werden muss. \n",
    "\n",
    "\n",
    "```{note} \n",
    "Ist der gesuchte Widerstandswert $R_x$ sehr viel kleiner als $R_V$, so liefert die spannungsrichtige Anschaltung kleinere Messabweichungen. Dies ist bei den meisten resistiven Sensoren der Fall, aber nicht immer. \n",
    "```"
   ]
  },
  {
   "cell_type": "markdown",
   "id": "e2d43ed9-30ad-4c69-80e8-b92c93cd60c8",
   "metadata": {},
   "source": [
    "## Widerstandsmessung mittels 2 Spannungsmessungen\n",
    "\n",
    "Für diese Methode benötigt man einen Referenzwiderstand $R$, der in Reihe zu dem gesuchten Widerstand $R_x$ geschaltet wird, wie in {numref}`R-messung_2` dargestellt, und zwei Spannungsmesseingänge.\n",
    "\n",
    ":::{figure-md} R-messung_2\n",
    "<img src=\"draw/R-messung_2.jpg\" alt=\"R-messung_2\" class=\"bg-primary mb-1\" width=\"300px\" label = R-messung_2>\n",
    "\n",
    "Widerstandsmessung mittels 2 Spannungsmessungen (ohne Strommesseingang).\n",
    ":::\n",
    "\n",
    "Dieses Messprinzip hat den Vorteil, dass auf eine Strommessung verzichtet werden kann, die meistens ungenauer ist als eine Spannungsmessung, da der Strom durch Umformung erstmal in eine Spannung gewandelt werden muss. Zudem ist es schwierig kleine Innenwiderstände in Strommesseingängen zu realisieren. \n",
    "\n",
    "Angenommen, beide Spannungsmesseingänge habe einen Innenwiderstand von $R_V$, so kann die Spannung in jedem System bestimmt werden:\n",
    "\n",
    "$$U_x = \\frac{R_x \\cdot R_V}{R_x + R_v} I$$\n",
    "\n",
    "$$U_R = \\frac{R \\cdot R_V}{R + R_v} I$$\n",
    "\n",
    "Für das Verhältnis der beiden Spannungen folgt:\n",
    "\n",
    "$$\\frac{U_R}{U_x} = \\frac{ \\frac{R R_V}{R + R_V} }{\\frac{R_x R_V}{R_x + R_V}} = \\frac{R}{R_x} \\cdot \\frac{\\frac{R_x}{R_V}+1}{\\frac{R}{R_V}+1} \\approx \\frac{R}{R_x}$$\n",
    "\n",
    "wodurch man für den gesuchten Wert folgenden zusammenhang erhält:\n",
    "\n",
    "$$R_x \\approx R \\cdot \\frac{U_x}{U_R}$$\n",
    "\n",
    "Die beiden Widerstände $R$ und $R_x$ sollten hierbei ähnliche Werte haben. Je größer der Innenwiderstand $R_V$ ist, desto besser gilt diese Näherungsformel. \n",
    "Ist $R_V$ unbekannt, so liefert diese Methode deutlich kleinere Messabweichungen im Vergleich zu den Methoden mit Strommessungen. Ist $R_V$ bekannt, so können auch hier systematische Abweichungen korrigiert werden. \n",
    "\n",
    "## Messabweichungen aufgrund von Kabelwiderständen\n",
    "Dieses Beispiel haben wir bereit im Kapitel [Messunsicherheiten](1_Messunsicherheiten.ipynb) behandelt und wollen wir der Vollständigkeitshalber hier nur noch einmal aufführen. \n",
    "\n",
    "Aufgrund der Innenwiderstände von Kabeln wird ein zu hoher Widerstandswert bemessen, der entsprechen korrigiert werden muss:\n",
    "\n",
    "$$R_L = \\frac{\\zeta \\cdot l}{A}$$\n",
    "\n",
    "Hierbei ist $\\zeta$ der spezifische Widerstand, der für Kupfer $0,0175\\,\\mathrm{\\Omega mm^2/m}$ beträgt. $l$ ist die Länge der Zuleitung und $A$ der Querschnittfläche des Kabels.\n",
    "\n",
    "Eine weitere Korrekturmöglichkeit ist hierbei die **Vierleitertechnik**, die eine Bestimmung des Kabelwiderstands nicht mehr benötigt. Das Kabel weist hier 4 Adern auf. An zwei Adern wird der Sensor/Widerstand mit einer Spannungsquelle verbunden, wodurch ein Stromfluss $I$ generiert wird. An die anderen beiden Adern wird ein Spannungsmesseingang angeschlossen, um den Spannungsabfalll am Sensor/Widerstand zu messen. Aufgrund der hohen Innenwiderstands im Spannungsmesseingang fließt hier praktisch kein Strom, wodruch auch über die Kabellänge keine zusätzliche Spannung abfällt. Trotzdem wird Spannung direkt am Sensor/Widerstand gemessen und der Messwert $R_x$ kann bestimmt werden:\n",
    "\n",
    "$$R_x = \\frac{U}{I}$$"
   ]
  },
  {
   "cell_type": "markdown",
   "id": "c8f73412-4bfd-49b2-aacc-92e6f26bfb9a",
   "metadata": {},
   "source": [
    "## Brückenschaltungen\n",
    "\n",
    "Um Messabweichungen bei der Widerstandsmessung zu vermeiden, kommen häufig Brückenschaltungen zum Einsatz. In {numref}`R-bruecke` ist eine Wheatstone'sche Messbrücke gezeigt, die aus zwei parallelgeschalteten Spannungsteilern, $R_1, R_2$ und $R_3, R_4$ besteht. Die Verbindung zwischen dem *oberen* und *unteren* Spannungsteiler wird **Brücke** genannt. Eine Gleichspannungsquelle wird an diese Brücke angelegt und erzeugt die **Brückenspannung, oder auch Diagonalspannung $U_d$**. Die Gesamtspannung teilt sich an den Widerständen auf. Ist das Verhältnis in beiden Spannungsteilern gleich, dann haben beide das gleiche Potential und an der Brücke fällt keine Spannung ab. Gibt es hingegen einen Potentialunterschied, so fließt ein Strom zwischen den beiden Spannungsteilern.\n",
    "\n",
    ":::{figure-md} R-bruecke\n",
    "<img src=\"draw/R-bruecke.jpg\" alt=\"R-bruecke\" class=\"bg-primary mb-1\" width=\"250px\" label = R-bruecke>\n",
    "\n",
    "Wheatstone'sche Widerstandsbrücke.\n",
    ":::\n",
    "\n",
    "Für die Einzelspannungen in den Spannungsteilern gilt:\n",
    "\n",
    "$$U_1 = \\frac{R_1}{R_1+R_2}U_0$$\n",
    "\n",
    "$$U_3 = \\frac{R_3}{R_3+R_4}U_0$$\n",
    "\n",
    "Hieraus kann die Diagonalspannung berechnet werden, die zugleich auch die **Kennlinie** der Messbrücke ist:\n",
    "\n",
    "$$U_d = U_3-U_1 = \\frac{R_2R_3-R_1R_4}{(R_1+R_2)(R_3+R_4)}U_0$$\n",
    "\n",
    "Damit die Brücke im Gleichgewicht ist muss $U_d = 0$ gelten:\n",
    "\n",
    "$$U_d = \\frac{R_2R_3-R_1R_4}{(R_1+R_2)(R_3+R_4)}U_0 = 0$$\n",
    "\n",
    "Es folgt also:\n",
    "\n",
    "$$R_2R_3-R_1R_4 = 0$$\n",
    "\n",
    "und daraus die Abgleichbedingung:\n",
    "\n",
    "$$\\frac{R_1}{R_2} = \\frac{R_3}{R_4}$$\n",
    "\n",
    "In beiden Spannungsteilern muss also das gleiche Widerstandsverhältnis gelten. Sollte sich einer der Widerstandswerte ändern, so ist die Brücke nicht mehr im Gleichgewicht und es fließt ein Ausgleichsstrom. \n",
    "\n",
    "Dies ist eine sehr empfindliche Anordnung, die auf kleinste Widerstandsänderungen reagiert und sofort einen messbaren Stromfluss bzw. Spannung generiert. Daher wird sie in der Messtechnik sehr häufig benutzt, in dem beispielsweise einer der Widerstände durch einen Sensor/Halbleiterbauelement ausgetauscht wird. Der Halbleiter reagiert auf Temperatur, Luftfeuchte, Licht oder ähnliches und ein Stromfluss, oder Potentialdifferenz, ist sofort messbar. \n",
    "\n",
    "**Limitierungen** bestehen in der Genauigkeit der Spannungsmessung und es kann unter Umständen aufwendig sein die Widerstandswerte anzupassen und zu wechseln. "
   ]
  },
  {
   "cell_type": "markdown",
   "id": "7aff094f-0cd8-4e9b-aa8d-96cb32e006f2",
   "metadata": {},
   "source": [
    "### Viertelbrücke / Ausschlagsbrücke\n",
    "\n",
    "Die einfachste Brückenschaltung ist die Viertelbrücke. Nur ein Vertiel aller vier Widerstände ist hierbei veränderlich, nämlich genau einer. Hier wird dann z.B. ein Sensor eingebaut, dessen Widerstand $R_x$ sich in Abhängigkeit von einer Messgröße $x$ ändert. Die anderen drei Widerstände haben feste, gleiche Widerstandswerte $R$. Der genaue Wert von $R$ muss richtig bestimmt werden. Die Schaltung ist in {numref}`R-viertelbr` dargestellt.\n",
    "\n",
    ":::{figure-md} R-viertelbr\n",
    "<img src=\"draw/R-viertelbr.jpg\" alt=\"R-viertelbr\" class=\"bg-primary mb-1\" width=\"250px\" label = R-viertelbr>\n",
    "\n",
    "Viertelbrücke oder auch Ausschlagsbrücke genannt. \n",
    ":::\n",
    "\n",
    "Angenommen, der zu messende Widerstandswert $R_x = R(x)$ setzt sich aus einem Grundwert $R$ und einer kleinen Widerstandsänderung $\\Delta R(x)$ zusammen. Die Widerstandsänderung $\\Delta R(x)$ ändert sich in Abhängigkeit von der zu messenden Messgröße $x$. Wenn keine Messgröße angelegt ist, also $x=0$, nimmt $R(x)$ den Grundwert $R$ an. Es gilt:\n",
    "\n",
    "$$R(x) = R + \\Delta R(x)$$\n",
    "\n",
    "Für die Brücke selber können wir wieder die Kennlinie auffschreiben. Hierfür benutzen wir die obige Formel und setzen die Widerstandswerte\n",
    "$R_2 = R(x) = R + \\Delta R(x)$ und $R_1 = R_3 = R_4 = R$ ein. Die drei Brückenwiderstände müssen dabei immer dem Grundwert $R$ des zu messen Widerstands entsprechen, $R(x)$! Dadurch erhalten wir:\n",
    "\n",
    "$$\n",
    "\\begin{align}\n",
    "U((x)) &= U_0 \\cdot \\left( \\frac{R(x)}{R(x) + R} - \\frac{1}{2} \\right) \\\\\n",
    "&= U_0 \\cdot \\frac{\\Delta R(x)}{2 \\cdot (2R + \\Delta R(x))}\n",
    "\\end{align}\n",
    "$$\n",
    "\n",
    "beziehungsweise nach Umstellen:\n",
    "\n",
    "$$\\frac{U(x)}{U_0} = \\frac{\\frac{\\Delta R(x)}{R}}{2 \\cdot \\left( 2 + \\frac{\\Delta R(x)}{R}\\right)}$$\n",
    "\n",
    "Der Zusammenhang ist im folgenden Plot dargestellt:"
   ]
  },
  {
   "cell_type": "code",
   "execution_count": 1,
   "id": "d2dfe7ec-d0a4-4338-aa5e-195a8f3393ed",
   "metadata": {
    "tags": [
     "hide-input"
    ]
   },
   "outputs": [
    {
     "data": {
      "image/png": "[encoded data removed]",
      "text/plain": [
       "<Figure size 400x300 with 1 Axes>"
      ]
     },
     "metadata": {},
     "output_type": "display_data"
    }
   ],
   "source": [
    "#Benötigte Libraries:\n",
    "import numpy as np\n",
    "import pandas as pd\n",
    "import matplotlib.pyplot as plt\n",
    "import seaborn as sns\n",
    "import warnings\n",
    "warnings.filterwarnings('ignore')\n",
    "\n",
    "# MatplotLib Settings:\n",
    "plt.style.use('default') # Matplotlib Style wählen\n",
    "#plt.xkcd()\n",
    "plt.rcParams['font.size'] = 10; # Schriftgröße\n",
    "\n",
    "ratio_R = np.linspace(-1,1,100) # Zeitwerte der Sinusfunktion in sec\n",
    "ratio_U = ratio_R / (2 * (2 + ratio_R))\n",
    "\n",
    "fig = plt.figure(figsize=(4,3))\n",
    "plt.axvline(x = 0., ls = '--', lw = 1, color = 'k')\n",
    "plt.axhline(y = 0., ls = '--', lw = 1, color = 'k')\n",
    "plt.plot(ratio_R,ratio_U, 'tab:blue')\n",
    "plt.xlabel(r'$\\Delta R / R$')\n",
    "plt.ylabel(r'$U/U_0$')\n",
    "plt.show()"
   ]
  },
  {
   "cell_type": "markdown",
   "id": "ed4cfecf-28e3-429a-a288-3e1ff2b5240e",
   "metadata": {},
   "source": [
    "Ist kein Messeffekt vorhanden, d.h. $\\Delta R = 0$, dann ist $U_d = 0$. Dadurch kann die Brücke gut auf den Nullpunkt *kalibriert* werden. Außerdem sieht man, dass für eine postive Änderung von $\\Delta R$ sich auch die Spannung in positive Richtung ändert. Das Vorzeichen kann man umkehren, indem man beispielsweise statt des Widerstands *oben recht* den *unten links* durch $R(x)$ ersetzt oder die Versorgungsspannung $U_0$, oder Brückenspannung $U_d$, umpolt. Die Kennlinie ist allerdings **nicht linear**. Solange die Änderungen in klein sind, $\\lvert \\Delta R \\rvert << R$, ist dies nicht schlimm. Auf kleinen Skalen verhält sie sich fast linear, wie z.B. Nahe des Nullpunkts und es gilt:\n",
    "\n",
    "$$U(x) \\approx \\frac{U_0}{4R}\\cdot \\Delta R(x)$$\n",
    "\n",
    "Gilt die Bedingung $\\lvert \\Delta R \\rvert << R$ nicht mehr, da die Dynamiken der Messgröße zu groß sind, müssen Korrekturstufen nachgeschaltet werden. "
   ]
  },
  {
   "cell_type": "markdown",
   "id": "e15bf6c7-f73a-4f28-85f6-32776e849e4e",
   "metadata": {},
   "source": [
    "### Halbbrücke\n",
    "\n",
    "Stehen einem zwei baugleiche zu messende Widerstände/Sensoren zur Verfügung, die die Messgröße $x$ in jeweils entgegensetzter Richtung aussteuert, können diese mit einer Halbbrücken-Schaltung wie in {numref}`R-Halbbruecke` dargestellt ausgelesen werden. \n",
    "\n",
    ":::{figure-md} R-Halbbruecke\n",
    "<img src=\"draw/R-Halbbruecke.jpg\" alt=\"R-Halbbruecke\" class=\"bg-primary mb-1\" width=\"250px\" label = R-Halbbruecke>\n",
    "\n",
    "Halbbrücke mit zwei baugleichen Sensoren, die entgegengesetzt ausgesteuert werden: $R(x) = R \\pm \\Delta R(x)$\n",
    ":::\n",
    "\n",
    "Betragsmäßig führt $x$ zu der gleichen Widerstandsänderung, jedoch mit entgegengesetztem Vorzeichen. \n",
    "Das heißt als Ausgangsspannung, bzw. Kennlinie, erhalten wir nun\n",
    "\n",
    "$$\\frac{U(x)}{U_0} = \\frac{\\Delta R(x)}{2R}$$\n",
    "\n",
    ":::{admonition} Aufgabe\n",
    ":class: tip\n",
    "Leite die Gleichung für die Kennlinie einer Halbbrücke her.\n",
    ":::\n",
    "\n",
    "Der Zusammenhang ist im folgenden Plot dargestellt:"
   ]
  },
  {
   "cell_type": "code",
   "execution_count": 2,
   "id": "7b89db7c-e4f0-43f5-ae52-82983327d8f2",
   "metadata": {
    "tags": [
     "hide-input"
    ]
   },
   "outputs": [
    {
     "data": {
      "image/png": "[encoded data removed]",
      "text/plain": [
       "<Figure size 400x300 with 1 Axes>"
      ]
     },
     "metadata": {},
     "output_type": "display_data"
    }
   ],
   "source": [
    "#Benötigte Libraries:\n",
    "import numpy as np\n",
    "import pandas as pd\n",
    "import matplotlib.pyplot as plt\n",
    "import seaborn as sns\n",
    "import warnings\n",
    "warnings.filterwarnings('ignore')\n",
    "\n",
    "# MatplotLib Settings:\n",
    "plt.style.use('default') # Matplotlib Style wählen\n",
    "#plt.xkcd()\n",
    "plt.rcParams['font.size'] = 10; # Schriftgröße\n",
    "\n",
    "ratio_R = np.linspace(-1,1,100) # Zeitwerte der Sinusfunktion in sec\n",
    "ratio_U = ratio_R / (2)\n",
    "\n",
    "fig = plt.figure(figsize=(4,3))\n",
    "plt.axvline(x = 0., ls = '--', lw = 1, color = 'k')\n",
    "plt.axhline(y = 0., ls = '--', lw = 1, color = 'k')\n",
    "plt.plot(ratio_R,ratio_U, 'tab:blue')\n",
    "plt.xlabel(r'$\\Delta R / R$')\n",
    "plt.ylabel(r'$U/U_0$')\n",
    "plt.show()"
   ]
  },
  {
   "cell_type": "markdown",
   "id": "10128bd9-47e7-433f-95d8-dc491b9c9a56",
   "metadata": {},
   "source": [
    "Dadurch erhält man drei Vorteile:\n",
    "\n",
    "* die Kennlinie ist über den kompletten Bereich linear\n",
    "* die Ausgangsspannung ist doppelt so groß wie bei der Viertelbrücke und liefert somit bessere Signalqualität\n",
    "* Störgrößen, wie $\\Delta R(T)$ in {numref}`R-Halbbruecke-RT` dargestellt, die auf die zu messenden Widerstände/Sensoren $R(x)$ wirken haben keinen großen Einfluss auf die Kennlinie, solange es sich um kleine Widerstandsänderungen ($<< R$) handelt\n",
    "\n",
    ":::{figure-md} R-Halbbruecke-RT\n",
    "<img src=\"draw/R-Halbbruecke-RT.jpg\" alt=\"R-Halbbruecke-RT\" class=\"bg-primary mb-1\" width=\"250px\" label = R-Halbbruecke-RT>\n",
    "\n",
    "Halbbrücke mit zwei baugleichen Sensoren, die aufgrund externe Einflüsse (z.B. Temperatur) ihren Widerstand gleichgesinnt ändern: $R(x) = R \\pm \\Delta R(x) + \\Delta R(t)$\n",
    ":::\n",
    "\n",
    ":::{admonition} Aufgabe\n",
    ":class: tip\n",
    "Nimm an, dass eine Temperaturänderung in gleicher Weise auf die Widerstandswerte/Sensoren mit $\\Delta R(T)$ einwirkt:\n",
    "\n",
    "$$R_1(x) = R + \\Delta R(x) + \\Delta R(T)$$\n",
    "\n",
    "$$R_2(x) = R - \\Delta R(x) + \\Delta R(T)$$\n",
    "\n",
    "Was folgt dann für die Aussgangsspannung $U(x)$, insbesondere für kleine Temperatureinflüsse $\\lvert \\Delta R(T) \\rvert << R$? Bleibt die Kennlinie linear?\n",
    ":::\n",
    "\n",
    "Aufgrund der Störgrößenunterdrückung sollte man eine Halbbrücke immer der Viertelbrücke vorziehen, insofern eine entgegengesetzt Aussteuerung der Widerstände/Sensoren möglich ist. Häufig werden Dehnungsmessstreifen in einer solchen Halbbrücke betrieben. \n",
    "\n",
    "### Vollbrücke\n",
    "\n",
    "Bringt man nun an jeden der 4 Positionen einen Sensor an, so nennt man dies die Vollbrücke, welche in {numref}`R-vollbr` dargestellt ist.\n",
    "\n",
    ":::{figure-md} R-vollbr\n",
    "<img src=\"draw/R-vollbr.jpg\" alt=\"R-vollbr\" class=\"bg-primary mb-1\" width=\"250px\" label = R-vollbr>\n",
    "\n",
    "Vollbrücke mit vier baugleichen Sensoren.\n",
    ":::\n",
    "\n",
    "Für die Kennlinie gilt\n",
    "\n",
    "$$\\frac{U(x)}{U_0} = \\frac{\\Delta R(x)}{R}$$\n",
    "\n",
    ":::{admonition} Aufgabe\n",
    ":class: tip\n",
    "Leite die Gleichung für die Kennlinie einer Vollbrücke her.\n",
    ":::\n",
    "\n",
    "Der Zusammenhang ist im folgenden Plot dargestellt:"
   ]
  },
  {
   "cell_type": "code",
   "execution_count": 3,
   "id": "28940858-08e7-4fd5-b47d-2f215e6d64c5",
   "metadata": {
    "tags": [
     "hide-input"
    ]
   },
   "outputs": [
    {
     "data": {
      "image/png": "[encoded data removed]",
      "text/plain": [
       "<Figure size 400x300 with 1 Axes>"
      ]
     },
     "metadata": {},
     "output_type": "display_data"
    }
   ],
   "source": [
    "#Benötigte Libraries:\n",
    "import numpy as np\n",
    "import pandas as pd\n",
    "import matplotlib.pyplot as plt\n",
    "import seaborn as sns\n",
    "import warnings\n",
    "warnings.filterwarnings('ignore')\n",
    "\n",
    "# MatplotLib Settings:\n",
    "plt.style.use('default') # Matplotlib Style wählen\n",
    "#plt.xkcd()\n",
    "plt.rcParams['font.size'] = 10; # Schriftgröße\n",
    "\n",
    "ratio_R = np.linspace(-1,1,100) # Zeitwerte der Sinusfunktion in sec\n",
    "ratio_U = ratio_R\n",
    "\n",
    "fig = plt.figure(figsize=(4,3))\n",
    "plt.axvline(x = 0., ls = '--', lw = 1, color = 'k')\n",
    "plt.axhline(y = 0., ls = '--', lw = 1, color = 'k')\n",
    "plt.plot(ratio_R,ratio_U, 'tab:blue')\n",
    "plt.xlabel(r'$\\Delta R / R$')\n",
    "plt.ylabel(r'$U/U_0$')\n",
    "plt.show()"
   ]
  },
  {
   "cell_type": "markdown",
   "id": "27165d20-bb81-449c-b54a-2c19b6570796",
   "metadata": {},
   "source": [
    "Die Ausgangsspannung ist gegenüber der Halbbrücke noch ein weiteres mal verdoppelt. \n",
    "\n",
    "Mit einer externen Störgröße, $\\Delta R(T)$ und dadurch $R(x) = R \\pm \\Delta R(x) + \\Delta R(T)$ ergibt sich folgender Zusammenhang:\n",
    "\n",
    "$$\\frac{U(x)}{U_0} = \\frac{\\Delta R(x)}{R + \\Delta R(T)} \\approx \\frac{\\Delta R(x)}{R}$$\n",
    "\n",
    "wobei im letzten Schritt wieder angenommen wurdem dass es sich um kleine Störeffekte handelt, $\\Delta R(T) << R$.\n",
    "Störgrößen werden also auch in einer Vollbrücke kompensiert und die Kennlinie bleibt linear. \n",
    "\n",
    ":::{figure-md} R-vollbr_RT\n",
    "<img src=\"draw/R-vollbr_RT.jpg\" alt=\"R-vollbr_RT\" class=\"bg-primary mb-1\" width=\"250px\" label = R-vollbr_RT>\n",
    "\n",
    "Halbbrücke mit zwei baugleichen Sensoren, die aufgrund externe Einflüsse (z.B. Temperatur) ihren Widerstand gleichgesinnt ändern: $R(x) = R \\pm \\Delta R(x) + \\Delta R(t)$\n",
    ":::"
   ]
  },
  {
   "cell_type": "code",
   "execution_count": null,
   "id": "5e247cf1-9a93-49dc-8535-1af49cbf7ebf",
   "metadata": {},
   "outputs": [],
   "source": []
  }
 ],
 "metadata": {
  "kernelspec": {
   "display_name": "Python 3",
   "language": "python",
   "name": "python3"
  },
  "language_info": {
   "codemirror_mode": {
    "name": "ipython",
    "version": 3
   },
   "file_extension": ".py",
   "mimetype": "text/x-python",
   "name": "python",
   "nbconvert_exporter": "python",
   "pygments_lexer": "ipython3",
   "version": "3.9.18"
  }
 },
 "nbformat": 4,
 "nbformat_minor": 5
}