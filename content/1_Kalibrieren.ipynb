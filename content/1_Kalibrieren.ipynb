{
 "cells": [
  {
   "cell_type": "markdown",
   "id": "785f722d-2ca7-4e32-b411-6c5b6bd7e753",
   "metadata": {},
   "source": [
    "## Kalibrieren und Eichen\n",
    "\n",
    "Messgeräte sind oftmals verschiedenen Umwelteinflüssen ausgesetzt, die im Laufe der Zeit unbemerkt ihre Genauigkeit beeinträchtigen können. Wenn ein Gerät ungenau wird, kann dies zu Störungen in Prozessabläufen oder sogar zu gravierenden Sicherheitsrisiken führen, die häufig mit hohen Kosten verbunden sind. Daher ist eine regelmäßige Überprüfung und Kalibrierung nicht nur empfehlenswert, sondern oft auch gesetzlich vorgeschrieben.\n",
    "\n",
    "::::::{margin}\n",
    ":::::{grid}\n",
    "::::{grid-item-card}\n",
    ":class-header: bg-light\n",
    "Messgeräte kalibrieren | Was ist der Unterschied zwischen Kalibrierung, Eichung und Justage? (WIKA Gruppe)\n",
    "\n",
    "<iframe width=\"200\" height=\"113\" src=\"https://www.youtube.com/embed/QJuB-Sijdu0\" title=\"YouTube video player\" frameborder=\"0\" allow=\"accelerometer; autoplay; clipboard-write; encrypted-media; gyroscope; picture-in-picture; web-share\" allowfullscreen></iframe>\n",
    "::::\n",
    ":::::\n",
    "::::::\n",
    "\n",
    "In der Messtechnik ist es wichtig, zwischen verschiedenen Begriffen zu unterscheiden, da im allgemeinen Sprachgebrauch oft Unklarheiten bestehen. Ein wesentlicher Unterschied besteht zwischen dem **Messen** und dem **Prüfen** von Größen:\n",
    "\n",
    "- **Messen**: Hierbei wird der Wert einer physikalischen Größe erfasst, ohne dass eine spezifische Überprüfung stattfindet.\n",
    "- **Prüfen**: Beim Prüfen wird überprüft, ob ein Prüfgegenstand bestimmten Vorgaben oder Spezifikationen entspricht. Dies geht über das bloße Messen hinaus und erfolgt nach festgelegten Prüfbedingungen, die in Normen oder Standards definiert sind.\n",
    "\n",
    "### Kalibrieren\n",
    "\n",
    "Messsysteme weisen naturgemäß eine begrenzte Messgenauigkeit auf, die die Präzision der Messungen beeinflusst. Diese Messgenauigkeit kann entweder während des Herstellungsprozesses oder später in der gewünschten Testumgebung durch Kalibrierung verbessert werden. Dabei wird eine **bekannte Referenz** verwendet, die an das Messgerät angeschlossen wird. Das Messsystem kann so eingestellt werden, dass der angezeigte Messwert möglichst genau dem **bekannten** Referenzwert entspricht. Alternativ kann ein Präzisionsmessgerät als Referenz genutzt werden, mit dem das zu kalibrierende Gerät verglichen wird. Wichtig ist, dass das Referenzgerät genauer ist und rückführbar auf ein Primärnormal kalibriert wurde.\n",
    "\n",
    "Mithilfe der Referenz kann die Messabweichung des Geräts bestimmt werden. Ist diese Abweichung zu groß, wird das Messgerät neu eingestellt, ein Vorgang, der als **Justieren** bezeichnet wird.\n",
    "\n",
    ":::{figure-md} eichung\n",
    "<img src=\"draw/eichung.jpg\" alt=\"eichung\" class=\"bg-primary mb-1\" width=\"600px\" label = eichung>\n",
    "\n",
    "Die Kalibrierung eines Messsystems kann entweder durch den Vergleich mit einem Präzisionsmessgerät (links) oder durch die Vermessung eines *Normals*, das den *wahren* Wert wiedergibt (rechts), erfolgen.\n",
    ":::\n",
    "\n",
    "### Eichen\n",
    "\n",
    "Das **Eichen** ist eine spezielle Form der Kalibrierung, bei der der Kalibriervorgang durch eine staatliche Stelle offiziell beglaubigt wird. Diese Eichung ist besonders im Verbraucherschutz von großer Bedeutung, beispielsweise bei Waagen im Handel, die sicherstellen müssen, dass der Verbraucher eine genaue Menge erhält. Die Eichung wird nach den gesetzlichen Vorgaben der **Mess- und Eichverordnung** durchgeführt und stellt sicher, dass das Messgerät innerhalb festgelegter Toleranzgrenzen arbeitet. Das Eichen ist ein hoheitlicher Akt und darf nur von staatlich autorisierten Eichämtern durchgeführt werden. Zudem muss die Eichung in regelmäßigen Abständen wiederholt werden.\n",
    "\n",
    "In Deutschland übernimmt die Physikalisch-Technische Bundesanstalt (PTB) in Braunschweig und Berlin diese Aufgabe, um die Genauigkeit und Zuverlässigkeit von Messgeräten zu gewährleisten.\n",
    "\n",
    "### Normale\n",
    "\n",
    "**Normale** sind Maßverkörperungen, die von den Basiseinheiten abgeleitet werden und als Referenzgrößen dienen. Diese werden im **BIPM** (Internationales Büro für Maß und Gewicht) entwickelt und kontinuierlich überwacht, um ihre Genauigkeit sicherzustellen. Für fast jede Messgröße existieren solche Primärnormale, die direkt von den Basisgrößen abgeleitet sind, beispielsweise für Ohm, Volt, Henry, Farad und viele andere.\n",
    "\n",
    "Jedes Land, das den Vertrag bei der Generalkonferenz für Maß und Gewicht unterzeichnet hat, erhält ein solches Primärnormal. Diese Primärnormale dienen als Referenz für **Sekundärnormale**, die innerhalb der Länder genutzt werden. Sekundärnormale werden wiederum verwendet, um betriebliche **Arbeitsnormale** zu eichen, die in Unternehmen eingesetzt werden, um die eigenen Messgeräte zu kalibrieren. So wird sichergestellt, dass die in der Industrie verwendeten Messgeräte den erforderlichen Genauigkeitsstandards entsprechen.\n",
    "\n",
    ":::{figure-md} normal\n",
    "<img src=\"draw/normal.jpg\" alt=\"normal\" class=\"bg-primary mb-1\" width=\"600px\" label = normal>\n",
    "\n",
    "Die verschiedenen Stadien eines *Normals* für unterschiedliche Anwendungen und Benutzer.\n",
    ":::"
   ]
  }
 ],
 "metadata": {
  "kernelspec": {
   "display_name": "Python 3",
   "language": "python",
   "name": "python3"
  },
  "language_info": {
   "codemirror_mode": {
    "name": "ipython",
    "version": 3
   },
   "file_extension": ".py",
   "mimetype": "text/x-python",
   "name": "python",
   "nbconvert_exporter": "python",
   "pygments_lexer": "ipython3",
   "version": "3.9.12"
  }
 },
 "nbformat": 4,
 "nbformat_minor": 5
}
