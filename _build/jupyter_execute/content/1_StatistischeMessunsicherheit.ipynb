{
 "cells": [
  {
   "cell_type": "markdown",
   "id": "d46eac7b-9b1b-488b-b881-9fe6b0a46d3a",
   "metadata": {},
   "source": [
    "# Statistische Messunsicherheit\n",
    "\n",
    "Statistische, oder zufällige, Einflüsse auf einen Messwert lassen sich leider nicht korrigieren, dennoch können durch wiederholte Messungen der eigentliche Messwert bestimmt werden. Wiederholte Messungen sind auch als Messreihe bekannt. Hierbei wird eine Anzahl von $m$ Messungen für ein und denselben Messwert durchgeführt. Die einzelnen Messwerte $x_j = [x_1, x_2, ... x_m]$ unterscheiden sich, da der *wahre* Wert, $x_w$, immer mit einer zufälligen Abweichung, $A_j$,  versehen wird:\n",
    "\n",
    "$$x_j = x_w + A_j$$\n",
    "\n",
    "Bei genügend vielen Wiederholungen der Messung kann in vielen Fällen beobachtet werden, dass sich die Messwerte $x_j$ um einen zentralen Wert, $\\overline x$ scharen. Die Häufigkeit, einen Messwert in einem bestimmten Abstand zu diesem zentralen Wert zu finden, $|x_j - \\overline x|$, ist umso kleiner, je größer der Abstand ist. Man spricht hierbei von einer Häufigkeitsverteilung der $x_j$. Die grafische Darstellung einer solchen Messreihe erfolgt in einem **Histogramm**. \n",
    "\n",
    "## Histogramm \n",
    "\n",
    "::::::{margin}\n",
    ":::::{grid}\n",
    "::::{grid-item-card}\n",
    ":class-header: bg-light\n",
    "Histogramm zeichnen - einfach erklärt (Statistikquelle)\n",
    "\n",
    "<iframe width=\"200\" height=\"113\" src=\"https://www.youtube.com/embed/6jto_CLbtYk\" title=\"YouTube video player\" frameborder=\"0\" allow=\"accelerometer; autoplay; clipboard-write; encrypted-media; gyroscope; picture-in-picture; web-share\" allowfullscreen></iframe>\n",
    "::::\n",
    ":::::\n",
    "::::::\n",
    "\n",
    "Die Histogramm-Darstellung wird insbesondere dann häufig benutzt, wenn Messreihen mit vielen Messwerten vorliegen. An einer solchen Darstellung erkennt man die Art der zugrundeliegenden Verteilung der Messwerte (symmetrisch, schief, ...) und die ungefähre Lage und Streuung. Außerdem können *Ausreißer*, also Messwerte die viel zu weit von den anderen Messwerten entfernt liegen, identifiziert werden. \n",
    "\n",
    "In nachfolgendem Code-Block wird für die Messreihe\n",
    "\n",
    "$$1.41, 1.35, 1.45, 1.43, 1.44, 1.43,\n",
    " 1.41, 1.32, 1.43, 1.40, 1.49, 1.40,\n",
    " 1.40, 1.42, 1.40, 1.38, 1.37,  1.36,\n",
    " 1.37, 1.32, 1.47, 1.40$$\n",
    "\n",
    "die **absolute Häufigkeit** der einzelnen Werte in einer bestimmten Klasse grafisch dargestellt. Dafür werden sogenannten *Klassen* erstellt, inwelche die einzelnen Messwerte eingruppiert werden. Diese Klassen müssen nicht zwangsläufig die gleiche Breite haben. Bei gleich großen Klassen (gleich breite Balken) kann die absolute Häufigkeit als Höhe angegeben werden, was für die oben gegebene Messreihe im nachfogenden Diagramm gezeigt ist:"
   ]
  },
  {
   "cell_type": "code",
   "execution_count": 1,
   "id": "23bbdb33-3bfb-4146-af0a-f8061a7e34a5",
   "metadata": {
    "render": {
     "figure": {
      "caption": "`displot()` example histogram",
      "label": "test_label",
      "name": "seaborn_example_1"
     }
    },
    "tags": [
     "hide-input"
    ]
   },
   "outputs": [
    {
     "data": {
      "image/png": "[encoded data removed]",
      "text/plain": [
       "<Figure size 400x400 with 1 Axes>"
      ]
     },
     "metadata": {
      "filenames": {
       "image/png": "/Users/KSIsleif/DESY_cloud/github/mtbook/_build/jupyter_execute/content/1_StatistischeMessunsicherheit_1_0.png"
      }
     },
     "output_type": "display_data"
    }
   ],
   "source": [
    "# Import necessary libraries\n",
    "import numpy as np\n",
    "import pandas as pd\n",
    "import matplotlib.pyplot as plt\n",
    "import seaborn as sns\n",
    "import warnings\n",
    "\n",
    "# Matplotlib settings\n",
    "plt.style.use('default')\n",
    "plt.rcParams['font.size'] = 10\n",
    "fig, ax = plt.subplots(figsize=(4, 4))\n",
    "\n",
    "# Sample data\n",
    "t_sec = pd.DataFrame([1.41, 1.35, 1.45, 1.43, 1.44, 1.43,\n",
    "                      1.41, 1.32, 1.43, 1.40, 1.49, 1.40,\n",
    "                      1.40, 1.42, 1.40, 1.38, 1.37, 1.36,\n",
    "                      1.37, 1.32, 1.47, 1.40])\n",
    "klasse = np.linspace(1.3, 1.5, 6)\n",
    "\n",
    "# Calculate the histogram using np.histogram\n",
    "hist_values, bin_edges = np.histogram(t_sec, bins=klasse)\n",
    "ax.hist(t_sec, bins=klasse)\n",
    "ax.set_ylabel('Absolute Häufigkeit f')\n",
    "ax.set_xlabel('Klassenverteilung der Zeit (s)')\n",
    "plt.show()"
   ]
  },
  {
   "cell_type": "markdown",
   "id": "4e7dbb73-025d-469c-9426-da23245b10ea",
   "metadata": {},
   "source": [
    "Im Diagramm ist die absolute Häufigkeit der Zeitmessung dargestellt. Die Klassen sind jeweils gleich groß mit einer Breite von 0,04s. In der ersten befinden sich die Messwerte von 1.3s-1.34s. "
   ]
  },
  {
   "cell_type": "code",
   "execution_count": 2,
   "id": "08a3affe-1a8f-414a-80a7-18d5107e9839",
   "metadata": {
    "tags": [
     "hide-input"
    ]
   },
   "outputs": [
    {
     "name": "stdout",
     "output_type": "stream",
     "text": [
      "+---+--------------------+--------------+\n",
      "|   |     Klasse (s)     | Häufigkeit f |\n",
      "+---+--------------------+--------------+\n",
      "| 0 |        1.3         |     2.0      |\n",
      "| 1 |        1.34        |     5.0      |\n",
      "| 2 | 1.3800000000000001 |     7.0      |\n",
      "| 3 |        1.42        |     6.0      |\n",
      "| 4 |        1.46        |     2.0      |\n",
      "+---+--------------------+--------------+\n"
     ]
    }
   ],
   "source": [
    "# Print histogram data as a table\n",
    "from tabulate import tabulate\n",
    "\n",
    "# Create a DataFrame from the histogram data\n",
    "hist_df = pd.DataFrame({'Klasse (s)': bin_edges[:-1], 'Häufigkeit f': hist_values})\n",
    "\n",
    "print(tabulate(hist_df, headers='keys', tablefmt='pretty'))"
   ]
  },
  {
   "cell_type": "markdown",
   "id": "2ad584d8-adcb-498b-b25f-f488f77e7ac5",
   "metadata": {},
   "source": [
    "Anhand dieser Darstellung kann man schon vermuten, dass der *richtige* Werte unseres Experimentes irgendwo im Bereich zwischen 1,38s - 1,41s liegt, da hier die meisten Messungen auftreten. "
   ]
  },
  {
   "cell_type": "markdown",
   "id": "a5b09360-a69f-40b3-856e-ed8156353465",
   "metadata": {},
   "source": [
    "## Häufigkeitsdichte \n",
    "\n",
    "Sind die Klassen nicht gleich groß, müssen wir die Dichte der Häufigkeit berechnen.\n",
    "Die **relative Häufigkeit $h$** berechnet sich aus der absoluten Häufigkeit dividiert durch die Gesamtanzahl der vorgenommenen Messungen, $m$:\n",
    "\n",
    "$$h_i = \\frac{f_i}{m}$$\n",
    "\n",
    "Aus der Häufigkeit lässt sich dann die sogenannte **Häufigkeitsdichte $d$** berechnen. \n",
    "Die Häufigkeitsdichte gibt bei einem Histogramm die Höhe des Rechtecks an (Die Fläche der Balken gibt dann die relative Häufigkeit an). Mit ihr kann man den Vergleich verschiedener Klassen erst vornehmen. Anders ausgedrückt heißt dass, dass die Häufigkeitsdichte einer Klasse das Verhältnis der absoluten oder der relativen Häufigkeit einer Klasse zur entsprechenden Klassenbreite ist. Genauso lässt sich die Häufigkeitsdichte auch berechnen:\n",
    "\n",
    "$$ d_i = \\frac{\\textrm{relative Häufigkeit ($h_i$)}}{\\textrm{obere Grenze der Klasse i} - \\textrm{untere Grenze der Klasse i}} = \\frac{h_i}{b_i}$$\n",
    "\n",
    "$$ D_i = \\frac{\\textrm{absolute Häufigkeit ($f_i$)}}{\\textrm{obere Grenze der Klasse i} - \\textrm{untere Grenze der Klasse i}} = \\frac{f_i}{b_i}$$\n",
    "\n",
    "Das Integral über die relative Häufigkeitsdichte ist immer auf 1 normiert, bzw. auf 100% im Falle der absoluten Häufigkeitsdichte.\n",
    "\n",
    "Im nachstehenden Code-Block wird die relative Häufigkeitsdichte, $d_i$, für die obenstehende Messreihe geplottet und das Integral berechnet. "
   ]
  },
  {
   "cell_type": "code",
   "execution_count": 3,
   "id": "952e5a88-c239-4d7f-9e37-28e78d0a1f91",
   "metadata": {
    "tags": [
     "hide-input"
    ]
   },
   "outputs": [
    {
     "data": {
      "image/png": "[encoded data removed]",
      "text/plain": [
       "<Figure size 400x400 with 1 Axes>"
      ]
     },
     "metadata": {
      "filenames": {
       "image/png": "/Users/KSIsleif/DESY_cloud/github/mtbook/_build/jupyter_execute/content/1_StatistischeMessunsicherheit_6_0.png"
      }
     },
     "output_type": "display_data"
    }
   ],
   "source": [
    "# MatplotLib Settings:\n",
    "plt.style.use('default') # Matplotlib Style wählen\n",
    "plt.figure(figsize=(4,4)) # Plot-Größe\n",
    "\n",
    "bconts, bedges, _p = plt.hist(t_sec, density=True, bins=np.linspace(1.3, 1.5, 6))\n",
    "plt.ylabel('Häufigkeitsdichte d')\n",
    "plt.xlabel('Klassenverteilung der Zeit (s)')\n",
    "plt.show()"
   ]
  },
  {
   "cell_type": "markdown",
   "id": "095c3375-f164-48db-bac3-503ff92b800e",
   "metadata": {},
   "source": [
    "\n",
    "Im Diagramm ist die relative Häufigkeitsdichte $d$ der Zeitmessung dargestellt. Die Fläche der Balken gibt die relative Häufigkeit $h$ an. In Summe muss diese 1 betragen (100% im Falle der absoluten Häufigkeitsdichte).\n"
   ]
  },
  {
   "cell_type": "code",
   "execution_count": 4,
   "id": "24153d6a-2df5-43cc-a202-319e1f36c654",
   "metadata": {
    "tags": [
     "hide-input",
     "hide-cell"
    ]
   },
   "outputs": [
    {
     "name": "stdout",
     "output_type": "stream",
     "text": [
      "Integral über die Häufigkeitsdichte:  1.0\n"
     ]
    }
   ],
   "source": [
    "print('Integral über die Häufigkeitsdichte: ',(bconts * np.diff(bedges)).sum())"
   ]
  },
  {
   "cell_type": "markdown",
   "id": "69bc9af9-fc44-49a6-8e99-b07750807220",
   "metadata": {},
   "source": [
    "Die Wahrscheinlichkeit, einen Messwert innerhalb eines kleinen Intervalls $\\Delta x$ um den Wert $\\overline x$ zu finden, ist $dP(X) = d(x)\\cdot \\Delta x$, wobei $d(x) = d_i$."
   ]
  },
  {
   "cell_type": "markdown",
   "id": "1a4babe3-4ba0-4b1b-92c0-9c05e408d5d0",
   "metadata": {},
   "source": [
    "## Zentraler Grenzwertsatz\n",
    "\n",
    "Je größer die Stichprobe $m$ (Anzahl der Messungen), desto eher erkennt man die zugrundeliegende Verteilung, der die Messreihe unterliegt. Häufig handelt es sich in der Praxis um eine *Normalverteilung* (oder auch Gaußverteilung genannt):\n",
    "\n",
    "$$P(x) = \\frac{1}{\\sigma \\sqrt{2\\pi}}\\int_{x_1}^{x_2} \\mathrm{exp}\\left(-\\frac{(x-\\overline x)^2}{2\\sigma^2}\\right) dx$$"
   ]
  },
  {
   "cell_type": "code",
   "execution_count": 5,
   "id": "e5927e12-471e-45ee-bd4f-60bd7c46e42f",
   "metadata": {
    "tags": [
     "hide-input"
    ]
   },
   "outputs": [
    {
     "data": {
      "image/png": "[encoded data removed]",
      "text/plain": [
       "<Figure size 600x400 with 1 Axes>"
      ]
     },
     "metadata": {
      "filenames": {
       "image/png": "/Users/KSIsleif/DESY_cloud/github/mtbook/_build/jupyter_execute/content/1_StatistischeMessunsicherheit_11_0.png"
      }
     },
     "output_type": "display_data"
    }
   ],
   "source": [
    "from scipy.stats import norm\n",
    "# MatplotLib Settings:\n",
    "plt.style.use('default') # Matplotlib Style wählen\n",
    "plt.figure(figsize=(6,4)) # Plot-Größe\n",
    "#plt.xkcd()\n",
    "plt.rcParams['font.size'] = 10; # Schriftgröße\n",
    "\n",
    "n = len(t_sec)\n",
    "data=np.array(t_sec)\n",
    "mean=data.mean()\n",
    "std=data.std(ddof=1)\n",
    "\n",
    "bconts, bedges, _p = plt.hist(t_sec, density=True, bins=np.linspace(1.3, 1.5, 6))\n",
    "#xmin, xmax = plt.xlim()\n",
    "xmin = mean-5*std\n",
    "xmax = mean+5*std\n",
    "x = np.linspace(xmin, xmax, 100)\n",
    "p = norm.pdf(x, mean, std)\n",
    "plt.plot(x, p, linewidth=2, label = 'Normalverteilung', color = \"tab:red\")\n",
    "plt.axvline(x=mean, color=\"tab:red\", ls='--', label='Mittelwert')\n",
    "plt.ylabel('Häufigkeitsdichte d(x)')\n",
    "plt.xlabel('Klassenverteilung der Zeitmessung (s)')\n",
    "plt.legend()\n",
    "plt.show()"
   ]
  },
  {
   "cell_type": "markdown",
   "id": "b32ea7a3-93ea-44f9-8c0f-a37aedbe8bdc",
   "metadata": {},
   "source": [
    "Im Diagramm sind die relative Häufigkeitsdichte $d$ der Zeitmessung und ein Modell der Normalverteilung $P(x)$ dargestellt.\n",
    "\n",
    "\n",
    "Überraschenderweise ist die Verteilungsfunktion häufig auch dann immer noch normalverteilt, wenn sehr viele externe Störungen (evtl. mit unterschiedlichen Verteilungsfunktionen) zu einer gemeinsamen Störgröße kombiniert werden. Die zusammengefasste Störung ist trotzdem fast immer gaußverteilt, egal wie die Einzelverteilungen aussehen (Poissonverteilung oder anderes). Dies wird auch als der **zentrale Grenzwertsatz der Wahrscheinlichkeitstheorie** bezeichnet.\n",
    "\n",
    "\n",
    "```{prf:definition} **Zentraler Grenzwertsatz der Wahrscheinlichkeitstheorie**\n",
    "Der Durchschnitt einer großen Anzahl von Zufallsvariablen aus derselben Verteilung sind annäherend normalverteilt, unabhängig von der Verteilungsfunktion aus der sie herausgenommen wurden. \n",
    "```"
   ]
  },
  {
   "cell_type": "markdown",
   "id": "0ea8ce28-7993-4591-a898-3d8fc49f8de4",
   "metadata": {},
   "source": [
    "## Statistische Größen: Normalverteilung\n",
    "\n",
    "### Arithmetisches Mittel und Varianz (unendliche Stichprobe)\n",
    "\n",
    "Für normalverteilte Zufalslgrößen (wie in unsere obigen Messreihe) können wir mittels statistischen Methoden Messwerte und Messunsicherheit aus der Stichprobe bestimmen. \n",
    "\n",
    "Normalverteilte Zufallsgrößen werden immer von zwei Parametern $\\overline x$ und $\\sigma$ beschrieben. \n",
    "Der **arithmetische Mittelwert $\\overline x$**, der das **arithmetische Mittel $\\mu$** aus $m$ Beobachtungen ist, oder auch **Erwartungswert $E(x)$** genannt, gilt:\n",
    "\n",
    "$$\\overline x = \\frac{1}{m}\\sum_{j=1}^m x_j =: E(x) = \\left< x \\right> = \\mu$$\n",
    "\n",
    "Der *Erwartungswert der quadratischen Abweichung der Einzelmessungen vom Mittelwert*, die **Varianz** $\\sigma^2$, ist:\n",
    "\n",
    "$$\\sigma^2  =  \\frac{1}{m} \\sum_{j=1}^m \\left( x_j - \\mu \\right)^2$$\n",
    "\n",
    "Der arithmetische Mittelwert zeichnet sich dadurch aus, dass für diesen Wert die Summe der Abweichungsquadrate minimal ist. Die Varianz hängt nicht von der Anzahl der Messungen ab. Die Streuung kann *ausschließlich* durch ein besseres Messverfahren verkleinert werden. Anschaulich ist das direkt nachvollziehbar: Die „Punktwolke“ der Messergebnisse um den Mittelwert schmiegt sich nicht enger an den Mittelwert, nur weil häufiger gemessen wurde. Ein stark streuendes Messverfahren streut durch seine Wiederholung nicht weniger. \n",
    "\n",
    "Unabhängig von der zugrundeliegenden Verteilung der Messwerte kann nun ein Maß für die Abweichung definiert werden, welche als **Standardabweichung der Einzelmessungen** bekannt ist und sich aus der Quadratwurzel der Varianz berechnen lässt:\n",
    "\n",
    "$$\\sigma = \\sqrt{\\frac{1}{m} \\sum_{j=1}^m (x_j - \\mu)^2}$$\n",
    "\n",
    "Man nehme beispielhaft die Zeitmessung von oben. Es wurden 15 wiederholte Messungen der Zeit durchgeführt. Mittelwert, Standardabweichung der Einzelmessungen und Unsicherheit des Mittelwertes werden berechnet. "
   ]
  },
  {
   "cell_type": "code",
   "execution_count": 6,
   "id": "f251be99-7aed-49c4-8f42-959bc52d74e7",
   "metadata": {
    "tags": [
     "hide-input"
    ]
   },
   "outputs": [
    {
     "name": "stdout",
     "output_type": "stream",
     "text": [
      "\n",
      "Zusammenfassungsstatistiken:\n",
      "+---+------------------------+-----------------------+\n",
      "|   |   Statistische Größe   |     Arithmetisch      |\n",
      "+---+------------------------+-----------------------+\n",
      "| 0 |     Mittelwert (s)     |  1.4022727272727271   |\n",
      "| 1 |     Varianz (s^2)      | 0.0017902892561983434 |\n",
      "| 2 | Standardabweichung (s) | 0.042311809890364455  |\n",
      "+---+------------------------+-----------------------+\n"
     ]
    }
   ],
   "source": [
    "import math\n",
    "\n",
    "def arithmetischer_mittelwert(array): \n",
    "    n = len(array)\n",
    "    return sum(array) / n\n",
    "\n",
    "\n",
    "def arithmetischer_varianz(array): \n",
    "    n = len(array)\n",
    "    mn = sum(array) / n\n",
    "    var = (1 / (n)) * sum(map(lambda xi: (xi-mn) ** 2 , array)) \n",
    "    return var\n",
    "\n",
    "def arithmetischer_standard_abweichung(array): \n",
    "    n = len(array)\n",
    "    mn = sum(array) / n\n",
    "    var = (1 / (n)) * sum(map(lambda xi: (xi-mn) ** 2 , array)) \n",
    "    std = math.sqrt(var)\n",
    "    return std\n",
    "\n",
    "# Berechne arithmetische Statistik\n",
    "arithm_mittelwert = arithmetischer_mittelwert(t_sec.to_numpy().flatten())\n",
    "arithm_varianz = arithmetischer_varianz(t_sec.to_numpy().flatten())\n",
    "arithm_stdabweichung = arithmetischer_standard_abweichung(t_sec.to_numpy().flatten())\n",
    "\n",
    "# DataFrame für die Zusammenfassungsstatistiken erstellen\n",
    "zusammenfassung_data = {\n",
    "    'Statistische Größe': ['Mittelwert (s)', 'Varianz (s^2)', 'Standardabweichung (s)'],\n",
    "    'Arithmetisch': [arithm_mittelwert, arithm_varianz, arithm_stdabweichung]\n",
    "}\n",
    "\n",
    "zusammenfassung_df = pd.DataFrame(zusammenfassung_data)\n",
    "# Histogramm-Daten als Tabelle ausgeben\n",
    "print(\"\\nZusammenfassungsstatistiken:\")\n",
    "print(tabulate(zusammenfassung_df, headers='keys', tablefmt='pretty'))"
   ]
  },
  {
   "cell_type": "markdown",
   "id": "10502f3e-aa11-46e2-accc-b3e093a07707",
   "metadata": {},
   "source": [
    "### Empirisches Mittel und Varianz (endliche Stichprobe)\n",
    "\n",
    "Du wirst bei deinen Messungen in der Regel weniger an der Streuung um den Mittelwert, sondern mehr an der (geschätzten) Streuung der Messwerte um den (unbekannten) *wahren* Wert interessiert sein. Diese Unsicherheit schätzt man durch die **empirische Varianz $s^2(x)$ der Messwerte der $x_j$** ab. Diese ist etwas größer als die Varianz $\\sigma^2$, nämlich um den Faktor $m/(m − 1)$:\n",
    "\n",
    "$$s^2 = \\frac{1}{m-1} \\sum_{j=1}^m (x_j - \\overline x)^2$$\n",
    "\n",
    "\n",
    "Die **empirische Standardabweichung $s(x)$ der Messwerte** ist die wieder Wurzel, diesmal aus der empirischen Varianz:\n",
    "\n",
    "$$s = \\sqrt{\\frac{1}{m-1} \\sum_{j=1}^m (x_j - \\overline x)^2}$$"
   ]
  },
  {
   "cell_type": "code",
   "execution_count": 7,
   "id": "29cea6ff-6cc7-45d3-8dff-083f811965de",
   "metadata": {
    "tags": [
     "hide-input"
    ]
   },
   "outputs": [
    {
     "name": "stdout",
     "output_type": "stream",
     "text": [
      "\n",
      "Zusammenfassungsstatistiken:\n",
      "+---+------------------------+-----------------------+-----------------------+\n",
      "|   |   Statistische Größe   |     Arithmetisch      |       Empirisch       |\n",
      "+---+------------------------+-----------------------+-----------------------+\n",
      "| 0 |     Mittelwert (s)     |  1.4022727272727271   |  1.4022727272727271   |\n",
      "| 1 |     Varianz (s^2)      | 0.0017902892561983434 | 0.0018755411255411217 |\n",
      "| 2 | Standardabweichung (s) | 0.042311809890364455  | 0.043307518118002576  |\n",
      "+---+------------------------+-----------------------+-----------------------+\n"
     ]
    }
   ],
   "source": [
    "# Mittelwert, Varianz und Standardabweichung berechnen\n",
    "emp_mittelwert = t_sec.mean().values[0]\n",
    "emp_varianz = t_sec.var().values[0]\n",
    "emp_stdabweichung = t_sec.std().values[0]\n",
    "\n",
    "# DataFrame für die Zusammenfassungsstatistiken erstellen\n",
    "zusammenfassung_data = {\n",
    "    'Statistische Größe': ['Mittelwert (s)', 'Varianz (s^2)', 'Standardabweichung (s)'],\n",
    "    'Arithmetisch': [arithm_mittelwert, arithm_varianz, arithm_stdabweichung],\n",
    "    'Empirisch': [emp_mittelwert, emp_varianz, emp_stdabweichung]\n",
    "}\n",
    "\n",
    "zusammenfassung_df = pd.DataFrame(zusammenfassung_data)\n",
    "# Histogramm-Daten als Tabelle ausgeben\n",
    "print(\"\\nZusammenfassungsstatistiken:\")\n",
    "print(tabulate(zusammenfassung_df, headers='keys', tablefmt='pretty'))"
   ]
  },
  {
   "cell_type": "markdown",
   "id": "d77b0dcc-e9af-43b2-af00-c35ca5062899",
   "metadata": {},
   "source": [
    "Die Größen $\\sigma$ und $s$ unterscheiden sich aufgrund von $m \\rightarrow m-1$! Je weniger Messwerte $m$, desto signifikanter ist der Unterschied.\n",
    "Welche Größe, s oder $\\sigma$, als Messunsicherheit für die Einzelmessung $x$ verwendet wird hängt vom Einzelfall ab. Wichtig ist, dass man dazu schreibt, welcher Wert verwendet wurde, damit die Argumentation nochvollzogen werden kann. Generell sollte $s$ insbesondere bei wenigen Messwerten verwendet werden, denn mit $s$ ist auch der etwas seltsame Fall einer Einzelmessung abgedeckt: für m = 1 wäre $\\sigma$ = 0, $s$ dagegen nicht definiert. Die zweite Aussage ist, bezogen auf die statistische Interpretation, sicher sinnvoller."
   ]
  },
  {
   "cell_type": "code",
   "execution_count": 8,
   "id": "d43198d8-2551-44da-b85c-d3e6ac491eca",
   "metadata": {
    "tags": [
     "hide-input"
    ]
   },
   "outputs": [
    {
     "name": "stdout",
     "output_type": "stream",
     "text": [
      "\n",
      "Zusammenfassungsstatistiken:\n",
      "+---+------------------------+-----------------------+-----------------------+-----------------------+\n",
      "|   |   Statistische Größe   |     Arithmetisch      |       Empirisch       |     Differenz (%)     |\n",
      "+---+------------------------+-----------------------+-----------------------+-----------------------+\n",
      "| 0 |     Mittelwert (s)     |  1.4022727272727271   |  1.4022727272727271   |          0.0          |\n",
      "| 1 |     Varianz (s^2)      | 0.0017902892561983434 | 0.0018755411255411217 | -0.008525186934277826 |\n",
      "| 2 | Standardabweichung (s) | 0.042311809890364455  | 0.043307518118002576  | -0.09957082276381216  |\n",
      "+---+------------------------+-----------------------+-----------------------+-----------------------+\n"
     ]
    }
   ],
   "source": [
    "# DataFrame für die Zusammenfassungsstatistiken erstellen\n",
    "zusammenfassung_data = {\n",
    "    'Statistische Größe': ['Mittelwert (s)', 'Varianz (s^2)', 'Standardabweichung (s)'],\n",
    "    'Arithmetisch': [arithm_mittelwert, arithm_varianz, arithm_stdabweichung],\n",
    "    'Empirisch': [emp_mittelwert, emp_varianz, emp_stdabweichung],\n",
    "    'Differenz (%)': [(arithm_mittelwert-emp_mittelwert)*100, (arithm_varianz-emp_varianz)*100, (arithm_stdabweichung-emp_stdabweichung)*100]\n",
    "}\n",
    "\n",
    "zusammenfassung_df = pd.DataFrame(zusammenfassung_data)\n",
    "# Histogramm-Daten als Tabelle ausgeben\n",
    "print(\"\\nZusammenfassungsstatistiken:\")\n",
    "print(tabulate(zusammenfassung_df, headers='keys', tablefmt='pretty'))"
   ]
  },
  {
   "cell_type": "markdown",
   "id": "c8af7d49-19ba-4e7d-bd87-cff3d9640f04",
   "metadata": {},
   "source": [
    "### Messunsicherheit des Mittelwertes \n",
    "\n",
    "Der Grenzwertsatz sagt aus, wenn man eine ausreichend große Stichprobe aus einer *Grundgesamtheit* nimmt, so wird der **Mittelwert der Stichprobe** näherungsweise dem **Mittelwert der Grundgesamtheit** entsprechen und sich somit dem *wahren* Wert annähern.  \n",
    "Das heißt, als Messwert von einer Stichprobe geben wir den Mittelwert an. Dieser muss noch mit einer Unsicherheit versehen werden, um das Messergebnis komplett zu machen. Wie wirkt sich die zu erwartende Messunsicherheit der einzelnen Messwerte $s(x)$ auf die Unsicherheit des Mittelwerts $s(\\overline x)$ der Messreihe aus?\n",
    "\n",
    "Angenommen, wir nehmen jetzt viele ($k$) Stichproben auf und berechnen jedes mal den Mittelwert, so sind laut *Grenzwertsatz* die Mittelwerte normalverteilt! \n",
    "Das heißt aus den verschiedenen Mittelwerten von $k$ Stichproben könnte theoretisch wieder ein Mitelwert berechnet werden und folglich auch eine **Standardabweichung der Mittelwerte**:\n",
    "\n",
    "```{prf:definition} **Standardabweichung der Mittelwerte**\n",
    "$$s(\\overline x) = \\frac{s}{\\sqrt{m}} = \\sqrt{\\frac{1}{m(m-1)} \\sum_{j=1}^m (x_j - \\overline x)^2}$$\n",
    "```"
   ]
  },
  {
   "cell_type": "code",
   "execution_count": 9,
   "id": "6a575564-d9a4-4c56-a625-824dd60f9eb0",
   "metadata": {
    "tags": [
     "hide-input"
    ]
   },
   "outputs": [
    {
     "data": {
      "image/png": "[encoded data removed]",
      "text/plain": [
       "<Figure size 600x400 with 1 Axes>"
      ]
     },
     "metadata": {
      "filenames": {
       "image/png": "/Users/KSIsleif/DESY_cloud/github/mtbook/_build/jupyter_execute/content/1_StatistischeMessunsicherheit_20_0.png"
      }
     },
     "output_type": "display_data"
    }
   ],
   "source": [
    "# MatplotLib Settings:\n",
    "plt.style.use('default') # Matplotlib Style wählen\n",
    "plt.figure(figsize=(6,4)) # Plot-Größe\n",
    "#plt.xkcd()\n",
    "plt.rcParams['font.size'] = 10; # Schriftgröße\n",
    "\n",
    "n = len(t_sec)\n",
    "data=np.array(t_sec)\n",
    "mean=data.mean()\n",
    "std=data.std(ddof=1)\n",
    "\n",
    "x_volt_2 = np.random.normal(mean, std, n)\n",
    "x_volt_3 = np.random.normal(mean, std, n)\n",
    "x_volt_4 = np.random.normal(mean, std, n)\n",
    "x_volt_5 = np.random.normal(mean, std, n)\n",
    "x_volt_6 = np.random.normal(mean, std, n)\n",
    "x_volt_7 = np.random.normal(mean, std, n)\n",
    "x_volt_8 = np.random.normal(mean, std, n)\n",
    "x_volt_9 = np.random.normal(mean, std, n)\n",
    "data_2=np.array(x_volt_2)\n",
    "data_3=np.array(x_volt_3)\n",
    "data_4=np.array(x_volt_4)\n",
    "data_5=np.array(x_volt_5)\n",
    "data_6=np.array(x_volt_6)\n",
    "data_7=np.array(x_volt_7)\n",
    "data_8=np.array(x_volt_8)\n",
    "data_9=np.array(x_volt_9)\n",
    "\n",
    "means = [data.mean(), data_2.mean(), data_3.mean(),data_4.mean(),data_5.mean(),data_6.mean(),data_7.mean(),data_8.mean(),data_9.mean(),]\n",
    "data_means = np.array(means)\n",
    "#bconts, bedges, _p = plt.hist(x_volt, density=True, bins=np.linspace(0.95, 1.05, 6), label = \"Messwerte, Sichprobe 1\")\n",
    "#xmin, xmax = plt.xlim()\n",
    "xmin = mean-5*std\n",
    "xmax = mean+5*std\n",
    "x = np.linspace(xmin, xmax, 100)\n",
    "p = norm.pdf(x, data.mean(), data.std(ddof=1))\n",
    "p_2 = norm.pdf(x, data_2.mean(), data_2.std(ddof=1))\n",
    "p_3 = norm.pdf(x, data_3.mean(), data_3.std(ddof=1))\n",
    "p_4 = norm.pdf(x, data_4.mean(), data_4.std(ddof=1))\n",
    "p_5 = norm.pdf(x, data_5.mean(), data_5.std(ddof=1))\n",
    "p_6 = norm.pdf(x, data_6.mean(), data_6.std(ddof=1))\n",
    "p_7 = norm.pdf(x, data_7.mean(), data_7.std(ddof=1))\n",
    "p_8 = norm.pdf(x, data_8.mean(), data_8.std(ddof=1))\n",
    "p_9 = norm.pdf(x, data_9.mean(), data_9.std(ddof=1))\n",
    "p_means = norm.pdf(x, data_means.mean(), data_means.std(ddof=1))\n",
    "plt.plot(x, p, linewidth=2, label = 'Stichprobe 1', color=\"tab:blue\", alpha = 1.0)\n",
    "plt.plot(x, p_2, linewidth=2, label = 'Stichprobe 2', color=\"tab:blue\", alpha = 0.8)\n",
    "plt.plot(x, p_2, linewidth=2, label = 'Stichprobe 3', color=\"tab:blue\", alpha = 0.6)\n",
    "plt.plot(x, p_3, linewidth=2, label = 'Stichprobe 4', color=\"tab:blue\", alpha = 0.4)\n",
    "plt.plot(x, p_4, linewidth=2, label = 'Stichprobe 5', color=\"tab:blue\", alpha = 0.2)\n",
    "plt.plot(x, p_5, linewidth=2, label = 'Stichprobe 6', color=\"tab:green\", alpha = 0.4)\n",
    "plt.plot(x, p_6, linewidth=2, label = 'Stichprobe 7', color=\"tab:green\", alpha = 0.6)\n",
    "plt.plot(x, p_7, linewidth=2, label = 'Stichprobe 8', color=\"tab:green\", alpha = 0.8)\n",
    "plt.plot(x, p_8, linewidth=2, label = 'Stichprobe 9', color=\"tab:green\", alpha = 1.0)\n",
    "plt.plot(x, p_means, linewidth=2, label = 'Mittelwert-Verteilung', color=\"tab:red\", alpha = 1.0)\n",
    "\n",
    "plt.axvline(x=data_means.mean(), color=\"tab:red\", ls='--', label='wahrer (?) Wert')\n",
    "plt.ylabel('Häufigkeitsdichte d(x)')\n",
    "plt.xlabel('Klassenverteilung der Zeit (s)')\n",
    "plt.legend(bbox_to_anchor=(1,1), loc=\"upper left\")\n",
    "plt.show()"
   ]
  },
  {
   "cell_type": "markdown",
   "id": "37676d8c-e796-494c-9ba6-cbc4c913dd8c",
   "metadata": {},
   "source": [
    "```{warning} \n",
    "Die **Standardabweichung des Mittelwertes $s(\\overline x)$** einer Messreihe ist gegenüber der Abweichung der Einzelmessungen $s(x)$ um den Faktor $\\sqrt{m}$ reduziert. Der Grund dafür ist, dass sich statistisch ermittelte Unsicherheiten teilweise herausmitteln. \n",
    "```\n",
    "\n",
    "Bei einer großen Anzahl Messungen (>30) liegen etwa 68% der **Einzel**-Messungen im Intervall $\\pm s(x)$ **um den Mittelwert** der Messreihe herum. Würden man den wahren Wert kennen, könnte man weiter herausfinden, dass etwa 68% der **Mittelwerte** im Intervall $\\pm s(\\overline x)$ **um den wahren** Wert lägen.\n",
    "\n",
    "```{admonition} Standardabweichung des Mittelwertes\n",
    ":class: tip\n",
    "Für die Standardabweichung des Mittelwertes des obigen Zeitmessreihe erhalten wir dadurch\n",
    "\n",
    "$$u_{\\overline x} = \\frac{s}{\\sqrt{m}} = \\frac{0,0433\\,\\mathrm s}{\\sqrt{22}} = 0,009\\,\\mathrm s$$\n",
    "\n",
    "```"
   ]
  },
  {
   "cell_type": "markdown",
   "id": "508581fe-a8dd-408e-a10d-413d69283f39",
   "metadata": {},
   "source": [
    "### Normierte Normalverteilung\n",
    "\n",
    "Laut dem zentralen Grenzwertsatz folgen also viele Messungen einer Normalverteilung. Um verschiedene Messungen miteinander zu vergleichen, benutzt man häufig die normierte Normalverteilung. Dadurch können die Verteilungen verschiedener Messwerte miteinander verglichen werden, unabhängig von deren physikalischen Einheit. \n",
    "\n",
    "Jede Normalverteilung kann in eine normierte Gaußverteilung transformiert werden. Der Übergang erfolgt mit einer Transformation, die die Messwerte normiert. Die Differenz aus Messwert und Mittelwert, $x-\\mu$, wird auf die Standardabweichung $\\sigma$ bzw. $s$ normiert:\n",
    "\n",
    "$$z = \\frac{x-\\mu}{\\sigma}$$\n",
    "\n",
    "Dadurch erhält man folgende Funktion für $\\mu = 0$ und $\\sigma = 1$ und $-1$:\n",
    "\n",
    "$$p(z) = \\frac{1}{\\sqrt{2\\pi}}\\mathrm e^{-\\frac{z^2}{2 ^2}} $$\n",
    "\n",
    ":::{figure-md} normal_normiert_trafo\n",
    "<img src=\"draw/normal_normiert_trafo.jpg\" alt=\"normal_normiert_trafo\" width=\"600px\" label = normal_normiert_trafo>\n",
    "\n",
    "Transformation der Normalverteilung in eine normierte Normalverteilung.\n",
    ":::\n",
    "\n",
    "\n",
    "Der Flächeninhalt unterhalb dieser Verteilungsfunktion ist wieder auf 100% normiert, wenn von $\\pm \\infty$ integriert wird. Die maximale Amplitude ist jetzt $1/\\sqrt{2 \\pi}$. Die $z$-Achse (vorher Messwerte $x$) ist jetzt dimensionslos (einheitenlos). Somit können mit normierten Gaußverteilungen verschiedene physikalische Größen auch von verschiedenen Messgeräten bezüglich ihrer Streuung verglichen werden. \n",
    "\n",
    "\n",
    "## Vertrauensintervalle\n",
    "\n",
    "::::::{margin}\n",
    ":::::{grid}\n",
    "::::{grid-item-card}\n",
    ":class-header: bg-light\n",
    "Vertrauensintervall für Erwartungswert berechnen - Beispiel einfach erklärt (Mathe - simpleclub)\n",
    "\n",
    "<iframe width=\"200\" height=\"113\" src=\"https://www.youtube.com/embed/3-j37bBJlMU\" title=\"YouTube video player\" frameborder=\"0\" allow=\"accelerometer; autoplay; clipboard-write; encrypted-media; gyroscope; picture-in-picture; web-share\" allowfullscreen></iframe>\n",
    "::::\n",
    ":::::\n",
    "::::::\n",
    "\n",
    "::::::{margin}\n",
    ":::::{grid}\n",
    "::::{grid-item-card}\n",
    ":class-header: bg-light\n",
    "Sigmaregeln - Wahrscheinlichkeiten in der Normalverteilung (Mathe - simpleclub)\n",
    "\n",
    "<iframe width=\"200\" height=\"113\" src=\"https://www.youtube.com/embed/OmmODKdYLSI\" title=\"YouTube video player\" frameborder=\"0\" allow=\"accelerometer; autoplay; clipboard-write; encrypted-media; gyroscope; picture-in-picture; web-share\" allowfullscreen></iframe>\n",
    "::::\n",
    ":::::\n",
    "::::::\n",
    "\n",
    "Wir haben eben bereits erwähnt, dass 68% der Messwerte innerhalb des Intervalls $\\pm \\sigma(x)$ liegen. \n",
    "\n",
    "```{admonition} Weitere Sigma-Umbegbungen, die man kennen sollte:\n",
    ":class:\n",
    "Bei einer echten Normalverteilung gilt folgendes:\n",
    "* 68,3% aller Messwerte liegen im Bereich $\\pm \\sigma$\n",
    "* 95,5% aller Messwerte liegen im Bereich $\\pm 2\\sigma$\n",
    "* 99,7% aller Messwerte liegen im Bereich $\\pm 3\\sigma$\n",
    "* Im Abstand $\\pm \\sigma$ sind die Wendestellen\n",
    "* Die Normalverteilung reicht von $-\\infty$ bis $+\\infty$ \n",
    "```\n",
    "\n",
    "Bei bekannter  Wahrscheinlichkeitsverteilung $p(x)$ der Messwerte $x$ um den Mittelwert $\\overline x$, lässt sich die Wahrscheinlichkeit dafür berechnen, einen Messwert im Intervall $[x_1, x_2]$ um den Mittelwert zu finden. Wir nehmen im Folgenden eine Normalverteilung, mit Standardabweichung $\\sigma$, der Messwerte an, dann ist die Wahrscheinlichkeit für\n",
    "- einen Messwert innerhalb $x\\pm dx$: \n",
    "\n",
    "$$p(x)dx = \\frac{1}{\\sigma \\sqrt{2\\pi}}\\mathrm{exp}\\left(-\\frac{(x-\\overline x)^2}{2\\sigma^2}\\right) dx$$\n",
    "\n",
    "- irgendeinen Messwerte zwischen $\\pm \\infty:$ \n",
    "\n",
    "$$P(-\\infty < x < \\infty) = \\int_{-\\infty}^\\infty p(x)dx = 1$$\n",
    "\n",
    "- einen Messwert im Intervall $[x_1, x_2]$: \n",
    "\n",
    "$$P(x_1 < x < x_2) = \\int_{x_1}^{x_2} p(x)dx =  \\frac{1}{\\sigma \\sqrt{2\\pi}}\\int_{x_1}^{x_2} \\mathrm{exp}\\left(-\\frac{(x-\\overline x)^2}{2\\sigma^2}\\right) dx$$\n",
    "\n",
    "Das hier auftretende Integral ist nicht elementar berechenbar und man findet stattdessen Tabellen, aus denen man die zugehörigen Wahrscheinlichkeitswerte ablesen kann:\n",
    "\n",
    ":::{admonition} Tabelle der normierten Wahrscheinlichkeiten in Abhängigkeit von $z$\n",
    ":class: dropdown\n",
    "Die Spalten geben die erste Nachkommastelle von $z$ an, die Zeilen die zweite.\n",
    "![Bild](pictures/normalverteilung_tabelle.png)\n",
    ":::\n",
    "\n",
    "Mit $x_1 = \\mu - t\\cdot \\sigma$ und $x_2 = \\mu + t\\cdot \\sigma$ findet man die Wahrscheinlichkeit $P(\\mu-t\\cdot\\sigma \\leq x \\leq \\mu+t\\cdot\\sigma)$ dafür, dass der Messwert innerhalb einer $t\\cdot\\sigma$-Umgebung um den Mittelwert liegt. \n",
    "\n",
    ":::{admonition} Aufgabe: Wahrscheinlichkeit im Intervall $P(x_1 < x < x_2)$ berechnen\n",
    ":class: tip\n",
    "Es soll im Folgenden ein Messsystem einer Abfüllanlage überprüft werden, die Flaschen sind jeweils mit 0,7 l Saftgetränk befüllt.\n",
    "Aus Kalibrierungen ist bekannt, dass die Messwerte des Messsystems der Abfüllanlage normalverteilt mit einem Erwartungswert $\\mu$ = 0,7 l und Standardabweichung $\\sigma$ = 5 ml sind. \n",
    "Wie groß ist die Wahrscheinlichkeit, dass die Saftflaschen mit einen Inhalt zwischen 0,69 l und 0,71 l befüllt werden?\n",
    ":::\n",
    "\n",
    ":::{admonition} Lösung: Wahrscheinlichkeit im Intervall $P(x_1 < x < x_2)$ berechnen\n",
    ":class: tip, dropdown\n",
    "* Obere und untere Grenze werden in den $z$-Wert umgerechnet:\n",
    "\n",
    " $z_o = \\frac{x-\\mu}{\\sigma} = \\frac{(0,69-0,7)\\,\\mathrm l}{0,005\\,\\mathrm l} = -2$\n",
    "\n",
    " $z_u = \\frac{x-\\mu}{\\sigma} = \\frac{(0,71-0,7)\\,\\mathrm l}{0,005\\,\\mathrm l} = 2$\n",
    "\n",
    "* Aus der Tabelle werden die Werte für $z = 2,00$ abgelesen:\n",
    "\n",
    " $\\phi(2) = 0.97725$ (Wahrscheinlichkeit dafür, dass der Messwert zwischen 0 l und 0,71 l liegt)\n",
    "\n",
    " $\\phi(-2) = 1 - \\phi(2) =  1-0,97725 = 0,02275$ (Wahrscheinlichkeit dafür, dass der Messwert NICHT zwischen 0 l und 0,69 l liegt)\n",
    "\n",
    "* Berechnung der Wahrscheinlichkeit, dass die Saftflaschen mit einem Inhalt zwischen 0,69 l und 0,71 l befüllt werden:\n",
    "\n",
    " $\\phi(2) - \\phi(-2) = 0,97725-0,02275 = 0,9545$\n",
    "\n",
    "Mit einer Wahrscheinlichkeit von 95,45 % werden die Flaschen in der Abfüllanlage mit einem Inhalt von 0,69 l – 0,71 l befüllt. Dies entspricht auch genau der Wahrscheinlichkeit der $2\\sigma$-Umgebung (siehe vorheriges Kapitel), was für $z = \\pm 2$ natürlich auch so sein sollte. \n",
    ":::\n",
    "\n",
    "\n",
    "### Güteklassen von Messgeräten \n",
    "\n",
    "Durch diese Intervallgrenzen werden Güteklassen von Messeinrichtungen definiert. Andersherum können auch Anforderungen an Messgeräte gestellt werden: Die Anforderungen werden umso höher, je höher die Wahrscheinlichkeit sein soll, dass sich die Messwerte dem *richtigen* Wert annähern. \n",
    "Der Messtechniker kann somit mit der gegebenen Wahrscheinlichkeit abschätzen, ob ermittelte Messwerte innerhalb einer durch Fertigungsunterlagen zugelassenen Toleranz für die Maße eines Werkstücks liegen. Übliche Werte für Invervallgrenzen (meist symmetrisch, also Abweichungen sowohl nach unten als auch nach oben im gleichen Maße).\n",
    "\n",
    "| Intervallgrenzen | Transformation | $P(x) = \\Phi(z)$ | Bezeichnung | Wahrscheinlichkeit\n",
    "|:-------|:-------|:-------|:-------|:-------|\n",
    "| $\\mu \\pm 1 \\cdot \\sigma$ | 1 | 0,6827| Orientierende Messung | 68,27% |\n",
    "| $\\mu \\pm 1{,}96 \\cdot \\sigma$ | 1,96 | 0,95| Betriebsmessung | 95% |\n",
    "| $\\mu \\pm 2 \\cdot \\sigma$ | 2 | 0,9545| Betriebsmessung | 95,45% |\n",
    "| $\\mu \\pm 2{,}58 \\cdot \\sigma$ | 2,58 | 0,99| Präzisionsmessung | 99% |\n",
    "| $\\mu \\pm 3 \\cdot \\sigma$ | 3 | 0,9973| Präzisionsmessung | 99,73% |\n",
    "| $\\mu \\pm 4 \\cdot \\sigma$ | 4 | 0,9999| Präzisionsmessung | 99,99% |\n",
    "\n",
    "\n",
    "## Angabe des Messergebnisses mit Unsicherheit\n",
    "Als Messtechniker gehen wir immer daher davon aus, dass innerhalb $\\pm 3s$ alle Messwerte liegen. Auf dieser Basis wird entsprechend auch die Messabweichung berechnet, also A = $\\pm 3s$.\n",
    "\n",
    "Das **Endergebnis** der oben dargestellten Messreihe von $m$ Messwerten wird in der Regel wiefolgt angegeben. Als Messwert wird nicht das Ergebnis einer Einzelmessung angegeben, sondern stets der Mittelwert der Messreihe inkl. seiner Unsicherheit:\n",
    "\n",
    "$$ s(\\overline x) = \\frac{s}{\\sqrt{m}} = u_{\\overline x} $$\n",
    "\n",
    "Der Mittelwert ist der beste Schätzwert, den wir für den *wahren* Wert ermitteln können. Die Angabe des Messergebnisses erfolgt also wiefolgt:\n",
    "\n",
    "$$x = \\overline x \\pm t \\cdot u_{\\overline x}$$\n",
    "\n",
    "wobei $t$ ein Maß für den **Vertrauensbereich $v$** ist:\n",
    "\n",
    "$$v = \\pm \\frac{t}{\\sqrt{m}}\\cdot s = u_v$$\n",
    "\n",
    "Der Vertrauensbereich beschreibt die Aufspreizung des Mittelwertes einer Messreihe zu einem Vertrauensband, das umso breiter ist, je weniger Messwerte zur Auswertung zur Verfügung stehen und je größer das geforderte Vertrauensniveau ist. \n",
    "Der Vertrauensbereich gilt als Qualitätsmaß für die Genauigkeit einer durchgeführten Messung. \n",
    "Für $t=1$ wählen wir also die $\\pm 1s$-Umgebung, in der 68% der Messwerte liegen. Für $t = 2$, also die $\\pm 2s$-Umgebung, werden schon 95% aller Messwerte in diesem Bereich erwartet. Die Messabweichung ist dadurch erhöht, das Vertrauen allerdings auch.\n",
    "\n",
    "\n",
    ":::{admonition} Aufgabe: Gib das Messergebnis für obige Zeitmessreihe an!\n",
    ":class: tip\n",
    "Gib das Messergebnis für die obige Zeitmessung für die 68,27%, 95,45% und 99,73% Vertrauensintervalle an (1-, 2- und 3-sigma).\n",
    ":::\n",
    "\n",
    ":::{admonition} Lösung: Gib das Messergebnis für obige Zeitmessreihe an!\n",
    ":class: tip, dropdown\n",
    "Für die Zeitmessreihe aus dem oben aufgeführten Beispiel waren folgende Parameter gegeben:\n",
    "* Anzahl der Messwerte $m=22$\n",
    "* Mittelwert: $\\overline x = 1{,}40227\\,\\mathrm{s}$\n",
    "* Standardabweichung der Einzelmessung: $s = 0{,}0433\\,\\mathrm{s}$\n",
    "\n",
    "Für die Standardabweichung des Mittelwertes erhalten wir dadurch: \n",
    "\n",
    "$$u_{\\overline x} = \\frac{s}{\\sqrt{m}} = \\frac{0{,}0433\\,\\mathrm s}{\\sqrt{22}} = 0{,}009\\,\\mathrm s$$\n",
    "\n",
    "Mit einer Sicherheit von über 68% sind die Messwerte im folgenden Intervall zu erwarten:\n",
    "\n",
    "$$x = (1{,}402 \\pm 2\\cdot 0{,}009)\\,\\mathrm s = (1{,}402 \\pm 0{,}009)\\,\\mathrm s \\quad (68{,}27\\%)$$\n",
    "\n",
    "Mit einer Sicherheit von über 95% sind die Messwerte im folgenden Intervall zu erwarten:\n",
    "\n",
    "$$x = (1{,}402 \\pm 2\\cdot 0{,}009)\\,\\mathrm s = (1{,}402 \\pm 0{,}018)\\,\\mathrm s \\quad (95\\%)$$\n",
    "\n",
    "Mit einer Sicherheit von über 99% sind die Messwerte im folgenden Intervall zu erwarten:\n",
    "\n",
    "$$x = (1{,}402 \\pm 3\\cdot 0{,}009)\\,\\mathrm s = (1{,}402 \\pm 0{,}027)\\,\\mathrm s \\quad (99{,}73\\%)$$\n",
    ":::"
   ]
  },
  {
   "cell_type": "code",
   "execution_count": 10,
   "id": "b8237c22-a865-4d35-a22a-f9c006a362a7",
   "metadata": {
    "tags": [
     "hide-cell"
    ]
   },
   "outputs": [
    {
     "name": "stdout",
     "output_type": "stream",
     "text": [
      "\n",
      "Zusammenfassungsstatistiken:\n",
      "+---+------------------------+-----------------------+\n",
      "|   |   Statistische Größe   |       Empirisch       |\n",
      "+---+------------------------+-----------------------+\n",
      "| 0 |     Mittelwert (s)     |  1.4022727272727271   |\n",
      "| 1 |     Varianz (s^2)      | 0.0018755411255411217 |\n",
      "| 2 | Standardabweichung (s) | 0.043307518118002576  |\n",
      "+---+------------------------+-----------------------+\n",
      "Das Messergebnis für ein Vertrauensintervall von 68,27% (1-sigma-Umgebung) ist:  1.40227 s +-  0.00923 s\n",
      "Das Messergebnis für ein Vertrauensintervall von 95,45% (2-sigma Umgebung) ist:  1.40227 s +-  0.01846 s\n",
      "Das Messergebnis für ein Vertrauensintervall von 99,73% (3-sigma Umgebung) ist:  1.40227 s +-  0.02769 s\n"
     ]
    }
   ],
   "source": [
    "# DataFrame für die Zusammenfassungsstatistiken erstellen\n",
    "zusammenfassung_data = {\n",
    "    'Statistische Größe': ['Mittelwert (s)', 'Varianz (s^2)', 'Standardabweichung (s)'],\n",
    "    'Empirisch': [emp_mittelwert, emp_varianz, emp_stdabweichung]\n",
    "}\n",
    "\n",
    "zusammenfassung_df = pd.DataFrame(zusammenfassung_data)\n",
    "# Histogramm-Daten als Tabelle ausgeben\n",
    "print(\"\\nZusammenfassungsstatistiken:\")\n",
    "print(tabulate(zusammenfassung_df, headers='keys', tablefmt='pretty'))\n",
    "\n",
    "print('Das Messergebnis für ein Vertrauensintervall von 68,27% (1-sigma-Umgebung) ist: ', round(emp_mittelwert,5), 's +- ', 1*round(emp_stdabweichung/np.sqrt(len(t_sec)),5), 's')\n",
    "print('Das Messergebnis für ein Vertrauensintervall von 95,45% (2-sigma Umgebung) ist: ', round(emp_mittelwert,5), 's +- ', 2*round(emp_stdabweichung/np.sqrt(len(t_sec)),5), 's')\n",
    "print('Das Messergebnis für ein Vertrauensintervall von 99,73% (3-sigma Umgebung) ist: ', round(emp_mittelwert,5), 's +- ', 3*round(emp_stdabweichung/np.sqrt(len(t_sec)),5), 's')"
   ]
  },
  {
   "cell_type": "markdown",
   "id": "14ac036b-9738-4edd-b752-066a6a1cf3c3",
   "metadata": {},
   "source": [
    "## Student-t (kleine Stichproben)\n",
    "\n",
    "Ist die Zahl der Messwerte nur klein ($m \\leq 25$) werden die aus der Normalverteilung berechneten Parameter ziemlich unsicher. Anfang des 20. Jh. veröffentlichte WILLIAM SEALY GOSSET unter dem Pseudonym „Student“ eine Verteilungsfunktion, die eine zuverlässigere Parameterschätzung auch für kleine Stichprobengrößen erlaubt. Für die Messwertanalyse ist folgender Teilaspekt von Bedeutung: Aus der Zahl $m$ der Messwerte und einem vorgegebenen Vertrauensbereich berechnen Sie einen Faktor $t(s=m-1, p=1-\\alpha/2)$, der die Unsicherheitsintervalle aus der Normalverteilung korrigiert. \n",
    "Die unten stehende Quantil-Tabelle zeigt die zugehörigen Werte von $t$ in Abhängigkeit von der Messwertanzahl, und dem gewählten Vertrauensniveau, dass die geforderte statistische Sicherheit beschreibt:\n",
    "\n",
    ":::{admonition} Tabelle der $s-p$-Quantile\n",
    ":class: dropdown\n",
    "![Bild](pictures/student-t.png)\n",
    ":::\n",
    "\n",
    "Die Interpretation der Quantil-Tabelle der Student-t Verteilung kann verwirrend sein. Statt der Anzahl der Messwerte $m$ wird die Anzahl der Freiheitsgrade $s = m-1$ angegeben. Und statt des zweiseitigen Vertrauensbereich $P = 1-\\alpha$ wird der halbseitige Vertrauensbereich $p = 1-\\alpha/2$ gewählt. Beide *Quantile* können aber über die eben angegebenen Formel einfach bestimmt werden.\n",
    "\n",
    "Aus der empirischen Standardabweichung des Mittelwertes $s(\\overline x)$ berechnet man beispielsweise:\n",
    "\n",
    "$$u(\\overline x) = t(s,p) \\cdot s(\\overline x) = t(s,p) \\cdot \\frac{s(x)}{\\sqrt{m}}$$\n",
    "\n",
    "\n",
    ":::{admonition} Beispiel zur Berechnung der Messabweichung einer Messreihe mittels Student-t Verteilung\n",
    ":class: tip, dropdown\n",
    "\n",
    "Für die Zeitmessreihe aus dem oben aufgeführten Beispiel waren folgende Parameter gegeben:\n",
    "* Anzahl der Messwerte $m=22$\n",
    "* Mittelwert: $\\overline x = 1{,}40227\\,\\mathrm{s}$\n",
    "* Standardabweichung der Einzelmessung: $s = 0{,}0433\\,\\mathrm{s}$\n",
    "* Standardabweichung des Mittelwertes: $u_{\\overline x} = \\frac{s}{\\sqrt{m}} = \\frac{0{,}0433\\,\\mathrm s}{\\sqrt{22}} = 0{,}009\\,\\mathrm s$\n",
    "\n",
    "Oben hatten wir das Ergebnis, in dem 95% der Messwerte zu finden sind, wiefolgt angegeben ($2\\sigma$-Vertrauensbereich benutzen):\n",
    "\n",
    "$$x = (1{,}402 \\pm 2\\cdot 0{,}009)\\,\\mathrm s = (1{,}402 \\pm 0{,}018)\\,\\mathrm s \\quad (95\\%)$$\n",
    "\n",
    "In Anbetracht der sehr kleinen Stichprobe von lediglich $m=22$ Messwerten sollte jedoch die Student-t Verteilung hinzugezogen werden und der Vertrauensbereich für 95% korrigiert werden. Es gilt also:\n",
    "\n",
    "> $P = 1-\\alpha = 0{,}95$. Daraus folgt:\n",
    "\n",
    "> $\\Rightarrow \\alpha = 1-P = 1-0{,}95 = 0{,}05$\n",
    "\n",
    "> $\\Rightarrow \\alpha/2 = 0{,}025$\n",
    "\n",
    "> $\\Rightarrow p = 1-\\alpha/2 = 1-0{,}025 = 0{,}975$\n",
    "\n",
    "Für die Berechnung des s-Quantils gilt:\n",
    "\n",
    "> $s = m-1 = 22-1 = 21$\n",
    "\n",
    "Der $t$-Wert des korrigierten Vertrauensbereichs wird aus der Tabelle abgelesen:\n",
    "\n",
    "$$t_{s;p} = t_{m-1; 1-\\alpha/2} = t_{21; 0{,}975} = 2{,}080$$\n",
    "\n",
    "$$x = (1{,}402 \\pm 2{,}080\\cdot 0{,}009)\\,\\mathrm s = (1{,}402 \\pm 0{,}0187)\\,\\mathrm s \\quad (95\\% \\textrm{ t-Verteilung})$$\n",
    "\n",
    "Der Unterschied zum Vertrauensbereich, der aus der Normalverteilung hervorgeht, ist ein über 4% höherer Fehler.\n",
    "\n",
    ":::"
   ]
  },
  {
   "cell_type": "markdown",
   "id": "f897d4d5-1d4d-419d-950f-855b6766b9ad",
   "metadata": {},
   "source": [
    "## Umrechnung von Vertrauensintervallen\n",
    "\n",
    "Desweiteren können Vertrauensbereiche unterschiedlicher Wahrscheinlichkeiten ineinander umgerechnet werden:\n",
    "\n",
    "```{prf:definition} **Umrechnung von Vertrauensbereichen**\n",
    "$$\\frac{u_{\\alpha 1}}{t_{m-1; 1-\\frac{\\alpha_1}{2}}} =  \\frac{u_{\\alpha 2}}{t_{m-1; 1-\\frac{\\alpha_2}{2}}}$$\n",
    "```\n",
    "\n",
    "Hierbei ist $\\alpha$ das Signifikanzniveau, also die Irrtumswahrscheinlichkeit $\\alpha = 1-P$, wobei $P$ die Wahrscheinlichkeit bzw. die geforderte statistische Sicherheit ist.\n",
    "\n",
    "\n",
    ":::{admonition} Beispiel zur Umrechnung von Vertrauensbereichen\n",
    ":class: tip, dropdown\n",
    "\n",
    "Die Umrechnung des Vertrauensbereich 95% aus dem letzten Beispiel sollen in einen Vertrauensbereich mit einem anderen Vertrauensniveau, von 99% erfolgen. Die Ergebnisse für 95% sind bekannt. Nun muss das Quantil für 99% (also $\\alpha = $1%) bestimmt werden. Analog werden die $s = m-1 = 21$ und $p = 1-\\alpha/2 = 1-0{,}005 = 0{,}995$ Quantile bestimmt und der $t$-Wert aus der Tabelle abgelesen: \n",
    "\n",
    "$$t_{s;p} = t_{m-1; 1-\\alpha/2} = t_{21; 0,995} = 2{,}831$$\n",
    "\n",
    "Hieraus kann nun nach obiger Gleichung der Vertrauensbereich für 99% berechnet werden:\n",
    "\n",
    "$$\\frac{u_{\\alpha 1}}{t_{m-1; 1-\\frac{\\alpha_1}{2}}} =  \\frac{u_{\\alpha 2}}{t_{m-1; 1-\\frac{\\alpha_2}{2}}}$$\n",
    "\n",
    "$$\\Rightarrow u_{\\alpha 2} = u_{\\alpha 1} \\cdot \\frac{t_{m-1; 1-\\frac{\\alpha_2}{2}}}{t_{m-1; 1-\\frac{\\alpha_1}{2}}} = 0{,}0187\\,\\mathrm s \\cdot 2{,}831 / 2{,}080 = 0{,}025\\,\\mathrm s$$\n",
    "\n",
    "Die Angabe des Messergebnisses lautet somit:\n",
    "\n",
    "$$x = (1{,}402 \\pm 0{,}025)\\,\\mathrm s \\quad (99\\%)$$\n",
    ":::"
   ]
  },
  {
   "cell_type": "markdown",
   "id": "92393d87-4c48-4266-9c16-86b61ee140d8",
   "metadata": {},
   "source": [
    "## Zusammenfassung\n",
    "\n",
    "![Bild](pictures/zusammenfassung_zufaellig.png)"
   ]
  },
  {
   "cell_type": "code",
   "execution_count": null,
   "id": "b3a92838-fea9-4d94-b296-644e950bd90c",
   "metadata": {},
   "outputs": [],
   "source": []
  },
  {
   "cell_type": "code",
   "execution_count": null,
   "id": "4ded2aa6-6255-4f21-af07-2290a0730ef1",
   "metadata": {},
   "outputs": [],
   "source": []
  }
 ],
 "metadata": {
  "kernelspec": {
   "display_name": "Python 3",
   "language": "python",
   "name": "python3"
  },
  "language_info": {
   "codemirror_mode": {
    "name": "ipython",
    "version": 3
   },
   "file_extension": ".py",
   "mimetype": "text/x-python",
   "name": "python",
   "nbconvert_exporter": "python",
   "pygments_lexer": "ipython3",
   "version": "3.9.12"
  }
 },
 "nbformat": 4,
 "nbformat_minor": 5
}