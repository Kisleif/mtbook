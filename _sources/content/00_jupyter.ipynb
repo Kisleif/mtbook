{
 "cells": [
  {
   "cell_type": "markdown",
   "id": "007a4ffc-b6bd-4473-9afe-68a9d3f42fdd",
   "metadata": {},
   "source": [
    "# Über dieses Jupyter-Book"
   ]
  },
  {
   "cell_type": "code",
   "execution_count": null,
   "id": "12e082fc-76ce-4b6b-8d87-c9693ef24d50",
   "metadata": {},
   "outputs": [],
   "source": []
  }
 ],
 "metadata": {
  "kernelspec": {
   "display_name": "Python 3",
   "language": "python",
   "name": "python3"
  },
  "language_info": {
   "codemirror_mode": {
    "name": "ipython",
    "version": 3
   },
   "file_extension": ".py",
   "mimetype": "text/x-python",
   "name": "python",
   "nbconvert_exporter": "python",
   "pygments_lexer": "ipython3",
   "version": "3.9.12"
  }
 },
 "nbformat": 4,
 "nbformat_minor": 5
}
