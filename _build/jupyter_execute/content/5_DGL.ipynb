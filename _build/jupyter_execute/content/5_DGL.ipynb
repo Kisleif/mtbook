{
 "cells": [
  {
   "cell_type": "markdown",
   "id": "855ac057-9e72-4e3a-9329-51548500d6fc",
   "metadata": {},
   "source": [
    "# Systeme chatakterisieren im Zeitraum"
   ]
  },
  {
   "cell_type": "markdown",
   "id": "56dc1ed9-bad5-462d-af6a-47d3129ee1e4",
   "metadata": {},
   "source": [
    "Mit dem *white box*-Verfahren lösen wir das System-Identifizierungsproblem indem wir genau analysieren, aus welchen Komponenten unser System besteht. Anhand eines Tiefpasses 1. Ordnung, wie in {numref}`LP` dargestellt, wollen wir uns die Vorgehensweise einmal ansehen. \n",
    "\n",
    ":::{figure-md} LP\n",
    "<img src=\"draw/LP.jpg\" alt=\"LP\" class=\"bg-primary mb-1\" width=\"300px\" label = LP>\n",
    "\n",
    "Schaltbild eines passiven Tiefpasses 1. Ordnung.\n",
    ":::\n",
    "\n",
    "## Differentialgleichung aufstellen\n",
    "\n",
    "In diesem Falle gucken wir in unser System rein. Wir sehen die elektronische Schaltung bestehend aus einer Reihenschaltung von Widerstand mit Wert $R$ und Kondensator mit Kapazität $C$. \n",
    "\n",
    "Am Eingang liegt die Spannung $u_e(t)$ an. Über $C$ kann die Ausgangsspannung $u_a(t)$ gemessen werden. Der Strom, mit dem der Kodensator aufgeladen ist bekanntlich\n",
    "\n",
    "$$i_C(t) = C\\cdot \\frac{du_a}{dt}$$\n",
    "\n",
    "wobei $u_a(t)$ im allgemeinen die Spannung ist, die am Kondensator anfällt und in diesem Falle gleich der Ausgangsspannung ist. \n",
    "\n",
    "Außerdem gilt $i_R(t) = i_C(t)$. Damit können wir die Spannung, die über den Widerstand $R$ abfällt, wie folgt schreiben:\n",
    "\n",
    "$$u_R(t) = R \\cdot i_R(t) = R \\cdot C\\cdot \\frac{du_a}{dt}$$\n",
    "\n",
    "Aus der Maschenregel, hier $ u_a(t) + u_R(t) = u_e(t)$ folgt nach Einsetzen von $u_R(t)$ folgendes:\n",
    "\n",
    "$$RC \\frac{du_\\mathrm a (t)}{dt} + u_\\mathrm a (t) = u_\\mathrm e (t)$$\n",
    "\n",
    "Dies ist eine **Differentialgleichung (DGL) 1. Ordnung**. Die Differentialgleichung erkannt man daran, dass auch eine zeitliche Ableitung der Ausgangsgröße (also ein Differential) in der Formel auftritt. Da allerdings nur die 1. zeitliche Ableitung auftritt, handelt es sich um eine DGL 1. Ordnung. Würde Ausgangs oder Eingangsgröße zweimal zeitliche abgeleitet werden, würde es sich um eine DGL 2. Ordnung handeln usw. \n",
    "\n",
    "Systeme 1. Ordnung beschreiben *Energiespeicher*, also z.B. Temperaturmesser, die warm werden, oder auch Operationsverstärker, Kapazitäten und Elektromagneten. Im Prinzip ist jedes System, was sich erwärmt, ein Energiespeicher und wird somit ein System 1. Ordnung sein. Systeme 2. Ordnung haben einen zusätzlichen Dämpfungsterm. In diesen Systeme findet auch eine Umlagerung von Energien statt, wie es z.B. in einem LC-Schwingkreis passiert. Kondensator und Spule tauschen ständig Energien aus, wodurch es zu einer periodischen Schwingung kommt. Dieses System wir durch eine DGL 2. Ordnung beschrieben. "
   ]
  },
  {
   "cell_type": "markdown",
   "id": "3a18fcd5-1b72-4095-a3ee-32a05a8188ef",
   "metadata": {},
   "source": [
    "## Lösung der DGL für Sprunganregung im Zeitbereich\n",
    "\n",
    "Ziel ist es jetzt, eine Funktion für Eingangs- und Ausgangsspannung zu finden, die diese Gleichung erfüllt. Hierfür geht man im Allgemeinen in 5 Schritten vor. Wie werden später in diesem Kapitel noch sehen, dass DGL im Frequenz- bzw. Laplaceraum viel einfacher gelöst werden können als wir es hier, im Zeitraum, jetzt machen.\n",
    "\n",
    "* **1. Homogener Ansatz**\n",
    "Unter homogenen Ansatz verstehen wir das Eingangssignal auf Null zu setzen: $u_e(t) = 0$. Das heißt das System wird nicht belastet. Die DGL vereinfacht sich zu\n",
    "\n",
    "$$RC \\frac{du_\\mathrm a (t)}{dt} + u_\\mathrm a (t) = 0$$\n",
    "\n",
    "und kann umgeformt werden zu\n",
    "\n",
    "$$RC \\frac{du_\\mathrm a (t)}{dt} = -u_\\mathrm a (t)$$\n",
    "\n",
    "Das bedeutet, wird suchen eine Funktion für $u_a(t)$ die nach der Zeit abgeleitet wieder sie selber ist. Eine Exponentialfunktion erfüllt genau diese Bedingung und wir nutzen sie für unseren homogenen Ansatz:\n",
    "\n",
    "$$u_{a,\\mathrm{homogen}}(t) = K \\cdot \\mathrm e^{-\\gamma t} \\quad \\Rightarrow \\quad \\dot u_{a,\\mathrm{homogen}}(t) = -\\gamma K \\cdot \\mathrm e^{-\\gamma t}$$\n",
    "\n",
    "mit den Konstanten $K$ und $\\gamma$. Dies wird in die homogene DGL eingesetzt und es folgt:\n",
    "\n",
    "$$-RCK\\gamma \\mathrm e^{-\\gamma t} + K \\mathrm e^{-\\gamma t} = 0 \\quad \\Rightarrow \\quad -RC\\gamma + 1 = 0$$\n",
    "\n",
    "Daraus folgt für die erste Konstante \n",
    "\n",
    "$$\\gamma = \\frac{1}{RC} := \\frac{1}{\\tau}$$\n",
    "\n",
    "* **2. Spezieller Ansatz eine Sprunganregung**\n",
    "Jetzt legen wir statt Null einen *Sprung* an den Eingang $u_e(t)$ an: $u_e(t) = u_0$ für $t = 0$. Für lange Zeiten wird sich der Kondensator komplett aufgeladen haben, sodass der Ausgang ein konstantes Signal liefert. Das heißt unsere Lösung für ein spezielles Eingangssignal ist\n",
    "\n",
    "$$u_{a,\\mathrm{speziell}}(t) = u_0 \\quad \\mathrm{für} \\quad t \\rightarrow \\infty$$"
   ]
  },
  {
   "cell_type": "code",
   "execution_count": 1,
   "id": "3a5ab014-0fe1-4211-8417-d879d1e0c2f9",
   "metadata": {
    "tags": [
     "hide-input"
    ]
   },
   "outputs": [
    {
     "data": {
      "text/html": [
       "<script type=\"text/javascript\">\n",
       "window.PlotlyConfig = {MathJaxConfig: 'local'};\n",
       "if (window.MathJax && window.MathJax.Hub && window.MathJax.Hub.Config) {window.MathJax.Hub.Config({SVG: {font: \"STIX-Web\"}});}\n",
       "if (typeof require !== 'undefined') {\n",
       "require.undef(\"plotly\");\n",
       "requirejs.config({\n",
       "    paths: {\n",
       "        'plotly': ['https://cdn.plot.ly/plotly-2.12.1.min']\n",
       "    }\n",
       "});\n",
       "require(['plotly'], function(Plotly) {\n",
       "    window._Plotly = Plotly;\n",
       "});\n",
       "}\n",
       "</script>\n"
      ]
     },
     "metadata": {},
     "output_type": "display_data"
    },
    {
     "data": {
      "image/png": "[encoded data removed]",
      "text/plain": [
       "<Figure size 300x200 with 1 Axes>"
      ]
     },
     "metadata": {
      "filenames": {
       "image/png": "/Users/KSIsleif/DESY_cloud/github/mtbook/_build/jupyter_execute/content/5_DGL_3_1.png"
      }
     },
     "output_type": "display_data"
    }
   ],
   "source": [
    "#Benötigte Libraries:\n",
    "import numpy as np\n",
    "import pandas as pd\n",
    "from scipy import signal \n",
    "import scipy.integrate as spi\n",
    "import matplotlib.pyplot as plt\n",
    "import plotly.offline as py\n",
    "py.init_notebook_mode(connected=True)\n",
    "import plotly.graph_objs as go\n",
    "import plotly.tools as tls\n",
    "import seaborn as sns\n",
    "import time\n",
    "import warnings\n",
    "warnings.filterwarnings('ignore')\n",
    "\n",
    "plt.style.use('default') # Matplotlib Style wählen\n",
    "#plt.xkcd()\n",
    "plt.rcParams['font.size'] = 10; # Schriftgröße\n",
    "\n",
    "\n",
    "def heaviside_step_function(t):\n",
    "    if t < 0:\n",
    "        res = 0\n",
    "    else:\n",
    "        res = 1\n",
    "    return res\n",
    "\n",
    "\n",
    "T = 1\n",
    "t2 = np.linspace(-2*T, 7*T, 1000, endpoint = True)\n",
    "y_step = []\n",
    "for i in t2:\n",
    "    y_step.append(heaviside_step_function(i))\n",
    "    \n",
    "# Plotting\n",
    "fig, ax = plt.subplots(figsize=(3,2))\n",
    "plt.plot(t2,y_step, color = 'tab:blue')\n",
    "ax.set_yticks([0,1], labels = ['0', r'$u_0$'])\n",
    "ax.set_xticks([0])\n",
    "plt.title('Sprungsanregung bei t = 0s')\n",
    "plt.xlabel('Zeit t')\n",
    "plt.ylabel(r'$u_e$')\n",
    "plt.show()"
   ]
  },
  {
   "cell_type": "markdown",
   "id": "d2230162-dd53-403b-b555-cebc7c461987",
   "metadata": {},
   "source": [
    "* **3. Allgemeiner Ansatz**\n",
    "Nun kann der allgemeine Ansatz formuliert werden. Diese ist einfach die Addition von homogener und spezieller Ansatz:\n",
    "\n",
    "$$u_a(t) = u_{a,\\mathrm{homogen}}(t) + u_{a,\\mathrm{speziell}}(t) = u_0 + K \\cdot \\mathrm e^{-t/\\tau}$$\n",
    "\n",
    "* **4. Konstante bestimmen**\n",
    "Eine Konstante war schon bestimmt, nämlich $\\gamma = \\frac{1}{RC} := \\frac{1}{\\tau}$. Diese Zeitkonstante wurde bereits in den allgemeinen Ansatz unter 3. eingefügt. Um $K$ zu bestimmen, setzen wir unsere Anfangsbedingung von Schritt 2. ein: Zum Zeitpunkt $t=0$ ist das System zwar am Eingang mit $u_0$ belastet, der Ausgang ist jedoch noch Null, solange der Kondensator nicht vollständig aufgeladen ist. Wir setzen also $t=0$, $u_e(t=0) = u_0$ und $u_a(t = 0) = 0$ in den allgemein Ansatz ein:\n",
    "\n",
    "$$u_a(0) = u_0 + K \\cdot \\mathrm e^{-0/\\tau}$$\n",
    "$$0 = u_0 + K \\cdot 1 \\quad \\Rightarrow \\quad K = -u_0$$\n",
    "\n",
    "* **5. Lösung hinschreiben**\n",
    "Für die Lösung setzen wir alle unsere bestimmten Konstanten in den allgemeinen Ansatz ein und erhalten:\n",
    "\n",
    "$$u_a(t) = u_0 \\left(1- \\mathrm e^{-\\frac{t}{RC}}\\right)$$\n",
    "\n",
    "Dies ist auch die sogenannte **Sprungantwort** eines Systems 1. Ordnung, da wir in Schritt 2. einen *Sprung* angelegt haben. Hätten wir uns als Eingangssignal einen Impuls (eine Delta-Funktion) ausgesucht, hätten wir die **Impulsantwort** des Systems bestimmt."
   ]
  },
  {
   "cell_type": "markdown",
   "id": "841a6729-0d3d-4f5d-abd9-914bf3274e06",
   "metadata": {},
   "source": [
    "### Eigenschaften von Sprung- und Impulsantwort\n",
    "\n",
    "Um ein vorliegendes Messsystem im Labor zu charakterisieren kann man beispielsweise das System mit einem Sprung anregen und die Sprungantwort messen. \n",
    "\n",
    "Im nachfolgenden Bild ist die Sprungsantwort des Tiefpasses 1. Ordnung gezeichnet. Was kann man aus der Sprungsantwort direkt alles ablesen?\n",
    "\n",
    "* Geplottet im nachfolgenden Bild ist die normalisierte Sprungantwort, d.h. das Ausgangssignal wurde durch $u_0$ dividiert. Nach langer Einpendelzeit folgt der Ausgang dem Eingangssignal.\n",
    "* $\\tau$ ist die Zeitkonstante, die die *Trägheit* eines Systems bestimmt. \n",
    "    * Aus der Theorie ist bekannt: $\\tau = RC$ \n",
    "    * Nach der Zeit $\\tau$ ist das Ausgangssignal auf 63% seines maximal möglichen Wertes angestiegen. Es ist noch kein stationärer Zustand erreicht.\n",
    "* Einstellzeit $t_e$: Dies ist das *95%-Kriterium*:\n",
    "    * Für ein System 1. Ordnung muss die Sprungantwort $h(t)$ nach der Zeit $t = 3\\tau$ 95% des Endwertes erreicht haben.\n",
    "    * Nur wenn dies der Fall ist, handelt es sich um ein System mit Ausgleich 1. Ordnung\n",
    "    * Für ein System 2. Ordnung ist häufig ein Überschwingungen oder Einpendeln zubeoachten. Dann ist $t_e$ Zeit vom Anlegen der Sprungfunktion bis zum Erreichen des Toleranzbandes innerhalb von 0,95 und 1,05.\n",
    "* *Anstiegszeit* $t_r$: Dies ist die Dauer für einen Signalanstieg von 10% auf 90% am Ausgang des Systems."
   ]
  },
  {
   "cell_type": "code",
   "execution_count": 2,
   "id": "130785cc-3255-4103-b633-4d9ee9764bd9",
   "metadata": {
    "tags": [
     "hide-input"
    ]
   },
   "outputs": [
    {
     "ename": "NameError",
     "evalue": "name 'ddf' is not defined",
     "output_type": "error",
     "traceback": [
      "\u001b[0;31m---------------------------------------------------------------------------\u001b[0m",
      "\u001b[0;31mNameError\u001b[0m                                 Traceback (most recent call last)",
      "\u001b[0;32m/var/folders/6d/574ptfzx6v9_j7pylzkngrkm0000gp/T/ipykernel_36201/2976854337.py\u001b[0m in \u001b[0;36m<module>\u001b[0;34m\u001b[0m\n\u001b[1;32m     14\u001b[0m \u001b[0mH\u001b[0m \u001b[0;34m=\u001b[0m \u001b[0msignal\u001b[0m\u001b[0;34m.\u001b[0m\u001b[0mTransferFunction\u001b[0m\u001b[0;34m(\u001b[0m\u001b[0mnum\u001b[0m \u001b[0;34m,\u001b[0m \u001b[0mden\u001b[0m\u001b[0;34m)\u001b[0m\u001b[0;34m\u001b[0m\u001b[0;34m\u001b[0m\u001b[0m\n\u001b[1;32m     15\u001b[0m \u001b[0;34m\u001b[0m\u001b[0m\n\u001b[0;32m---> 16\u001b[0;31m \u001b[0my_impuls\u001b[0m \u001b[0;34m=\u001b[0m \u001b[0mddf\u001b[0m\u001b[0;34m(\u001b[0m\u001b[0mt2\u001b[0m\u001b[0;34m,\u001b[0m\u001b[0;36m6.\u001b[0m\u001b[0;34m)\u001b[0m\u001b[0;34m\u001b[0m\u001b[0;34m\u001b[0m\u001b[0m\n\u001b[0m\u001b[1;32m     17\u001b[0m \u001b[0;31m# Sprungantwort:\u001b[0m\u001b[0;34m\u001b[0m\u001b[0;34m\u001b[0m\u001b[0m\n\u001b[1;32m     18\u001b[0m \u001b[0mt\u001b[0m\u001b[0;34m,\u001b[0m \u001b[0my\u001b[0m \u001b[0;34m=\u001b[0m \u001b[0msignal\u001b[0m\u001b[0;34m.\u001b[0m\u001b[0mstep\u001b[0m\u001b[0;34m(\u001b[0m\u001b[0mH\u001b[0m\u001b[0;34m)\u001b[0m\u001b[0;34m\u001b[0m\u001b[0;34m\u001b[0m\u001b[0m\n",
      "\u001b[0;31mNameError\u001b[0m: name 'ddf' is not defined"
     ]
    }
   ],
   "source": [
    "import numpy as np\n",
    "import scipy.signal as signal\n",
    "import matplotlib.pyplot as plt\n",
    "# MatplotLib Settings:\n",
    "plt.style.use('default') # Matplotlib Style wählen\n",
    "#plt.xkcd()\n",
    "plt.rcParams['font.size'] = 10; # Schriftgröße\n",
    "\n",
    "# Transfer Funktion Tiefpass:\n",
    "K = 1 # Verstärkungsfaktor\n",
    "T = 1 # Zeit nach der 63% des Signals erreicht ist\n",
    "num = np.array([K])\n",
    "den = np.array([T , 1])\n",
    "H = signal.TransferFunction(num , den)\n",
    "\n",
    "y_impuls = ddf(t2,6.)\n",
    "# Sprungantwort:\n",
    "t, y = signal.step(H)\n",
    "\n",
    "# Impulsantwort\n",
    "t_imp, y_imp = signal.impulse(H)\n",
    "\n",
    "# Plotting\n",
    "fig, ax = plt.subplots(figsize=(9,4))\n",
    "plt.subplot(1,2,1)\n",
    "plt.axhline(y = 1.0, color='k', ls = '--', lw = 1)\n",
    "plt.axhline(y = 0.95, color='k', ls = '--', lw = 1)\n",
    "plt.axhline(y = 0.63, color='k', ls = '--', lw = 1)\n",
    "plt.axvline(x = T, color='k', ls = '--', lw = 1)\n",
    "plt.axvline(x = 3*T, color='k', ls = '--', lw = 1)\n",
    "plt.plot(t2,y_step, color = 'tab:red', label = r'Sprunganregung $\\sigma(t)$')\n",
    "plt.plot(t, y, color='tab:blue', label = r'Sprungantwort $h(t)$')\n",
    "plt.yticks([1.0, 0.95,0.63], labels = ['100%','95%', '63%'])\n",
    "plt.xticks([0,T,3*T], labels = ['0',r'$\\tau$',r'$3\\tau$'])\n",
    "plt.title(\"Sprungantwort eines Tiefpasses\")\n",
    "plt.xlabel(\"Zeit t\")\n",
    "plt.ylabel(r'$u_a(t)/u_0$')\n",
    "plt.legend()\n",
    "\n",
    "plt.subplot(1,2,2)\n",
    "plt.plot(t2, y_impuls, color = 'tab:red', label = r'Impulsanregung $\\delta(t)$')\n",
    "plt.plot(t_imp, y_imp, color='tab:blue', label = r'Impulsantwort $g(t)$')\n",
    "plt.yticks([1.0, 0.5,0.0], labels = ['100%','50%', '0%'])\n",
    "plt.title(\"Impulsantwort eines Tiefpasses\")\n",
    "plt.xlabel(\"Zeit t\")\n",
    "plt.legend()\n",
    "#plt.ylabel(r'$u_a(t)/u_0$')\n",
    "plt.tight_layout\n",
    "plt.show()"
   ]
  },
  {
   "cell_type": "markdown",
   "id": "ff38214a-6422-4a3a-ae38-0db1b26c09db",
   "metadata": {},
   "source": [
    "Folgende Eigenschaften bestehen zwischen Sprung- und Impulsantwort:\n",
    "\n",
    "* Die Sprunganregung $\\sigma(t)$ liefert die Sprungantwort $h(t)$\n",
    "* Die Impulsanregung $\\delta(t)$ liefert die Impulsanregung $g(t)$\n",
    "* Die Ableitung der Sprunganregung $\\sigma(t)$ ist die Impulsanregung $\\delta(t)$, d.h. es gilt:\n",
    "\n",
    "    $$\\dot \\sigma(t) = \\frac{d\\sigma(t)}{dt} = \\delta(t)$$\n",
    "    \n",
    "* Für LTI Systeme gilt, dass auch die Ableitung der Sprungantwort $h(t)$ die Impulsantwort $g(t)$ liefert:\n",
    "\n",
    "    $$\\dot h(t) = \\frac{dh(t)}{dt} = g(t)$$\n",
    "\n",
    "* D.h. Sprung und Impulsverhalten eines Messsystems können mittels Ableitung bzw. Integration direkt ineinaner umgerechnet werden, ohne eines neues Testsignal anlegen zu müssen (oder die DGL neu zu lösen)"
   ]
  },
  {
   "cell_type": "markdown",
   "id": "ce535a80-f6d3-4392-9e6f-627899cd54d7",
   "metadata": {},
   "source": [
    "## Lösung der DGL für Sprunganregung im Frequenzbereich\n",
    "\n",
    "Eine handlichere Methode DGL's zu lösen ist es diese zuerst in den Frequenzbereich zu transformieren. \n",
    "\n",
    "* **1. DGL transformieren:** Die Signale werden in den Frequenzraum transformiert. \n",
    "\n",
    "    * $u_\\mathrm e (t) \\rightarrow U_e(j \\omega)$\n",
    "    * $u_\\mathrm a (t) \\rightarrow U_a(j \\omega)$\n",
    "    * $\\dot u_\\mathrm a (t) \\rightarrow j \\omega U_a(j \\omega)$\n",
    "    \n",
    "    Der letzte Punkt resultiert aus den Eigenschaften von Fourier-Transformationen für zeitliche Ableitungen von Zeitsignalen:\n",
    "\n",
    "    In der DGL werden die Zeitsignale durch die Fourier-Transformierten ersetzt:\n",
    "\n",
    "    $$\\tau j \\omega U_\\mathrm a(j \\omega) + U_\\mathrm a (j \\omega) = U_\\mathrm e (j \\omega)$$\n",
    "\n",
    "* **2. Sprunganregung einsetzen:** Die Fourier-Transformierte der Sprunganregung ist:\n",
    "\n",
    "    $$\\mathcal F(u_e(t)) = \\frac{1}{j\\omega} =: U_\\mathrm e (j \\omega)$$\n",
    "\n",
    "    Die wird oben in die transformierte DGL eingesetzt:\n",
    "    \n",
    "    $$\\tau j \\omega U_\\mathrm a(j \\omega) + U_\\mathrm a (j \\omega) = \\frac{1}{j\\omega} $$\n",
    "\n",
    "* **3. Lösung hinschreiben:** Die letze Gleichung wird nach $U_\\mathrm a (j \\omega)$ aufgelöst:\n",
    "    \n",
    "    $$\\Rightarrow U_\\mathrm a (j \\omega) = \\frac{1}{j\\omega \\cdot (1 + \\tau j \\omega)}$$\n",
    "    \n",
    "\n",
    "Hierbei handelt es sich um die Lösung im Frequenzraum, die nach einer Rück-Transformation die gleich Sprungantwort liefert wie oben bereits hergeleitet.\n",
    "In allgemeiner Form, also ohne das Einsetzen einer Sprunganregung, führt uns dieser Ansatz jedoch zu der sogenannten **Übertragungsfunktion**, mit der wir uns im nächsten Kapitel beschäftigen wollen."
   ]
  },
  {
   "cell_type": "markdown",
   "id": "b8a68aeb-5201-48ce-b39c-8c55c93b884b",
   "metadata": {},
   "source": [
    "## Weitere Testfunktionen\n",
    "\n",
    "In der Messtechnik wird das Übertragungsverhalten einer Messeinrichtung mittels Testfunktionen im Labor überprüft. **Sprung** und **Impuls** gehören zu den meist benutzten Testfunktionen, doch auch eine **Rampen**funktion (ein sich kontinuierlich erhöhendes Eingangssignal) oder ein **Sweep** (hier werden verschiedene Frequenzen direkt nacheinander durchgefahren) haben sich bewährt. "
   ]
  },
  {
   "cell_type": "code",
   "execution_count": 11,
   "id": "c9adee60-8208-4067-ac29-9dd0907a897a",
   "metadata": {
    "tags": [
     "hide-input"
    ]
   },
   "outputs": [
    {
     "data": {
      "image/png": "[encoded data removed]",
      "text/plain": [
       "<Figure size 700x400 with 4 Axes>"
      ]
     },
     "metadata": {
      "filenames": {
       "image/png": "/Users/KSIsleif/DESY_cloud/github/mtbook/_build/jupyter_execute/content/5_DGL_10_0.png"
      }
     },
     "output_type": "display_data"
    }
   ],
   "source": [
    "# Impuls:\n",
    "def ddf(x,sig):\n",
    "    val = np.zeros_like(x)\n",
    "    val[(-(1/(2*sig))<=x) & (x<=(1/(2*sig)))] = 1\n",
    "    return val\n",
    "\n",
    "y_impuls = ddf(t2,6.)\n",
    "\n",
    "# Plotting\n",
    "fig, ax = plt.subplots(figsize=(7,4))\n",
    "plt.subplot(2,2,1)\n",
    "plt.plot(t2,y_step, color = 'tab:red', label = 'Sprunganregung')\n",
    "plt.title(r'Sprung $\\sigma(t)$')\n",
    "plt.subplot(2,2,2)\n",
    "plt.plot(t2,y_impuls, color = 'tab:orange', label = 'Impuls')\n",
    "plt.title(r'Impuls $\\delta(t)$')\n",
    "plt.subplot(2,2,3)\n",
    "plt.plot(t2,t2/np.max(t2), color = 'tab:green', label = 'Rampe')\n",
    "plt.title(r'Rampe $t\\cdot \\sigma(t)$ ')\n",
    "plt.xlabel(\"Zeit t\")\n",
    "\n",
    "plt.subplot(2,2,4)\n",
    "plt.plot(t2,signal.chirp(t2, f0=4, f1=0.2, t1=7, method='linear'), color = 'tab:olive', label = 'Shirp')\n",
    "plt.title(r'Sweep $f(t)$ ')\n",
    "plt.xlabel(\"Zeit t\")\n",
    "\n",
    "plt.tight_layout()"
   ]
  },
  {
   "cell_type": "markdown",
   "id": "240db5dc-e7d1-4a5f-9749-c1e67fde4c99",
   "metadata": {},
   "source": [
    "Das Vorgehen ist wiefolgt: Es wird eine Testfunktion als Eingangssignal $u_e(t)$ angelegt und gemessen. Der Ausgang des Systems wird abgegriffen und das Ausgangssignal $u_a(t)$ ebenfalls gemessen. Ein Vergleich aus angelegtem Eingangssignal und gemessener Systemantwort (Ausgangssignal) können Rückschlüsse für das System getroffen werden. "
   ]
  }
 ],
 "metadata": {
  "kernelspec": {
   "display_name": "Python 3",
   "language": "python",
   "name": "python3"
  },
  "language_info": {
   "codemirror_mode": {
    "name": "ipython",
    "version": 3
   },
   "file_extension": ".py",
   "mimetype": "text/x-python",
   "name": "python",
   "nbconvert_exporter": "python",
   "pygments_lexer": "ipython3",
   "version": "3.9.12"
  }
 },
 "nbformat": 4,
 "nbformat_minor": 5
}