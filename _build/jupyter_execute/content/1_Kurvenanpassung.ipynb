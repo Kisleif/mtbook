{
 "cells": [
  {
   "cell_type": "markdown",
   "metadata": {},
   "source": [
    "# Kurvenanpassung"
   ]
  },
  {
   "cell_type": "markdown",
   "metadata": {},
   "source": [
    "Bei der Kurvenanpassung handelt es sich um ein statistisches Analyseverfahren zur Feststellung funktionaler Beziehungen zwischen einer abhängigen und einer oder mehreren unabhängigen Variablen. Der Begriff **lineare Regression** ist weit verbreitet, doch dies ist nur der einfachste Fall eines Modells, nämlich der einer Geraden: $y = a \\cdot x +b$. Grundsätzlich sollte man den Typ der Fit-Funktion $y = f(x)$ immer vorher festlegen und auch begründen können. Es ist keine wissenschaftlicher oder messtechnische Vorgehensweise alle möglichen Funktionen nur auf Verdacht *auszuprobieren* und sich für die besten entscheiden. Hierbei wäre es möglich, dass unbrauchbare Näherungen pder sogar falsche (unsinnige) und nicht-wissenschaftlicher Ergebnisinterpretationen auftreten könnten, was es zu vermeiden gilt. \n",
    "\n",
    "Zusammengefasst suchen wir nun also ein bestimmtes Modell für ein bestimmtes Set an Daten und wollen die Modellparameter bestimmen. Dabei soll das Modell möglichst gut die Messdaten vorhersagen. Die Modellanpassung wird häufig über die Methode der kleinsten Quadrate verwendet, mit welcher sich fast alle Messdaten modellieren lassen (auch kompliziertere Situationen wie beispielsweise korrelierte Unsicherheiten). \n",
    "\n",
    "Hinweis zur Begrifflichkeit:\n",
    "\n",
    "* **Regression**: Untersuchung der *Korrelation* von Datenpunkten ohne Messfehler mit angenommenen Zusammenhang\n",
    "* **Fit/Anpassung**: wie die Regression, allerdings unter Berücksichtigung von Messfehlern. \n",
    "* **Interpolation**: Hierbei handelt es sich nicht um eine Regression bzw. Approximation. Anstelle eines funktionalen Zusammenhangs, der an die Messwerte angenähert wird, verwendert man Polynome hohen Grades, um eine analytische Kennlinie zu beschreiben, die *exakt* durch alle Messpunkte geht. Für eine große Anzahl von Messwerten wird die Interpolationsfunktion sehr schnell unhandlich. \n",
    "\n",
    "![Bild](pictures/interpol_approx.png)"
   ]
  },
  {
   "cell_type": "markdown",
   "metadata": {},
   "source": [
    "## Modellanpassung <a id=\"Sec-Modellanpassung\"></a>\n",
    "\n",
    "Um ein Regressionsmodell zu berechnen, benötigen wir ein objektives Maß um die Zuverlässigkeit und Güte unsere Modellfunktion zu bestimmen. Dies nennt man auch das **Bestimmtsheitsmaß**, bzwl. auf englisch **coefficient of determination** oder **goodness of fit**. Dieses Maß \n",
    "* bestimmt die Verkleinerung des Vorhersagefehlers der Ausgangsgröße $y$\n",
    "* definiert die Größe der Streuung von $y$\n",
    "* zeigt die Qualität der linearen Regression, aber nicht ob das Modell richtig ist\n",
    "* sagt nichts über die statistische Signifikanz des ermittelten Zusammenhangs der einzelnen Regressoren aus (Signifikanztest notwendig)\n",
    "\n",
    "Als erstes soll überprüft werden, inwiefern die Funktion oder das Modell mit den Messdaten übereinstimmt. Ausgangspunkt ist also unsere Messreihe mit $N$ Messpunkten $(x_i, y_i)$ und wir haben eine Funktion $f(x_i)$ definiert, die die Messwerte $y_i$ möglichst gut vorhersagen soll. In der unteren Grafik (geborgt von [Wikipedia](https://de.wikipedia.org/wiki/Methode_der_kleinsten_Quadrate)), sind Messpunkte in blau und eine Modellfunktion in rot aufgezeichnet. Die Parameter der gesuchten Modellfunktion werden nun so bestimmt, dass die Modellfunktion möglichst wenig von den Messwerten abweicht, d.h. das Residuum \n",
    "\n",
    "$$\\epsilon = \\left( f(x_i) - y_i\\right)$$\n",
    "\n",
    "soll möglichst klein werden. \n",
    "\n",
    "![Bild](pictures/kleinste_quadrate.png)"
   ]
  },
  {
   "cell_type": "markdown",
   "metadata": {},
   "source": [
    "### Least-Squares: Methode der kleinsten Quadrate <a id=\"SubSec-least_squares\"></a>\n",
    "\n",
    "Laut Carl Friedrich Gauß kann also der Abstand der Funktionswerte zu den Messwerten wievolgt definiert werden:\n",
    "\n",
    "> Methode der Gauß'schen Fehlerquadrate (Gütefunktion): \n",
    "$$Q := \\sum_{i=1}^N \\left( f(x_i) - y_i\\right)^2 :=  \\sum_{i=1}^N \\epsilon_i^2 = \\mathrm{min!}$$\n",
    "\n",
    "Die Gütefunktion, die gleichbedeutend mit den SQT ist, ist wieder so gewählt, dass sich Abweichungen aufgrund unterschiedliche Vorzeichen nicht aufheben können und dass größere Abweichungen stärker gewichtet werden (durch die Quadrierung). Die Modellfunktion $f(x)$ wird bestimmt, indem das Minimierungsproblem gelöst wird. Dies kann entwedet analytisch geschehen (siehe [Lineare Modellanpassung](#SubSec-Lineare_Modellanpassung)) oder man lässt sich die Regression mittels Software berechnen. \n",
    "\n",
    "Es handelt sich um ein *Minimierungsproblem* welches je nach Art der Modellfunktion unterschiedlich gelöst wird. Man sollte stets die Regressionsgerade zusammen mit den Datenpunkten in ein Diagramm zeichnen, um zu sehen, wie \"gut\" die Messdaten durch die Kurvenanpassung beschrieben werden. \n",
    "Je enger die Datenpunkte um die Regressionsgerade herum konzentriert sind, d. h. je kleiner also die Residuenquadrate sind, desto „besser“. Die Residuenquadrate sind meistens relativ klein, insbesondere dann, wenn die abhängige Variable sehr konstant ist. Das heißt man möchte eigentlich auch die Streuung der abhängigen Variablen mit ins Spiel bringen.\n",
    "Sowohl die Streuung der Messwerte zum Mittelwert, als auch die der geschätzten Werte, sollte in Relation zueinander gebracht werden. Das heißt wir definieren im Folgenden zwei Summen der Abweichungsquadrate. Die **Summe der Abweichungsquadrate (Sum of Squares) SQT oder SST** gibt die Streuung der Messwerte um ihren Mittelwert an. Das *mittlere* Abweichungsquadrat bestimmt deren Varianz. \n",
    "\n",
    "* Die **Summe der Quadrate der Erklärten Abweichungen (Sum of Squares Explained) SQE oder SSE** gibt die Streuung der Schätzwerte $f(x_i)$ des Fits um den Mittelwert $\\bar f = \\bar y$ der gemessenen Messwerte an:\n",
    "\n",
    "$$\\mathrm{SQE} = \\mathrm{SSE} = \\sum_{i=1}^N (f(x_i) - \\bar y)^2$$\n",
    "\n",
    "* Die **totale Quadratsumme (Summe der Quadrate der Totalen Abweichungen bzw. Sum of Squares Total) SQT oder SST** gibt die Streuung der Messwerte $y_i$ um deren Mittelwert $\\bar y$ an:\n",
    "\n",
    "$$\\mathrm{SQT} = \\mathrm{SST} = \\sum_{i=1}^N (y_i - \\bar y)^2$$\n",
    "\n",
    "* Die **Restabweichungen** (nicht erklärte Abweichungen), welche nach der Regression übrig bleiben sind ein Maß für die Abweichung der Datenpunkte von der Regressionskurve und werden durch die Residuenquadratsumme (**Summe der Quadrate der Restabweichungen** (oder: „Residuen“) bzw. englisch Sum of Squares Residual) SQR oder SSR) erfasst:\n",
    "\n",
    "$$\\mathrm{SQR} = \\mathrm{SSR} = \\sum_{i=1}^N(y_i-f(x_i))^2$$\n",
    "\n",
    "* Man kann beweisen, dass folgendes gilt:\n",
    "\n",
    "$$\\mathrm{SQT} = \\mathrm{SQR} + \\mathrm{SQE}$$"
   ]
  },
  {
   "cell_type": "markdown",
   "metadata": {},
   "source": [
    "### Bestimmtheitsmaß <a id=\"SubSec-Bestimmtheitsmaß\"></a>\n",
    "\n",
    "Für das **Bestimmtheitsmaß** gelten folgenden Punkte:\n",
    "* Es beschreibt den Anteil der Varianz einer abhängigen Variablen $y$ durch ein statistisches Modell\n",
    "* Es ist nur für lineare Regressionen eindeutig definiert:\n",
    "$$\\mathit{R}^2 = r^2 (=\\textrm{Korrelation}^2)$$\n",
    "* Es kann bedingt zur Beschreibung der Güte einer Regression verwendet werden. \n",
    "\n",
    "* Das Verhältnis der beiden Größen SQE und SQT wird das **Bestimmtheitsmaß** der Regression genannt und gibt an, wie gut die gefundene geschätzte Modellfunktion zu den Messdaten passt, oder wie gut sich die Regression an die Daten annähert. \n",
    "\n",
    "$$\\mathit{R}^2 \\equiv \\frac{SQE}{SQT}=\n",
    "\\frac{\\displaystyle\\sum_{i=1}^N \\left(f(x_i)- \\overline{y}\\right)^2}{\\displaystyle\\sum_{i=1}^N \\left(y_i - \\overline{y}\\right)^2} = 1 - \\frac{SQR}{SQT}=1-\\frac{\\displaystyle\\sum_{i=1}^N \\left(y_i - f(x_i)\\right)^2}{\\displaystyle\\sum_{i=1}^N \\left(y_i - \\overline{y}\\right)^2}$$\n",
    "\n",
    "wobei:\n",
    "* $f(x_i)$ der Funktionswert der Regression ist\n",
    "* $x_i$ der Datenwert ist\n",
    "* und $\\bar y$ der Mittelwert $y_i$ der Messwerte ist\n",
    "\n",
    "Das Bestimmtheitsmaß lässt sich mit 100 multiplizieren, um es in Prozent anzugeben, dies entspricht dann dem prozentualen Anteil der Streuung in $y$, der durch das lineare Modell beschrieben wird und liegt somit zwischen 0% und 100%:\n",
    "* 0%: es existiert kein linearer Zusammenhang\n",
    "* 100%: perfekter linearer Zusammenhang\n",
    "\n",
    "Allgemein gilt für das Bestimmheitsmaß:\n",
    "* je näher $\\mathit{R}^2$ an 1 liegt, desto höher ist die Güte der Kurvenanpassung\n",
    "* für $\\mathit{R}^2=0$ ist der Schätzer im Modell völlig unbrauchbar für irgendeine Vorhersage eines Zusammenhangs zwischen $x_i$ und $y_i$. \n",
    "* für $\\mathit{R}^2=1$ lässt sich $y$ vollständig durch ein lineares Modell beschreiben und alle Messpunkte liegen auf einer nicht-horizontalen Geraden. In diesem Falle würde man davon sprechen, dass ein deterministischer Zusammenhang besteht, kein stochastischer. \n",
    "\n",
    "**Nachteile des Bestimmheitsmaß:**\n",
    "Für immer mehr Messwerte steigt $\\mathit{R}^2$ an, ohne dass die Korrelation oder die Regression besser wird.\n",
    "Dies könnte durch ein korrigiertes $\\mathit{R}^2$ behoben werden:\n",
    "    \n",
    "$$\\mathit{\\overline R}^2 = 1-(1-\\mathit{R}^2)\\cdot \\frac{n-1}{n-p-1}$$\n",
    "\n",
    "mit \n",
    "* $n$ Anzahl der Messwerte und\n",
    "* $p$ Anzahl der Variablen im Regressionsmodell\n",
    "\n",
    "Ein weiterer Nachteil ist, dass keine Aussage darüber geliefert werden kann, ob ein *korrektes* Regressionsmodell verwendet wurde."
   ]
  },
  {
   "cell_type": "markdown",
   "metadata": {},
   "source": [
    "### Modellanpassung mit Unsicherheiten <a id=\"SubSec-Modellanpassung_unsicherheiten\"></a>\n",
    "\n",
    "Im allgemeinen Fall, d.h. wenn die Messwerte $y_i$ mit Unsicherheiten $s_i$ behaftet sind, lässt sich die Residuensumme wiefolgt definieren:\n",
    "\n",
    "$$\\chi^2 = \\sum_{i=1}^N \\left(\\frac{f(x_i)-y_i}{s_i}\\right)^2$$\n",
    "\n",
    "Für die obigen Berechnungen, und auch im Falle von konstanten Unsicherheiten, d.h. wenn für alle Werte von $y_i$ die gleiche absolute Unsicherheit existiert, ändert sich nichts. Denn es gilt $s_i = s = \\mathrm{const}$ und beim \"Nullsetzen\" werden diese einfach eliminiert.\n",
    "Gelten für die $N$ Messwerte allerdings unterschiedliche Unsicherheiten, so müssen diese miteinbezogen werden. "
   ]
  },
  {
   "cell_type": "markdown",
   "metadata": {},
   "source": [
    "### Lineare Modellanpassung <a id=\"SubSec-Lineare_Modellanpassung\"></a>\n",
    "\n",
    "Da wir als Messtechniker immer danach streben möglichst lineare Kennlinien zu erreichen, ist die Gerade eine häufig auftretende Kurve, die angepasst werden soll. Daher wollen wir uns in diesem Abschnitt mit der Herleitung der linearen Regression befassen. Die Herleitung für andere Modellfunktionen, welche quadratische Terme, noch höhere Terme oder ganz andere Zusammenhänge beinhalten, ist auch deutlich schwieriger.\n",
    "\n",
    "Unser Ausgangspunkt ist also eine Gerade der Form \n",
    "\n",
    "$$f(x) = mx + b$$\n",
    "\n",
    "Die Parameter $m$ und $b$ werden nun durch das Minimierungsproblem bestimmt mithilfe der Gütefunktion, die nun wiefolgt geschrieben werden kann:\n",
    "\n",
    "$$Q = \\sum_{i = 1}^{N} (y_i - f(x_i))^2 = \\sum_{i = 1}^{N} (y_i - mx_i - b)^2 = \\mathrm{min!}$$\n",
    "\n",
    "wobei $y_i$ und $x_i$ die Messwerte (Datenpunkte) sind. \n",
    "\n",
    "Durch Differentation nach den Parametern und gleichsetzen auf Null können die Parameter bestimmt werden:\n",
    "\n",
    "$$\\frac{dQ}{dm} = -2 \\sum_{i = 1}^{N} x_i (y_i - mx_i - b) = 0$$\n",
    "\n",
    "$$\\frac{dQ}{db} = -2 \\sum_{i = 1}^{N} (y_i - mx_i - b) = 0$$\n",
    "\n",
    "Nach Umstellen der beiden Ableitungen gelangt man zu folgenden Gleichungssystem:\n",
    "\n",
    "$$m\\sum_{i = 1}^{N} x_i^2 + b\\sum_{i = 1}^{N}x_i  = \\sum_{i = 1}^{N}x_i y_i$$\n",
    "\n",
    "$$m\\sum_{i = 1}^{N} x_i + N b  = \\sum_{i = 1}^{N} y_i$$\n",
    "\n",
    "Auflösen nach den gesuchten Parameter erhält man folgende Gleichungen für die gesuchten besten Schätzparamete der Regressionsgeraden, auch **Regressionskoeffizienten** genannt:\n",
    "\n",
    "$$ m = \\frac{\\sum_{i=1}^N (x_i y_i) - b\\sum_{i=1}^N x_i }{\\sum_{i=1}^N x_i^2 } = \\frac{S_{xy}}{S_{x}^2} = \\frac{\\overline{x\\cdot y} - \\overline x \\cdot \\overline y}{\\overline{x^2} - (\\overline x)^2}$$\n",
    "\n",
    "$$b = \\frac{\\sum_{i=1}^N y_i - m \\sum_{i=1}^N x_i}{N} = \\bar y - m \\cdot \\bar x$$\n",
    "\n",
    "mit folgenden Definitionen:\n",
    "\n",
    "> $\\bar x = \\sum_{i = 1}^N x_i$\n",
    "\n",
    "> $\\bar y = \\sum_{i = 1}^N y_i$\n",
    "\n",
    "> $S_{xy} = \\frac{1}{N-1}\\sum_{i = 1}^N (x_i-\\bar x)(y_i - \\bar y)$\n",
    "\n",
    "> $S_{x}^2 = \\frac{1}{N-1}\\sum_{i = 1}^N (x_i-\\bar x)^2$\n",
    "\n",
    "Wir sind hier in der verrückten Situation, dass tatsächlich  Mittelwerte für $x$ und $y$ bestimmt werden müssen, obwohl die $x$-Werte absichtlich während der Versuchsreihe verändert werden, sich also die Grössen $x$ und $y$ laufend ändern.\n",
    "\n",
    "![Bild](pictures/lin_reg.png)"
   ]
  },
  {
   "cell_type": "markdown",
   "metadata": {},
   "source": [
    "Nun sind die Schätzwerte allerdings zusätzlich fehlerbehaftet (wie sollte es auch anders sein). Mithilfe der Gleichung der Größtfehlers/Maximalfehlers kann man zeigen (den Beweis überspringen wir hier), dass für den Fehler von $y$ folgendes gilt:\n",
    "\n",
    "$$s_y = \\sqrt{\\frac{1}{N-2}\\sum(y_i - mx_i - b)^2 }$$\n",
    "\n",
    "Die ist auch die Standardabweichung der Einzelmessung aber *nicht* der Fehlerbalken, der im Diagramm als Fehlerbalken eingezeichnet wird. Die Abweichung der Einzelmessung wurde bisher mit $N-1$ definiert, damals hat es sich aber um die Abweichung vom *Mittelwert* gehandelt. Nun betrachten wir die Abweichung zu einem linearen Modell, welches 2 offene Parameter, $m$ und $b$, hat, und somit einen Freiheitsgrad mehr bestitzt. Erst ab 3 Messwertepaaren können also Fehler für Steigung und Achsenabschnitt berechnet werden.\n",
    "Die besten Schätzwerte für die Abweichungen von $m$ und $b$ können nun wiefolgt berechnet werden. Der Fehler der Geradensteigung beträgt:\n",
    "\n",
    "$$s_m = s_y \\cdot \\sqrt{\\frac{N}{N\\cdot \\sum x_i^2 - \\left(\\sum x_i\\right)^2}} = s_y \\cdot \\sqrt{\\frac{1}{\\sum x_i^2 - N\\cdot \\bar x^2}} = s_y \\cdot \\sqrt{\\frac{1}{\\sum \\left(x_i - \\bar x \\right)^2}} = s_y \\cdot \\sqrt{\\frac{1}{N\\cdot (\\overline{x^2} - (\\overline x)^2)}}$$\n",
    "\n",
    "Der Fehler des Ordinatenabschnitts beträgt:\n",
    "\n",
    "$$s_b = s_y \\cdot \\sqrt{\\frac{\\sum x_i^2}{N\\cdot \\sum x_i^2 - \\left(\\sum x_i\\right)^2}} = s_y \\cdot \\sqrt{\\frac{1}{N}\\frac{\\sum x_i^2}{\\sum x_i^2 - N\\cdot \\bar x^2}} = s_y \\cdot \\sqrt{\\frac{1}{N}\\frac{\\sum x_i^2}{\\sum \\left(x_i - \\bar x \\right)^2}} = s_m \\cdot \\sqrt{\\overline{x^2}}$$"
   ]
  },
  {
   "cell_type": "markdown",
   "metadata": {},
   "source": [
    "## Beispiel: Karussel <a id=\"Sec-Beispiel\"></a>\n",
    "\n",
    "Wir stellen uns im Folgenden ein Kinderkarussel vor und wir wollen die Geschwindigkeit der Feuerwehrautos ermitteln. Das Auto selbst verfügt über kein Tachometer - es bleibt also eigentlich nur die Möglichkeit, die Zeit eines Umlaufs zu stoppen und aus der Geometrie des Karussells den zurückgelegten Weg zu bestimmen. Daraus lässt sich die Geschwindigkeit leicht berechnen.\n",
    "Wie aber könnte eine Fehlerrechnung aussehen? Wie lässt sich eine Mehrfachmessung anstellen?\n",
    "\n",
    "Beispielsweise könnte man die Zeit nach jedem Umlauf messen, die näherungsweise konstant sein sollte (bis auf die 1. Runde, wo noch beschleunigt wird). Es könnte sich also ein linearer Zusammenhang zwischen zurückgelegtem Weg und der benötigten Zeit vermuten:\n",
    "\n",
    "$$y = m\\cdot x + b \\Rightarrow y - b - m\\cdot x = 0$$\n",
    "\n",
    "Die Konstanten $m$ und $b$ lassen sich nun bestimmen, indem *mindestens* zwei Messungen von $x$ und $y$ vorgenommen werden. Die Messungen dieser Größen werden fehlerbehaftet sein, sodass es zu einer Verfälschung der Konstanten kommt. Durch mehrere Messungen (>2!) von $x$ und $y$ kann der zufällige Fehler auf die Konstanten vermindert und abgeschätzt werden. Zur Vereinfachung nehmen wir allerdings an, dass $x$ fehlerfrei (oder zumindest fehlerarm) ist. Für verschiedene Werte von $x$ ergeben sich dann entsprechende $y$-Werte mit Unsicherheiten. \n",
    "\n",
    "Für unser Kinderkarussel bleibt der Messpunkt der Strecke, $x$, laut Annahme unverändert. Dieser ist also sehr genau. Eine Unsicherheit wird bei der Zeitmessung, $y = t$ auftreten. Folgende Messwerte wurden ermittelt:\n",
    "\n",
    "* Weg  $x$ (m): 12, 24, 36, 42, 60, 72, 84, 96, 108, 120\n",
    "* Zeit $t$ (s): 12.2, 17, 22.1, 33.2, 34.4, 59.1, 60.2, 65.7, 69.9, 70.1"
   ]
  },
  {
   "cell_type": "code",
   "execution_count": 1,
   "metadata": {
    "tags": [
     "hide-input"
    ]
   },
   "outputs": [
    {
     "data": {
      "image/png": "[encoded data removed]",
      "text/plain": [
       "<Figure size 700x500 with 1 Axes>"
      ]
     },
     "metadata": {
      "filenames": {
       "image/png": "/Users/KSIsleif/DESY_cloud/github/mtbook/_build/jupyter_execute/content/1_Kurvenanpassung_9_0.png"
      }
     },
     "output_type": "display_data"
    }
   ],
   "source": [
    "import numpy as np\n",
    "import matplotlib.pyplot as plt\n",
    "# MatplotLib Settings:\n",
    "plt.style.use('default') # Matplotlib Style wählen\n",
    "plt.figure(figsize=(7,5)) # Plot-Größe\n",
    "plt.rcParams['font.size'] = 10; # Schriftgröße\n",
    "\n",
    "x = [12, 24, 36, 42, 60, 72, 84, 96, 108, 120] # Messwerte der Strecke x in m\n",
    "t = [12.2, 17, 22.1, 33.2, 34.4, 59.1, 60.2, 65.7, 69.9, 70.1] # Messwerte der Zeit t in sek.\n",
    "x = np.array(x) #konvertiere die Messwerte in ein Numpy-Array\n",
    "t = np.array(t) #konvertiere die Messwerte in ein Numpy-Array\n",
    "\n",
    "plt.plot(x,t, 'o', label = 'Messwerte')\n",
    "plt.xlabel('Strecke x (m)')\n",
    "plt.ylabel('Zeit t (s)')\n",
    "plt.legend()\n",
    "plt.show()"
   ]
  },
  {
   "cell_type": "markdown",
   "metadata": {},
   "source": [
    "### Analytische Lineare Regression <a id=\"SubSec-Analytical_LinReg\"></a>\n",
    "\n",
    "An dem Diagram erkennt man, dass die Parameter $m$ und $b$ niemals fehlerrfrei berechnet werden können. Die gemessenen Punkte werden immer neben der Geraden liegen. Das heißt eine fehlerfreie Berechnung der Parameter aus den Messwerten wird daher nicht möglich sein. Daher können wir wieder nur versuchen beste Schätzungen für $m$ und $b$ zu definieren, die bei einer steigenden Anzahl von Messwerten den *wahren* Werten beliebig nahe kommt. Diese Schätzwerte sind die Regressionskoeffizienten, welche wir bereits eben definiert hatten und wiefolgt berechnen können:\n",
    "\n",
    "$$ m = \\frac{S_{xt}}{S_{x}^2} = \\frac{\\overline{x\\cdot t} - \\overline x \\cdot \\overline t}{\\overline{x^2} - (\\overline x)^2}$$\n",
    "\n",
    "$$b = \\frac{\\sum_{i=1}^N t_i - m \\sum_{i=1}^N x_i}{N} = \\bar t - m \\cdot \\bar x$$"
   ]
  },
  {
   "cell_type": "code",
   "execution_count": 2,
   "metadata": {
    "tags": [
     "hide-input"
    ]
   },
   "outputs": [
    {
     "name": "stdout",
     "output_type": "stream",
     "text": [
      "Die Steigung ist \t\t m = 0.6067 s/m\n",
      "Der Ordinatenabschnitt ist \t b = 4.7148 s\n"
     ]
    },
    {
     "data": {
      "image/png": "[encoded data removed]",
      "text/plain": [
       "<Figure size 640x480 with 1 Axes>"
      ]
     },
     "metadata": {
      "filenames": {
       "image/png": "/Users/KSIsleif/DESY_cloud/github/mtbook/_build/jupyter_execute/content/1_Kurvenanpassung_11_1.png"
      }
     },
     "output_type": "display_data"
    }
   ],
   "source": [
    "m = (np.mean(x*t) - np.mean(x)*np.mean(t))/(np.mean(x**2) - np.mean(x)**2)\n",
    "b = np.mean(t) - m * np.mean(x)\n",
    "print('Die Steigung ist \\t\\t m = %5.4f s/m' %(m))\n",
    "print('Der Ordinatenabschnitt ist \\t b = %5.4f s' %(b))\n",
    "\n",
    "plt.plot(x,t, 'o', label = 'Messwerte') # plot Messwerte\n",
    "plt.plot(x,m*x+b, label = 'analytische Lin. Reg.: y = %5.3f*x+%5.3f' %(m,b))  # plot Ausgleichsgerade mit m und b\n",
    "plt.xlabel('Strecke x (m)')\n",
    "plt.ylabel('Zeit t (s)')\n",
    "plt.legend()\n",
    "plt.show()"
   ]
  },
  {
   "cell_type": "markdown",
   "metadata": {},
   "source": [
    "### Bestimmung der Geschwindigkeit <a id=\"SubSec-geschwindigkeit\"></a>\n",
    "\n",
    "Eigentlich wollten wir ja die Geschwindigkeit der Feuerwehrautos bestimmen.\n",
    "Der Kehrwert der Steigung $m$ liefert uns die Geschwindigkeit des Karussells, wenn wir den Kehrwert berechnen:"
   ]
  },
  {
   "cell_type": "code",
   "execution_count": 3,
   "metadata": {},
   "outputs": [
    {
     "name": "stdout",
     "output_type": "stream",
     "text": [
      "Die Geschwindigkeit beträgt: v = 1.6484 m/s = 5.9342 km/h\n"
     ]
    }
   ],
   "source": [
    "v = 1/m\n",
    "print('Die Geschwindigkeit beträgt: v = %5.4f m/s = %5.4f km/h' %(v, v/1000*3600))\n"
   ]
  },
  {
   "cell_type": "markdown",
   "metadata": {},
   "source": [
    "### Unsicherheit der Geschwindigkeit <a id=\"SubSec-u_geschwindigkeit\"></a>\n",
    "\n",
    "Wie bereits oben schon erwähnt, hat die Regressionen eine Abweichung. Daher müssen wir uns jetzt fragen, was der Fehler der Geschwindigkeit ist. Diesen bekommen wir aus der Steigiung $m$. Das heißt wir benötigen zuerst den Fehler von $m$: \n",
    "\n",
    "$$s_m = s_t \\cdot \\sqrt{\\frac{1}{N\\cdot (\\overline{x^2} - (\\overline x)^2)}} \\quad \\textrm{mit} \\quad s_t = \\sqrt{\\frac{1}{N-2}\\sum(t_i - mx_i - b)^2 }$$\n",
    "\n",
    "Der Vollständigkeit halber berechnen wir ebenfalls den Fehler für $b$:\n",
    "\n",
    "$$s_b  = s_m \\cdot \\sqrt{\\overline{x^2}}$$"
   ]
  },
  {
   "cell_type": "code",
   "execution_count": 4,
   "metadata": {},
   "outputs": [
    {
     "name": "stdout",
     "output_type": "stream",
     "text": [
      "Die Unsicherheit von t ist \t s_t = 5.8831 s\n",
      "Die Unsicherheit von m ist \t s_m = 0.0534 s/m\n",
      "Die Unsicherheit von b ist \t s_b = 3.9581 s\n"
     ]
    }
   ],
   "source": [
    "N = len(t)\n",
    "diff_t = 0\n",
    "for i in range(N):\n",
    "    diff_t += ( t[i] - m * x[i] - b )**2\n",
    "\n",
    "streuung_t = 1/(N-2)*diff_t\n",
    "s_t = np.sqrt(streuung_t)\n",
    "s_m = s_t * np.sqrt(1 / (N*(np.mean(x**2) - np.mean(x)**2)))\n",
    "s_b = s_m * np.sqrt(np.mean(x**2))\n",
    "\n",
    "print('Die Unsicherheit von t ist \\t s_t = %5.4f s' %(s_t))\n",
    "print('Die Unsicherheit von m ist \\t s_m = %5.4f s/m' %(s_m))\n",
    "print('Die Unsicherheit von b ist \\t s_b = %5.4f s' %(s_b))"
   ]
  },
  {
   "cell_type": "markdown",
   "metadata": {},
   "source": [
    "Nun interessiert uns  der absolute Fehler der geschätzen Geschwindigkeit. Da die Geschwindigkeit der Kehrwert der Steigung ist ($v = \\frac{1}{m}$), müssen wir Fehlerfortpflanzung anwenden. Der Fehler wirkt sich wiefolgt auf den Kehrwert aus: \n",
    "\n",
    "$$\\Delta v = \\left|\\frac{\\partial v}{\\partial m}\\right|\\cdot \\Delta m = \\left| -\\frac{1}{m^2} \\right| \\cdot s_m = \\frac{1}{m^2} \\cdot s_m = s_v$$\n",
    "\n",
    "Da beide Methoden die gleichen Werte für Schätzungen und Unsicherheiten ausgeben, ersparen wir uns ab nun die Berechnung der Geschwindigkeit inkl. Unsicherheit für beide Methoden. Die Fehlerrechnung wird nur noch für die analytische Methode ausgeführt:"
   ]
  },
  {
   "cell_type": "code",
   "execution_count": 5,
   "metadata": {},
   "outputs": [
    {
     "name": "stdout",
     "output_type": "stream",
     "text": [
      "Die Unsicherheit von v ist \t s_v = 0.1452 m/s\n"
     ]
    }
   ],
   "source": [
    "s_v = 1/m**2 * s_m\n",
    "print('Die Unsicherheit von v ist \\t s_v = %5.4f m/s' %(s_v))"
   ]
  },
  {
   "cell_type": "markdown",
   "metadata": {},
   "source": [
    "Das Messergebnis kann also wiefolgt angegeben werden:\n",
    "    \n",
    "$$v = (1,6484 \\pm 0,1452)\\,\\mathrm{m/s}$$    \n",
    "\n",
    "**Ist diese Angabe sinnvoll?** Wenn wir das so konkret fragen, dann vermutlich nicht...\n",
    "Wenn der Fehler bereits in der ersten Stelle nach dem Komma signifikant bemerkbar den Schätzwert beeinflusst, warum sollte man sich dann die Mühe machen noch weitere Nachkommastellen hinzuschreiben? Also **sinnvoll runden**:\n",
    "\n",
    "$$v = (1,6 \\pm 0,2)\\,\\mathrm{m/s}$$    \n",
    "\n",
    "Warum 0,2 und nicht 0,1? **Fehler werden immer aufgerundet!**\n",
    "\n",
    "Nun könnte noch der relative Fehler $\\Delta v/v$ berechnet werden."
   ]
  },
  {
   "cell_type": "code",
   "execution_count": 6,
   "metadata": {},
   "outputs": [
    {
     "name": "stdout",
     "output_type": "stream",
     "text": [
      "Die relative Unsicherheit von v ist \t s_v = 8.8057 Prozent\n"
     ]
    }
   ],
   "source": [
    "print('Die relative Unsicherheit von v ist \\t s_v = %5.4f Prozent' %(s_v/v*100))"
   ]
  },
  {
   "cell_type": "markdown",
   "metadata": {},
   "source": [
    "### Korrelationskoeffizient <a id=\"SubSec-Korrelationskoeffizient\"></a>\n",
    "\n",
    "Der Korrelationskoeffizient kann wiefolgt berechnet werden:\n",
    "    \n",
    "$$r = \\frac{\\overline{x\\cdot t} - \\overline x \\cdot \\overline t}{\\sqrt{\\overline{x^2} - (\\overline x)^2} \\cdot {\\sqrt{\\overline{t^2} - (\\overline t)^2}}} $$    "
   ]
  },
  {
   "cell_type": "code",
   "execution_count": 7,
   "metadata": {},
   "outputs": [
    {
     "name": "stdout",
     "output_type": "stream",
     "text": [
      "Der Korrelationskoeffizient zwischen x und t beträgt: 0.97035603\n",
      "\n",
      "Die Korrelationsmatrix zwischen x und t mittels numpy-Paket lautet:\n",
      "[[1.         0.97035603]\n",
      " [0.97035603 1.        ]]\n"
     ]
    }
   ],
   "source": [
    "# Analytische Methode:\n",
    "r = (np.mean(x*t)-np.mean(x)*np.mean(t))/(np.sqrt(np.mean(x**2) - np.mean(x)**2) * np.sqrt(np.mean(t**2) - np.mean(t)**2))\n",
    "print('Der Korrelationskoeffizient zwischen x und t beträgt: %5.8f\\n'%(r))\n",
    "\n",
    "# Python:\n",
    "r = np.corrcoef(x, t)\n",
    "print('Die Korrelationsmatrix zwischen x und t mittels numpy-Paket lautet:')\n",
    "print(r)"
   ]
  },
  {
   "cell_type": "markdown",
   "metadata": {},
   "source": [
    "Der Korrelationskoeffizient von $+ 0,97035$ zeigt mit positivem Vorzeichen eine direkte Proportionalität zwischen $x$ und $t$. Die geringfügige Abweichung zu +1 zeigt, dass die Messwerte leicht von dem erwarteten linearen Zusammenhang dennoch abweichen."
   ]
  }
 ],
 "metadata": {
  "kernelspec": {
   "display_name": "Python 3",
   "language": "python",
   "name": "python3"
  },
  "language_info": {
   "codemirror_mode": {
    "name": "ipython",
    "version": 3
   },
   "file_extension": ".py",
   "mimetype": "text/x-python",
   "name": "python",
   "nbconvert_exporter": "python",
   "pygments_lexer": "ipython3",
   "version": "3.9.12"
  }
 },
 "nbformat": 4,
 "nbformat_minor": 4
}