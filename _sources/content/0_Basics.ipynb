{
 "cells": [
  {
   "cell_type": "markdown",
   "id": "ce5f7875-8754-4658-b94a-4f8d2ba09079",
   "metadata": {},
   "source": [
    "# Grundlagen der Messtechnik\n",
    "\n",
    "Was ist die Aufgabe der Messtechnik? Wozu braucht man sie? Wo taucht sie auf? Wer nutzt sie?\n",
    "Im Alltag findet man die Messtechnik überall, zum Beispiel im Handy, bei Temperatur- oder Stickstoffmessungen in der Umwelt oder in der Prozess- und Fertigungstechnik. Es bedarf einer bestimmten Struktur und Vorgehensweise, um physikalische oder chemische Größen zu beschreiben und auswerten zu können. \n",
    "Wir werden die Fragen beantworten, was die Eigenheiten und Einheiten bestimmter physikalischer Messgrößen sind, welches Messgeräte für diese existieren und was bei der Anwendung beachtet werden muss. \n",
    "\n",
    "Heutzutage bestehen messtechnische Lösungen fast ausschließlich aus elektronischen Systemen. Häufig werden eigenständige Messgeräte oder elektronische Messmodule für den PC benutzt, welche stets elektronische Bauelemente und Schaltungen nutzen. Deshalb werden wir uns insbesondere auch mit der Messung von elektrischen Kenngrößen (Spannungen, Ströme, Leistungen, Widerstände, Kapazitäten, Induktivitäten) beschäftigen werden. \n",
    "\n",
    "Für das Messen von nicht-elektrischer Größen - was in der Mehrheit der Anwendungen von Interesse ist - werden in der Messtechnik zusätzliche Sensoren eingesetzt. \n",
    "Ein Sensor wandelt nach einem bestimmten physikalischen (oder chemischen) Funktionsprinzip die nicht-elektrische Größe in ein elektrisches Signal um, das mit elektronischen Schaltungen weiterverarbeitet werden kann. Beispiele für über Sensoren erfassbare nicht-elektrische Größen sind beispielsweise Temperatur, Druck, Feuchte, Durchfluss, Weg, Winkel, Kraft, Druck, Beschleunigung, CO2-Konzentration, Schalldruck etc.\n",
    "\n",
    "```{tableofcontents}\n",
    "```"
   ]
  }
 ],
 "metadata": {
  "kernelspec": {
   "display_name": "Python 3",
   "language": "python",
   "name": "python3"
  },
  "language_info": {
   "codemirror_mode": {
    "name": "ipython",
    "version": 3
   },
   "file_extension": ".py",
   "mimetype": "text/x-python",
   "name": "python",
   "nbconvert_exporter": "python",
   "pygments_lexer": "ipython3",
   "version": "3.9.12"
  }
 },
 "nbformat": 4,
 "nbformat_minor": 5
}
