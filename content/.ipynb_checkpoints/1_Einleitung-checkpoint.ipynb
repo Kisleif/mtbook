{
 "cells": [
  {
   "cell_type": "code",
   "execution_count": null,
   "id": "2a869dfa-8fb6-43b1-a5f6-6727904bff6e",
   "metadata": {},
   "outputs": [],
   "source": [
    "#Benötigte Libraries:\n",
    "import numpy as np\n",
    "import pandas as pd\n",
    "import matplotlib.pyplot as plt\n",
    "import plotly.offline as py\n",
    "py.init_notebook_mode(connected=True)\n",
    "import plotly.graph_objs as go\n",
    "import plotly.tools as tls\n",
    "import seaborn as sns\n",
    "import time\n",
    "import warnings\n",
    "warnings.filterwarnings('ignore')\n",
    "\n",
    "# MatplotLib Settings:\n",
    "plt.style.use('default') # Matplotlib Style wählen\n",
    "plt.figure(figsize=(10,5)) # Plot-Größe\n",
    "plt.rcParams['font.size'] = 10; # Schriftgröße"
   ]
  },
  {
   "cell_type": "markdown",
   "id": "c5463259-4347-4f98-a96d-d0c9fea52423",
   "metadata": {},
   "source": [
    "# Messdaten sammeln und darstellen\n",
    "\n",
    "## Messdaten sammeln\n",
    "\n",
    "Aufgabe der Messtechnik ist es physikalische Messgrößen quantitativ zu beobachten und ist somit wichtiger Bestandteil in der Physik. Eine *quantitative* Beschreibung bedeutet immer, dass eine Messgröße mit einem Zahlenwert, $x$, und einer Maßeinheit, $E$, ausgedrückt wird. Um einen möglichst *guten* Zahlenwert experimentell zu ermitteln, wird neben der konkreten Durchführung ein Großteil der Experimentierzeit damit verbracht das Experiment vorzubereiten und zu planen, aber auch die Daten auszuwerten und darzustellen, Ergebnisse zu überprüfen und ggf. Messungen zu wiederholen. \n",
    "Was sich beim Messen nicht umgehen lässt, und was der ein oder andere sicherlich schon im Praktikum beobachten konnte, ist, dass Beobachtungen immer statistischen (zufälligen) Schwankungen unterliegen. Dies führt dazu, dass sich das Messergebnis immer verändert. eine Messung wird prinzipiell niemals den *wahren* Wert liefern können, weshalb wir sorgfältig messen und auswerten müssen. Es gibt *best practice* Methoden und Techniken, die in der Wissenschaft benutzt werden, um Unsicherheiten und Schwankungen der Messgröße quantitativ zu beschreiben um so ein Qualitätsmaß der Messung bzw. unseres Experimentes zu erhalten. Durch die Einhaltung der *best practice* Methoden kannst du jederzeit Rechenschaft ablegen und das Ergebnis begründen. Die grundlegende Norm für die Messtechnik ist in der *DIN-Norm DIN 1319* und dem *GUM* (Guide to the Expression of Uncertainty in Measurement) offiziell festgehalten.\n",
    "\n",
    "- **Planung:** Was soll gemessen werden? Was wird hierfür benötigt? Welche Fehlerquellen/Störeinflüsse könnten auftreten, bzw. welche sind bekannt? Welche systematischen Unsicherheiten sind bekannt?\n",
    "- **Durchführung:** Führe Protokoll! Wurde **alles**, was wichtig sein könnte, protokolliert und in Tabellen zusammengefasst, aufgeschrieben, fotografiert?\n",
    "- **Auswertung:** Prüfe die Ergebnisse auf Vollständigkeit und Übersichtlichkeit! Hierzu gehört auch eine vollständige Abschätzung von Messunsicherheiten.\n",
    "- **Prüfung:** Ergeben die Ergebnisse Sinn und sind diese konsistent mit anderen Ergebnissen aus der Literatur? Haben wir die Ergebnisse erwartet?\n",
    "- **Darstellung:** Vollständige Angabe des Messergebnisses, bestehend aus Zahlenwert, Maßeinheit und Messunsicherheit. Verwende die wissenschaftliche Notation für Zehnerpotenzen:\n",
    "\n",
    "```{image} pictures/praefix.png\n",
    ":width: 500px\n",
    ":align: center\n",
    "````\n",
    "\n",
    "## Diagramme zeichnen\n",
    "\n",
    "Mittels Diagrammen (engl. *Plots*) werden Messwerte dargestellt. Die folgenden Regeln helfen dabei, dass die Diagramme anschaulich sind und der Betrachter direkt erkennt, worum es geht:\n",
    "\n",
    "- **Achsenbeschriftung:** Beschrifte die Achsen richtig, eindeutig und mit vollständiger Angabe: physikalische Größe und Maßeinheit!\n",
    "- **Skalierung:** Wähle eine passende Skalierung in 1er-/2er-/5er oder 10er- (Dakaden) Schritten\n",
    "- **Markierungen:** Wähle eine gute erkennbare Markierung für Messpunkte und ggf. eine angebrachte Linienbreite für Kurven. Hierbei können unterschiedliche Farben, Strichdicken, Stricharten und Markierungspunkte verwendet werden, oder eine Kombination. \n",
    "- **Titel:** Nutze passende Über-/ oder Unterschriften für das Diagramm, insbesondere wenn diese in der Auswertung im Text erwähnt werden.\n",
    "- **Anderes:** Weitere Punkte und Linien, die nicht gemessen wurden, sondern nur als *Hilfe* dienen (z.B. Fit-Funktionen, Modelle, Referenzlinien) oder Kommentare sind, sollten besonders gekennzeichnet werden. \n",
    "- **Messunsicherheiten:** Für Messwerte (in Form von Fehlerbalken), aber auch für Funktionsterme und Ausgleichsgeraden, müssen Messunsicherheiten in den Graphen angegeben werden. \n",
    "\n",
    "Verwende eine sinnvolle Software für die Datenanalyse und die grafische Darstellung, welche auch Fit-Analysen unterstützen. Wir werden hier im folgenden Beispiele in `python` aufführen und Jupyter Notebooks verwenden. Die Codes auf dieser Seite können direkt benutzt und sogar ausgeführt werden. \n",
    "Weitere Software ist Qti-Plot (kostenlos) oder Matlab (Lizenzen über HSU verfügbar).\n",
    "\n",
    "Im Folgenden sind zwei Diagramme dargestellt, wovon das zweite einige Defizite aufweist. Aufgrund der Darstellung wurde eine lineare Regression über einen anderen Messwertebereich durchgeführt, wodurch der Temperaturanstieg der letzten Jahre um einen Faktor 2 zu gering abgeschätzt wurde! \n",
    "\n",
    "`````{admonition} Aufgabe\n",
    ":class: tip\n",
    "Welche anderen Defizite fallen dir im Vergleich zum ersten Bild auf?\n",
    "`````"
   ]
  },
  {
   "cell_type": "code",
   "execution_count": null,
   "id": "3346fbc7-6713-4fe3-97c5-712be2d0f6bf",
   "metadata": {
    "tags": [
     "hide-input"
    ]
   },
   "outputs": [],
   "source": [
    "link = 'data/graph.csv' # Beispieldatei mit Klimadaten\n",
    "global_mean = pd.read_csv(link, header = 1) # Daten einlesen\n",
    "global_mean[\"uncertainty\"] = 0.25 #Messunsicherheiten abschätzen, hier 0.25K Temperaturgenauigkeit angenommen\n",
    "\n",
    "# Lineare Regression berechnen:\n",
    "x=global_mean.loc[global_mean[\"Year\"] >= 1980,\"Year\"]\n",
    "y=global_mean.loc[global_mean[\"Year\"] >= 1980,\"No_Smoothing\"]\n",
    "y_err = global_mean.loc[global_mean[\"Year\"] >= 1980,\"uncertainty\"]\n",
    "model = np.polyfit(x, y, deg=1, w=1/y_err, cov=True) # 1. Wert = Anstieg , 2. Wert = Schnittpunkt mit y-Achse\n",
    "y_model = model[0][0]*x+model[0][1] # Modell einer linearen Regression\n",
    "\n",
    "# print(global_mean) # Eingelesene Daten ausgeben\n",
    "plt.errorbar(global_mean[\"Year\"],global_mean[\"No_Smoothing\"], yerr=global_mean[\"uncertainty\"], ls=\"-\", lw=1, marker=\"s\", ms=3, color=\"tab:gray\", alpha=0.5, label=\"Werte\");\n",
    "plt.plot(global_mean[\"Year\"],global_mean[\"Lowess(5)\"], lw=3,  color=\"tab:blue\", label=\"Glättung (NASA)\");\n",
    "plt.plot(x,y_model, ls=\"-\", lw=3, color=\"tab:red\", label=f\"lineare Regression y=({model[0][0]*1000:.3f}+-{np.sqrt(model[1][0][0]*1000):.3f})1e-3*x+({model[0][1]:.3f}+-{np.sqrt(model[1][1][1]):.3f})\");\n",
    "plt.xlabel('Jahr')\n",
    "plt.ylabel(\"Jahresmitteltemperaturabweichung [°C]\")\n",
    "plt.legend();\n",
    "plt.grid();\n",
    "\n",
    "# Temperaturanstieg ausgeben:\n",
    "print(f\"Temperaturanstieg pro Jahr (von 1980 bis 2020): {model[0][0]:.3f}°C/Jahr\")"
   ]
  },
  {
   "cell_type": "code",
   "execution_count": null,
   "id": "58fe8ccd-55e9-4bb7-b9ac-52d73a6fa82a",
   "metadata": {
    "tags": [
     "hide-input"
    ]
   },
   "outputs": [],
   "source": [
    "# Lineare Regression berechnen:\n",
    "x=global_mean[\"Year\"]\n",
    "y=global_mean[\"No_Smoothing\"]\n",
    "y_err = global_mean[\"uncertainty\"]\n",
    "model = np.polyfit(x, y, deg=1, w=1/y_err, cov=True) # 1. Wert = Anstieg , 2. Wert = Schnittpunkt mit y-Achse\n",
    "y_model = model[0][0]*x+model[0][1] # Modell einer linearen Regression\n",
    "\n",
    "plt.plot(global_mean[\"Year\"],global_mean[\"No_Smoothing\"], ls=\"-\", lw=1, marker=\"s\", ms=1, color=\"tab:gray\", alpha=0.5, label=\"Werte\");\n",
    "plt.plot(global_mean[\"Year\"],global_mean[\"Lowess(5)\"], lw=1,  color=\"tab:blue\", label=\"Kurve\");\n",
    "plt.plot(x,y_model, ls=\"-\", lw=3, color=\"tab:red\", label=f\"Modell\");\n",
    "plt.ylabel(\"y\")\n",
    "plt.xlim([1850,2040])\n",
    "plt.ylim([-5,5])\n",
    "plt.legend();\n",
    "plt.grid();\n",
    "\n",
    "# Temperaturanstieg ausgeben:\n",
    "print(f\"Temperaturanstieg pro Jahr (von 1980 bis 2020): {model[0][0]:.3f}°C/Jahr\")"
   ]
  },
  {
   "cell_type": "markdown",
   "id": "8c6af6c0-c90f-4e4a-9138-399c7ccc1c95",
   "metadata": {},
   "source": [
    "## Python-Beispiel: Klimadaten plotten\n",
    "\n",
    "### Daten einlesen\n",
    "\n",
    "Im Folgenden Nutzen wir globale Klimadaten, die auf der Webseite der NASA zu finden sind: https://data.giss.nasa.gov/gistemp/. Hierbei handelt es sich um Temperaturdaten, die Anomalien gegenüber dem Mittelwert in den Jahren 1951-1980 aufweisen.\n",
    "Es werden Daten von Dateien (online oder offline) eingelesen mit der Python Bilbiothek `pandas`. Die Daten werden in sogenannten *DataFrames* hier mit dem Namen `global_mean` abgespeichert. "
   ]
  },
  {
   "cell_type": "code",
   "execution_count": null,
   "id": "ddc4ebe3-e661-4280-8d27-ca5e590f733e",
   "metadata": {},
   "outputs": [],
   "source": [
    "#link = \"https://data.giss.nasa.gov/gistemp/graphs_v4/graph_data/Global_Mean_Estimates_based_on_Land_and_Ocean_Data/graph.csv\"\n",
    "link = 'data/graph.csv'\n",
    "global_mean = pd.read_csv(link, header = 1) "
   ]
  },
  {
   "cell_type": "markdown",
   "id": "acd1d38e-ef8d-45fd-bfaa-b1cf3a40f5b1",
   "metadata": {},
   "source": [
    "Wir geben das *DataFrame* aus um uns die Messdaten einmal anzusehen: "
   ]
  },
  {
   "cell_type": "code",
   "execution_count": null,
   "id": "22328fff-0390-44ae-8fef-1edbb2b16e7e",
   "metadata": {},
   "outputs": [],
   "source": [
    "global_mean.head(6) # Ausgabe der ersten 5 Spalten\n",
    "#global_mean.tail(5) # Ausgabe der letzten 5 Spalten\n",
    "#global_mean # Ausgabe des DataFrames "
   ]
  },
  {
   "cell_type": "markdown",
   "id": "4c046e57-6f88-49d6-b6bc-a26b7c17ebc3",
   "metadata": {},
   "source": [
    "In der ersten Spalte befinden sich lediglich die Indizes der Messungen. Die zweite Spalte beinhaltet das Jahr und die dritte Spalte zeigt den gemessenen globalen Temperaturunterschied im Vergleich zur gemittelten Temeratur der Jahre 1951-1980. Die letzte Spalte zeigt die gleichen Messwerte, jedoch gefiltert. \n",
    "\n",
    "Einzelne Spalten kann man sich anzeigen lassen, indem den Spaltel-Namen des zugehörigen *DataFrames* nutzt:"
   ]
  },
  {
   "cell_type": "code",
   "execution_count": null,
   "id": "61e43624-c7e8-49f3-9630-973c647b8611",
   "metadata": {},
   "outputs": [],
   "source": [
    "global_mean['Year']"
   ]
  },
  {
   "cell_type": "markdown",
   "id": "82716222-c090-4916-83ab-6fc30526c037",
   "metadata": {},
   "source": [
    "### Daten plotten\n",
    "\n",
    "Als Beispiel für eine gelungene grafische Darstellung wollen wir die beiden Spalten, *No_Smoothing* and *Lowess(5)* gegenüber der Zeitachse *Year* plotten. Hierfür benützen wir die Python Library `matplotlib`:"
   ]
  },
  {
   "cell_type": "code",
   "execution_count": null,
   "id": "b3e328e0-4e59-446e-a854-49455b4dd9f7",
   "metadata": {},
   "outputs": [],
   "source": [
    "import matplotlib.pyplot as plt\n",
    "plt.style.use('default')\n",
    "plt.figure(figsize=(10,5))\n",
    "plt.rcParams['font.size'] = 14;\n",
    "plt.plot(global_mean[\"Year\"],global_mean[\"No_Smoothing\"], ls=\"-\", lw=1, marker=\"s\", ms=3, color=\"tab:gray\", alpha=0.5, label=\"Werte\");\n",
    "plt.plot(global_mean[\"Year\"],global_mean[\"Lowess(5)\"], lw=4,  color=\"tab:blue\", label=\"Glättung (NASA)\");\n",
    "plt.xlabel('Jahr')\n",
    "plt.ylabel(\"Jahresmitteltemperaturabweichung [°C]\")\n",
    "plt.legend();\n",
    "plt.grid();"
   ]
  },
  {
   "cell_type": "markdown",
   "id": "7aa67377-417e-422e-9f17-cd3e5f20b424",
   "metadata": {},
   "source": [
    "### Messunsicherheiten\n",
    "\n",
    "Bei diesem Datenset stehen uns leider keine Messunsicherheiten zur Verfügung. Um Sie jedoch als Fehlerbalken miteinzubeziehen, wollen wir im Folgenden annehmen, dass der Temperaturunterschied auf 0.25K genau messen werden konnte und fügen die unserem Datensatz hinzu:"
   ]
  },
  {
   "cell_type": "code",
   "execution_count": null,
   "id": "d13b0136-029f-47f9-9f6c-abbe4ea8b6bb",
   "metadata": {},
   "outputs": [],
   "source": [
    "global_mean[\"uncertainty\"] = 0.25\n",
    "print(global_mean)"
   ]
  },
  {
   "cell_type": "markdown",
   "id": "e2d6bbc1-2a7e-42d5-aa9d-492fe2ad78e9",
   "metadata": {},
   "source": [
    "Grafisch darstellen tun wir Messunsicherheiten mittels Fehlerbalken und der Matplotlib-Funktion `plt.errorbar`. "
   ]
  },
  {
   "cell_type": "code",
   "execution_count": null,
   "id": "e0516070-9e6f-4985-835d-d818fa717651",
   "metadata": {},
   "outputs": [],
   "source": [
    "plt.style.use('default')\n",
    "plt.figure(figsize=(10,5))\n",
    "plt.rcParams['font.size'] = 14;\n",
    "plt.errorbar(global_mean[\"Year\"],global_mean[\"No_Smoothing\"], yerr=global_mean[\"uncertainty\"], ls=\"-\", lw=1, marker=\"s\", ms=3, color=\"tab:gray\", alpha=0.5, label=\"Werte\");\n",
    "plt.plot(global_mean[\"Year\"],global_mean[\"Lowess(5)\"], lw=4,  color=\"tab:blue\", label=\"Glättung (NASA)\");\n",
    "plt.xlabel('Jahr')\n",
    "plt.ylabel(\"Jahresmitteltemperaturabweichung [°C]\")\n",
    "plt.legend();\n",
    "plt.grid();"
   ]
  },
  {
   "cell_type": "markdown",
   "id": "41738572-d990-4063-bf8b-64dae07194f0",
   "metadata": {},
   "source": [
    "### Ausgleichsgerade berechnen und plotten\n",
    "\n",
    "Mittels linearer Regression kann der Temperaturanstieg aus den Daten berechnet werden. Hierfür wird die Python Library `numpy` benutzt und die Funktion `polyfit` aufgerufen und in als `model` gespeichert. Diese Funktion benutzt die Least-Square Methode für polynomische Modelle. Weitere Informationen zu der Funktion findet ihr [hier](https://numpy.org/doc/stable/reference/generated/numpy.polyfit.html). Mit der Option `cov=True` wird die Kovarianz-Matrix berechnet, welche die Unsicherheiten für die Fit-Parameter beinhaltet. "
   ]
  },
  {
   "cell_type": "code",
   "execution_count": null,
   "id": "2d514d32-2aff-4f64-9bb2-b895af3480e0",
   "metadata": {},
   "outputs": [],
   "source": [
    "import numpy as np\n",
    "import pandas as pd\n",
    "\n",
    "x=global_mean[\"Year\"]\n",
    "y=global_mean[\"No_Smoothing\"]\n",
    "y_err = global_mean[\"uncertainty\"]\n",
    "model = np.polyfit(x, y, deg=1, w=1/y_err, cov=True) # 1. Wert = Anstieg , 2. Wert = Schnittpunkt mit y-Achse\n",
    "y_model = model[0][0]*x+model[0][1] # Modell einer linearen Regression\n",
    "\n",
    "plt.style.use('default')\n",
    "plt.figure(figsize=(10,4))\n",
    "plt.rcParams['font.size'] = 14;\n",
    "plt.ylabel(\"Jahresmitteltemperaturabweichung [°C]\")\n",
    "plt.xlabel(\"Jahr\")\n",
    "plt.errorbar(global_mean[\"Year\"],global_mean[\"No_Smoothing\"], yerr=global_mean[\"uncertainty\"], ls=\"-\", lw=1, marker=\"s\", ms=3, color=\"tab:gray\", alpha=0.5, label=\"Werte\");\n",
    "plt.plot(x,y_model, ls=\"-\", lw=3, color=\"tab:red\", label=f\"lineare Regression y=({model[0][0]*1000:.3f}+-{np.sqrt(model[1][0][0]*1000):.3f})1e-3*x+({model[0][1]:.3f}+-{np.sqrt(model[1][1][1]):.3f})\");\n",
    "plt.legend(fontsize=12);\n",
    "plt.grid();"
   ]
  },
  {
   "cell_type": "markdown",
   "id": "0bd8f885-83c8-4b10-a229-4eb8cc8cc33a",
   "metadata": {},
   "source": [
    "Das Model beinhaltet zwei Matrizen:"
   ]
  },
  {
   "cell_type": "code",
   "execution_count": null,
   "id": "91536bae-2062-45d6-9592-4b3cc90a85d1",
   "metadata": {},
   "outputs": [],
   "source": [
    "model"
   ]
  },
  {
   "cell_type": "markdown",
   "id": "d9988426-ba1b-42c2-b086-ab6fa2e6bf8a",
   "metadata": {},
   "source": [
    "Im ersten Array stehen die Fit-Parameter der linearen Ausgleichsgeraden entsprechend der obigen Deklaration: `y_model = model[0][0]*x+model[0][1]`.\n",
    "Im zweiten Array, hier eine 2x2 Matrix, sind die Unsicherheiten in Form von der Kovarianz-Matrix dargestellt. Auf der Diagonalen stehen die Varianzen, $s^2$, auf den Nicht-Diagonalelementen stehen die Kovarianzen (Korrelationsterme zwischen $m$ und $b$):\n",
    "\n",
    "$$\\mathrm{cov}(m,b) = \n",
    "\\begin{pmatrix}\n",
    " s_m^2 & s_{mb} \\\\\n",
    " s_{bm} & s_b^2\n",
    "\\end{pmatrix} $$\n",
    "\n",
    "Der Temperaturanstieg kann entsprechend ausgegeben werden:"
   ]
  },
  {
   "cell_type": "code",
   "execution_count": null,
   "id": "aa88c1be-b7e2-43f5-b9b0-b14993e7a8a6",
   "metadata": {},
   "outputs": [],
   "source": [
    "print(f\"Temperaturanstieg pro Jahr (von 1981 bis 2020): {model[0][0]:.3f}°C/Jahr\")\n",
    "print(f\"Temperaturanstieg seit Beginn der Messung: {(y_model.iloc[-1]-y_model.iloc[0]):.3f}°C\")"
   ]
  },
  {
   "cell_type": "markdown",
   "id": "c12e2cd5-56fa-4ade-8df1-78db853efba1",
   "metadata": {},
   "source": [
    "**Vorsicht**: Die lineare Regression bezieht hier den ganzen Zeitraum mit ein, betrachten wir für den Temperaturgradienten nur die Daten von 1980 bis 2020:"
   ]
  },
  {
   "cell_type": "code",
   "execution_count": null,
   "id": "c49be691-1327-4e6e-80fc-45a9801f2722",
   "metadata": {},
   "outputs": [],
   "source": [
    "x=global_mean.loc[global_mean[\"Year\"] >= 1980,\"Year\"]\n",
    "y=global_mean.loc[global_mean[\"Year\"] >= 1980,\"No_Smoothing\"]\n",
    "y_err = global_mean.loc[global_mean[\"Year\"] >= 1980,\"uncertainty\"]\n",
    "\n",
    "model = np.polyfit(x, y, deg=1, w=1/y_err, cov=True) # 1. Wert = Anstieg , 2. Wert = Schnittpunkt mit y-Achse\n",
    "y_model = model[0][0]*x+model[0][1] # Modell einer linearen Regression\n",
    "print(f\"Temperaturanstieg pro Jahr (von 1980 bis 2020): {model[0][0]:.3f}°C/Jahr\")"
   ]
  },
  {
   "cell_type": "code",
   "execution_count": null,
   "id": "98cbcc01-24a0-4503-a8bb-c6b8ba1b2024",
   "metadata": {},
   "outputs": [],
   "source": [
    "plt.style.use('default')\n",
    "plt.figure(figsize=(10,4))\n",
    "plt.rcParams['font.size'] = 14;\n",
    "plt.ylabel(\"Jahresmitteltemperaturabweichung [°C]\")\n",
    "plt.xlabel(\"Jahr\")\n",
    "plt.errorbar(global_mean[\"Year\"],global_mean[\"No_Smoothing\"], yerr=global_mean[\"uncertainty\"], ls=\"-\", lw=1, marker=\"s\", ms=3, color=\"tab:gray\", alpha=0.5, label=\"Werte\");\n",
    "plt.plot(x,y_model, ls=\"-\", lw=3, color=\"tab:red\", label=f\"lineare Regression y=({model[0][0]*1000:.3f}+-{np.sqrt(model[1][0][0]*1000):.3f})1e-3*x+({model[0][1]:.3f}+-{np.sqrt(model[1][1][1]):.3f})\");\n",
    "plt.legend(fontsize=12);\n",
    "plt.grid();"
   ]
  }
 ],
 "metadata": {
  "kernelspec": {
   "display_name": "Python 3",
   "language": "python",
   "name": "python3"
  },
  "language_info": {
   "codemirror_mode": {
    "name": "ipython",
    "version": 3
   },
   "file_extension": ".py",
   "mimetype": "text/x-python",
   "name": "python",
   "nbconvert_exporter": "python",
   "pygments_lexer": "ipython3",
   "version": "3.9.7"
  }
 },
 "nbformat": 4,
 "nbformat_minor": 5
}
