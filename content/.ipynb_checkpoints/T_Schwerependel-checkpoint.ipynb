{
 "cells": [
  {
   "cell_type": "markdown",
   "id": "5ce0155a-d520-42f3-af97-b0bb053b1bdc",
   "metadata": {},
   "source": [
    "# Schwerependel"
   ]
  },
  {
   "cell_type": "code",
   "execution_count": 1,
   "id": "fc34fac8-ce1c-491a-91b1-925bd41f3b14",
   "metadata": {},
   "outputs": [],
   "source": [
    "import numpy as np\n",
    "import pandas as pd\n",
    "import matplotlib.pyplot as plt"
   ]
  },
  {
   "cell_type": "markdown",
   "id": "c5ef32af-0473-4021-aae1-6950a99c3314",
   "metadata": {},
   "source": [
    "Messung der Periodendauer aus der Vorlesung:"
   ]
  },
  {
   "cell_type": "code",
   "execution_count": 58,
   "id": "dcdd9a9d-321a-4d70-90e9-3ec045475bd7",
   "metadata": {},
   "outputs": [],
   "source": [
    "T = 1.3"
   ]
  },
  {
   "cell_type": "markdown",
   "id": "02ea0edf-60b9-4216-9e41-2911f8e25d82",
   "metadata": {},
   "source": [
    "## Schrecksekunde - Statistische Messunsicherheit\n",
    "\n",
    "Erstelle ein Array oder ein DataFrame deiner persönlichen Messdaten um die Schrecksekunde zu ermitteln."
   ]
  },
  {
   "cell_type": "code",
   "execution_count": 52,
   "id": "8c3a96d7-4cf0-47d5-a8ed-0c732ed896cc",
   "metadata": {},
   "outputs": [
    {
     "name": "stdout",
     "output_type": "stream",
     "text": [
      "     0\n",
      "0  5.1\n",
      "1  5.4\n",
      "2  4.9\n",
      "3  5.0\n",
      "4  4.9\n",
      "5  5.1\n"
     ]
    }
   ],
   "source": [
    "T_schrecksekunde = np.array([5.1, 5.4, 4.9, 5.0, 4.9, 5.1])\n",
    "T_schrecksekunde_df = pd.DataFrame(T_schrecksekunde)\n",
    "print(T_schrecksekunde_df)"
   ]
  },
  {
   "cell_type": "markdown",
   "id": "e788681e-8e52-4724-ad0c-bd438df7be22",
   "metadata": {},
   "source": [
    "Berechne Standardabweichung dieser Messreihe um die Messunsicherheit einer Zeit-Einzelmessung zu erhalten. \n",
    "Achtung, bei der Standardabweichung musst du aufpassen ob das Programm die empirische (durch n-1 geteilt) oder die arithmetische (durch n geteilt) berechnet. Während die Funktion für dataframes bereits die gewünschte empirische berechnet, muss das für numpy arrays explizit über `ddof=1` mitangegeben werden (dof: degree of freedom). "
   ]
  },
  {
   "cell_type": "code",
   "execution_count": 54,
   "id": "a58f6855-c2de-48b5-a8f6-502ac3dc5191",
   "metadata": {},
   "outputs": [
    {
     "name": "stdout",
     "output_type": "stream",
     "text": [
      "Standardabweichung (DataFrame) 0    0.18619\n",
      "dtype: float64\n",
      "Standardabweichung (Numpy ohne ddof1) 0.16996731711975946\n",
      "Standardabweichung (Numpy mit ddof1) 0.1861898672502525\n"
     ]
    }
   ],
   "source": [
    "print('Standardabweichung (DataFrame)', T_schrecksekunde_df.std())\n",
    "print('Standardabweichung (Numpy ohne ddof1)', T_schrecksekunde.std())\n",
    "print('Standardabweichung (Numpy mit ddof1)', T_schrecksekunde.std(ddof=1))\n",
    "\n",
    "u_T =T_schrecksekunde.std(ddof=1) # DataFrame "
   ]
  },
  {
   "cell_type": "code",
   "execution_count": 55,
   "id": "310a4ce2-8f95-4994-a183-3eccde700343",
   "metadata": {},
   "outputs": [
    {
     "name": "stdout",
     "output_type": "stream",
     "text": [
      "Damit beträgt die Messunsicherheit deiner persönlichen Zeitmessung:  0.1861898672502525 s\n"
     ]
    }
   ],
   "source": [
    "print('Damit beträgt die Messunsicherheit deiner persönlichen Zeitmessung: ',u_T , 's' )"
   ]
  },
  {
   "cell_type": "markdown",
   "id": "5854bea1-eed0-4b49-a4df-86d1c84fdbae",
   "metadata": {},
   "source": [
    "## Pendellänge"
   ]
  },
  {
   "cell_type": "code",
   "execution_count": 41,
   "id": "4ab312d3-06d3-464f-9d37-ebd4a6b15086",
   "metadata": {},
   "outputs": [],
   "source": [
    "l = 42e-2 # in m\n",
    "u_l = 1e-3 # in m"
   ]
  },
  {
   "cell_type": "markdown",
   "id": "2f840b9b-3a7b-4f3a-bf75-20e59d545b46",
   "metadata": {},
   "source": [
    "## Bestimmung der Erdbeschleunigung\n",
    "\n",
    "Der Wert der Erdbeschleunigung für $g$ wird aus den besten Schätzwerten (= Mittelwerten) bestimmt:\n",
    "\n",
    "$$g = \\left(\\frac{2\\pi}{\\overline T}\\right)^2 \\overline l$$"
   ]
  },
  {
   "cell_type": "code",
   "execution_count": 59,
   "id": "790b30c1-d728-49f4-b864-dedcb82dda20",
   "metadata": {},
   "outputs": [
    {
     "name": "stdout",
     "output_type": "stream",
     "text": [
      "Die Schwerebeschleunigung ist 9.811204375047407 m/s^2\n"
     ]
    }
   ],
   "source": [
    "def g(T,l): # Definition der Funktion für g\n",
    "    return (2*np.pi/T)**2 * l\n",
    "\n",
    "g = g(T, l)\n",
    "print('Die Schwerebeschleunigung ist', g, 'm/s^2')"
   ]
  },
  {
   "cell_type": "markdown",
   "id": "22d42dc4-5eff-4816-87a9-1d61a9451a37",
   "metadata": {},
   "source": [
    "Bestimmung der Messunsicherheit von $g$ erfolgt durch Fehlerfortpflanzung nach Gauß. "
   ]
  },
  {
   "cell_type": "code",
   "execution_count": 60,
   "id": "d0bde9f1-5bdf-4396-9a63-8cc291fc42b9",
   "metadata": {},
   "outputs": [
    {
     "name": "stdout",
     "output_type": "stream",
     "text": [
      "2*a + 5*b - cos(c)\n"
     ]
    }
   ],
   "source": [
    "from sympy import symbols, cos, diff\n",
    "\n",
    "a, b, c = symbols('a b c', real=True)\n",
    "f = 5*a*b - a*cos(c) + a**2 + c**8*b\n",
    "\n",
    "#differntiating function f in respect to a\n",
    "print(diff(f, a))"
   ]
  },
  {
   "cell_type": "code",
   "execution_count": null,
   "id": "57c8bbc3-4fb8-46b0-91c9-5e75aee1fee2",
   "metadata": {},
   "outputs": [],
   "source": []
  }
 ],
 "metadata": {
  "kernelspec": {
   "display_name": "Python 3",
   "language": "python",
   "name": "python3"
  },
  "language_info": {
   "codemirror_mode": {
    "name": "ipython",
    "version": 3
   },
   "file_extension": ".py",
   "mimetype": "text/x-python",
   "name": "python",
   "nbconvert_exporter": "python",
   "pygments_lexer": "ipython3",
   "version": "3.9.12"
  }
 },
 "nbformat": 4,
 "nbformat_minor": 5
}
