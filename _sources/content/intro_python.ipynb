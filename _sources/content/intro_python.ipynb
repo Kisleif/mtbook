{
 "cells": [
  {
   "cell_type": "markdown",
   "id": "42f1a69f-b65f-4e66-be77-a70ec901e8b6",
   "metadata": {},
   "source": [
    "# Intro Python & Jupyter-Notebooks\n",
    "Fast jede Webseite im Metrology Lecture Book ist ein **Jupyter-Notebook**. Das heißt es gibt Code-Zellen mit Python-Code, die ihr selbst verändern und ausführen könnt. \n",
    "\n",
    "```{info}\n",
    "Um dem **Vorlesungsskript** zu folgen, sind **keine Python-Kenntnisse erforderlich**. \n",
    "```\n",
    "\n",
    "Dadurch habt ihr die Möglichkeit, den Code selbst auszuführen, Parameter anzupassen, zu experimentieren und ganz nebenbei Python zu lernen. Zusätzlich könnt ihr Python nutzen, um eure Messdaten aus dem Praktikum auszuwerten. Wir stellen bereits eine Sammlung von Jupyter-Notebooks für ausgewählte Praktikumsversuche zur Verfügung, um den Einstieg zu erleichtern. Das Schöne daran ist, dass Python Open Source ist, und ihr  sofort loslegen könnt:\n",
    "\n",
    "## Live Code auf der Webseite\n",
    "Klickt oben auf die *Rakete* und wählt 'Live Code' aus. Innerhalb der Webseite sollte nun ein Kernel gestartet werden. Jetzt könnte ihr den Code in den Zellen verändern und neu ausführen.  "
   ]
  },
  {
   "cell_type": "code",
   "execution_count": 5,
   "id": "6e984423-15a4-4013-a45f-25de2bbff97b",
   "metadata": {},
   "outputs": [
    {
     "name": "stdout",
     "output_type": "stream",
     "text": [
      "Dies ist eine Python-Variable und die Zahl-Variable lautet:  12346\n"
     ]
    }
   ],
   "source": [
    "beispiel_string = 'Dies ist eine Python-Variable'\n",
    "beispiel_zahl = 12345\n",
    "print(beispiel_string, 'und die Zahl-Variable lautet: ' , beispiel_zahl + 1)"
   ]
  },
  {
   "cell_type": "markdown",
   "id": "c914e6d2-ee09-4081-8a9f-da0798dd9bf1",
   "metadata": {},
   "source": [
    "## Notebooks im Browser mit 'Colab'\n",
    "Ihr habt die Möglichkeit, die in unserem *Metrology Lecture Book* enthaltenen **Jupyter-Notebooks** direkt im Browser (*ohne lokale Python Installation*) auszuführen. Dazu klickt ihr oben auf das Symbol der *Rakete* und wählt anschließend `Colab` aus. Dies öffnet eine interaktive Umgebung im Browser, in der das Jupyter-Notebook gestartet wird. Beachtet, dass das Symbol der *Rakete* nur auf den Seiten erscheint, die als Jupyter-Notebooks vorliegen.\n",
    "Wenn Daten aus einer Mess*datei* innerhalb der Code-Zelle benutzt werden, funktioniert diese Methode leider nicht.\n",
    "\n",
    "## Programm: Jupyter Lab\n",
    "Jede Webseite, die als Jupyter-Notebook existiert, könnt ihr über den Download Button oben als `ipynb` herunter laden, welches ihr dann auf eure PC ausführen könnt. \n",
    "Wir empfehlen hierfür die Installation von **Jupyter Lab**:\n",
    "<iframe width=\"560\" height=\"315\" src=\"https://www.youtube.com/embed/jZ952vChhuI\" title=\"YouTube video player\" frameborder=\"0\" allow=\"accelerometer; autoplay; clipboard-write; encrypted-media; gyroscope; picture-in-picture; web-share\" allowfullscreen></iframe>\n",
    "\n",
    "Mit Jupyter Lab können die Jupyter-Notebooks (`.ipynb`-Dateien) ganz einfach per Doppelklick aus dem lokalen Dateisystem geöffnet werden.\n",
    "\n",
    "Habt ihr einmal Jupyter Notebooks auf eurem PC installiert, könnt ihr auch ganz einfach Praktikums-Templates herunter laden und eure Messdateien neu einlesen und auswerten. \n",
    "\n",
    "## Programm: Anaconda\n",
    "Für eine vollständige Python Installation empfehlen wir Anaconda. Mittels Anaconda werden sehr viele Bibliotheken bereits mitinstalliert, um die ihr euch später keine weiteren Gedanken mehr machen müsst. Eine Anleitung, wie ihr hiermit nicht nur Python, sondern auch Notebooks ausführt, findet ihr im folgenden Video:\n",
    "\n",
    "<iframe width=\"560\" height=\"315\" src=\"https://www.youtube.com/embed/WUeBzT43JyY?si=slVswaODWeloo1BQ\" title=\"YouTube video player\" frameborder=\"0\" allow=\"accelerometer; autoplay; clipboard-write; encrypted-media; gyroscope; picture-in-picture; web-share\" allowfullscreen></iframe>\n",
    "\n",
    "## Programmieren mit Python\n",
    "\n",
    "Es gibt zahlreiche Tutorials und Online-Ressourcen, die euch das Erlernen der Python-Programmierung leicht und verständlich ermöglichen. Für die Tutorials sind folgende Grundkenntnisse erforderlich, die ihr innerhalb der Tutorials erlernen könnt:\n",
    "\n",
    "* **Grundlagen:** Schleifen, Funktionen, Listen, Tupel, Mengen, Wörterbücher.\n",
    "* **Algebra:** [numpy](https://numpy.org), [scipy](https://scipy.org)\n",
    "  * **Fit/Modellanpassungen:** [lmfit](https://pypi.org/project/lmfit/), [scipy](https://scipy.org) (z.B. curve_fit), [numpy](https://numpy.org) (z.B. polyfit)\n",
    "  * **Spektralanalyse:** [scipy](https://scipy.org) (z.B. rfft)\n",
    "* **Datenverarbeitung:** [pandas](https://pandas.pydata.org) (z.B. DataFrames)\n",
    "* **Datenvisualisierung:** [matplotlib](https://matplotlib.org)"
   ]
  }
 ],
 "metadata": {
  "kernelspec": {
   "display_name": "Python 3",
   "language": "python",
   "name": "python3"
  },
  "language_info": {
   "codemirror_mode": {
    "name": "ipython",
    "version": 3
   },
   "file_extension": ".py",
   "mimetype": "text/x-python",
   "name": "python",
   "nbconvert_exporter": "python",
   "pygments_lexer": "ipython3",
   "version": "3.9.12"
  }
 },
 "nbformat": 4,
 "nbformat_minor": 5
}
