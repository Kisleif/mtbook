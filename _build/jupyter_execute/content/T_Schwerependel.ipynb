{
 "cells": [
  {
   "cell_type": "markdown",
   "id": "5ce0155a-d520-42f3-af97-b0bb053b1bdc",
   "metadata": {},
   "source": [
    "# Messunsicherheiten beim Schwerependel"
   ]
  },
  {
   "cell_type": "code",
   "execution_count": 1,
   "id": "fc34fac8-ce1c-491a-91b1-925bd41f3b14",
   "metadata": {},
   "outputs": [],
   "source": [
    "import numpy as np\n",
    "import pandas as pd\n",
    "import matplotlib.pyplot as plt\n"
   ]
  },
  {
   "cell_type": "markdown",
   "id": "c5ef32af-0473-4021-aae1-6950a99c3314",
   "metadata": {},
   "source": [
    "Messung der Periodendauer aus der Vorlesung:"
   ]
  },
  {
   "cell_type": "code",
   "execution_count": 2,
   "id": "dcdd9a9d-321a-4d70-90e9-3ec045475bd7",
   "metadata": {},
   "outputs": [],
   "source": [
    "T_messwert = 1.3"
   ]
  },
  {
   "cell_type": "markdown",
   "id": "02ea0edf-60b9-4216-9e41-2911f8e25d82",
   "metadata": {},
   "source": [
    "## Schrecksekunde - Statistische Messunsicherheit\n",
    "\n",
    "Erstelle ein Array oder ein DataFrame deiner persönlichen Messdaten um die Schrecksekunde zu ermitteln."
   ]
  },
  {
   "cell_type": "code",
   "execution_count": 3,
   "id": "8c3a96d7-4cf0-47d5-a8ed-0c732ed896cc",
   "metadata": {},
   "outputs": [
    {
     "name": "stdout",
     "output_type": "stream",
     "text": [
      "      0\n",
      "0  5.10\n",
      "1  4.90\n",
      "2  4.90\n",
      "3  5.00\n",
      "4  4.90\n",
      "5  5.05\n"
     ]
    }
   ],
   "source": [
    "T_schrecksekunde = np.array([5.1, 4.9, 4.9, 5.0, 4.9, 5.05])\n",
    "T_schrecksekunde_df = pd.DataFrame(T_schrecksekunde)\n",
    "print(T_schrecksekunde_df)"
   ]
  },
  {
   "cell_type": "markdown",
   "id": "e788681e-8e52-4724-ad0c-bd438df7be22",
   "metadata": {},
   "source": [
    "Berechne Standardabweichung dieser Messreihe um die Messunsicherheit einer Zeit-Einzelmessung zu erhalten. \n",
    "Achtung, bei der Standardabweichung musst du aufpassen ob das Programm die empirische (durch n-1 geteilt) oder die arithmetische (durch n geteilt) berechnet. Während die Funktion für dataframes bereits die gewünschte empirische berechnet, muss das für numpy arrays explizit über `ddof=1` mitangegeben werden (dof: degree of freedom). "
   ]
  },
  {
   "cell_type": "code",
   "execution_count": 4,
   "id": "a58f6855-c2de-48b5-a8f6-502ac3dc5191",
   "metadata": {},
   "outputs": [
    {
     "name": "stdout",
     "output_type": "stream",
     "text": [
      "Standardabweichung (DataFrame) 0    0.088034\n",
      "dtype: float64\n",
      "Standardabweichung (Numpy ohne ddof1) 0.08036375634160767\n",
      "Standardabweichung (Numpy mit ddof1) 0.08803408430829474\n"
     ]
    }
   ],
   "source": [
    "print('Standardabweichung (DataFrame)', T_schrecksekunde_df.std())\n",
    "print('Standardabweichung (Numpy ohne ddof1)', T_schrecksekunde.std())\n",
    "print('Standardabweichung (Numpy mit ddof1)', T_schrecksekunde.std(ddof=1))\n",
    "\n",
    "u_T =T_schrecksekunde.std(ddof=1) # DataFrame "
   ]
  },
  {
   "cell_type": "code",
   "execution_count": 5,
   "id": "310a4ce2-8f95-4994-a183-3eccde700343",
   "metadata": {},
   "outputs": [
    {
     "name": "stdout",
     "output_type": "stream",
     "text": [
      "Damit beträgt die Messunsicherheit deiner persönlichen Zeitmessung:  0.08803408430829474 s\n"
     ]
    }
   ],
   "source": [
    "print('Damit beträgt die Messunsicherheit deiner persönlichen Zeitmessung: ',u_T , 's' )"
   ]
  },
  {
   "cell_type": "markdown",
   "id": "5854bea1-eed0-4b49-a4df-86d1c84fdbae",
   "metadata": {},
   "source": [
    "## Pendellänge"
   ]
  },
  {
   "cell_type": "code",
   "execution_count": 6,
   "id": "4ab312d3-06d3-464f-9d37-ebd4a6b15086",
   "metadata": {},
   "outputs": [],
   "source": [
    "l_messwert = 42e-2 # in m\n",
    "u_l = 1e-3 # in m"
   ]
  },
  {
   "cell_type": "markdown",
   "id": "2f840b9b-3a7b-4f3a-bf75-20e59d545b46",
   "metadata": {},
   "source": [
    "## Bestimmung der Erdbeschleunigung\n",
    "\n",
    "Der Wert der Erdbeschleunigung für $g$ wird aus den besten Schätzwerten (= Mittelwerten) bestimmt:\n",
    "\n",
    "$$g = \\left(\\frac{2\\pi}{\\overline T}\\right)^2 \\overline l$$"
   ]
  },
  {
   "cell_type": "code",
   "execution_count": 7,
   "id": "790b30c1-d728-49f4-b864-dedcb82dda20",
   "metadata": {},
   "outputs": [
    {
     "name": "stdout",
     "output_type": "stream",
     "text": [
      "Die Schwerebeschleunigung ist 9.811204375047407 m/s^2\n"
     ]
    }
   ],
   "source": [
    "def g(T,l): # Definition der Funktion für g\n",
    "    return (2*np.pi/T)**2 * l\n",
    "\n",
    "g_messwert = g(T_messwert, l_messwert)\n",
    "print('Die Schwerebeschleunigung ist', g_messwert, 'm/s^2')"
   ]
  },
  {
   "cell_type": "markdown",
   "id": "22d42dc4-5eff-4816-87a9-1d61a9451a37",
   "metadata": {},
   "source": [
    "Bestimmung der Messunsicherheit von $g$ erfolgt durch Fehlerfortpflanzung nach Gauß. "
   ]
  },
  {
   "cell_type": "code",
   "execution_count": 8,
   "id": "57c8bbc3-4fb8-46b0-91c9-5e75aee1fee2",
   "metadata": {},
   "outputs": [
    {
     "name": "stdout",
     "output_type": "stream",
     "text": [
      "Die Messunsicherheit von g ist 1.329005920753836 m/s^2 (68%)\n"
     ]
    }
   ],
   "source": [
    "import sympy as sym\n",
    "\n",
    "T, l = sym.symbols('T l')\n",
    "g_func = (2*np.pi/T)**2 * l\n",
    "\n",
    "dg_dT = g_func.diff(T)\n",
    "dg_dl = g_func.diff(l)\n",
    "\n",
    "\n",
    "# Verwenden Sie lambdify auf den ursprünglichen Ausdruck g_func\n",
    "f_dg_dT = sym.lambdify((T, l), dg_dT, modules=['numpy'])\n",
    "f_dg_dl = sym.lambdify((T, l), dg_dl, modules=['numpy'])\n",
    "\n",
    "\n",
    "result_dgdT = f_dg_dT(T_messwert, l_messwert)\n",
    "#print(result_dgdT)\n",
    "\n",
    "result_dgdl = f_dg_dl(T_messwert, l_messwert)\n",
    "#print(result_dgdl)\n",
    "\n",
    "u_g = np.sqrt((result_dgdT * u_T)**2 + (result_dgdl * u_l)**2)\n",
    "print('Die Messunsicherheit von g ist', u_g, 'm/s^2 (68%)')"
   ]
  },
  {
   "cell_type": "markdown",
   "id": "70157ac8-1ffb-4067-87b8-3d5db1df071d",
   "metadata": {},
   "source": [
    "## Erweiterte Messunsicherheit nach Student-t-Verteilung"
   ]
  },
  {
   "cell_type": "markdown",
   "id": "8b28717d-b0f3-4131-b34a-6843e14e635f",
   "metadata": {},
   "source": [
    "Korrigierte Messunsicherheit nach Student-t-Verteilung ist für die Periodendauer, d.h. \n",
    "\n",
    "$$s = m-1$$\n",
    "\n",
    "$$p = 1-\\alpha/2$$\n",
    "\n",
    "für hier $\\alpha = 1-0.99 = 0.01$ nach Aufgabenbeschreibung"
   ]
  },
  {
   "cell_type": "code",
   "execution_count": 9,
   "id": "b2cc54ca-b3b0-4ff4-b5a1-4f77cb0bdf57",
   "metadata": {},
   "outputs": [
    {
     "name": "stdout",
     "output_type": "stream",
     "text": [
      "s-Quantil:  5\n",
      "p-Quantil:  0.995\n"
     ]
    }
   ],
   "source": [
    "s = len(T_schrecksekunde)-1\n",
    "alpha = 0.01\n",
    "p = 1-alpha/2\n",
    "print('s-Quantil: ', s)\n",
    "print('p-Quantil: ', p)"
   ]
  },
  {
   "cell_type": "markdown",
   "id": "05ba841d-3a90-46ff-823e-9f6e2415b19a",
   "metadata": {},
   "source": [
    "Aus Tabelle folgt für dies Werte (s = 5 und p = 0.995):\n",
    "\n",
    "$$t_{s,p} = 4,032$$"
   ]
  },
  {
   "cell_type": "markdown",
   "id": "dba85c1f-f6a3-4eab-934f-8ca2fae98d45",
   "metadata": {},
   "source": [
    "Daraus wird der Fehler für $g$ neu berechnet:"
   ]
  },
  {
   "cell_type": "code",
   "execution_count": 10,
   "id": "db1f966d-f121-4620-971d-f649f2b47b1e",
   "metadata": {},
   "outputs": [],
   "source": [
    "t_sp = 4.032\n",
    "u_T = t_sp * u_T"
   ]
  },
  {
   "cell_type": "code",
   "execution_count": 11,
   "id": "2a37196f-fc8b-48b0-9c05-fd5262a54fb0",
   "metadata": {},
   "outputs": [
    {
     "name": "stdout",
     "output_type": "stream",
     "text": [
      "Die Messunsicherheit von g ist 5.3577749638543315 m/s^2 (99%)\n",
      "Das Messergebnis ist g = ( 9.811204375047407 +- 5.3577749638543315 )m/s^2 (99%)\n"
     ]
    }
   ],
   "source": [
    "u_g = np.sqrt((result_dgdT * u_T)**2 + (result_dgdl * u_l)**2)\n",
    "print('Die Messunsicherheit von g ist', u_g, 'm/s^2 (99%)')\n",
    "print('Das Messergebnis ist g = (', g_messwert, '+-', u_g, ')m/s^2 (99%)')"
   ]
  },
  {
   "cell_type": "markdown",
   "id": "bef4db2a-442d-40e1-bc6b-526f0916300c",
   "metadata": {},
   "source": [
    "## Pendellänge - Diagramm zeichnen"
   ]
  },
  {
   "cell_type": "code",
   "execution_count": 12,
   "id": "9ff173db-435f-4b4a-ab1a-659dec94073a",
   "metadata": {},
   "outputs": [],
   "source": [
    "l_data = np.array([42e-2, 35e-2, 30e-2, 25e-2])\n",
    "u_l_data = np.array([u_l, u_l, u_l, u_l])\n",
    "T_data = np.array([1.3, 1.0, 0.8, 0.6])\n",
    "u_T_data = np.array([u_T, u_T, u_T, u_T])\n"
   ]
  },
  {
   "cell_type": "code",
   "execution_count": 13,
   "id": "67d1e4a2-9b32-428a-87a1-fb5bfa9a6ce2",
   "metadata": {},
   "outputs": [],
   "source": [
    "l_data = np.array([42e-2, 35e-2, 30e-2, 25e-2])\n",
    "u_l_data = np.array([u_l, u_l, u_l, u_l])\n",
    "T_data = np.array([1.3, 0.9, 0.7, 0.3])\n",
    "u_T_data = np.array([u_T, u_T, u_T, u_T])\n",
    "u_T2_data = 2*T_data*u_T_data"
   ]
  },
  {
   "cell_type": "code",
   "execution_count": 14,
   "id": "cb65a417-99df-462f-aab1-453a8a3795d5",
   "metadata": {},
   "outputs": [
    {
     "data": {
      "image/png": "[encoded data removed]",
      "text/plain": [
       "<Figure size 640x480 with 1 Axes>"
      ]
     },
     "metadata": {
      "filenames": {
       "image/png": "/Users/KSIsleif/DESY_cloud/github/mtbook/_build/jupyter_execute/content/T_Schwerependel_25_0.png"
      }
     },
     "output_type": "display_data"
    }
   ],
   "source": [
    "def fit_lin(x, b, a): # Funktion für lineare Regression\n",
    "    return b*x + a\n",
    "\n",
    "from scipy.optimize import curve_fit\n",
    "# ----- Mit Fehlerbalken: ---- #\n",
    "\n",
    "lin_fit = curve_fit(fit_lin, l_data, T_data**2, sigma=u_T2_data) # mit Fehlerbalken \n",
    "#lin_fit = curve_fit(fit_lin, l_data, T_data**2) # ohne Fehlerbalken\n",
    "\n",
    "\n",
    "plt.errorbar(l_data,T_data**2, fmt='o', xerr = u_l_data, yerr = u_T2_data, label = 'Messwerte')\n",
    "plt.plot(l_data,fit_lin(l_data, lin_fit[0][0], lin_fit[0][1]), label = 'Lin. Fit: y = %5.3f*x+%5.3f'%(lin_fit[0][0], lin_fit[0][1]))\n",
    "plt.xlabel('Pendellänge l in m')\n",
    "plt.ylabel(r'Periodendauer $T^2$ in $s^2$')\n",
    "\n",
    "plt.legend()\n",
    "plt.show()\n"
   ]
  },
  {
   "cell_type": "code",
   "execution_count": 15,
   "id": "5e3459b6-269a-45b2-ab18-f9eefbad09e5",
   "metadata": {},
   "outputs": [
    {
     "data": {
      "text/plain": [
       "0.6446793766617088"
      ]
     },
     "execution_count": 15,
     "metadata": {},
     "output_type": "execute_result"
    }
   ],
   "source": [
    "lin_fit[1]\n",
    "lin_fit[1][0][0]"
   ]
  },
  {
   "cell_type": "code",
   "execution_count": 16,
   "id": "3fe6d509-78a3-421b-8c5b-5b78628df9d6",
   "metadata": {},
   "outputs": [
    {
     "name": "stdout",
     "output_type": "stream",
     "text": [
      "Die Erdbeschleunigung nach Steigung berechnet beträgt:\n",
      "( 8.485406802614317 +- 0.8029192840265508 ) m/s^2\n"
     ]
    }
   ],
   "source": [
    "print('Die Erdbeschleunigung nach Steigung berechnet beträgt:')\n",
    "print('(',lin_fit[0][0] ,'+-',  np.sqrt(lin_fit[1][0][0]), ') m/s^2')"
   ]
  },
  {
   "cell_type": "code",
   "execution_count": 17,
   "id": "14274049-dce2-43c5-b4ee-7c1fdec2ca98",
   "metadata": {},
   "outputs": [
    {
     "data": {
      "text/plain": [
       "array([0.92287891, 0.63891617, 0.4969348 , 0.21297206])"
      ]
     },
     "execution_count": 17,
     "metadata": {},
     "output_type": "execute_result"
    }
   ],
   "source": [
    "u_T2_data"
   ]
  },
  {
   "cell_type": "code",
   "execution_count": null,
   "id": "3a790271-e742-4185-b962-dd2fa5fd6fd9",
   "metadata": {},
   "outputs": [],
   "source": []
  }
 ],
 "metadata": {
  "kernelspec": {
   "display_name": "Python 3",
   "language": "python",
   "name": "python3"
  },
  "language_info": {
   "codemirror_mode": {
    "name": "ipython",
    "version": 3
   },
   "file_extension": ".py",
   "mimetype": "text/x-python",
   "name": "python",
   "nbconvert_exporter": "python",
   "pygments_lexer": "ipython3",
   "version": "3.9.12"
  }
 },
 "nbformat": 4,
 "nbformat_minor": 5
}