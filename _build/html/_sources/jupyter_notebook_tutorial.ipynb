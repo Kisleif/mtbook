{
 "cells": [
  {
   "cell_type": "markdown",
   "metadata": {},
   "source": [
    "---\n",
    "Zurück zur Übersicht | [Inhalt](00_Inhalt.ipynb)\n",
    "\n",
    "---"
   ]
  },
  {
   "cell_type": "markdown",
   "metadata": {},
   "source": [
    "## Jupyter Notebooks\n",
    "\n",
    "Dies ist ein interaktives Skript zur Vorlesungsbegleitung. Es handelt sich im ein so genanntes`jupyter notebook` mit dem Dateityp `.ipynb`. \n",
    "Diese Art von Datei bietet lediglich eine Browser-basierte Schnittstelle mit einer anwendungsfreundlichen Umbegung, in der man mit der Programmiersprache `python` kleine Codes und Programme schreiben kann. Doch auch Text, oder sogar Formeln im `LaTeX`-Format können geschrieben werden. \n",
    "\n",
    "Klick einmal mit Doppelklick auf diesen Text. Dies bringt dich in den Edit-Mode, welcher durch einen blauen Balken am Rand angezeigt wird. \n",
    "Oben im Menü kannst du über das Dropdown-Menu sehen, dass diese Zelle als `Markdown` makiert ist. Möchtest du in einer weiteren Zelle einen Python-Cpde ausführen wollen, sollte die Zelle als `code` makiert sein, dies ist auch die Standardeinstellung, wenn du eine neue Zelle anlegst. \n",
    "\n",
    "Unabhängig vom Typ der Zelle, kannst du den Text, Latextext oder Python-Code über die Tastaturkombination `shift+enter` ausführen und verlässt damit den Edit-Mode. \n",
    "\n",
    "Ein paar nützliche Kurzbefehle sind z.B.:\n",
    "- Eingabe von `a` im Command-Mode erzeugt eine neue leere Zelle oberhalb der aktiven Zelle\n",
    "- Eingabe von `b` im Command-Mode erzeugt eine neue leere Zelle eine unterhalb der aktiven Zelle\n",
    "- Eingabe von `dd` löscht die betreffende Zelle.\n",
    "- Eingabe von `m` im Command-Modus setzt den Typ `Markdown`\n",
    "- Eingabe von `y` im Command-Modus wählt den Typ `Code`\n",
    "Prozessiert - also Text gesetzt oder Cocde ausgeführt - wird der Zelleninhalt durch \n",
    "Eingabe von `shift+return`, oder auch `alt+return` wenn zusätzliche eine neue, leere Zelle erzeugt werden soll. \n",
    "\n",
    "Die hier genannten Einstellungen sowie das Einfügen, Löschen oder Ausführen von Zellen können auch über das PullDown-Menü am oberen Rand ausgeführt werden. "
   ]
  },
  {
   "cell_type": "code",
   "execution_count": null,
   "metadata": {},
   "outputs": [],
   "source": []
  }
 ],
 "metadata": {
  "kernelspec": {
   "display_name": "Python 3",
   "language": "python",
   "name": "python3"
  },
  "language_info": {
   "codemirror_mode": {
    "name": "ipython",
    "version": 3
   },
   "file_extension": ".py",
   "mimetype": "text/x-python",
   "name": "python",
   "nbconvert_exporter": "python",
   "pygments_lexer": "ipython3",
   "version": "3.8.5"
  }
 },
 "nbformat": 4,
 "nbformat_minor": 4
}
