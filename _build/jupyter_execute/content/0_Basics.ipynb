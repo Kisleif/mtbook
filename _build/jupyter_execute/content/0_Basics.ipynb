{
 "cells": [
  {
   "cell_type": "markdown",
   "id": "ce5f7875-8754-4658-b94a-4f8d2ba09079",
   "metadata": {},
   "source": [
    "# Grundlagen der Messtechnik\n",
    "\n",
    "Grundlagen: Messen Einheiten Kalibrieren \n",
    "\n",
    "```{tableofcontents}\n",
    "```"
   ]
  }
 ],
 "metadata": {
  "kernelspec": {
   "display_name": "Python 3",
   "language": "python",
   "name": "python3"
  },
  "language_info": {
   "codemirror_mode": {
    "name": "ipython",
    "version": 3
   },
   "file_extension": ".py",
   "mimetype": "text/x-python",
   "name": "python",
   "nbconvert_exporter": "python",
   "pygments_lexer": "ipython3",
   "version": "3.9.7"
  }
 },
 "nbformat": 4,
 "nbformat_minor": 5
}