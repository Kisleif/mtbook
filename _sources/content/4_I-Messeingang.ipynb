{
 "cells": [
  {
   "cell_type": "markdown",
   "id": "787728f0-5d66-46f1-bdf4-b630b44224d5",
   "metadata": {},
   "source": [
    "# Strommesseingang\n",
    "\n",
    "Im Bild {numref}`strommesseingang` ist dargestellt, wie elektrische Ströme gemessen werden. $R_L$ stellt hierbei einen Lastwiderstand, z.B. den einen Motors oder eines anderen Verbrauchers, dar. \n",
    "\n",
    ":::{figure-md} strommesseingang\n",
    "<img src=\"draw/strommesseingang.jpg\" alt=\"strommesseingang\" class=\"bg-primary mb-1\" width=\"400px\" name = strommesseingang>\n",
    "\n",
    "Schaltung zur Messung elektrischer Ströme.\n",
    ":::\n",
    "\n",
    "Der Strom $i$, der gemessen werden soll, fließt nun durch das Messgerät und bestimmt werden. Hierbei wollen wir sicherstellen, dass der Innenwiderstand $R_i$ möglichst klein ist, um die Messabweichung der Strommessung möglichst klein zu halten. Typischerweise liegt der Wert des Innenwiderstands zwischen $0,01\\,\\Omega$ und $10\\,\\Omega$. Ein Wert von $0\\,\\Omega$ kann in der Praxis nicht erreicht werden. Die kleineren Innenwiderstandswerte werden meist gewählt, wenn es sich um hohe Stromflüsse von mehreren Ampere handelt. Eine Kapazität $C_i$ ist im Ersatzschaltbild nicht vorhanden. Kapazitäten existieren bei Potentialunterschieden (also elektrische Spannungen) und versuchen diese Unterschiede aufrecht zu erhalten, wodurch eigentlich kein Stromfluss existiert. "
   ]
  },
  {
   "cell_type": "code",
   "execution_count": null,
   "id": "30699734-1ef0-4cb2-8e96-ad908e42776d",
   "metadata": {},
   "outputs": [],
   "source": []
  }
 ],
 "metadata": {
  "kernelspec": {
   "display_name": "Python 3",
   "language": "python",
   "name": "python3"
  },
  "language_info": {
   "codemirror_mode": {
    "name": "ipython",
    "version": 3
   },
   "file_extension": ".py",
   "mimetype": "text/x-python",
   "name": "python",
   "nbconvert_exporter": "python",
   "pygments_lexer": "ipython3",
   "version": "3.9.12"
  }
 },
 "nbformat": 4,
 "nbformat_minor": 5
}
